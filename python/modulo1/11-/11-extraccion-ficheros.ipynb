{
 "cells": [
  {
   "cell_type": "markdown",
   "metadata": {},
   "source": [
    "### MODULOS, RUTAS RELATIVAS Y ABSOLUTAS"
   ]
  },
  {
   "cell_type": "markdown",
   "metadata": {},
   "source": [
    "MODULOS"
   ]
  },
  {
   "cell_type": "code",
   "execution_count": 1,
   "metadata": {},
   "outputs": [],
   "source": [
    "import os"
   ]
  },
  {
   "cell_type": "code",
   "execution_count": 2,
   "metadata": {},
   "outputs": [],
   "source": [
    "from os import getcwd"
   ]
  },
  {
   "cell_type": "code",
   "execution_count": 3,
   "metadata": {},
   "outputs": [
    {
     "data": {
      "text/plain": [
       "'/mnt/c/Users/sandr/Documents/adalab/ejercicios/python/modulo1/11-'"
      ]
     },
     "execution_count": 3,
     "metadata": {},
     "output_type": "execute_result"
    }
   ],
   "source": [
    "# Ya no necesitamos especificar \"os\"\n",
    "# Este método da información de dónde estamos trabajando, como el pwd de la terminal\n",
    "getcwd()"
   ]
  },
  {
   "cell_type": "code",
   "execution_count": 4,
   "metadata": {},
   "outputs": [],
   "source": [
    "# Importamos de nuevo toda la librería, ya que así trabajaremos habitualmente\n",
    "import os"
   ]
  },
  {
   "cell_type": "code",
   "execution_count": 5,
   "metadata": {},
   "outputs": [],
   "source": [
    "# Alias: en el caso de la librería de pandas, usaremos el alidas pd\n",
    "import pandas as pd\n",
    "# En el caso de la librería de numpy, usaremos el alias np\n",
    "import numpy as np"
   ]
  },
  {
   "cell_type": "markdown",
   "metadata": {},
   "source": [
    "RUTAS RELATIVAS VS RUTAS ABSOLUTAS"
   ]
  },
  {
   "cell_type": "code",
   "execution_count": 6,
   "metadata": {},
   "outputs": [
    {
     "data": {
      "text/plain": [
       "'/mnt/c/Users/sandr/Documents/adalab/ejercicios/python/modulo1/11-'"
      ]
     },
     "execution_count": 6,
     "metadata": {},
     "output_type": "execute_result"
    }
   ],
   "source": [
    "# veamos cuál es la ruta de la carpeta donde estamos trabajando, esto es lo mismo que hacer pwd en la terminal\n",
    "# el resultado de esta operación lo vamos a almacenar en una variable a la que llamaremos \"mi_ruta\"\n",
    "mi_ruta = os.getcwd()\n",
    "mi_ruta"
   ]
  },
  {
   "cell_type": "markdown",
   "metadata": {},
   "source": [
    "### Ejercicios modulos, rutas relativas y absolutos"
   ]
  },
  {
   "cell_type": "markdown",
   "metadata": {},
   "source": [
    "Importar un módulo"
   ]
  },
  {
   "cell_type": "code",
   "execution_count": 7,
   "metadata": {},
   "outputs": [],
   "source": [
    "# 1. Carga el módulo datetime\n",
    "import datetime"
   ]
  },
  {
   "cell_type": "code",
   "execution_count": 8,
   "metadata": {},
   "outputs": [],
   "source": [
    "# 2. Carga el módulo datetime con el alias dt\n",
    "import datetime as dt"
   ]
  },
  {
   "cell_type": "markdown",
   "metadata": {},
   "source": [
    "Importar contenidos de un módulo"
   ]
  },
  {
   "cell_type": "code",
   "execution_count": 9,
   "metadata": {},
   "outputs": [],
   "source": [
    "# 3. Carga la base date del módulo datetime\n",
    "from datetime import date"
   ]
  },
  {
   "cell_type": "code",
   "execution_count": 10,
   "metadata": {},
   "outputs": [],
   "source": [
    "# 4. Carga la clase date del módulo datetime con el alias fecha\n",
    "from datetime import date as fecha"
   ]
  },
  {
   "cell_type": "markdown",
   "metadata": {},
   "source": [
    "Usar contenidos de un módulo"
   ]
  },
  {
   "cell_type": "code",
   "execution_count": 13,
   "metadata": {},
   "outputs": [
    {
     "ename": "AttributeError",
     "evalue": "module 'datetime' has no attribute 'today'",
     "output_type": "error",
     "traceback": [
      "\u001b[0;31m---------------------------------------------------------------------------\u001b[0m",
      "\u001b[0;31mAttributeError\u001b[0m                            Traceback (most recent call last)",
      "\u001b[0;32m/tmp/ipykernel_335/2251574269.py\u001b[0m in \u001b[0;36m<module>\u001b[0;34m\u001b[0m\n\u001b[1;32m      1\u001b[0m \u001b[0;31m# 5. Usa el método today() de la clase date del módulo con alias dt para la variable hoy1. Imprime hoy1\u001b[0m\u001b[0;34m\u001b[0m\u001b[0;34m\u001b[0m\u001b[0m\n\u001b[0;32m----> 2\u001b[0;31m \u001b[0mhoy1\u001b[0m \u001b[0;34m=\u001b[0m \u001b[0mdt\u001b[0m\u001b[0;34m.\u001b[0m\u001b[0mtoday\u001b[0m\u001b[0;34m(\u001b[0m\u001b[0;34m)\u001b[0m\u001b[0;34m\u001b[0m\u001b[0;34m\u001b[0m\u001b[0m\n\u001b[0m\u001b[1;32m      3\u001b[0m \u001b[0mhoy1\u001b[0m\u001b[0;34m\u001b[0m\u001b[0;34m\u001b[0m\u001b[0m\n",
      "\u001b[0;31mAttributeError\u001b[0m: module 'datetime' has no attribute 'today'"
     ]
    }
   ],
   "source": [
    "# 5. Usa el método .today() de la clase date del módulo con alias dt para la variable hoy, Imprime hoy1\n",
    "hoy1 = dt.today()\n",
    "hoy1"
   ]
  },
  {
   "cell_type": "code",
   "execution_count": 14,
   "metadata": {},
   "outputs": [
    {
     "data": {
      "text/plain": [
       "datetime.date(2022, 11, 19)"
      ]
     },
     "execution_count": 14,
     "metadata": {},
     "output_type": "execute_result"
    }
   ],
   "source": [
    "# 6. Usa el método .today() de la clase date del módulo con alias fecha para la variable hoy2. Imprime hoy2\n",
    "hoy2 = fecha.today()\n",
    "hoy2"
   ]
  },
  {
   "cell_type": "markdown",
   "metadata": {},
   "source": [
    "### LIBERÍA *OS*"
   ]
  },
  {
   "cell_type": "code",
   "execution_count": 15,
   "metadata": {},
   "outputs": [
    {
     "data": {
      "text/plain": [
       "'/mnt/c/Users/sandr/Documents/adalab/ejercicios/python/modulo1/11-'"
      ]
     },
     "execution_count": 15,
     "metadata": {},
     "output_type": "execute_result"
    }
   ],
   "source": [
    "# Usamos el método getcwd para saber cual es nuestra carpeta de trabajo y lo almacenamos en una variable\n",
    "carpeta_jupyter = os.getcwd()\n",
    "carpeta_jupyter"
   ]
  },
  {
   "cell_type": "markdown",
   "metadata": {},
   "source": [
    ".listdir()"
   ]
  },
  {
   "cell_type": "code",
   "execution_count": 16,
   "metadata": {},
   "outputs": [
    {
     "name": "stdout",
     "output_type": "stream",
     "text": [
      "['11-extraccion-ficheros.ipynb', 'archivo.txt', 'contacto.xml', 'ejercicio1.xml']\n"
     ]
    }
   ],
   "source": [
    "print(os.listdir())"
   ]
  },
  {
   "cell_type": "markdown",
   "metadata": {},
   "source": [
    ".chdir()"
   ]
  },
  {
   "cell_type": "code",
   "execution_count": 19,
   "metadata": {},
   "outputs": [],
   "source": [
    "# cambiamos la ruta al escritorio\n",
    "os.chdir('/mnt/c/Users/sandr/Desktop')"
   ]
  },
  {
   "cell_type": "code",
   "execution_count": 20,
   "metadata": {},
   "outputs": [
    {
     "data": {
      "text/plain": [
       "'/mnt/c/Users/sandr/Desktop'"
      ]
     },
     "execution_count": 20,
     "metadata": {},
     "output_type": "execute_result"
    }
   ],
   "source": [
    "# volvemos a chequear cual es ahora nuestra ruta de trabajo\n",
    "os.getcwd()"
   ]
  },
  {
   "cell_type": "code",
   "execution_count": 21,
   "metadata": {},
   "outputs": [
    {
     "name": "stdout",
     "output_type": "stream",
     "text": [
      "['desktop.ini', 'documentos_proyecto', 'ibai-ekinpro', 'IMG20220715163045.jpg', 'jupyter-notebook-atajos-de-teclado.pdf', 'mementopython3-espanol.pdf', 'p.pdf', 'read_xml_txt.ipynb']\n"
     ]
    }
   ],
   "source": [
    "# y que ficheros tendremos ahora en esa carpeta\n",
    "print(os.listdir())"
   ]
  },
  {
   "cell_type": "markdown",
   "metadata": {},
   "source": [
    ".mkdir()"
   ]
  },
  {
   "cell_type": "code",
   "execution_count": 22,
   "metadata": {},
   "outputs": [
    {
     "name": "stdout",
     "output_type": "stream",
     "text": [
      "['Carpeta_os', 'desktop.ini', 'documentos_proyecto', 'ibai-ekinpro', 'IMG20220715163045.jpg', 'jupyter-notebook-atajos-de-teclado.pdf', 'mementopython3-espanol.pdf', 'p.pdf', 'read_xml_txt.ipynb']\n"
     ]
    }
   ],
   "source": [
    "# creamos la carpeta\n",
    "os.mkdir(\"Carpeta_os\")\n",
    "\n",
    "# listamos los archivos y ficheros que tenemos\n",
    "print(os.listdir())"
   ]
  },
  {
   "cell_type": "markdown",
   "metadata": {},
   "source": [
    ".rename()"
   ]
  },
  {
   "cell_type": "code",
   "execution_count": 23,
   "metadata": {},
   "outputs": [
    {
     "name": "stdout",
     "output_type": "stream",
     "text": [
      "['desktop.ini', 'documentos_proyecto', 'ibai-ekinpro', 'IMG20220715163045.jpg', 'jupyter-notebook-atajos-de-teclado.pdf', 'mementopython3-espanol.pdf', 'p.pdf', 'read_xml_txt.ipynb', 'testtesttest']\n"
     ]
    }
   ],
   "source": [
    "# cambiamos el nombre de la carpeta\n",
    "os.rename('Carpeta_os', 'testtesttest')\n",
    "\n",
    "# chequeamos si ha cambiado el nombre\n",
    "print(os.listdir())"
   ]
  },
  {
   "cell_type": "markdown",
   "metadata": {},
   "source": [
    ".rmdir()"
   ]
  },
  {
   "cell_type": "code",
   "execution_count": 24,
   "metadata": {},
   "outputs": [
    {
     "name": "stdout",
     "output_type": "stream",
     "text": [
      "['desktop.ini', 'documentos_proyecto', 'ibai-ekinpro', 'IMG20220715163045.jpg', 'jupyter-notebook-atajos-de-teclado.pdf', 'mementopython3-espanol.pdf', 'p.pdf', 'read_xml_txt.ipynb']\n"
     ]
    }
   ],
   "source": [
    "# eliminamos la carpeta que hemos creado\n",
    "os.rmdir('testtesttest')\n",
    "\n",
    "# chequeamos que ha sido correctamente eliminada\n",
    "print(os.listdir())"
   ]
  },
  {
   "cell_type": "code",
   "execution_count": 25,
   "metadata": {},
   "outputs": [
    {
     "data": {
      "text/plain": [
       "['.ipynb_checkpoints',\n",
       " 'data',\n",
       " 'data_sql.sql',\n",
       " 'data_txt.txt',\n",
       " 'data_xml.txt',\n",
       " 'data_xml.xml',\n",
       " 'data_xml_extraidos.ipynb',\n",
       " 'proyecto1.pdf',\n",
       " 'prueba_sql.sql',\n",
       " 'prueba_xml.ipynb',\n",
       " 'read_xml_txt.ipynb',\n",
       " 'read_xml_txt.pdf']"
      ]
     },
     "execution_count": 25,
     "metadata": {},
     "output_type": "execute_result"
    }
   ],
   "source": [
    "# chequear el contenido de la carpeta \"documentos_proyecto\"\n",
    "os.listdir(\"documentos_proyecto\")"
   ]
  },
  {
   "cell_type": "markdown",
   "metadata": {},
   "source": [
    "### LIBRERIA *shutil*"
   ]
  },
  {
   "cell_type": "code",
   "execution_count": 26,
   "metadata": {},
   "outputs": [],
   "source": [
    "# Lo primero que haremos es cargar la librería. En este caso no lo vamos a cargar todo, solo lo que nos interesa\n",
    "from shutil import rmtree"
   ]
  },
  {
   "cell_type": "code",
   "execution_count": 27,
   "metadata": {},
   "outputs": [],
   "source": [
    "# creamos de nuevo la carpeta con mkdir\n",
    "os.mkdir(\"Carpeta_os\")\n",
    "\n",
    "# dentro de esta carpeta, vamos a crear otra carpeta\n",
    "os.mkdir(\"Carpeta_os/ficheros\")"
   ]
  },
  {
   "cell_type": "code",
   "execution_count": 29,
   "metadata": {},
   "outputs": [
    {
     "data": {
      "text/plain": [
       "['desktop.ini',\n",
       " 'documentos_proyecto',\n",
       " 'ibai-ekinpro',\n",
       " 'IMG20220715163045.jpg',\n",
       " 'jupyter-notebook-atajos-de-teclado.pdf',\n",
       " 'mementopython3-espanol.pdf',\n",
       " 'p.pdf',\n",
       " 'read_xml_txt.ipynb']"
      ]
     },
     "execution_count": 29,
     "metadata": {},
     "output_type": "execute_result"
    }
   ],
   "source": [
    "# Vamos a proceder a eliminar las carpetas una tras otra\n",
    "rmtree(\"Carpeta_os\")\n",
    "\n",
    "# printemos ahora las carpetas y archivos\n",
    "os.listdir()"
   ]
  },
  {
   "cell_type": "markdown",
   "metadata": {},
   "source": [
    "### LIBRERIA CON *open()* y *.close()*"
   ]
  },
  {
   "cell_type": "code",
   "execution_count": 30,
   "metadata": {},
   "outputs": [],
   "source": [
    "# muevo la carpeta en la que estamos hacia la carpeta original\n",
    "os.chdir('/mnt/c/Users/sandr/Documents/adalab/ejercicios/python/modulo1/11-')"
   ]
  },
  {
   "cell_type": "code",
   "execution_count": 31,
   "metadata": {},
   "outputs": [
    {
     "data": {
      "text/plain": [
       "['11-extraccion-ficheros.ipynb',\n",
       " 'archivo.txt',\n",
       " 'contacto.xml',\n",
       " 'ejercicio1.xml']"
      ]
     },
     "execution_count": 31,
     "metadata": {},
     "output_type": "execute_result"
    }
   ],
   "source": [
    "os.listdir()"
   ]
  },
  {
   "cell_type": "code",
   "execution_count": 32,
   "metadata": {},
   "outputs": [
    {
     "data": {
      "text/plain": [
       "'archivo.txt'"
      ]
     },
     "execution_count": 32,
     "metadata": {},
     "output_type": "execute_result"
    }
   ],
   "source": [
    "# almacenamos en una variable el nombre del archivo txt que vamos a usar\n",
    "nom_archivo = 'archivo.txt'\n",
    "nom_archivo"
   ]
  },
  {
   "cell_type": "code",
   "execution_count": 33,
   "metadata": {},
   "outputs": [
    {
     "data": {
      "text/plain": [
       "'/mnt/c/Users/sandr/Documents/adalab/ejercicios/python/modulo1/11-'"
      ]
     },
     "execution_count": 33,
     "metadata": {},
     "output_type": "execute_result"
    }
   ],
   "source": [
    "# almacenamos en una variable la ruta donde está el archivo\n",
    "ubi_carpeta = os.getcwd()\n",
    "ubi_carpeta"
   ]
  },
  {
   "cell_type": "code",
   "execution_count": 34,
   "metadata": {},
   "outputs": [
    {
     "data": {
      "text/plain": [
       "'/mnt/c/Users/sandr/Documents/adalab/ejercicios/python/modulo1/11-/archivo.txt'"
      ]
     },
     "execution_count": 34,
     "metadata": {},
     "output_type": "execute_result"
    }
   ],
   "source": [
    "# establecemos la ruta completa con el nombre del archivo\n",
    "ubi_archivo = ubi_carpeta + \"/\" + nom_archivo\n",
    "ubi_archivo"
   ]
  },
  {
   "cell_type": "code",
   "execution_count": 35,
   "metadata": {},
   "outputs": [
    {
     "name": "stdout",
     "output_type": "stream",
     "text": [
      "['11-extraccion-ficheros.ipynb', 'archivo.txt', 'contacto.xml', 'ejercicio1.xml']\n"
     ]
    }
   ],
   "source": [
    "# Otra forma de poder abrir este fichero\n",
    "# creamos una variable donde tenemos almacenados todos los ficheros y carpetas de nuestra carpeta de trabajo\n",
    "conts = os.listdir()\n",
    "print(conts)"
   ]
  },
  {
   "cell_type": "code",
   "execution_count": 36,
   "metadata": {},
   "outputs": [],
   "source": [
    "# establecemos la ruta al fichero usando la variable \"conts\" que creamos anteriormente\n",
    "ubi_archivo = ubi_carpeta + '/' + conts[conts.index(\"archivo.txt\")]"
   ]
  },
  {
   "cell_type": "code",
   "execution_count": 37,
   "metadata": {},
   "outputs": [
    {
     "data": {
      "text/plain": [
       "'/mnt/c/Users/sandr/Documents/adalab/ejercicios/python/modulo1/11-/archivo.txt'"
      ]
     },
     "execution_count": 37,
     "metadata": {},
     "output_type": "execute_result"
    }
   ],
   "source": [
    "ubi_archivo"
   ]
  },
  {
   "cell_type": "markdown",
   "metadata": {},
   "source": [
    "### *open()* y *close()*"
   ]
  },
  {
   "cell_type": "code",
   "execution_count": 40,
   "metadata": {},
   "outputs": [
    {
     "data": {
      "text/plain": [
       "<_io.TextIOWrapper name='/mnt/c/Users/sandr/Documents/adalab/ejercicios/python/modulo1/11-/archivo.txt' mode='r' encoding='UTF-8'>"
      ]
     },
     "execution_count": 40,
     "metadata": {},
     "output_type": "execute_result"
    }
   ],
   "source": [
    "# abrimos el fichero y lo almacenamos en una variable llamada \"f\". Al abrirlo cargamos sus contenidos\n",
    "# y bloqueamos el archivo para que otras aplicaciones no lo puedan usar ni modificar\n",
    "f = open(ubi_archivo)\n",
    "f"
   ]
  },
  {
   "cell_type": "code",
   "execution_count": 41,
   "metadata": {},
   "outputs": [],
   "source": [
    "# cerramos el fichero, esto corresponde a cuando cerramos un fichero en nuestro ordenador dándole a la X\n",
    "f.close()"
   ]
  },
  {
   "cell_type": "markdown",
   "metadata": {},
   "source": [
    "### *.read()*"
   ]
  },
  {
   "cell_type": "code",
   "execution_count": 42,
   "metadata": {},
   "outputs": [
    {
     "data": {
      "text/plain": [
       "'Este es la primera frase.\\nEste es la segunda línea.\\n\\nLa línea anterior era vacía.\\n\\tEste tiene un tab delante.\\n6 caracteres difíciles: å, è, í, ü, &, ¿'"
      ]
     },
     "execution_count": 42,
     "metadata": {},
     "output_type": "execute_result"
    }
   ],
   "source": [
    "# abrimos el archivo\n",
    "f = open(ubi_archivo)\n",
    "\n",
    "# leemos el archivo, para poder ver su contenido\n",
    "f.read()"
   ]
  },
  {
   "cell_type": "code",
   "execution_count": 43,
   "metadata": {},
   "outputs": [
    {
     "data": {
      "text/plain": [
       "''"
      ]
     },
     "execution_count": 43,
     "metadata": {},
     "output_type": "execute_result"
    }
   ],
   "source": [
    "# Este método nos permite especificar el número de caracteres que queremos leer. Se lo pasaremos entre los paréntesis\n",
    "f.read(10)"
   ]
  },
  {
   "cell_type": "code",
   "execution_count": 44,
   "metadata": {},
   "outputs": [
    {
     "data": {
      "text/plain": [
       "'Este es la'"
      ]
     },
     "execution_count": 44,
     "metadata": {},
     "output_type": "execute_result"
    }
   ],
   "source": [
    "# volvemos a cargar el archivo\n",
    "f = open(ubi_archivo)\n",
    "\n",
    "# especificamos que solo queremos leer 10 caracteres\n",
    "f.read(10)"
   ]
  },
  {
   "cell_type": "code",
   "execution_count": 45,
   "metadata": {},
   "outputs": [],
   "source": [
    "# cerramos la lectura del archivo\n",
    "f.close()"
   ]
  },
  {
   "cell_type": "code",
   "execution_count": 46,
   "metadata": {},
   "outputs": [],
   "source": [
    "# El contenido que leemos lo podemos guardar en una variable y así no hace falta mantener el archivo abierto\n",
    "f = open(ubi_archivo)\n",
    "principio_archivo = f.read()\n",
    "f.close()"
   ]
  },
  {
   "cell_type": "code",
   "execution_count": 47,
   "metadata": {},
   "outputs": [
    {
     "data": {
      "text/plain": [
       "'Este es la primera frase.\\nEste es la segunda línea.\\n\\nLa línea anterior era vacía.\\n\\tEste tiene un tab delante.\\n6 caracteres difíciles: å, è, í, ü, &, ¿'"
      ]
     },
     "execution_count": 47,
     "metadata": {},
     "output_type": "execute_result"
    }
   ],
   "source": [
    "# ahora, aunque el fichero esté cerrado, podremos seguir accediendo a su contenido\n",
    "principio_archivo"
   ]
  },
  {
   "cell_type": "code",
   "execution_count": 48,
   "metadata": {},
   "outputs": [
    {
     "data": {
      "text/plain": [
       "str"
      ]
     },
     "execution_count": 48,
     "metadata": {},
     "output_type": "execute_result"
    }
   ],
   "source": [
    "type(principio_archivo)"
   ]
  },
  {
   "cell_type": "markdown",
   "metadata": {},
   "source": [
    "### Argumentos opcionales para *open()*"
   ]
  },
  {
   "cell_type": "markdown",
   "metadata": {},
   "source": [
    "**encoding**"
   ]
  },
  {
   "cell_type": "code",
   "execution_count": 49,
   "metadata": {},
   "outputs": [
    {
     "data": {
      "text/plain": [
       "'UTF-8'"
      ]
     },
     "execution_count": 49,
     "metadata": {},
     "output_type": "execute_result"
    }
   ],
   "source": [
    "# esta librería nos permite saber que sistema de encoding estamos usando, pero a veces puede dar errores\n",
    "from locale import getpreferredencoding\n",
    "getpreferredencoding()"
   ]
  },
  {
   "cell_type": "code",
   "execution_count": 50,
   "metadata": {},
   "outputs": [
    {
     "data": {
      "text/plain": [
       "'Este es la primera frase.\\nEste es la segunda línea.\\n\\nLa línea anterior era vacía.\\n\\tEste tiene un tab delante.\\n6 caracteres difíciles: å, è, í, ü, &, ¿\\n\\nñ\\n'"
      ]
     },
     "execution_count": 50,
     "metadata": {},
     "output_type": "execute_result"
    }
   ],
   "source": [
    "# abrimos el archivo\n",
    "f = open(ubi_archivo, encoding=\"utf-8\")\n",
    "\n",
    "# almacenamos en una variable su contenido\n",
    "principio_archivo = f.read()\n",
    "\n",
    "# cerramos el archivo\n",
    "principio_archivo"
   ]
  },
  {
   "cell_type": "markdown",
   "metadata": {},
   "source": [
    "**mode**"
   ]
  },
  {
   "cell_type": "code",
   "execution_count": 51,
   "metadata": {},
   "outputs": [
    {
     "name": "stdout",
     "output_type": "stream",
     "text": [
      "b'Este es la primera frase.\\nEste es la segunda l\\xc3\\xadnea.\\n\\nLa l\\xc3\\xadnea anterior era vac\\xc3\\xada.\\n\\tEste tiene un tab delante.\\n6 caracteres dif\\xc3\\xadciles: \\xc3\\xa5, \\xc3\\xa8, \\xc3\\xad, \\xc3\\xbc, &, \\xc2\\xbf\\n'\n"
     ]
    }
   ],
   "source": [
    "# leer en binary, sin encoding #\n",
    "################################\n",
    "# abrimos el archivo\n",
    "f = open(ubi_archivo, mode = \"rb\")\n",
    "\n",
    "# almacenamos en una variable su contenido\n",
    "principio_archivo = f.read()\n",
    "\n",
    "# vemos su contenido\n",
    "print(principio_archivo)\n",
    "\n",
    "# cerramos el archivo\n",
    "f.close()"
   ]
  },
  {
   "cell_type": "code",
   "execution_count": 52,
   "metadata": {},
   "outputs": [
    {
     "name": "stdout",
     "output_type": "stream",
     "text": [
      "Este es la primera frase.\n",
      "Este es la segunda línea.\n",
      "\n",
      "La línea anterior era vacía.\n",
      "\tEste tiene un tab delante.\n",
      "6 caracteres difíciles: å, è, í, ü, &, ¿\n",
      "\n"
     ]
    }
   ],
   "source": [
    "# leer en texto, sinónimo de 'r' ya que la 't' significa usar el encoding de tu sistema operativo #\n",
    "###################################################################################################\n",
    "\n",
    "# abrimos el archivo\n",
    "f = open(ubi_archivo, mode = \"rt\")\n",
    "\n",
    "# almacenamos en una variable su contenido\n",
    "principio_archivo = f.read()\n",
    "\n",
    "# vemos el contenido\n",
    "print(principio_archivo)\n",
    "\n",
    "# cerramos el archivo"
   ]
  },
  {
   "cell_type": "markdown",
   "metadata": {},
   "source": [
    "### EJERCICIOS *OPEN()* Y *CLOSE()*"
   ]
  },
  {
   "cell_type": "markdown",
   "metadata": {},
   "source": [
    "Ubicación del archivo"
   ]
  },
  {
   "cell_type": "code",
   "execution_count": 83,
   "metadata": {},
   "outputs": [],
   "source": [
    "# 7. Donde tienes guardado el archivo \"ejercicio.txt\"? Guarda la ruta absoluta en ubi_carp_ej\n",
    "nom_archivo_ej = \"ejercicio.txt\""
   ]
  },
  {
   "cell_type": "code",
   "execution_count": 84,
   "metadata": {},
   "outputs": [
    {
     "data": {
      "text/plain": [
       "'/mnt/c/Users/sandr/Documents/adalab/ejercicios/python/modulo1/11-'"
      ]
     },
     "execution_count": 84,
     "metadata": {},
     "output_type": "execute_result"
    }
   ],
   "source": [
    "ubi_carpeta = os.getcwd()\n",
    "ubi_carpeta"
   ]
  },
  {
   "cell_type": "code",
   "execution_count": 85,
   "metadata": {},
   "outputs": [
    {
     "data": {
      "text/plain": [
       "'/mnt/c/Users/sandr/Documents/adalab/ejercicios/python/modulo1/11-/ejercicio.txt'"
      ]
     },
     "execution_count": 85,
     "metadata": {},
     "output_type": "execute_result"
    }
   ],
   "source": [
    "ubi_carp_ej = ubi_carpeta + '/' + nom_archivo_ej\n",
    "ubi_carp_ej"
   ]
  },
  {
   "cell_type": "code",
   "execution_count": 59,
   "metadata": {},
   "outputs": [
    {
     "data": {
      "text/plain": [
       "'/mnt/c/Users/sandr/Documents/adalab/ejercicios/python/modulo1/11-'"
      ]
     },
     "execution_count": 59,
     "metadata": {},
     "output_type": "execute_result"
    }
   ],
   "source": [
    "# 8. en qué carpeta estás ejecutando este notebook?\n",
    "getcwd()"
   ]
  },
  {
   "cell_type": "code",
   "execution_count": 86,
   "metadata": {},
   "outputs": [
    {
     "data": {
      "text/plain": [
       "'/mnt/c/Users/sandr/Documents/adalab/ejercicios/python/modulo1/11-/ejercicio.txt'"
      ]
     },
     "execution_count": 86,
     "metadata": {},
     "output_type": "execute_result"
    }
   ],
   "source": [
    "# 9. Construye la ruta al archivo 'ejercicio.txt' con una ruta absoluta en ubi_ej_abs. Usa ubi_carp_ej para construirla\n",
    "ubi_ej_abs = ubi_carp_ej\n",
    "ubi_ej_abs"
   ]
  },
  {
   "cell_type": "code",
   "execution_count": 63,
   "metadata": {},
   "outputs": [],
   "source": [
    "# 10. Construye la ruta al archivo 'ejercicio.txt' con una ruta relativa en ubi_ej_rel\n",
    "ubi_ej_rel = 'ejercicio.txt'"
   ]
  },
  {
   "cell_type": "markdown",
   "metadata": {},
   "source": [
    "Abrir y cerrar"
   ]
  },
  {
   "cell_type": "code",
   "execution_count": 66,
   "metadata": {},
   "outputs": [],
   "source": [
    "# 11. Abre el archivo 'ejercicio.txt' como f y cierralo\n",
    "f = open(ubi_ej_abs)"
   ]
  },
  {
   "cell_type": "code",
   "execution_count": 67,
   "metadata": {},
   "outputs": [],
   "source": [
    "f.close()"
   ]
  },
  {
   "cell_type": "code",
   "execution_count": 87,
   "metadata": {},
   "outputs": [
    {
     "data": {
      "text/plain": [
       "'Este es la primera frase.\\nEs'"
      ]
     },
     "execution_count": 87,
     "metadata": {},
     "output_type": "execute_result"
    }
   ],
   "source": [
    "# 12. Abre el archivo\n",
    "f = open(ubi_ej_abs)\n",
    "# Imprime los primeros 28 caracteres\n",
    "f.read(28)"
   ]
  },
  {
   "cell_type": "code",
   "execution_count": 88,
   "metadata": {},
   "outputs": [],
   "source": [
    "# Cierralo\n",
    "f.close()"
   ]
  },
  {
   "cell_type": "code",
   "execution_count": 89,
   "metadata": {},
   "outputs": [],
   "source": [
    "# 13. Abre el archivo, guarda los primeros 30 caracteres como ejer30, cierralo e imprime ejer30\n",
    "f = open(ubi_ej_abs)\n",
    "\n",
    "ejer30 = f.read(30)\n",
    "\n",
    "f.close()"
   ]
  },
  {
   "cell_type": "code",
   "execution_count": 90,
   "metadata": {},
   "outputs": [
    {
     "name": "stdout",
     "output_type": "stream",
     "text": [
      "Este es la primera frase.\n",
      "Este\n"
     ]
    }
   ],
   "source": [
    "print(ejer30)"
   ]
  },
  {
   "cell_type": "markdown",
   "metadata": {},
   "source": [
    "Argumentos opcionales open"
   ]
  },
  {
   "cell_type": "code",
   "execution_count": 104,
   "metadata": {},
   "outputs": [
    {
     "name": "stdout",
     "output_type": "stream",
     "text": [
      "Este es la primera frase.\n",
      "Este es la segunda línea.\n",
      "\n",
      "La línea anterior era vacía.\n",
      "\tEste tiene un tab delante.\n",
      "6 caracteres difíciles: å, è, í, ü, &, ¿\n"
     ]
    }
   ],
   "source": [
    "# 14. Usar read() con un archivo abierto con argumentos opcionales\n",
    "f = open(ubi_ej_abs, mode = \"rt\")\n",
    "\n",
    "ejer_14 = f.read()\n",
    "print(ejer_14)\n",
    "\n",
    "f.close()"
   ]
  },
  {
   "cell_type": "code",
   "execution_count": 105,
   "metadata": {},
   "outputs": [
    {
     "name": "stdout",
     "output_type": "stream",
     "text": [
      "b'Este es la primera frase.\\n'\n"
     ]
    }
   ],
   "source": [
    "# 15. Lee el archivo 'ejercicio.txt' en modo binario. Imprime la primera línea\n",
    "f = open(ubi_ej_abs, mode = \"rb\")\n",
    "\n",
    "ejer_15 = f.read(26)\n",
    "print(ejer_15)\n",
    "\n",
    "f.close()"
   ]
  },
  {
   "cell_type": "code",
   "execution_count": 107,
   "metadata": {},
   "outputs": [
    {
     "name": "stdout",
     "output_type": "stream",
     "text": [
      "Este es la primera frase.\n",
      "\n"
     ]
    }
   ],
   "source": [
    "# 16. Lee el archivo 'ejercicio.txt' con un encoding de 'utf-8'. Deja el modo en por defecto. Imprime la primera línea\n",
    "f = open(ubi_ej_abs, encoding = \"utf-8\")\n",
    "\n",
    "ejer_16 = f.read(26)\n",
    "print(ejer_16)\n",
    "\n",
    "f.close()"
   ]
  },
  {
   "cell_type": "markdown",
   "metadata": {},
   "source": [
    "### *.readline()*, *.readlines()*, y la palabra *with*"
   ]
  },
  {
   "cell_type": "code",
   "execution_count": 97,
   "metadata": {},
   "outputs": [],
   "source": [
    "# abrimos el archivo\n",
    "f = open(ubi_archivo)\n",
    "\n",
    "# usamos el metodo readline para leer las líneas del fichero y lo almacenamos en una variable\n",
    "linea_archivo = f.readline()\n",
    "\n",
    "# cerramos el fichero\n",
    "f.close()"
   ]
  },
  {
   "cell_type": "code",
   "execution_count": 94,
   "metadata": {},
   "outputs": [
    {
     "data": {
      "text/plain": [
       "'Este es la primera frase.\\n'"
      ]
     },
     "execution_count": 94,
     "metadata": {},
     "output_type": "execute_result"
    }
   ],
   "source": [
    "linea_archivo"
   ]
  },
  {
   "cell_type": "code",
   "execution_count": 95,
   "metadata": {},
   "outputs": [
    {
     "name": "stdout",
     "output_type": "stream",
     "text": [
      "Este es la primera frase.\n",
      "\n",
      "Este es la segunda línea.\n",
      "\n"
     ]
    }
   ],
   "source": [
    "# abrimos el archivo\n",
    "f = open(ubi_archivo)\n",
    "\n",
    "# leemos la primera línea\n",
    "print(f.readline())\n",
    "\n",
    "# leemos la segunda línea\n",
    "print(f.readline())\n",
    "\n",
    "# cerramos el archivo\n",
    "f.close()"
   ]
  },
  {
   "cell_type": "code",
   "execution_count": 98,
   "metadata": {},
   "outputs": [],
   "source": [
    "# abrimos el archivo\n",
    "f = open(ubi_archivo, encoding=\"utf-8\")\n",
    "\n",
    "# leemos todas las líneas del fichero y lo almacenamos en una variable\n",
    "lineas_archivo = f.readlines()\n",
    "\n",
    "# cerramos el fichero\n",
    "f.close()"
   ]
  },
  {
   "cell_type": "code",
   "execution_count": 99,
   "metadata": {},
   "outputs": [
    {
     "data": {
      "text/plain": [
       "['Este es la primera frase.\\n',\n",
       " 'Este es la segunda línea.\\n',\n",
       " '\\n',\n",
       " 'La línea anterior era vacía.\\n',\n",
       " '\\tEste tiene un tab delante.\\n',\n",
       " '6 caracteres difíciles: å, è, í, ü, &, ¿']"
      ]
     },
     "execution_count": 99,
     "metadata": {},
     "output_type": "execute_result"
    }
   ],
   "source": [
    "# veamos cuál es el contenido de la variable lineas_archivo\n",
    "lineas_archivo"
   ]
  },
  {
   "cell_type": "code",
   "execution_count": 100,
   "metadata": {},
   "outputs": [
    {
     "data": {
      "text/plain": [
       "'Este es la primera frase.\\n'"
      ]
     },
     "execution_count": 100,
     "metadata": {},
     "output_type": "execute_result"
    }
   ],
   "source": [
    "# accedemos al primer elemento\n",
    "lineas_archivo[0]"
   ]
  },
  {
   "cell_type": "code",
   "execution_count": 102,
   "metadata": {},
   "outputs": [
    {
     "data": {
      "text/plain": [
       "'Este es la segunda línea.\\n'"
      ]
     },
     "execution_count": 102,
     "metadata": {},
     "output_type": "execute_result"
    }
   ],
   "source": [
    "# accedemos al segundo elemento\n",
    "lineas_archivo[1]"
   ]
  },
  {
   "cell_type": "code",
   "execution_count": 103,
   "metadata": {},
   "outputs": [
    {
     "name": "stdout",
     "output_type": "stream",
     "text": [
      "Este es la primera frase.\n",
      "\n"
     ]
    }
   ],
   "source": [
    "# abrimos el fichero y le ponemos el nombre de \"f\"\n",
    "with open(ubi_archivo) as f:\n",
    "    # le decimos que nos lea la primera línea y almacenamos los resultados en una variable llamada linea_archivo\n",
    "    linea_archivo = f.readline()\n",
    "\n",
    "# printeamos la variable\n",
    "print(linea_archivo)"
   ]
  },
  {
   "cell_type": "code",
   "execution_count": 108,
   "metadata": {},
   "outputs": [],
   "source": [
    "mi_lista = [1,2,3]"
   ]
  },
  {
   "cell_type": "code",
   "execution_count": 109,
   "metadata": {},
   "outputs": [
    {
     "data": {
      "text/plain": [
       "3"
      ]
     },
     "execution_count": 109,
     "metadata": {},
     "output_type": "execute_result"
    }
   ],
   "source": [
    "mi_lista.pop()"
   ]
  },
  {
   "cell_type": "markdown",
   "metadata": {},
   "source": [
    "### Ejercicios *readline()*, *readlines()* y la palabra *with*"
   ]
  },
  {
   "cell_type": "markdown",
   "metadata": {},
   "source": [
    "Abrir archivos con **with**"
   ]
  },
  {
   "cell_type": "code",
   "execution_count": 110,
   "metadata": {},
   "outputs": [],
   "source": [
    "# 17. Abre el archivo \"ejercicio.txt\" con with. Llama la variable en que se guardará la conexión con el archivo f. Usa a continuación la sentencia pass\n",
    "with open(ubi_ej_abs) as f:\n",
    "    pass"
   ]
  },
  {
   "cell_type": "code",
   "execution_count": 111,
   "metadata": {},
   "outputs": [],
   "source": [
    "# 18. Con with, lee la primera linea y guardala en lin1\n",
    "with open(ubi_ej_abs) as f:\n",
    "    lin1 = f.readline()"
   ]
  },
  {
   "cell_type": "code",
   "execution_count": 112,
   "metadata": {},
   "outputs": [
    {
     "name": "stdout",
     "output_type": "stream",
     "text": [
      "Este es la primera frase.\n",
      "\n"
     ]
    }
   ],
   "source": [
    "# 19. Imprime lin1.\n",
    "print(lin1)\n",
    "\n",
    "# Está abierto (bloqueado) el archivo \"ejercicio.txt\" ahora mismo?\n",
    "# No"
   ]
  },
  {
   "cell_type": "markdown",
   "metadata": {},
   "source": [
    "Obtener una lista con el contenido de \"ejercicio.txt\""
   ]
  },
  {
   "cell_type": "code",
   "execution_count": 113,
   "metadata": {},
   "outputs": [
    {
     "data": {
      "text/plain": [
       "['Este es la primera frase.\\n',\n",
       " 'Este es la segunda línea.\\n',\n",
       " '\\n',\n",
       " 'La línea anterior era vacía.\\n',\n",
       " '\\tEste tiene un tab delante.\\n',\n",
       " '6 caracteres difíciles: å, è, í, ü, &, ¿']"
      ]
     },
     "execution_count": 113,
     "metadata": {},
     "output_type": "execute_result"
    }
   ],
   "source": [
    "# 20. Obten una lista \"lista_ejer\" con el contenido de \"ejercicio.txt\"\n",
    "with open(ubi_ej_abs) as f:\n",
    "    lista_ejer = f.readlines()\n",
    "\n",
    "lista_ejer"
   ]
  },
  {
   "cell_type": "code",
   "execution_count": 116,
   "metadata": {},
   "outputs": [
    {
     "name": "stdout",
     "output_type": "stream",
     "text": [
      "Este es la primera frase.\n",
      "\n",
      "Este es la segunda línea.\n",
      "\n",
      "\n",
      "\n",
      "La línea anterior era vacía.\n",
      "\n",
      "-> \tEste tiene un tab delante.\n",
      "\n",
      "6 caracteres difíciles: å, è, í, ü, &, ¿\n"
     ]
    }
   ],
   "source": [
    "# BONUS 21. Con un bucle for imprime las líneas que haya en la lista. Con un bucle if determina qué línea es la quinta ([4]) e imprime esa frase adelantada por '->'\n",
    "for i in lista_ejer:\n",
    "    if i == lista_ejer[4]:\n",
    "        print(f\"-> {i}\")\n",
    "    else:\n",
    "        print(i)"
   ]
  },
  {
   "cell_type": "markdown",
   "metadata": {},
   "source": [
    "### Crear y escribir en archivos de texto"
   ]
  },
  {
   "cell_type": "code",
   "execution_count": 117,
   "metadata": {},
   "outputs": [
    {
     "name": "stdout",
     "output_type": "stream",
     "text": [
      "['11-extraccion-ficheros.ipynb', 'archivo.txt', 'contacto.xml', 'ejercicio.txt', 'ejercicio1.xml', 'ficheros2.txt']\n"
     ]
    }
   ],
   "source": [
    "# Lo primero que tenemos que hacer es asegurarnos de que el fichero está en nuestra carpeta de trabajo\n",
    "print(os.listdir())"
   ]
  },
  {
   "cell_type": "code",
   "execution_count": 118,
   "metadata": {},
   "outputs": [
    {
     "name": "stdout",
     "output_type": "stream",
     "text": [
      "\n"
     ]
    }
   ],
   "source": [
    "# Ahora vamos a abrir el archivo con el modo de escritura (w)\n",
    "with open(\"ficheros2.txt\") as f:\n",
    "\n",
    "    # y vamos a ver su contenido, lo cual no nos devuelve nada ya que el fichero está vacío\n",
    "    print(f.read())"
   ]
  },
  {
   "cell_type": "markdown",
   "metadata": {},
   "source": [
    "### *.write()*"
   ]
  },
  {
   "cell_type": "code",
   "execution_count": 119,
   "metadata": {},
   "outputs": [],
   "source": [
    "# ahora vamos a abrir el archivo con el modo de escritura (w)\n",
    "with open(\"ficheros2.txt\", \"w\") as f:\n",
    "\n",
    "    # usaremos el método .write() para escribir contenido en nuestro archivo, dónde se escribirá el contenido que especifiquemos entre paréntesis.\n",
    "    f.write(\"Primer texto de un archivo nuevo\")\n",
    "    f.close()"
   ]
  },
  {
   "cell_type": "code",
   "execution_count": 120,
   "metadata": {},
   "outputs": [
    {
     "name": "stdout",
     "output_type": "stream",
     "text": [
      "Primer texto de un archivo nuevo\n"
     ]
    }
   ],
   "source": [
    "# Leamos ahora el fichero para ver que hay en el archivo. En este caso usaremos el modo \"r\" porque solo nos interesa leerlo\n",
    "with open(\"ficheros2.txt\") as f:\n",
    "    print(f.read())\n",
    "    f.close()"
   ]
  },
  {
   "cell_type": "code",
   "execution_count": 121,
   "metadata": {},
   "outputs": [],
   "source": [
    "# Probemos ahora a añadir una segunda línea con el método \".write\" y el modo w de apertura del archivo:\n",
    "with open(\"ficheros2.txt\", \"w\") as f:\n",
    "    f.write(\"Segundo texto en un archivo nuevo\")\n",
    "    f.close()"
   ]
  },
  {
   "cell_type": "code",
   "execution_count": 122,
   "metadata": {},
   "outputs": [
    {
     "name": "stdout",
     "output_type": "stream",
     "text": [
      "Segundo texto en un archivo nuevo\n"
     ]
    }
   ],
   "source": [
    "# Y ahora lo leemos\n",
    "with open(\"ficheros2.txt\", \"r\") as f:\n",
    "    print(f.read())"
   ]
  },
  {
   "cell_type": "code",
   "execution_count": 123,
   "metadata": {},
   "outputs": [],
   "source": [
    "# Añadimos nuevo contenido a nuestro fichero\n",
    "with open(\"ficheros2.txt\", \"a\") as f:\n",
    "    f.write(\"\\n Tercer texto del archivo nuevo.\")"
   ]
  },
  {
   "cell_type": "code",
   "execution_count": 124,
   "metadata": {},
   "outputs": [
    {
     "name": "stdout",
     "output_type": "stream",
     "text": [
      "Segundo texto en un archivo nuevo\n",
      " Tercer texto del archivo nuevo.\n"
     ]
    }
   ],
   "source": [
    "# Lo leemos ahora para ver qué ha pasado\n",
    "with open(\"ficheros2.txt\", \"r\") as f:\n",
    "    print(f.read())"
   ]
  },
  {
   "cell_type": "code",
   "execution_count": 125,
   "metadata": {},
   "outputs": [],
   "source": [
    "# Primero defines una lista con el contenido que queremos añadir\n",
    "nuevo_contenido = [\"Cuarto texto de nuestro archivo\", \"Quinto texto de nuestro archivo\"]"
   ]
  },
  {
   "cell_type": "code",
   "execution_count": 126,
   "metadata": {},
   "outputs": [],
   "source": [
    "# Queremos añadir las líneas que hemos especificado en la lista anterior, por lo tanto lo haremos en modo \"a\"\n",
    "with open(\"ficheros2.txt\", \"a\") as f:\n",
    "    f.writelines(nuevo_contenido)"
   ]
  },
  {
   "cell_type": "code",
   "execution_count": 127,
   "metadata": {},
   "outputs": [
    {
     "name": "stdout",
     "output_type": "stream",
     "text": [
      "Segundo texto en un archivo nuevo\n",
      " Tercer texto del archivo nuevo.Cuarto texto de nuestro archivoQuinto texto de nuestro archivo\n"
     ]
    }
   ],
   "source": [
    "# Veamos ahora que contenido tiene ahora nuestro fichero\n",
    "with open(\"ficheros2.txt\") as f:\n",
    "    print(f.read())"
   ]
  },
  {
   "cell_type": "code",
   "execution_count": 128,
   "metadata": {},
   "outputs": [],
   "source": [
    "# Creamos un fichero que se llama ficheros3, al que le vamos a añadir una frase de buenos días\n",
    "with open(\"ficheros3.txt\", \"x\") as f:\n",
    "    f.write(\"Buenos días\")\n",
    "    f.close()"
   ]
  },
  {
   "cell_type": "markdown",
   "metadata": {},
   "source": [
    "### Ejercicios crear y escribir en archivos de texto"
   ]
  },
  {
   "cell_type": "markdown",
   "metadata": {},
   "source": [
    "Crear archivos"
   ]
  },
  {
   "cell_type": "code",
   "execution_count": 129,
   "metadata": {},
   "outputs": [
    {
     "ename": "FileNotFoundError",
     "evalue": "[Errno 2] No such file or directory: 'escribir.txt'",
     "output_type": "error",
     "traceback": [
      "\u001b[0;31m---------------------------------------------------------------------------\u001b[0m",
      "\u001b[0;31mFileNotFoundError\u001b[0m                         Traceback (most recent call last)",
      "\u001b[0;32m/tmp/ipykernel_335/2885100859.py\u001b[0m in \u001b[0;36m<module>\u001b[0;34m\u001b[0m\n\u001b[1;32m      1\u001b[0m \u001b[0;31m# 22. El archivo 'escribir.txt' no existe, si intentaramos abrirlo con open() en el modo por defecto. Da un error?\u001b[0m\u001b[0;34m\u001b[0m\u001b[0;34m\u001b[0m\u001b[0m\n\u001b[0;32m----> 2\u001b[0;31m \u001b[0;32mwith\u001b[0m \u001b[0mopen\u001b[0m\u001b[0;34m(\u001b[0m\u001b[0;34m\"escribir.txt\"\u001b[0m\u001b[0;34m)\u001b[0m \u001b[0;32mas\u001b[0m \u001b[0mf\u001b[0m\u001b[0;34m:\u001b[0m\u001b[0;34m\u001b[0m\u001b[0;34m\u001b[0m\u001b[0m\n\u001b[0m\u001b[1;32m      3\u001b[0m     \u001b[0;32mpass\u001b[0m\u001b[0;34m\u001b[0m\u001b[0;34m\u001b[0m\u001b[0m\n",
      "\u001b[0;31mFileNotFoundError\u001b[0m: [Errno 2] No such file or directory: 'escribir.txt'"
     ]
    }
   ],
   "source": [
    "# 22. El archivo 'escribir.txt' no existe, si intentaramos abrirlo con open() en el modo por defecto. Da un error?\n",
    "with open(\"escribir.txt\") as f:\n",
    "    pass\n",
    "\n",
    "# Da error, porque el modo por defecto solo lo abre, y el archivo no existe"
   ]
  },
  {
   "cell_type": "code",
   "execution_count": 130,
   "metadata": {},
   "outputs": [
    {
     "ename": "FileNotFoundError",
     "evalue": "[Errno 2] No such file or directory: 'escribir.txt'",
     "output_type": "error",
     "traceback": [
      "\u001b[0;31m---------------------------------------------------------------------------\u001b[0m",
      "\u001b[0;31mFileNotFoundError\u001b[0m                         Traceback (most recent call last)",
      "\u001b[0;32m/tmp/ipykernel_335/559325253.py\u001b[0m in \u001b[0;36m<module>\u001b[0;34m\u001b[0m\n\u001b[1;32m      1\u001b[0m \u001b[0;31m# 23. El archivo 'escribir.txt' no existe, si intentaramos abrirlo con open() en el modo \"r\". Da un error?\u001b[0m\u001b[0;34m\u001b[0m\u001b[0;34m\u001b[0m\u001b[0m\n\u001b[0;32m----> 2\u001b[0;31m \u001b[0;32mwith\u001b[0m \u001b[0mopen\u001b[0m\u001b[0;34m(\u001b[0m\u001b[0;34m\"escribir.txt\"\u001b[0m\u001b[0;34m,\u001b[0m \u001b[0;34m\"r\"\u001b[0m\u001b[0;34m)\u001b[0m \u001b[0;32mas\u001b[0m \u001b[0mf\u001b[0m\u001b[0;34m:\u001b[0m\u001b[0;34m\u001b[0m\u001b[0;34m\u001b[0m\u001b[0m\n\u001b[0m\u001b[1;32m      3\u001b[0m     \u001b[0;32mpass\u001b[0m\u001b[0;34m\u001b[0m\u001b[0;34m\u001b[0m\u001b[0m\n",
      "\u001b[0;31mFileNotFoundError\u001b[0m: [Errno 2] No such file or directory: 'escribir.txt'"
     ]
    }
   ],
   "source": [
    "# 23. El archivo 'escribir.txt' no existe, si intentaramos abrirlo con open() en el modo \"r\". Da un error?\n",
    "with open(\"escribir.txt\", \"r\") as f:\n",
    "    pass"
   ]
  },
  {
   "cell_type": "code",
   "execution_count": 132,
   "metadata": {},
   "outputs": [],
   "source": [
    "# 24. El archivo 'escribir.txt' no existe, si intentaramos abrirlo con open() en el modo \"x\". Da un error?\n",
    "with open(\"escribir.txt\", \"x\") as f:\n",
    "    pass"
   ]
  },
  {
   "cell_type": "markdown",
   "metadata": {},
   "source": [
    "Escribir contenido"
   ]
  },
  {
   "cell_type": "code",
   "execution_count": 145,
   "metadata": {},
   "outputs": [],
   "source": [
    "# Vuelve a abrir \"escribir.txt\" y usa f.write() para escribir \"Con este texto deja de ser vacío\" en la primera línea\n",
    "with open(\"escribir.txt\", \"w\") as f:\n",
    "    f.write(\"Con este texto deja de ser vacío\")"
   ]
  },
  {
   "cell_type": "code",
   "execution_count": 146,
   "metadata": {},
   "outputs": [
    {
     "name": "stdout",
     "output_type": "stream",
     "text": [
      "Con este texto deja de ser vacío\n"
     ]
    }
   ],
   "source": [
    "with open(\"escribir.txt\", \"r\") as f:\n",
    "    print(f.read())"
   ]
  },
  {
   "cell_type": "code",
   "execution_count": 147,
   "metadata": {},
   "outputs": [],
   "source": [
    "# Vuelve a abrir \"escribir.txt\" y una f.write() para escribir \"Esta línea reemplaza la anterior\" en la primera línea\n",
    "with open(\"escribir.txt\", \"w\") as f:\n",
    "    f.write(\"Esta línea reemplaza la anterior\")"
   ]
  },
  {
   "cell_type": "code",
   "execution_count": 148,
   "metadata": {},
   "outputs": [
    {
     "name": "stdout",
     "output_type": "stream",
     "text": [
      "Esta línea reemplaza la anterior\n"
     ]
    }
   ],
   "source": [
    "with open(\"escribir.txt\", \"r\") as f:\n",
    "    print(f.read())"
   ]
  },
  {
   "cell_type": "code",
   "execution_count": 149,
   "metadata": {},
   "outputs": [],
   "source": [
    "# Vuelve a abrir \"escribir.txt\" y usa f.writelines() para escribir \"n\\segunda\", \"n\\tercera\", \"n\\cuarta\" sin tocar la primera línea\n",
    "lineas = [\"n\\segunda\", \"n\\tercera\", \"n\\cuarta\"]\n",
    "with open(\"escribir.txt\", \"a\") as f:\n",
    "    f.writelines(lineas)"
   ]
  },
  {
   "cell_type": "code",
   "execution_count": 150,
   "metadata": {},
   "outputs": [
    {
     "name": "stdout",
     "output_type": "stream",
     "text": [
      "Esta línea reemplaza la anteriorn\\segundan\terceran\\cuarta\n"
     ]
    }
   ],
   "source": [
    "with open(\"escribir.txt\", \"r\") as f:\n",
    "    print(f.read())"
   ]
  },
  {
   "cell_type": "markdown",
   "metadata": {},
   "source": [
    "# ARCHIVOS **.XML**"
   ]
  },
  {
   "cell_type": "markdown",
   "metadata": {},
   "source": [
    "### Trabajar con xml desde Python"
   ]
  },
  {
   "cell_type": "code",
   "execution_count": 1,
   "metadata": {},
   "outputs": [],
   "source": [
    "# Lo primero que hacemos es importar la librería que necesitamos para trabajar con archivos xml\n",
    "import xml.etree.ElementTree as ET"
   ]
  },
  {
   "cell_type": "code",
   "execution_count": 2,
   "metadata": {},
   "outputs": [],
   "source": [
    "# abrimos el fichero\n",
    "tree = ET.parse(\"contacto.xml\")"
   ]
  },
  {
   "cell_type": "code",
   "execution_count": 153,
   "metadata": {},
   "outputs": [],
   "source": [
    "# getroot() nos saca el elemento que envuelve todo\n",
    "root = tree.getroot()"
   ]
  },
  {
   "cell_type": "code",
   "execution_count": 154,
   "metadata": {},
   "outputs": [
    {
     "name": "stdout",
     "output_type": "stream",
     "text": [
      "contact-info\n"
     ]
    }
   ],
   "source": [
    "# Printemos cuál es la raiz, el padre de nuestro archivo xml\n",
    "print(root.tag)"
   ]
  },
  {
   "cell_type": "code",
   "execution_count": 155,
   "metadata": {},
   "outputs": [
    {
     "name": "stdout",
     "output_type": "stream",
     "text": [
      "{}\n"
     ]
    }
   ],
   "source": [
    "# Sacamos los atributos de nuestro fichero\n",
    "print(root.attrib)"
   ]
  },
  {
   "cell_type": "code",
   "execution_count": 158,
   "metadata": {},
   "outputs": [
    {
     "name": "stdout",
     "output_type": "stream",
     "text": [
      "contact: Es un hijo de nuestra raiz 'contact-info'\n",
      "    type: Es un nieto de nuestra raiz 'contact-info'\n",
      "    url: Es un nieto de nuestra raiz 'contact-info'\n",
      "contact: Es un hijo de nuestra raiz 'contact-info'\n",
      "    type: Es un nieto de nuestra raiz 'contact-info'\n",
      "    address: Es un nieto de nuestra raiz 'contact-info'\n",
      "socialmedia: Es un hijo de nuestra raiz 'contact-info'\n",
      "    profile: Es un nieto de nuestra raiz 'contact-info'\n",
      "    profile: Es un nieto de nuestra raiz 'contact-info'\n",
      "    profile: Es un nieto de nuestra raiz 'contact-info'\n",
      "    profile: Es un nieto de nuestra raiz 'contact-info'\n",
      "    profile: Es un nieto de nuestra raiz 'contact-info'\n"
     ]
    }
   ],
   "source": [
    "for child in root:\n",
    "    print(f\"{child.tag}: Es un hijo de nuestra raiz 'contact-info'\")\n",
    "    for subchild in child:\n",
    "        print(f\"    {subchild.tag}: Es un nieto de nuestra raiz 'contact-info'\")"
   ]
  },
  {
   "cell_type": "code",
   "execution_count": 159,
   "metadata": {},
   "outputs": [
    {
     "name": "stdout",
     "output_type": "stream",
     "text": [
      "Website\n"
     ]
    }
   ],
   "source": [
    "print(root.find(\"contact\").find(\"type\").text)"
   ]
  },
  {
   "cell_type": "code",
   "execution_count": 160,
   "metadata": {},
   "outputs": [
    {
     "name": "stdout",
     "output_type": "stream",
     "text": [
      "https://adalab.es/\n"
     ]
    }
   ],
   "source": [
    "print(root.find(\"contact\").find(\"url\").text)"
   ]
  },
  {
   "cell_type": "code",
   "execution_count": 161,
   "metadata": {},
   "outputs": [
    {
     "name": "stdout",
     "output_type": "stream",
     "text": [
      "\n",
      "      \n"
     ]
    }
   ],
   "source": [
    "print(root.find(\"contact\").text)"
   ]
  },
  {
   "cell_type": "code",
   "execution_count": 162,
   "metadata": {},
   "outputs": [
    {
     "name": "stdout",
     "output_type": "stream",
     "text": [
      "\n",
      "         \n"
     ]
    }
   ],
   "source": [
    "print(root.find(\"socialmedia\").find(\"profile\").text)"
   ]
  },
  {
   "cell_type": "code",
   "execution_count": 163,
   "metadata": {},
   "outputs": [
    {
     "name": "stdout",
     "output_type": "stream",
     "text": [
      "name\n",
      "url\n",
      "name\n",
      "url\n",
      "name\n",
      "url\n",
      "name\n",
      "url\n",
      "name\n",
      "url\n"
     ]
    }
   ],
   "source": [
    "# Empezamos iterando por todo el archivo\n",
    "for child in root:\n",
    "\n",
    "    # ahora solo nos interesa saber cuales son los nietos y bisnietos del atributo socialmedia\n",
    "    if child.tag == \"socialmedia\":\n",
    "\n",
    "        #iteramos por los \"nietos\"\n",
    "        for subchild in child:\n",
    "\n",
    "            # iteramos por los \"bisnietos\"\n",
    "            for subsubchild in subchild:\n",
    "\n",
    "                # y printeamos sus nombres para saber como se llaman y poder acceder a ellos\n",
    "                print(subsubchild.tag)"
   ]
  },
  {
   "cell_type": "code",
   "execution_count": 164,
   "metadata": {},
   "outputs": [
    {
     "name": "stdout",
     "output_type": "stream",
     "text": [
      "Twitter\n"
     ]
    }
   ],
   "source": [
    "# veamos el contenido del \"bisnieto\" name\n",
    "print(root.find(\"socialmedia\").find(\"profile\").find(\"name\").text)"
   ]
  },
  {
   "cell_type": "code",
   "execution_count": 166,
   "metadata": {},
   "outputs": [
    {
     "name": "stdout",
     "output_type": "stream",
     "text": [
      "https://twitter.com/Adalab_Digital\n"
     ]
    }
   ],
   "source": [
    "# veamos el contenido del \"bisnieto\" url\n",
    "print(root.find(\"socialmedia\").find(\"profile\").find(\"url\").text)"
   ]
  },
  {
   "cell_type": "code",
   "execution_count": 167,
   "metadata": {},
   "outputs": [
    {
     "name": "stdout",
     "output_type": "stream",
     "text": [
      "Website\n",
      "Mail\n"
     ]
    }
   ],
   "source": [
    "# iteramos por el hijo \"contact\" y accedemos a todos\n",
    "for contact in root.findall(\"contact\"):\n",
    "    #dentro de este sacamos su contenido\n",
    "    print(contact.find(\"type\").text)"
   ]
  },
  {
   "cell_type": "code",
   "execution_count": 169,
   "metadata": {},
   "outputs": [
    {
     "name": "stdout",
     "output_type": "stream",
     "text": [
      "Twitter\n",
      "Facebook\n",
      "Linkedin\n",
      "Instagram\n",
      "Youtube\n"
     ]
    }
   ],
   "source": [
    "# Como lo haríamos para el otro elemento que teníamos\n",
    "for subelement in root.find(\"socialmedia\").findall(\"profile\"):\n",
    "    print(subelement.find(\"name\").text)"
   ]
  },
  {
   "cell_type": "markdown",
   "metadata": {},
   "source": [
    "### Ejercicios trabajar con xml desde Python"
   ]
  },
  {
   "cell_type": "markdown",
   "metadata": {},
   "source": [
    "Abrir un archivo xml"
   ]
  },
  {
   "cell_type": "code",
   "execution_count": 3,
   "metadata": {},
   "outputs": [],
   "source": [
    "# Carga la librería adecuada con el alías ET\n",
    "import xml.etree.ElementTree as ET"
   ]
  },
  {
   "cell_type": "code",
   "execution_count": 4,
   "metadata": {},
   "outputs": [],
   "source": [
    "# Carga el arbol xml del archivo \"ejercicio1.xml\" a la variable tree\n",
    "tree = ET.parse(\"ejercicio1.xml\")"
   ]
  },
  {
   "cell_type": "code",
   "execution_count": 5,
   "metadata": {},
   "outputs": [],
   "source": [
    "# Saca el elemento raiz de tree en la variable root\n",
    "root = tree.getroot()"
   ]
  },
  {
   "cell_type": "code",
   "execution_count": 6,
   "metadata": {},
   "outputs": [
    {
     "name": "stdout",
     "output_type": "stream",
     "text": [
      "colores\n"
     ]
    }
   ],
   "source": [
    "# Como se llama el elemento raiz?\n",
    "print(root.tag)"
   ]
  },
  {
   "cell_type": "code",
   "execution_count": 7,
   "metadata": {},
   "outputs": [
    {
     "name": "stdout",
     "output_type": "stream",
     "text": [
      "{}\n"
     ]
    }
   ],
   "source": [
    "# Tiene atributos la raiz\n",
    "print(root.attrib)"
   ]
  },
  {
   "cell_type": "code",
   "execution_count": 8,
   "metadata": {},
   "outputs": [
    {
     "name": "stdout",
     "output_type": "stream",
     "text": [
      "color: Es un hijo de nuestra raiz 'colores'\n",
      "    pantone: Es un nieto de nuestra raiz 'colores'\n",
      "    rgb: Es un nieto de nuestra raiz 'colores'\n",
      "        red: Es un bisnieto de nuestra raiz 'colores'\n",
      "        green: Es un bisnieto de nuestra raiz 'colores'\n",
      "        blue: Es un bisnieto de nuestra raiz 'colores'\n",
      "    hex: Es un nieto de nuestra raiz 'colores'\n",
      "color: Es un hijo de nuestra raiz 'colores'\n",
      "    pantone: Es un nieto de nuestra raiz 'colores'\n",
      "    rgb: Es un nieto de nuestra raiz 'colores'\n",
      "        red: Es un bisnieto de nuestra raiz 'colores'\n",
      "        green: Es un bisnieto de nuestra raiz 'colores'\n",
      "        blue: Es un bisnieto de nuestra raiz 'colores'\n",
      "    hex: Es un nieto de nuestra raiz 'colores'\n"
     ]
    }
   ],
   "source": [
    "for child in root:\n",
    "    print(f\"{child.tag}: Es un hijo de nuestra raiz 'colores'\")\n",
    "    for subchild in child:\n",
    "        print(f\"    {subchild.tag}: Es un nieto de nuestra raiz 'colores'\")\n",
    "        for subsubchild in subchild:\n",
    "            print(f\"        {subsubchild.tag}: Es un bisnieto de nuestra raiz 'colores'\")"
   ]
  },
  {
   "cell_type": "markdown",
   "metadata": {},
   "source": [
    "Elementos hijos"
   ]
  },
  {
   "cell_type": "code",
   "execution_count": 9,
   "metadata": {},
   "outputs": [
    {
     "name": "stdout",
     "output_type": "stream",
     "text": [
      "color es un hijo de la raiz colores\n",
      "color es un hijo de la raiz colores\n"
     ]
    }
   ],
   "source": [
    "# 1. Cuantos hijos tiene la raiz? Como se llaman?\n",
    "for child in root:\n",
    "    print(f\"{child.tag} es un hijo de la raiz colores\")"
   ]
  },
  {
   "cell_type": "code",
   "execution_count": 24,
   "metadata": {},
   "outputs": [
    {
     "name": "stdout",
     "output_type": "stream",
     "text": [
      "color {'id': '1', 'name': 'turquesa'}\n",
      "color {'id': '2', 'name': 'gris'}\n"
     ]
    }
   ],
   "source": [
    "for child in root:\n",
    "    print(child.tag, child.attrib)"
   ]
  },
  {
   "cell_type": "code",
   "execution_count": 10,
   "metadata": {},
   "outputs": [
    {
     "name": "stdout",
     "output_type": "stream",
     "text": [
      "{'id': '1', 'name': 'turquesa'}\n"
     ]
    }
   ],
   "source": [
    "# 2. atributos del primer hijo\n",
    "print(root.find(\"color\").attrib)"
   ]
  },
  {
   "cell_type": "code",
   "execution_count": 11,
   "metadata": {},
   "outputs": [
    {
     "name": "stdout",
     "output_type": "stream",
     "text": [
      "<Element 'pantone' at 0x7f49aa77a860>\n",
      "<Element 'rgb' at 0x7f49aa77a900>\n",
      "<Element 'hex' at 0x7f49aa77ab30>\n"
     ]
    }
   ],
   "source": [
    "# 3. el primer hijo tiene hijos o tiene texto?\n",
    "for subelement in root[0]:\n",
    "    print(f\"{subelement}\")\n",
    "# SI tiene hijos"
   ]
  },
  {
   "cell_type": "code",
   "execution_count": 12,
   "metadata": {},
   "outputs": [
    {
     "name": "stdout",
     "output_type": "stream",
     "text": [
      "\n",
      "        \n"
     ]
    }
   ],
   "source": [
    "print(root.find(\"color\").text)\n",
    "# NO tiene texto"
   ]
  },
  {
   "cell_type": "code",
   "execution_count": 13,
   "metadata": {},
   "outputs": [],
   "source": [
    "# 4. Del segundo hijo, su primer hijo, tiene hijos o tiene texto directamente?\n",
    "for subelement in root[1].find(\"pantone\"):\n",
    "    print(f\"{subelement}\")"
   ]
  },
  {
   "cell_type": "code",
   "execution_count": 45,
   "metadata": {},
   "outputs": [
    {
     "name": "stdout",
     "output_type": "stream",
     "text": [
      "\n",
      "            425C\n",
      "        \n"
     ]
    }
   ],
   "source": [
    "# Como no tiene hijos, miramos si tiene texto\n",
    "print(root[1][0].text)"
   ]
  },
  {
   "cell_type": "code",
   "execution_count": 38,
   "metadata": {},
   "outputs": [
    {
     "name": "stdout",
     "output_type": "stream",
     "text": [
      "<Element 'red' at 0x7f005438b4a0>\n",
      "<Element 'green' at 0x7f005438bc70>\n",
      "<Element 'blue' at 0x7f005438bd10>\n"
     ]
    }
   ],
   "source": [
    "# 5. Del segundo hijo, su segundo hijo, tiene hijos o tiene texto directamente?\n",
    "for subelement in root[1].find(\"rgb\"):\n",
    "    print(f\"{subelement}\")"
   ]
  },
  {
   "cell_type": "code",
   "execution_count": 32,
   "metadata": {},
   "outputs": [
    {
     "name": "stdout",
     "output_type": "stream",
     "text": [
      "\n",
      "            3CDBC0\n",
      "        \n"
     ]
    }
   ],
   "source": [
    "# 6. Imprime el texto que haya en el elemento \"hex\" del primer hijo del tipo \"color\"\n",
    "print(root.find(\"color\").find(\"hex\").text)"
   ]
  }
 ],
 "metadata": {
  "kernelspec": {
   "display_name": "Python 3.9.7 ('base')",
   "language": "python",
   "name": "python3"
  },
  "language_info": {
   "codemirror_mode": {
    "name": "ipython",
    "version": 3
   },
   "file_extension": ".py",
   "mimetype": "text/x-python",
   "name": "python",
   "nbconvert_exporter": "python",
   "pygments_lexer": "ipython3",
   "version": "3.9.7"
  },
  "orig_nbformat": 4,
  "vscode": {
   "interpreter": {
    "hash": "f25093244bacc7e62393c275f4a06a2027bcbdb9a67d7fe53680dbd2484adc03"
   }
  }
 },
 "nbformat": 4,
 "nbformat_minor": 2
}
