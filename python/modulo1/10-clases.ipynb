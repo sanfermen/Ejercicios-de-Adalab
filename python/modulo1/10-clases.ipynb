{
 "cells": [
  {
   "cell_type": "markdown",
   "metadata": {},
   "source": [
    "### Programación orientada a objetos (OOP)"
   ]
  },
  {
   "cell_type": "code",
   "execution_count": 1,
   "metadata": {},
   "outputs": [],
   "source": [
    "# 1. Creamos nuestra clase, que llamaremos Mascota.\n",
    "# Iniciamos nuestra primera clase usando la palabra clave \"class\"\n",
    "\n",
    "class Mascota:\n",
    "    pass"
   ]
  },
  {
   "cell_type": "code",
   "execution_count": 2,
   "metadata": {},
   "outputs": [
    {
     "data": {
      "text/plain": [
       "<__main__.Mascota at 0x7fcc8268d790>"
      ]
     },
     "execution_count": 2,
     "metadata": {},
     "output_type": "execute_result"
    }
   ],
   "source": [
    "# Llamamos a la clase y la almacenamos en una variable\n",
    "felix = Mascota()\n",
    "felix"
   ]
  },
  {
   "cell_type": "code",
   "execution_count": 3,
   "metadata": {},
   "outputs": [],
   "source": [
    "# 2. Debemos pensar en que propiedades (lo que serán los atributos que definan a una mascota en concreto) estamos interesados. Todos las propiedades o atributos en los que estamos interesados deben estar definidos en un método llamado `constructor`\n",
    "class Mascota:\n",
    "    # podemos entender el constructor como los parámetros de las funciones. Es decir, ¿qué parámetros van a ser los que determinen las carácteristicas de nuestra mascota?\n",
    "    def __init__(self, animal, edad, raza):\n",
    "\n",
    "        # lo primero que queremos definir es que tipo de animal es.\n",
    "        self.animal = animal\n",
    "\n",
    "        # qué edad tiene\n",
    "        self.edad = edad\n",
    "        \n",
    "        # y cuál es su raza\n",
    "        self.raza = raza\n",
    "\n",
    "        # al igual que en las funciones, podríamos utilizar parámetros por defecto, en el caso de las clases también lo podemos hacer, como lo hacemos en la siguiente línea de código.\n",
    "        self.hogar = \"domicilio\""
   ]
  },
  {
   "cell_type": "code",
   "execution_count": 4,
   "metadata": {},
   "outputs": [],
   "source": [
    "# 3. Instanciar un objeto, es decir, crear un nuevo objeto de la clase Mascota\n",
    "# volvemos a llamar a nuestra clase. Para eso, al igual que en las funciones, lo que tenemos que hacer es llamar a nuestra clase y entre paréntesis indicar los parámetros, es decir, las variables que pusimos en el constructor.\n",
    "# en este caso, nuestra mascota será un gato.\n",
    "\n",
    "felix = Mascota(\"gato\", 1, \"gato común\")"
   ]
  },
  {
   "cell_type": "code",
   "execution_count": 5,
   "metadata": {},
   "outputs": [
    {
     "data": {
      "text/plain": [
       "<__main__.Mascota at 0x7fcc8268d730>"
      ]
     },
     "execution_count": 5,
     "metadata": {},
     "output_type": "execute_result"
    }
   ],
   "source": [
    "felix"
   ]
  },
  {
   "cell_type": "code",
   "execution_count": 6,
   "metadata": {},
   "outputs": [
    {
     "data": {
      "text/plain": [
       "'gato'"
      ]
     },
     "execution_count": 6,
     "metadata": {},
     "output_type": "execute_result"
    }
   ],
   "source": [
    "# que tipo de animal es nuestra mascota?\n",
    "felix.animal"
   ]
  },
  {
   "cell_type": "code",
   "execution_count": 7,
   "metadata": {},
   "outputs": [
    {
     "data": {
      "text/plain": [
       "'domicilio'"
      ]
     },
     "execution_count": 7,
     "metadata": {},
     "output_type": "execute_result"
    }
   ],
   "source": [
    "# cual es el hogar de nuestra mascota?\n",
    "felix.hogar"
   ]
  },
  {
   "cell_type": "code",
   "execution_count": 8,
   "metadata": {},
   "outputs": [
    {
     "data": {
      "text/plain": [
       "'gato común'"
      ]
     },
     "execution_count": 8,
     "metadata": {},
     "output_type": "execute_result"
    }
   ],
   "source": [
    "# que raza es?\n",
    "felix.raza"
   ]
  },
  {
   "cell_type": "code",
   "execution_count": 9,
   "metadata": {},
   "outputs": [
    {
     "data": {
      "text/plain": [
       "1"
      ]
     },
     "execution_count": 9,
     "metadata": {},
     "output_type": "execute_result"
    }
   ],
   "source": [
    "# que edad tiene?\n",
    "felix.edad"
   ]
  },
  {
   "cell_type": "code",
   "execution_count": 10,
   "metadata": {},
   "outputs": [],
   "source": [
    "# a nuestro gato le pusimos que tenía un año de edad, pero nos hemos equivocado, y en realidad tiene 2\n",
    "felix.edad = 2"
   ]
  },
  {
   "cell_type": "code",
   "execution_count": 11,
   "metadata": {},
   "outputs": [
    {
     "data": {
      "text/plain": [
       "2"
      ]
     },
     "execution_count": 11,
     "metadata": {},
     "output_type": "execute_result"
    }
   ],
   "source": [
    "felix.edad"
   ]
  },
  {
   "cell_type": "code",
   "execution_count": 12,
   "metadata": {},
   "outputs": [],
   "source": [
    "# definimos nuestro método\n",
    "class Mascota:\n",
    "    # podemos entender el constructor como los parámetros de las funciones. Es decir, ¿qué parámetros van a ser los que determinen las carácteristicas de nuestra mascota?\n",
    "    def __init__(self, animal, edad, raza):\n",
    "\n",
    "        # lo primero que queremos definir es que tipo de animal es.\n",
    "        self.animal = animal\n",
    "\n",
    "        # qué edad tiene\n",
    "        self.edad = edad\n",
    "        \n",
    "        # y cuál es su raza\n",
    "        self.raza = raza\n",
    "\n",
    "        # al igual que en las funciones, podríamos utilizar parámetros por defecto, en el caso de las clases también lo podemos hacer, como lo hacemos en la siguiente línea de código.\n",
    "        self.hogar = \"domicilio\"\n",
    "    \n",
    "    # definimos nuestro primer metodo\n",
    "    def cumple(self):\n",
    "        self.edad += 1\n",
    "        return f\"la edad de nuestra mascota es de {self.edad}\"\n",
    "\n",
    "    # definimos el segundo método. En este caso intentaremos clasificar a las mascotas en función de su edad.\n",
    "    def rango_edad(self):\n",
    "        if self.edad <2:\n",
    "            return 'junior'\n",
    "        elif self.edad > 10:\n",
    "            return 'senior'\n",
    "        else:\n",
    "            return 'adulto'\n",
    "\n",
    "    # el último método que definiremos será el de la vacunación\n",
    "    def vacunas (self, numero_vacunas):\n",
    "        self.numero_vacunas = numero_vacunas\n",
    "\n",
    "        if self.animal == \"gato\":\n",
    "            if numero_vacunas < 3:\n",
    "                return \"deberías ponerle todas las vacunas\"\n",
    "            else:\n",
    "                return \"Tu gatito está seguro\"\n",
    "        \n",
    "        elif self.animal == \"perro\":\n",
    "            if numero_vacunas <5:\n",
    "                return \"deberías ponerle todas las vacunas\"\n",
    "            else:\n",
    "                return \"Tu perrete está seguro\"\n",
    "        \n",
    "        elif self.animal == \"pez\":\n",
    "            return \"Tu mascota no necesita vacunas\"\n",
    "\n",
    "        else:\n",
    "            return \"Todavía no sabemos cuantas vacunas necesita tu mascota\""
   ]
  },
  {
   "cell_type": "code",
   "execution_count": 13,
   "metadata": {},
   "outputs": [],
   "source": [
    "# como hicimos cambios en la clase, la tenemos que volver a llamar\n",
    "felix = Mascota(\"gato\", 1, \"gato común\")"
   ]
  },
  {
   "cell_type": "code",
   "execution_count": 14,
   "metadata": {},
   "outputs": [
    {
     "data": {
      "text/plain": [
       "'la edad de nuestra mascota es de 2'"
      ]
     },
     "execution_count": 14,
     "metadata": {},
     "output_type": "execute_result"
    }
   ],
   "source": [
    "# ha llegado el momento del cumpleaños de nuestra mascota, asi que tenemos que sumarle un año. Para eso usamos el método que usamos para sumarle un año. ¿Cómo lo hacemos? llamamos a nuestra clase (en nuestro caso felix) seguido del nombre del método con paréntesis. \n",
    "felix.cumple()"
   ]
  },
  {
   "cell_type": "code",
   "execution_count": 15,
   "metadata": {},
   "outputs": [
    {
     "data": {
      "text/plain": [
       "2"
      ]
     },
     "execution_count": 15,
     "metadata": {},
     "output_type": "execute_result"
    }
   ],
   "source": [
    "# Si chequeamos ahora la edad de nuestra mascota, debería salir 2\n",
    "felix.edad"
   ]
  },
  {
   "cell_type": "code",
   "execution_count": 16,
   "metadata": {},
   "outputs": [
    {
     "data": {
      "text/plain": [
       "'deberías ponerle todas las vacunas'"
      ]
     },
     "execution_count": 16,
     "metadata": {},
     "output_type": "execute_result"
    }
   ],
   "source": [
    "# en nuestro caso el gato tiene 2 vacunas\n",
    "felix.vacunas(2)"
   ]
  },
  {
   "cell_type": "code",
   "execution_count": 17,
   "metadata": {},
   "outputs": [
    {
     "data": {
      "text/plain": [
       "2"
      ]
     },
     "execution_count": 17,
     "metadata": {},
     "output_type": "execute_result"
    }
   ],
   "source": [
    "felix.numero_vacunas"
   ]
  },
  {
   "cell_type": "code",
   "execution_count": 19,
   "metadata": {},
   "outputs": [
    {
     "data": {
      "text/plain": [
       "'adulto'"
      ]
     },
     "execution_count": 19,
     "metadata": {},
     "output_type": "execute_result"
    }
   ],
   "source": [
    "felix.rango_edad()"
   ]
  },
  {
   "cell_type": "code",
   "execution_count": 20,
   "metadata": {},
   "outputs": [
    {
     "data": {
      "text/plain": [
       "{'animal': 'gato',\n",
       " 'edad': 2,\n",
       " 'raza': 'gato común',\n",
       " 'hogar': 'domicilio',\n",
       " 'numero_vacunas': 2}"
      ]
     },
     "execution_count": 20,
     "metadata": {},
     "output_type": "execute_result"
    }
   ],
   "source": [
    "felix.__dict__"
   ]
  },
  {
   "cell_type": "code",
   "execution_count": 21,
   "metadata": {},
   "outputs": [],
   "source": [
    "pez = Mascota(\"pez\", 6, \"pez payaso\")"
   ]
  },
  {
   "cell_type": "code",
   "execution_count": 22,
   "metadata": {},
   "outputs": [
    {
     "data": {
      "text/plain": [
       "'adulto'"
      ]
     },
     "execution_count": 22,
     "metadata": {},
     "output_type": "execute_result"
    }
   ],
   "source": [
    "pez.rango_edad()"
   ]
  },
  {
   "cell_type": "code",
   "execution_count": 23,
   "metadata": {},
   "outputs": [
    {
     "data": {
      "text/plain": [
       "'Tu mascota no necesita vacunas'"
      ]
     },
     "execution_count": 23,
     "metadata": {},
     "output_type": "execute_result"
    }
   ],
   "source": [
    "pez.vacunas(0)"
   ]
  },
  {
   "cell_type": "code",
   "execution_count": 24,
   "metadata": {},
   "outputs": [
    {
     "data": {
      "text/plain": [
       "6"
      ]
     },
     "execution_count": 24,
     "metadata": {},
     "output_type": "execute_result"
    }
   ],
   "source": [
    "pez.edad"
   ]
  },
  {
   "cell_type": "code",
   "execution_count": 25,
   "metadata": {},
   "outputs": [
    {
     "data": {
      "text/plain": [
       "'pez payaso'"
      ]
     },
     "execution_count": 25,
     "metadata": {},
     "output_type": "execute_result"
    }
   ],
   "source": [
    "pez.raza"
   ]
  },
  {
   "cell_type": "code",
   "execution_count": 26,
   "metadata": {},
   "outputs": [],
   "source": [
    "# creamos una nueva clase que hereda de mascota\n",
    "class Perros (Mascota):\n",
    "    pass"
   ]
  },
  {
   "cell_type": "code",
   "execution_count": 27,
   "metadata": {},
   "outputs": [
    {
     "ename": "TypeError",
     "evalue": "__init__() missing 3 required positional arguments: 'animal', 'edad', and 'raza'",
     "output_type": "error",
     "traceback": [
      "\u001b[0;31m---------------------------------------------------------------------------\u001b[0m",
      "\u001b[0;31mTypeError\u001b[0m                                 Traceback (most recent call last)",
      "\u001b[0;32m/tmp/ipykernel_1219/580303227.py\u001b[0m in \u001b[0;36m<module>\u001b[0;34m\u001b[0m\n\u001b[0;32m----> 1\u001b[0;31m \u001b[0mperro\u001b[0m \u001b[0;34m=\u001b[0m \u001b[0mPerros\u001b[0m\u001b[0;34m(\u001b[0m\u001b[0;34m)\u001b[0m\u001b[0;34m\u001b[0m\u001b[0;34m\u001b[0m\u001b[0m\n\u001b[0m",
      "\u001b[0;31mTypeError\u001b[0m: __init__() missing 3 required positional arguments: 'animal', 'edad', and 'raza'"
     ]
    }
   ],
   "source": [
    "perro = Perros()"
   ]
  },
  {
   "cell_type": "code",
   "execution_count": 28,
   "metadata": {},
   "outputs": [],
   "source": [
    "perro = Perros(\"perro\", 15, \"coli\")"
   ]
  },
  {
   "cell_type": "code",
   "execution_count": 29,
   "metadata": {},
   "outputs": [
    {
     "data": {
      "text/plain": [
       "'coli'"
      ]
     },
     "execution_count": 29,
     "metadata": {},
     "output_type": "execute_result"
    }
   ],
   "source": [
    "perro.raza"
   ]
  },
  {
   "cell_type": "code",
   "execution_count": 30,
   "metadata": {},
   "outputs": [
    {
     "data": {
      "text/plain": [
       "15"
      ]
     },
     "execution_count": 30,
     "metadata": {},
     "output_type": "execute_result"
    }
   ],
   "source": [
    "perro.edad "
   ]
  },
  {
   "cell_type": "code",
   "execution_count": 31,
   "metadata": {},
   "outputs": [
    {
     "data": {
      "text/plain": [
       "'perro'"
      ]
     },
     "execution_count": 31,
     "metadata": {},
     "output_type": "execute_result"
    }
   ],
   "source": [
    "perro.animal"
   ]
  },
  {
   "cell_type": "code",
   "execution_count": 33,
   "metadata": {},
   "outputs": [
    {
     "data": {
      "text/plain": [
       "'senior'"
      ]
     },
     "execution_count": 33,
     "metadata": {},
     "output_type": "execute_result"
    }
   ],
   "source": [
    "perro.rango_edad()"
   ]
  },
  {
   "cell_type": "code",
   "execution_count": 34,
   "metadata": {},
   "outputs": [
    {
     "data": {
      "text/plain": [
       "'Tu perrete está seguro'"
      ]
     },
     "execution_count": 34,
     "metadata": {},
     "output_type": "execute_result"
    }
   ],
   "source": [
    "perro.vacunas(7)"
   ]
  },
  {
   "cell_type": "code",
   "execution_count": 35,
   "metadata": {},
   "outputs": [
    {
     "data": {
      "text/plain": [
       "True"
      ]
     },
     "execution_count": 35,
     "metadata": {},
     "output_type": "execute_result"
    }
   ],
   "source": [
    "isinstance(perro, Mascota)"
   ]
  },
  {
   "cell_type": "code",
   "execution_count": 36,
   "metadata": {},
   "outputs": [],
   "source": [
    "class Perros(Mascota):\n",
    "    #creamos el constructor con el super()\n",
    "    def __init__(self, animal, edad, raza):\n",
    "        super().__init__(animal, edad, raza)\n",
    "    # creamos el nuevo método al que llamaremos pasear\n",
    "    def pasear(self, optimo_paseos = 5):\n",
    "        num_paseos = int(input(\"Cuantos paseos le das a tu perro?\"))\n",
    "        print(f\"Sacas {num_paseos} veces a tu perrete\")\n",
    "\n",
    "        if num_paseos < optimo_paseos:\n",
    "            return \"Saca al perrete!!!\"\n",
    "        else:\n",
    "            return \"Que bien! Tu perrete sale mucho a la calle a correr\""
   ]
  },
  {
   "cell_type": "code",
   "execution_count": 37,
   "metadata": {},
   "outputs": [],
   "source": [
    "# como hemos cambiado la clase hija, volvemos a crear la instancia\n",
    "perro = Perros(\"perro\", 15, \"coli\")"
   ]
  },
  {
   "cell_type": "code",
   "execution_count": 39,
   "metadata": {},
   "outputs": [
    {
     "name": "stdout",
     "output_type": "stream",
     "text": [
      "Sacas 7 veces a tu perrete\n"
     ]
    },
    {
     "data": {
      "text/plain": [
       "'Que bien! Tu perrete sale mucho a la calle a correr'"
      ]
     },
     "execution_count": 39,
     "metadata": {},
     "output_type": "execute_result"
    }
   ],
   "source": [
    "# Llamemos ahora al nuevo método que hemos creado\n",
    "perro.pasear()"
   ]
  },
  {
   "cell_type": "code",
   "execution_count": 40,
   "metadata": {},
   "outputs": [
    {
     "name": "stdout",
     "output_type": "stream",
     "text": [
      "Help on class Perros in module __main__:\n",
      "\n",
      "class Perros(Mascota)\n",
      " |  Perros(animal, edad, raza)\n",
      " |  \n",
      " |  Method resolution order:\n",
      " |      Perros\n",
      " |      Mascota\n",
      " |      builtins.object\n",
      " |  \n",
      " |  Methods defined here:\n",
      " |  \n",
      " |  __init__(self, animal, edad, raza)\n",
      " |      Initialize self.  See help(type(self)) for accurate signature.\n",
      " |  \n",
      " |  pasear(self, optimo_paseos=5)\n",
      " |      # creamos el nuevo método al que llamaremos pasear\n",
      " |  \n",
      " |  ----------------------------------------------------------------------\n",
      " |  Methods inherited from Mascota:\n",
      " |  \n",
      " |  cumple(self)\n",
      " |      # definimos nuestro primer metodo\n",
      " |  \n",
      " |  rango_edad(self)\n",
      " |      # definimos el segundo método. En este caso intentaremos clasificar a las mascotas en función de su edad.\n",
      " |  \n",
      " |  vacunas(self, numero_vacunas)\n",
      " |      # el último método que definiremos será el de la vacunación\n",
      " |  \n",
      " |  ----------------------------------------------------------------------\n",
      " |  Data descriptors inherited from Mascota:\n",
      " |  \n",
      " |  __dict__\n",
      " |      dictionary for instance variables (if defined)\n",
      " |  \n",
      " |  __weakref__\n",
      " |      list of weak references to the object (if defined)\n",
      "\n",
      "None\n"
     ]
    }
   ],
   "source": [
    "# ver la info de la clase\n",
    "print(help(Perros))"
   ]
  },
  {
   "cell_type": "code",
   "execution_count": 41,
   "metadata": {},
   "outputs": [
    {
     "name": "stdout",
     "output_type": "stream",
     "text": [
      "Help on class Mascota in module __main__:\n",
      "\n",
      "class Mascota(builtins.object)\n",
      " |  Mascota(animal, edad, raza)\n",
      " |  \n",
      " |  Methods defined here:\n",
      " |  \n",
      " |  __init__(self, animal, edad, raza)\n",
      " |      Initialize self.  See help(type(self)) for accurate signature.\n",
      " |  \n",
      " |  cumple(self)\n",
      " |      # definimos nuestro primer metodo\n",
      " |  \n",
      " |  rango_edad(self)\n",
      " |      # definimos el segundo método. En este caso intentaremos clasificar a las mascotas en función de su edad.\n",
      " |  \n",
      " |  vacunas(self, numero_vacunas)\n",
      " |      # el último método que definiremos será el de la vacunación\n",
      " |  \n",
      " |  ----------------------------------------------------------------------\n",
      " |  Data descriptors defined here:\n",
      " |  \n",
      " |  __dict__\n",
      " |      dictionary for instance variables (if defined)\n",
      " |  \n",
      " |  __weakref__\n",
      " |      list of weak references to the object (if defined)\n",
      "\n",
      "None\n"
     ]
    }
   ],
   "source": [
    "print(help(Mascota))"
   ]
  }
 ],
 "metadata": {
  "kernelspec": {
   "display_name": "Python 3.9.7 ('base')",
   "language": "python",
   "name": "python3"
  },
  "language_info": {
   "codemirror_mode": {
    "name": "ipython",
    "version": 3
   },
   "file_extension": ".py",
   "mimetype": "text/x-python",
   "name": "python",
   "nbconvert_exporter": "python",
   "pygments_lexer": "ipython3",
   "version": "3.9.7"
  },
  "orig_nbformat": 4,
  "vscode": {
   "interpreter": {
    "hash": "f25093244bacc7e62393c275f4a06a2027bcbdb9a67d7fe53680dbd2484adc03"
   }
  }
 },
 "nbformat": 4,
 "nbformat_minor": 2
}
