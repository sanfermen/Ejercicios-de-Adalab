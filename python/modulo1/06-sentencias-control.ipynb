{
 "cells": [
  {
   "cell_type": "code",
   "execution_count": 1,
   "metadata": {},
   "outputs": [
    {
     "data": {
      "text/plain": [
       "True"
      ]
     },
     "execution_count": 1,
     "metadata": {},
     "output_type": "execute_result"
    }
   ],
   "source": [
    "# False\n",
    "False == False"
   ]
  },
  {
   "cell_type": "code",
   "execution_count": 3,
   "metadata": {},
   "outputs": [
    {
     "data": {
      "text/plain": [
       "True"
      ]
     },
     "execution_count": 3,
     "metadata": {},
     "output_type": "execute_result"
    }
   ],
   "source": [
    "# ceros\n",
    "0 == False"
   ]
  },
  {
   "cell_type": "code",
   "execution_count": 4,
   "metadata": {},
   "outputs": [],
   "source": [
    "# lo primero que hacemos es definir unas variables\n",
    "a1 = 0\n",
    "a2 = 1\n",
    "a3 = 2"
   ]
  },
  {
   "cell_type": "code",
   "execution_count": 5,
   "metadata": {},
   "outputs": [
    {
     "data": {
      "text/plain": [
       "True"
      ]
     },
     "execution_count": 5,
     "metadata": {},
     "output_type": "execute_result"
    }
   ],
   "source": [
    "# es a1 menor que a2?\n",
    "a1 < a2"
   ]
  },
  {
   "cell_type": "code",
   "execution_count": 6,
   "metadata": {},
   "outputs": [
    {
     "data": {
      "text/plain": [
       "True"
      ]
     },
     "execution_count": 6,
     "metadata": {},
     "output_type": "execute_result"
    }
   ],
   "source": [
    "# es a3 mayor o igual que a1?\n",
    "a3 >= a1"
   ]
  },
  {
   "cell_type": "code",
   "execution_count": 7,
   "metadata": {},
   "outputs": [
    {
     "data": {
      "text/plain": [
       "True"
      ]
     },
     "execution_count": 7,
     "metadata": {},
     "output_type": "execute_result"
    }
   ],
   "source": [
    "# es a2 mayor que a1 y menor que a3?\n",
    "a1 < a2 < a3"
   ]
  },
  {
   "cell_type": "code",
   "execution_count": 8,
   "metadata": {},
   "outputs": [
    {
     "data": {
      "text/plain": [
       "False"
      ]
     },
     "execution_count": 8,
     "metadata": {},
     "output_type": "execute_result"
    }
   ],
   "source": [
    "# es a3 mayor que a1 y menor que a2?\n",
    "a1 < a3 < a2"
   ]
  },
  {
   "cell_type": "code",
   "execution_count": 11,
   "metadata": {},
   "outputs": [],
   "source": [
    "# definimos una variable usando la función input donde os preguntaremos cuántas peras tenemos. Sobre esta variable estableceremos unas condiciones en nuestro if.\n",
    "## NOTA: si ejecutais esta celda, poned un número mayor de 4.as_integer_ratio\n",
    "\n",
    "numero_peras = int(input(\"Cuántas peras tienes en la nevera=\"))"
   ]
  },
  {
   "cell_type": "code",
   "execution_count": 12,
   "metadata": {},
   "outputs": [
    {
     "data": {
      "text/plain": [
       "6"
      ]
     },
     "execution_count": 12,
     "metadata": {},
     "output_type": "execute_result"
    }
   ],
   "source": [
    "# veamos cuantas peras tenemos\n",
    "numero_peras"
   ]
  },
  {
   "cell_type": "code",
   "execution_count": 13,
   "metadata": {},
   "outputs": [
    {
     "name": "stdout",
     "output_type": "stream",
     "text": [
      "Tenemos muchas peras, no te apetece comerte una?\n"
     ]
    }
   ],
   "source": [
    "# vamos a chequear si tenemos más de 4 peras en la nevera\n",
    "if numero_peras > 4:\n",
    "    # en caso de que se cumpla la condición queremos sacar un mensaje, para lo que usaremos un print\n",
    "    print(\"Tenemos muchas peras, no te apetece comerte una?\")"
   ]
  },
  {
   "cell_type": "code",
   "execution_count": 14,
   "metadata": {},
   "outputs": [],
   "source": [
    "# vamos a chequear si tenemos más de 10 peras en la nevera. Es decir, en este caso la condición es Falsa\n",
    "if numero_peras > 10:\n",
    "    print(\"Tenemos muchas peras, no te apetece comerte una?\")"
   ]
  },
  {
   "cell_type": "code",
   "execution_count": 15,
   "metadata": {},
   "outputs": [
    {
     "data": {
      "text/plain": [
       "6"
      ]
     },
     "execution_count": 15,
     "metadata": {},
     "output_type": "execute_result"
    }
   ],
   "source": [
    "# recordemos que es peras en la nevera\n",
    "numero_peras"
   ]
  },
  {
   "cell_type": "code",
   "execution_count": 16,
   "metadata": {},
   "outputs": [
    {
     "name": "stdout",
     "output_type": "stream",
     "text": [
      "Tenemos muchas peras, no te apetece comerte una?\n",
      "Repito: Tenemos muchas peras, no te apetece comerte una?\n"
     ]
    }
   ],
   "source": [
    "# Si el número de peras en la nevera es mayor que 4 queremos que:\n",
    "if numero_peras > 4:\n",
    "    # nos printees primero que hay muchas peras\n",
    "    print(\"Tenemos muchas peras, no te apetece comerte una?\")\n",
    "    # nos printees después un mensaje repitiendo que tenemos muchas peras\n",
    "    print(\"Repito: Tenemos muchas peras, no te apetece comerte una?\")"
   ]
  },
  {
   "cell_type": "code",
   "execution_count": 17,
   "metadata": {},
   "outputs": [],
   "source": [
    "# lo primero que hacemos es crearnos una lista, que será nuestra lista de la compra\n",
    "lista_compra = []"
   ]
  },
  {
   "cell_type": "code",
   "execution_count": 18,
   "metadata": {},
   "outputs": [
    {
     "data": {
      "text/plain": [
       "6"
      ]
     },
     "execution_count": 18,
     "metadata": {},
     "output_type": "execute_result"
    }
   ],
   "source": [
    "# recordemos el número de peras\n",
    "numero_peras"
   ]
  },
  {
   "cell_type": "code",
   "execution_count": 19,
   "metadata": {},
   "outputs": [
    {
     "data": {
      "text/plain": [
       "1"
      ]
     },
     "execution_count": 19,
     "metadata": {},
     "output_type": "execute_result"
    }
   ],
   "source": [
    "# imaginemos que nos hemos comido 5 peras. Tendremos que restar 5 a nuestra variable numero_peras\n",
    "numero_peras = numero_peras - 5\n",
    "numero_peras"
   ]
  },
  {
   "cell_type": "code",
   "execution_count": 20,
   "metadata": {},
   "outputs": [],
   "source": [
    "# por último definimos nuestro if. Lo que chequearemos es si tenemos menos de dos peras\n",
    "if numero_peras < 2:\n",
    "    # si esta condición se cumple queremos añadir peras a nuestra lista. Para eso podremos usar el método append que aprendimos en la lección de listas!\n",
    "    lista_compra.append(\"peras\")"
   ]
  },
  {
   "cell_type": "code",
   "execution_count": 21,
   "metadata": {},
   "outputs": [
    {
     "data": {
      "text/plain": [
       "['peras']"
      ]
     },
     "execution_count": 21,
     "metadata": {},
     "output_type": "execute_result"
    }
   ],
   "source": [
    "# chequeemos que tenemos ahora en la lista de la compra:\n",
    "lista_compra"
   ]
  },
  {
   "cell_type": "code",
   "execution_count": 22,
   "metadata": {},
   "outputs": [
    {
     "data": {
      "text/plain": [
       "1"
      ]
     },
     "execution_count": 22,
     "metadata": {},
     "output_type": "execute_result"
    }
   ],
   "source": [
    "# primero vemos cuántas peras tenemos\n",
    "numero_peras"
   ]
  },
  {
   "cell_type": "code",
   "execution_count": 23,
   "metadata": {},
   "outputs": [],
   "source": [
    "# imaginemos que fuimos a la compra y hemos vuelto a casa y queremos actualizar nuestro número de peras. Primero definimos el número de peras que hemos comprado\n",
    "peras_compradas = 10"
   ]
  },
  {
   "cell_type": "code",
   "execution_count": 24,
   "metadata": {},
   "outputs": [],
   "source": [
    "# ahora tendremos que chequear si en nuestra lista de la compra teníamos peras. Para eso podremos usar el método \"in\" que aprendimos en lecciones anteriores.\n",
    "# chequeamos si peras está en nuestra lista\n",
    "if \"peras\" in lista_compra:\n",
    "    # si está en nuestra lista, lo que haremos será sumar al número de peras que tenemos las peras compradas.\n",
    "    numero_peras += peras_compradas"
   ]
  },
  {
   "cell_type": "code",
   "execution_count": 25,
   "metadata": {},
   "outputs": [
    {
     "data": {
      "text/plain": [
       "11"
      ]
     },
     "execution_count": 25,
     "metadata": {},
     "output_type": "execute_result"
    }
   ],
   "source": [
    "# si vemos ahora el numero de peras que tenemos:\n",
    "numero_peras"
   ]
  },
  {
   "cell_type": "markdown",
   "metadata": {},
   "source": [
    "## EJERCICIOS: COMPARACIONES Y IF"
   ]
  },
  {
   "cell_type": "markdown",
   "metadata": {},
   "source": [
    "Guarda los siguientes valores en las siguientes variables"
   ]
  },
  {
   "cell_type": "code",
   "execution_count": 26,
   "metadata": {},
   "outputs": [],
   "source": [
    "# 1. Que var1 sea un número con el valor 8.\n",
    "var1 = 8\n",
    "# 2. Que var2 sea un número con el valor 2.\n",
    "var2 = 2\n",
    "# 3. Que var3 sea un número con el valor 8.\n",
    "var3 = 8"
   ]
  },
  {
   "cell_type": "markdown",
   "metadata": {},
   "source": [
    "Evalua los siguientes casos, usando print()"
   ]
  },
  {
   "cell_type": "code",
   "execution_count": 30,
   "metadata": {},
   "outputs": [
    {
     "name": "stdout",
     "output_type": "stream",
     "text": [
      "True\n",
      "True\n",
      "False\n",
      "True\n",
      "False\n",
      "False\n"
     ]
    }
   ],
   "source": [
    "# 4. Es var1 mayor que var2?\n",
    "print(var1>var2)\n",
    "# 5. Es var 1 menor o igual que var3?\n",
    "print(var1<=var3)\n",
    "# 6. Es var1 menor o igual a var2?\n",
    "print(var1<=var2)\n",
    "# 7. Es var2 distinto que var3?\n",
    "print(var2 is not var3)\n",
    "# 8. Es var2 igual a var3?\n",
    "print(var2 is var3)\n",
    "# 9. Es var1 mayor que var3?\n",
    "print(var1>var3)"
   ]
  },
  {
   "cell_type": "markdown",
   "metadata": {},
   "source": [
    "Añade una consecuencia a la condición True"
   ]
  },
  {
   "cell_type": "code",
   "execution_count": 32,
   "metadata": {},
   "outputs": [
    {
     "name": "stdout",
     "output_type": "stream",
     "text": [
      "Es enorme!\n"
     ]
    }
   ],
   "source": [
    "# 10. Comprueba si var1 es mayor que 6, y si es así imprime: Es enorme!!\n",
    "if var1 > 6:\n",
    "    print(\"Es enorme!\")"
   ]
  },
  {
   "cell_type": "code",
   "execution_count": 33,
   "metadata": {},
   "outputs": [],
   "source": [
    "# 11. Comprueba si var2 es mayor que 6, y si es así imprime: Es enorme también!\n",
    "if var2 > 6:\n",
    "    print(\"Es enorme también!\")"
   ]
  },
  {
   "cell_type": "code",
   "execution_count": 34,
   "metadata": {},
   "outputs": [
    {
     "name": "stdout",
     "output_type": "stream",
     "text": [
      "¡Es enorme!\n",
      "¡Pero de verdad!\n"
     ]
    }
   ],
   "source": [
    "# 12. Comprueba si var3 es mayor que 6, y si es así imprime: ¡Es enorme!, seguido por ¡Pero de verdad! en otra línea si se cumple la condición\n",
    "if var3 > 6:\n",
    "    print(\"¡Es enorme!\")\n",
    "    print(\"¡Pero de verdad!\")"
   ]
  },
  {
   "cell_type": "markdown",
   "metadata": {},
   "source": [
    "Bonus"
   ]
  },
  {
   "cell_type": "code",
   "execution_count": 35,
   "metadata": {},
   "outputs": [
    {
     "name": "stdout",
     "output_type": "stream",
     "text": [
      "Son iguales.\n"
     ]
    }
   ],
   "source": [
    "# 13. Comprueba si var1 es igual que var3, y es así imprime \"Son iguales\"\n",
    "if var1 == var3:\n",
    "    print(\"Son iguales.\")"
   ]
  },
  {
   "cell_type": "code",
   "execution_count": 36,
   "metadata": {},
   "outputs": [],
   "source": [
    "# 14. Comprueba si var1 es igual que var2, y si es así imprime \"Son iguales\"\n",
    "if var1 == var2:\n",
    "    print(\"Son iguales.\")"
   ]
  },
  {
   "cell_type": "code",
   "execution_count": 37,
   "metadata": {},
   "outputs": [
    {
     "name": "stdout",
     "output_type": "stream",
     "text": [
      "La diferencia es 6\n"
     ]
    }
   ],
   "source": [
    "# 15. Comprueba si var1 es mayor o igual que var2, y si es así calcula la diferencia entre var1 y var2, guardala en la variable dif, e imprime \"La diferencia es\", dif.\n",
    "if var1 >= var2:\n",
    "    print(\"La diferencia es\", var1-var2)"
   ]
  },
  {
   "cell_type": "markdown",
   "metadata": {},
   "source": [
    "## Condicionales: If ... else ..."
   ]
  },
  {
   "cell_type": "code",
   "execution_count": 38,
   "metadata": {},
   "outputs": [
    {
     "data": {
      "text/plain": [
       "11"
      ]
     },
     "execution_count": 38,
     "metadata": {},
     "output_type": "execute_result"
    }
   ],
   "source": [
    "# Lo primero que haremos será recordad cuántas peras tenemos en la nevera\n",
    "numero_peras"
   ]
  },
  {
   "cell_type": "code",
   "execution_count": 39,
   "metadata": {},
   "outputs": [
    {
     "name": "stdout",
     "output_type": "stream",
     "text": [
      "Tenemos muchas peras, deberíamos comernoslas...\n"
     ]
    }
   ],
   "source": [
    "# primero chequearemos si tenemos menos de 2 peras. Recordamos era nuestra condición para meter las peras en nuestra lista de la compra\n",
    "if numero_peras < 2:\n",
    "    print(\"Tenemos pocas peras, hay que meterlas en la lista de la compra\")\n",
    "    lista_compra.append(\"peras\")\n",
    "# si esta condición no se cumple, usaremos el else para especificar que queremos que pase. En este caso, que nos muestre un mensaje de que tenemos muchas peras. Debemos comernóslas!\n",
    "else:\n",
    "    print(\"Tenemos muchas peras, deberíamos comernoslas...\")"
   ]
  },
  {
   "cell_type": "code",
   "execution_count": 40,
   "metadata": {},
   "outputs": [],
   "source": [
    "# creemos otra variable de número de peras distinta\n",
    "numero_peras2 = 1"
   ]
  },
  {
   "cell_type": "code",
   "execution_count": 41,
   "metadata": {},
   "outputs": [
    {
     "name": "stdout",
     "output_type": "stream",
     "text": [
      "Tenemos pocas peras, hay que meterlas en la lista de la compra\n"
     ]
    }
   ],
   "source": [
    "# primero chequearemos si tenemos menos de 2 peras. Recordamos era nuestra condición para meter las peras en nuestra lista de la compra\n",
    "if numero_peras2 < 2:\n",
    "    print(\"Tenemos pocas peras, hay que meterlas en la lista de la compra\")\n",
    "    lista_compra.append(\"peras\")\n",
    "# si esta condición no se cumple, usaremos el else para especificar que queremos que pase.\n",
    "# En este caso, que nos muestre un mensaje de que tenemos muchas peras. Debemos comernoslas!\n",
    "else:\n",
    "    print(\"Tenemos muchas peras, deberíamos comernoslas...\")"
   ]
  },
  {
   "cell_type": "code",
   "execution_count": 42,
   "metadata": {},
   "outputs": [
    {
     "data": {
      "text/plain": [
       "['peras', 'peras']"
      ]
     },
     "execution_count": 42,
     "metadata": {},
     "output_type": "execute_result"
    }
   ],
   "source": [
    "lista_compra"
   ]
  },
  {
   "cell_type": "markdown",
   "metadata": {},
   "source": [
    "## Ejercicios: if - else"
   ]
  },
  {
   "cell_type": "markdown",
   "metadata": {},
   "source": [
    "Guarda los siguientes valores en los siguientes variables:"
   ]
  },
  {
   "cell_type": "code",
   "execution_count": null,
   "metadata": {},
   "outputs": [],
   "source": [
    "# 16. Que var1 sea un número con el valor 8.\n",
    "var1 = 8\n",
    "# 17. Que var2 sea un número con el valor 2.\n",
    "var2 = 2\n",
    "# 18. Que var3 sea un número con el valor 8.\n",
    "var3 = 8"
   ]
  },
  {
   "cell_type": "markdown",
   "metadata": {},
   "source": [
    "Evalua los siguientes casos, usando if, else, y print()"
   ]
  },
  {
   "cell_type": "code",
   "execution_count": 44,
   "metadata": {},
   "outputs": [
    {
     "name": "stdout",
     "output_type": "stream",
     "text": [
      "¡Es enorme!\n"
     ]
    }
   ],
   "source": [
    "# 19. Comprueba si var1 es mayor que 6, y si es así imprime ¡Es enorme!. Si no es así, imprime Es chiquitín.\n",
    "if var1 > 6:\n",
    "    print(\"¡Es enorme!\")\n",
    "else:\n",
    "    print(\"Es chiquitín\")"
   ]
  },
  {
   "cell_type": "code",
   "execution_count": 45,
   "metadata": {},
   "outputs": [
    {
     "name": "stdout",
     "output_type": "stream",
     "text": [
      "Es chiquitín también\n"
     ]
    }
   ],
   "source": [
    "# 20. Comprueba si var2 es mayor que 6, y si es así imprime ¡Es enorme también!. Si no es así, imprime Es chiquitín también.\n",
    "if var2 > 6:\n",
    "    print(\"¡Es enorme también!\")\n",
    "else:\n",
    "    print(\"Es chiquitín también\")"
   ]
  },
  {
   "cell_type": "code",
   "execution_count": 47,
   "metadata": {},
   "outputs": [
    {
     "name": "stdout",
     "output_type": "stream",
     "text": [
      "Son iguales\n"
     ]
    }
   ],
   "source": [
    "# 21. Comprueba si var1 es igual a var3, y si es así imprime Son iguales. Si no es así imprime Son distintos. Sigalo en otra línea con Consideramos las variables var1 y var3.\n",
    "if var1 == var3:\n",
    "    print(\"Son iguales\")\n",
    "else:\n",
    "    print(\"Son distintos\")\n",
    "    print(\"Consideramos las variables var1 y var3\")"
   ]
  },
  {
   "cell_type": "code",
   "execution_count": 48,
   "metadata": {},
   "outputs": [
    {
     "name": "stdout",
     "output_type": "stream",
     "text": [
      "Son distintos\n",
      "Consideramos las variables var2 y var3\n"
     ]
    }
   ],
   "source": [
    "# 22. Comprueba si var2 es igual a var3, y si es así imprime Son iguales. Si no es así imprime Son distintos. Sigalo en otra línea con Consideramos las variables var2 y var3.\n",
    "if var2 == var3:\n",
    "    print(\"Son iguales\")\n",
    "else:\n",
    "    print(\"Son distintos\")\n",
    "    print(\"Consideramos las variables var2 y var3\")"
   ]
  },
  {
   "cell_type": "code",
   "execution_count": 49,
   "metadata": {},
   "outputs": [
    {
     "name": "stdout",
     "output_type": "stream",
     "text": [
      "var2 no es más grande que var3\n",
      "La diferencia es 6\n",
      "Esta línea siempre se imprime\n"
     ]
    }
   ],
   "source": [
    "# 23.Comprueba si var2 es menor o igual a var3, y si es así calcula la diferencia entre var3 y var2, guardala en la variable dif, e imprime var2 no es más grande que var3.. Sigalo en otra línea con La diferencia es seguido por el valor de la variable dif, pero sólo si se ha cumplido la condición. Si no se cumple, imprime var2 es más grande que var3.. En todo caso queremos que se imprima Este línea siempre se imprime..\n",
    "if var2 <= var3:\n",
    "    dif = var3-var2\n",
    "    print(\"var2 no es más grande que var3\")\n",
    "    print(\"La diferencia es\", dif)\n",
    "else:\n",
    "    print(\"var2 es más grande que var3\")\n",
    "print(\"Esta línea siempre se imprime\")"
   ]
  },
  {
   "cell_type": "code",
   "execution_count": 50,
   "metadata": {},
   "outputs": [
    {
     "data": {
      "text/plain": [
       "11"
      ]
     },
     "execution_count": 50,
     "metadata": {},
     "output_type": "execute_result"
    }
   ],
   "source": [
    "# recordemos cuántas peras teníamos\n",
    "numero_peras"
   ]
  },
  {
   "cell_type": "code",
   "execution_count": 51,
   "metadata": {},
   "outputs": [
    {
     "name": "stdout",
     "output_type": "stream",
     "text": [
      "Tenemos muchas peras, ¿no te apetece comerte una?\n"
     ]
    }
   ],
   "source": [
    "# indicamos nuestra primera condición. Es decir, tener más de 50 peras\n",
    "if numero_peras > 50:\n",
    "    print(\"Tenemos demasiadas peras, dónalas al banco de alimentos.\")\n",
    "# en el elif pondremos las nuevas condiciones que queremos chequear. En este caso si hay más de 4 peras.\n",
    "elif numero_peras > 4:\n",
    "    print(\"Tenemos muchas peras, ¿no te apetece comerte una?\")\n",
    "# podemos añadir todas las condiciones que queramos, es decir, podemos añadir todos los elif que queramos. En este caso, si es mayor que 0\n",
    "elif numero_peras > 0:\n",
    "    print(\"Añadiendo elemento a la lista de la compra\")\n",
    "    lista_compra.append(\"peras\")\n",
    "# por último añadimos el else especificamos lo que queremos que ocurra si no se cumplen ninguna de las condiciones anteriores.\n",
    "else:\n",
    "    print(\"No tenemos peras\")"
   ]
  },
  {
   "cell_type": "code",
   "execution_count": 52,
   "metadata": {},
   "outputs": [
    {
     "name": "stdout",
     "output_type": "stream",
     "text": [
      "Añadiendo elemento a la lista de la compra\n"
     ]
    }
   ],
   "source": [
    "# indicamos nuestra primera condición. Es decir, tener más de 50 peras\n",
    "if numero_peras > 50:\n",
    "    print(\"Tenemos demasiadas peras, dónalas al banco de alimentos.\")\n",
    "\n",
    "elif numero_peras > 0:\n",
    "    print(\"Añadiendo elemento a la lista de la compra\")\n",
    "    lista_compra.append(\"peras\")\n",
    "\n",
    "elif numero_peras > 4:\n",
    "    print(\"Tenemos muchas peras, ¿no te apetece comerte una?\")\n",
    "\n",
    "else:\n",
    "    print(\"No tenemos peras\")"
   ]
  },
  {
   "cell_type": "code",
   "execution_count": 53,
   "metadata": {},
   "outputs": [],
   "source": [
    "# definimos una nueva variable donde el número de peras sea 60\n",
    "numero_peras3 = 60"
   ]
  },
  {
   "cell_type": "code",
   "execution_count": 54,
   "metadata": {},
   "outputs": [
    {
     "name": "stdout",
     "output_type": "stream",
     "text": [
      "Añadiendo elemento a la lista de la compra\n"
     ]
    }
   ],
   "source": [
    "# si ejecutamos el código que creamos el inicio del apartado\n",
    "if numero_peras3 > 0:\n",
    "    print(\"Añadiendo elemento a la lista de la compra\")\n",
    "    lista_compra.append(\"peras\")\n",
    "elif numero_peras > 50:\n",
    "    print(\"Tenemos demasiadas peras, dónalas al banco de alimentos.\")\n",
    "elif numero_peras > 4:\n",
    "    print(\"Tenemos muchas peras, ¿no te apetece comerte una?\")\n",
    "else:\n",
    "    print(\"No tenemos peras\")"
   ]
  },
  {
   "cell_type": "markdown",
   "metadata": {},
   "source": [
    "# Condicionales: If anidados"
   ]
  },
  {
   "cell_type": "code",
   "execution_count": 55,
   "metadata": {},
   "outputs": [
    {
     "data": {
      "text/plain": [
       "11"
      ]
     },
     "execution_count": 55,
     "metadata": {},
     "output_type": "execute_result"
    }
   ],
   "source": [
    "# recordemos el número de peras que tenemos\n",
    "numero_peras"
   ]
  },
  {
   "cell_type": "code",
   "execution_count": 56,
   "metadata": {},
   "outputs": [
    {
     "name": "stdout",
     "output_type": "stream",
     "text": [
      "Tenemos muchas peras, no te apetece comerte una?\n"
     ]
    }
   ],
   "source": [
    "# 1. Primera condición. Es el número de peras mayor que 4?\n",
    "if numero_peras > 4:\n",
    "    # 1.1. en caso de que sea si, Es el número de peras mayor que 50?\n",
    "    if numero_peras > 50:\n",
    "        print(\"Tenemos demasiadas peras, dónalas al banco de alimentos.\")\n",
    "    # si se cumple la condición 1 pero no la 1.1. se ejecutará esta línea de código\n",
    "    else:\n",
    "        print(\"Tenemos muchas peras, no te apetece comerte una?\")\n",
    "# si no se cumple la condición 1, pasaremos a esta parte del código, es decir, nuestro número de peras es menor que 4\n",
    "else:\n",
    "    # si el número de peras es menor que 4, pero mayor que 0 se añadirá peras a la lista de la compra\n",
    "    if numero_peras > 0:\n",
    "        lista_compra.append(\"peras\")\n",
    "        print(\"añadiendo peras a la lista de la compra\")\n",
    "    # 2.2. en caso de que no se cumplan ninguna de las condiciones se ejecutará esta línea de código\n",
    "    else:\n",
    "        print(\"No tenemos peras.\")"
   ]
  },
  {
   "cell_type": "code",
   "execution_count": 57,
   "metadata": {},
   "outputs": [],
   "source": [
    "# creemonos otra variable con un número diferente de peras\n",
    "numero_peras4 = 60"
   ]
  },
  {
   "cell_type": "code",
   "execution_count": 59,
   "metadata": {},
   "outputs": [
    {
     "name": "stdout",
     "output_type": "stream",
     "text": [
      "Tenemos demasiadas peras, dónalas al banco de alimentos.\n"
     ]
    }
   ],
   "source": [
    "# 1. Primera condición. Es el número de peras mayor que 4?\n",
    "if numero_peras4 > 4:\n",
    "    # 1.1. en caso de que sea si, Es el número de peras mayor que 50?\n",
    "    if numero_peras4 > 50:\n",
    "        print(\"Tenemos demasiadas peras, dónalas al banco de alimentos.\")\n",
    "    # si se cumple la condición 1 pero no la 1.1. se ejecutará esta línea de código\n",
    "    else:\n",
    "        print(\"Tenemos muchas peras, no te apetece comerte una?\")\n",
    "# si no se cumple la condición 1, pasaremos a esta parte del código, es decir, nuestro número de peras es menor que 4\n",
    "else:\n",
    "    # si el número de peras es menor que 4, pero mayor que 0 se añadirá peras a la lista de la compra\n",
    "    if numero_peras4 > 0:\n",
    "        lista_compra.append(\"peras\")\n",
    "        print(\"añadiendo peras a la lista de la compra\")\n",
    "    # 2.2. en caso de que no se cumplan ninguna de las condiciones se ejecutará esta línea de código\n",
    "    else:\n",
    "        print(\"No tenemos peras.\")"
   ]
  },
  {
   "cell_type": "markdown",
   "metadata": {},
   "source": [
    "## Ejercicios: if - elif - else"
   ]
  },
  {
   "cell_type": "markdown",
   "metadata": {},
   "source": [
    "Guarda los siguientes valores en los siguientes variables:"
   ]
  },
  {
   "cell_type": "code",
   "execution_count": 67,
   "metadata": {},
   "outputs": [],
   "source": [
    "# 24. Que var1 sea un número con el valor 8.\n",
    "var1 = 8\n",
    "# 25. Que var2 sea un número con el valor 2.\n",
    "var2 = 2\n",
    "# 26. Que var3 sea un número con el valor 8.\n",
    "var3 = 8"
   ]
  },
  {
   "cell_type": "markdown",
   "metadata": {},
   "source": [
    "Evalua los siguientes casos, usando if, elif, else y print()"
   ]
  },
  {
   "cell_type": "code",
   "execution_count": 61,
   "metadata": {},
   "outputs": [
    {
     "name": "stdout",
     "output_type": "stream",
     "text": [
      "Qué grande!\n"
     ]
    }
   ],
   "source": [
    "# 27. Comprueba si var1 es menor que 3, si no es así, mira si es mayor que 15. En el primer caso, imprime Qué pequeño es., en el segundo caso imprime ¡Que grande!. En los demás casos imprime Así me gusta..\n",
    "if var1 < 3:\n",
    "    print(\"Qué pequeño es!\")\n",
    "elif var1 < 15:\n",
    "    print(\"Qué grande!\")\n",
    "else:\n",
    "    print(\"Así me gusta\")"
   ]
  },
  {
   "cell_type": "code",
   "execution_count": 74,
   "metadata": {},
   "outputs": [
    {
     "name": "stdout",
     "output_type": "stream",
     "text": [
      "Var 1 está entre 3 y 8\n"
     ]
    }
   ],
   "source": [
    "# 28. Comprueba si var1 es mayor que 3, si no es así, mira si es menor o igual a var3. En el caso de valores más pequeños (¿cuál es?) imprime Qué pequeño es., para los valores más grandes (¿cuál?) imprime ¡Tan grande!. (var3 sigue teniendo el valor definido en la 3.)\n",
    "if var1 > 3:\n",
    "    print(\"Tan grande\")\n",
    "elif var1 <= var3:\n",
    "    print(\"QUe pequeño es\")"
   ]
  },
  {
   "cell_type": "code",
   "execution_count": 75,
   "metadata": {},
   "outputs": [
    {
     "name": "stdout",
     "output_type": "stream",
     "text": [
      "Así me gusta\n"
     ]
    }
   ],
   "source": [
    "# 29. Cambia el código que hiciste en la 22. para que el rango entre 3 y var3 imprimiría la frase Así me gusta.. Las frases para los valores más pequeños y más grandes se aplican igual que en la 22. ¿Ha cambiado uno (o ambos) de los rangos de valores que corresponden a esas frases?\n",
    "if var1 > 3:\n",
    "    if var1 <= var3:\n",
    "        print(\"Así me gusta\")\n",
    "    else:\n",
    "        print(\"Tan grande\")\n",
    "else:\n",
    "    print(\"Que pequeño es!\")"
   ]
  },
  {
   "cell_type": "markdown",
   "metadata": {},
   "source": [
    "# Condicionales: Condiciones múltiples"
   ]
  },
  {
   "cell_type": "code",
   "execution_count": 69,
   "metadata": {},
   "outputs": [
    {
     "name": "stdout",
     "output_type": "stream",
     "text": [
      "Tenemos muchas peras, ¿no te apetece comerte una?\n"
     ]
    }
   ],
   "source": [
    "# recordemos el código que habíamos creado un poco más arriba incluyendo if... elif... else\n",
    "if numero_peras > 50:\n",
    "    print(\"Tenemos demasiadas peras, dónalas al banco de alimentos.\")\n",
    "\n",
    "elif numero_peras > 4:\n",
    "    print(\"Tenemos muchas peras, ¿no te apetece comerte una?\")\n",
    "\n",
    "elif numero_peras > 0:\n",
    "    print(\"Añadiendo elemento a la lista de la compra\")\n",
    "    lista_compra.append(\"peras\")\n",
    "\n",
    "else:\n",
    "    print(\"No tenemos peras\")"
   ]
  },
  {
   "cell_type": "code",
   "execution_count": 70,
   "metadata": {},
   "outputs": [
    {
     "data": {
      "text/plain": [
       "11"
      ]
     },
     "execution_count": 70,
     "metadata": {},
     "output_type": "execute_result"
    }
   ],
   "source": [
    "# recordemos la variable número de peras\n",
    "numero_peras"
   ]
  },
  {
   "cell_type": "code",
   "execution_count": 71,
   "metadata": {},
   "outputs": [
    {
     "name": "stdout",
     "output_type": "stream",
     "text": [
      "Tenemos demasiadas peras, dónalas al banco de alimentos.\n"
     ]
    }
   ],
   "source": [
    "if numero_peras > 4 and numero_peras < 50:\n",
    "    print(\"Tenemos demasiadas peras, dónalas al banco de alimentos.\")\n",
    "elif 4 < numero_peras and numero_peras > 0:\n",
    "    print(\"Añadiendo elemento a la lista de la compra\")"
   ]
  },
  {
   "cell_type": "code",
   "execution_count": 76,
   "metadata": {},
   "outputs": [],
   "source": [
    "# establecemos que la nevera está en marcha\n",
    "nevera_en_marcha = True"
   ]
  },
  {
   "cell_type": "code",
   "execution_count": 77,
   "metadata": {},
   "outputs": [
    {
     "data": {
      "text/plain": [
       "11"
      ]
     },
     "execution_count": 77,
     "metadata": {},
     "output_type": "execute_result"
    }
   ],
   "source": [
    "# recordemos el número de peras\n",
    "numero_peras"
   ]
  },
  {
   "cell_type": "code",
   "execution_count": 78,
   "metadata": {},
   "outputs": [
    {
     "name": "stdout",
     "output_type": "stream",
     "text": [
      "Tenemos muchas peras, no te apetece comerte una?\n"
     ]
    }
   ],
   "source": [
    "# chequeamos el valor de la nevera. En caso de que esté encendida\n",
    "if nevera_en_marcha: # esto es lo mismo que poner if nevera == True\n",
    "\n",
    "    # en caso de que esté encendida y el número de peras esté entre 0 y 4\n",
    "    if 0 < numero_peras < 4:\n",
    "        print(\"Añadimos peras a la lista\")\n",
    "        lista_compra.append(\"peras\")\n",
    "    # en caso de que el número de peras esté entre 4 y 50 sugerimos comer peras\n",
    "    elif 4 < numero_peras < 50:\n",
    "        print(\"Tenemos muchas peras, no te apetece comerte una?\")\n",
    "\n",
    "# en caso de que la nevera esté apagada, es decir, que el valor de nevera_en_marca == False\n",
    "else:\n",
    "\n",
    "    # sacaremos por pantalla el mensaje que la nevera está rota\n",
    "    print(\"La nevera está rota\")"
   ]
  },
  {
   "cell_type": "code",
   "execution_count": 83,
   "metadata": {},
   "outputs": [],
   "source": [
    "# pongamos ahora un ejemplo de nevera vacía\n",
    "nevera_en_marcha2 = False"
   ]
  },
  {
   "cell_type": "code",
   "execution_count": 84,
   "metadata": {},
   "outputs": [
    {
     "name": "stdout",
     "output_type": "stream",
     "text": [
      "La nevera está rota\n"
     ]
    }
   ],
   "source": [
    "# volvemos a ejecutar el código pero con nevera_en_marcha2\n",
    "if nevera_en_marcha2:\n",
    "\n",
    "    if 0 < numero_peras < 4:\n",
    "        print(\"Añadimos peras a la lista\")\n",
    "        lista_compra.append(\"peras\")\n",
    "\n",
    "    elif 4 < numero_peras < 50:\n",
    "        print(\"Tenemos muchas peras, no te apetece comerte una?\")\n",
    "\n",
    "else:\n",
    "\n",
    "    # sacaremos por pantalla el mensaje que la nevera está rota\n",
    "    print(\"La nevera está rota\")"
   ]
  },
  {
   "cell_type": "code",
   "execution_count": 87,
   "metadata": {},
   "outputs": [
    {
     "name": "stdout",
     "output_type": "stream",
     "text": [
      "Tenemos muchas peras, no te apetece comerte una?\n"
     ]
    }
   ],
   "source": [
    "# primero establecemos el mensaje que queremos printear si la nevera esta rota, es decir nevera_en_marcha == False\n",
    "if nevera_en_marcha == False:\n",
    "    print(\"La nevera está rota\")\n",
    "\n",
    "# después vamos a ir definiendo cada una de las condiciones en caso de que la nevera funcione, es decir, nevera_en_marcha == True\n",
    "elif 0 < numero_peras < 4:\n",
    "    print(\"De momento no tenemos tantas peras.\")\n",
    "elif 4 < numero_peras < 50:\n",
    "    print(\"Tenemos muchas peras, no te apetece comerte una?\")\n",
    "else:\n",
    "    print(\"Sabemos que la nevera funciona, y que el valor de peras_en_nevera es menor que 0 o más que 50\")"
   ]
  },
  {
   "cell_type": "code",
   "execution_count": 88,
   "metadata": {},
   "outputs": [],
   "source": [
    "# definimos nuestras variables\n",
    "hoy_es_viernes = True\n",
    "congelador_en_marcha = False"
   ]
  },
  {
   "cell_type": "code",
   "execution_count": 89,
   "metadata": {},
   "outputs": [
    {
     "name": "stdout",
     "output_type": "stream",
     "text": [
      "Sal a la heladería, te lo mereces!\n"
     ]
    }
   ],
   "source": [
    "# es el momento de definir todas nuestras condiciones\n",
    "\n",
    "# si es viernes (hoy es viernes == True) y el congelador funciona (congelador_en_marcha == True), nos merecemos un helado!\n",
    "if hoy_es_viernes and congelador_en_marcha:\n",
    "    print(\"Coge un helado, te lo mereces!\")\n",
    "\n",
    "# en caso de que sea viernes (hoy es viernes == True) y el congelador no funcione (not congelador en marcha o congelador_en_marcha == False) sal y comprate un helado\n",
    "elif hoy_es_viernes and not congelador_en_marcha:\n",
    "    print(\"Sal a la heladería, te lo mereces!\")\n",
    "\n",
    "else:\n",
    "    print(\"Todavía no toca helado, pero ya queda menos!\")"
   ]
  },
  {
   "cell_type": "code",
   "execution_count": 90,
   "metadata": {},
   "outputs": [],
   "source": [
    "# que pasaría si no fuera vierres?\n",
    "hoy_es_viernes2 = False\n",
    "congelador_en_marcha2 = False"
   ]
  },
  {
   "cell_type": "code",
   "execution_count": 91,
   "metadata": {},
   "outputs": [
    {
     "name": "stdout",
     "output_type": "stream",
     "text": [
      "Todavía no toca helado, pero ya queda menos!\n"
     ]
    }
   ],
   "source": [
    "if hoy_es_viernes2 and congelador_en_marcha2:\n",
    "    print(\"Coge un helado, te lo mereces!\")\n",
    "\n",
    "elif hoy_es_viernes2 and not congelador_en_marcha2:\n",
    "    print(\"Sal a la heladería, te lo mereces!\")\n",
    "\n",
    "else:\n",
    "    print(\"Todavía no toca helado, pero ya queda menos!\")"
   ]
  },
  {
   "cell_type": "code",
   "execution_count": 92,
   "metadata": {},
   "outputs": [
    {
     "name": "stdout",
     "output_type": "stream",
     "text": [
      "Coge un helado, te lo mereces!\n"
     ]
    }
   ],
   "source": [
    "# en este caso chequeamos si es viernes O el congelador está en marcha\n",
    "if hoy_es_viernes or congelador_en_marcha:\n",
    "    print(\"Coge un helado, te lo mereces!\")\n",
    "\n",
    "# en esta condición chequearemos si es viernes O el congelador no funciona\n",
    "elif hoy_es_viernes or not congelador_en_marcha:\n",
    "    print(\"Sal a la heladería, te lo mereces!\")\n",
    "\n",
    "else:\n",
    "    print(\"Todavía no toca helado, pero ya queda menos!\")"
   ]
  },
  {
   "cell_type": "code",
   "execution_count": 93,
   "metadata": {},
   "outputs": [
    {
     "name": "stdout",
     "output_type": "stream",
     "text": [
      "Es viernes? ---> True\n",
      "Está el congelador en marcha? ---> False\n"
     ]
    }
   ],
   "source": [
    "print(\"Es viernes? --->\", hoy_es_viernes)\n",
    "print(\"Está el congelador en marcha? --->\", congelador_en_marcha)"
   ]
  },
  {
   "cell_type": "markdown",
   "metadata": {},
   "source": [
    "## Ejercicios: Condiciones múltiples"
   ]
  },
  {
   "cell_type": "markdown",
   "metadata": {},
   "source": [
    "Guarda los siguientes valores en los siguientes variables:"
   ]
  },
  {
   "cell_type": "code",
   "execution_count": 8,
   "metadata": {},
   "outputs": [
    {
     "name": "stdout",
     "output_type": "stream",
     "text": [
      "12\n",
      "6\n",
      "True\n",
      "Tienes que vaciar el cubo de basura\n"
     ]
    }
   ],
   "source": [
    "# 30. Que dia_recoger_basura sea un número con el valor 12\n",
    "dia_recoger_basura = 12\n",
    "print(dia_recoger_basura)\n",
    "# 31. Que dia_hoy sea un número con el valor 6\n",
    "dia_hoy = 6\n",
    "print(dia_hoy)\n",
    "# 32. Que cubo_lleno sea un booleano con el valor True\n",
    "cubo_lleno = True\n",
    "print(cubo_lleno)\n",
    "# 33. Que aviso sea un str con el valor \"Tienes que vaciar el cubo de basura\"\n",
    "aviso = \"Tienes que vaciar el cubo de basura\"\n",
    "print(aviso)"
   ]
  },
  {
   "cell_type": "markdown",
   "metadata": {},
   "source": [
    "Evalua las siguientes condiciones:"
   ]
  },
  {
   "cell_type": "code",
   "execution_count": 9,
   "metadata": {},
   "outputs": [],
   "source": [
    "# 34. En el caso de que dia_hoy sea igual a (dia_recoger_basura - 1) quiero ser avisado si cubo_lleno es true. Una solo if. Imprime aviso. En los demás casos no quiero que me avise.\n",
    "if dia_hoy == (dia_recoger_basura - 1) and cubo_lleno:\n",
    "        print(aviso)"
   ]
  },
  {
   "cell_type": "code",
   "execution_count": 109,
   "metadata": {},
   "outputs": [],
   "source": [
    "# 35. En el caso que queden 5 o menos días hasta que vengan a recoger la basura, y el cubo no este vacío, avísame con el aviso predeterminado.\n",
    "if (dia_recoger_basura - dia_hoy) <= 5 and cubo_lleno:\n",
    "    print(aviso)"
   ]
  },
  {
   "cell_type": "code",
   "execution_count": 132,
   "metadata": {},
   "outputs": [
    {
     "name": "stdout",
     "output_type": "stream",
     "text": [
      "Quedan 6 días hasta la recogida\n"
     ]
    }
   ],
   "source": [
    "# 36. El día en que vengan a recoger la basura, vienen muy temprano, y entonces no es posible ir a vaciar el cubo el mismo día. El día después de que hayan venido tampoco me interesan. Cambia el código de la 29. para que sea un rango. Ojo que la diferencia entre las fechas puede ser negativa. Amplia el aviso predeterminado con Quedan X días hasta la recogida. con la cantidad de días en el sitio marcado con X.\n",
    "if (dia_recoger_basura - 1) > dia_hoy or dia_hoy > (dia_recoger_basura + 1):\n",
    "    print(\"Quedan\", (dia_recoger_basura - dia_hoy), \"días hasta la recogida\")"
   ]
  },
  {
   "cell_type": "markdown",
   "metadata": {},
   "source": [
    "Ejercicio Sentencias booleanas"
   ]
  },
  {
   "cell_type": "code",
   "execution_count": 1,
   "metadata": {},
   "outputs": [],
   "source": [
    "numero_peras = 57"
   ]
  },
  {
   "cell_type": "code",
   "execution_count": 2,
   "metadata": {},
   "outputs": [],
   "source": [
    "if numero_peras == 0 or numero_peras < 0:\n",
    "    burbuja_a = False\n",
    "    burbuja_b = False\n",
    "    burbuja_c = False\n",
    "    burbuja_d = True\n",
    "    burbuja_e = False\n",
    "    burbuja_f = True\n",
    "elif numero_peras < 50:\n",
    "    burbuja_a = True\n",
    "    burbuja_b = False\n",
    "    burbuja_c = False\n",
    "    burbuja_d = True\n",
    "    burbuja_e = False\n",
    "    burbuja_f = False\n",
    "elif numero_peras > 50:\n",
    "    burbuja_a = False\n",
    "    burbuja_b = False\n",
    "    burbuja_c = True\n",
    "    burbuja_d = False\n",
    "    burbuja_e = True\n",
    "    burbuja_f = False\n",
    "else:\n",
    "    burbuja_a = False\n",
    "    burbuja_b = True\n",
    "    burbuja_c = False\n",
    "    burbuja_d = True\n",
    "    burbuja_e = True\n",
    "    burbuja_f = False"
   ]
  },
  {
   "cell_type": "code",
   "execution_count": 3,
   "metadata": {},
   "outputs": [
    {
     "name": "stdout",
     "output_type": "stream",
     "text": [
      "El rojo es mi color favorito\n"
     ]
    }
   ],
   "source": [
    "if burbuja_b or burbuja_f:\n",
    "    print(\"El amarillo es mi color\")\n",
    "elif burbuja_a and not burbuja_f:\n",
    "    print(\"El verde es mi color favorito\")\n",
    "elif burbuja_e:\n",
    "    print(\"El rojo es mi color favorito\")"
   ]
  },
  {
   "cell_type": "code",
   "execution_count": 4,
   "metadata": {},
   "outputs": [],
   "source": [
    "limite_peras = 2"
   ]
  },
  {
   "cell_type": "code",
   "execution_count": 6,
   "metadata": {},
   "outputs": [],
   "source": [
    "numero_peras = 11"
   ]
  },
  {
   "cell_type": "code",
   "execution_count": 7,
   "metadata": {},
   "outputs": [
    {
     "name": "stdout",
     "output_type": "stream",
     "text": [
      "El número de peras que tenemos en la nevera es 11\n",
      "El número de peras que tenemos en la nevera es 10\n",
      "El número de peras que tenemos en la nevera es 9\n",
      "El número de peras que tenemos en la nevera es 8\n",
      "El número de peras que tenemos en la nevera es 7\n",
      "El número de peras que tenemos en la nevera es 6\n",
      "El número de peras que tenemos en la nevera es 5\n",
      "El número de peras que tenemos en la nevera es 4\n",
      "El número de peras que tenemos en la nevera es 3\n"
     ]
    }
   ],
   "source": [
    "# lo que estamos haciendo aquí es establecer la condición usando el while, donde decimos que siempre el número de peras sea mayor que el límite, seguiremos comiendo peras\n",
    "# este código parará cuando el número de peras sea igual o menor a el límite de peras que indicamos con nuestra variable limite_peras\n",
    "while numero_peras > limite_peras:\n",
    "    print(f\"El número de peras que tenemos en la nevera es {numero_peras}\")\n",
    "\n",
    "    # cada vez que me como una pera le quito de la cantidad de peras que tenemos en la nevera\n",
    "    numero_peras -= 1 # recordemos que es sinónimo de i = i - 1"
   ]
  },
  {
   "cell_type": "code",
   "execution_count": 8,
   "metadata": {},
   "outputs": [],
   "source": [
    "# definimos una variable con el valor de True\n",
    "opcion = True"
   ]
  },
  {
   "cell_type": "code",
   "execution_count": 9,
   "metadata": {},
   "outputs": [
    {
     "name": "stdout",
     "output_type": "stream",
     "text": [
      "Has seleccionado 'a'!\n",
      "Has seleccionado 'b'!\n",
      "Has seleccionado 'c'!\n",
      "Has seleccionado una opción inválida\n"
     ]
    }
   ],
   "source": [
    "# especificamos que si la variable opcion es True, entonces seguiremos ejecutando el código\n",
    "while opcion == True:\n",
    "    selecciona_opcion = input(\"Por favor selecciona una letra de las siguientes: 'a', 'b', or 'c'\")\n",
    "    if selecciona_opcion == \"a\":\n",
    "        print(\"Has seleccionado 'a'!\")\n",
    "    elif selecciona_opcion == \"b\":\n",
    "        print(\"Has seleccionado 'b'!\")\n",
    "    elif selecciona_opcion == \"c\":\n",
    "        print(\"Has seleccionado 'c'!\")\n",
    "    else:\n",
    "        print(\"Has seleccionado una opción inválida\")\n",
    "        opcion = False"
   ]
  },
  {
   "cell_type": "markdown",
   "metadata": {},
   "source": [
    "## Ejercicios while"
   ]
  },
  {
   "cell_type": "code",
   "execution_count": 11,
   "metadata": {},
   "outputs": [
    {
     "name": "stdout",
     "output_type": "stream",
     "text": [
      "Nuestros ahorros son de 5 €.\n",
      "Nuestros ahorros son de 10 €.\n",
      "Nuestros ahorros son de 15 €.\n",
      "Nuestros ahorros son de 20 €.\n"
     ]
    }
   ],
   "source": [
    "# 38. Inicia ahorros con un valor de 5. Mientras los ahorros sean igual o más pequeño que 20, imprime la cantidad de ahorros, y añádele 5 más.\n",
    "ahorros = 5\n",
    "while ahorros <= 20:\n",
    "    print(\"Nuestros ahorros son de\", ahorros, \"€.\")\n",
    "    ahorros += 5"
   ]
  },
  {
   "cell_type": "code",
   "execution_count": 12,
   "metadata": {},
   "outputs": [
    {
     "name": "stdout",
     "output_type": "stream",
     "text": [
      "Nuestros ahorros son de 10 €.\n",
      "Nuestros ahorros son de 15 €.\n",
      "Nuestros ahorros son de 20 €.\n",
      "Nuestros ahorros son de 25 €.\n"
     ]
    }
   ],
   "source": [
    "# 39. Si cambias el orden de imprimir y añadir 5, que resultado esperas?\n",
    "ahorros = 5\n",
    "while ahorros <= 20:\n",
    "    ahorros += 5\n",
    "    print(\"Nuestros ahorros son de\", ahorros, \"€.\")"
   ]
  }
 ],
 "metadata": {
  "kernelspec": {
   "display_name": "Python 3.9.7 ('base')",
   "language": "python",
   "name": "python3"
  },
  "language_info": {
   "codemirror_mode": {
    "name": "ipython",
    "version": 3
   },
   "file_extension": ".py",
   "mimetype": "text/x-python",
   "name": "python",
   "nbconvert_exporter": "python",
   "pygments_lexer": "ipython3",
   "version": "3.9.7"
  },
  "orig_nbformat": 4,
  "vscode": {
   "interpreter": {
    "hash": "f25093244bacc7e62393c275f4a06a2027bcbdb9a67d7fe53680dbd2484adc03"
   }
  }
 },
 "nbformat": 4,
 "nbformat_minor": 2
}
