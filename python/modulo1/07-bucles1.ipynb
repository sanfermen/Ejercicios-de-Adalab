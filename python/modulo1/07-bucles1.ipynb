{
 "cells": [
  {
   "cell_type": "code",
   "execution_count": 1,
   "metadata": {},
   "outputs": [],
   "source": [
    "# creamos una lista donde tengamos 4 strings que corresponden a las 4 estaciones\n",
    "estaciones = [\"primavera\", \"verano\", \"otoño\", \"invierno\"]"
   ]
  },
  {
   "cell_type": "code",
   "execution_count": 2,
   "metadata": {},
   "outputs": [
    {
     "name": "stdout",
     "output_type": "stream",
     "text": [
      "estamos accediendo al elemento primavera\n",
      "---------------------------------------\n",
      "estamos accediendo al elemento verano\n",
      "---------------------------------------\n",
      "estamos accediendo al elemento otoño\n",
      "---------------------------------------\n",
      "estamos accediendo al elemento invierno\n",
      "---------------------------------------\n"
     ]
    }
   ],
   "source": [
    "# siguiendo la sintaxis de los bucles for, lo iniciamos usando las palabras reservadas for e in\n",
    "# 📌 fijaos como en este ejemplo, lo que en el ejemplo de la sintaxis llamamos como \"elemento\" aquí lo estamos llamando temporada \n",
    "for temporada in estaciones:\n",
    "     # con el for lo que estamos haciendo es acceder a cada uno de los elementos de la lista. Lo que estamos haciendo en las siguientes líneas de código es: \n",
    "     # 1. imprimir el elemento al que estamos accediendo de la lista\n",
    "     print(f\"estamos accediendo al elemento {temporada}\")\n",
    "     print(\"---------------------------------------\")"
   ]
  },
  {
   "cell_type": "code",
   "execution_count": 3,
   "metadata": {},
   "outputs": [
    {
     "data": {
      "text/plain": [
       "'otoño'"
      ]
     },
     "execution_count": 3,
     "metadata": {},
     "output_type": "execute_result"
    }
   ],
   "source": [
    "estaciones[2]"
   ]
  },
  {
   "cell_type": "code",
   "execution_count": 4,
   "metadata": {},
   "outputs": [
    {
     "name": "stdout",
     "output_type": "stream",
     "text": [
      "o\n",
      "-------\n",
      "t\n",
      "-------\n",
      "o\n",
      "-------\n",
      "ñ\n",
      "-------\n",
      "o\n",
      "-------\n"
     ]
    }
   ],
   "source": [
    "for caracter in estaciones[2]:\n",
    "    print(caracter)\n",
    "    print(\"-------\")"
   ]
  },
  {
   "cell_type": "code",
   "execution_count": 5,
   "metadata": {},
   "outputs": [],
   "source": [
    "lista_numeros = [1, 2, 4, 8, 16]\n",
    "numeros_sumados = []"
   ]
  },
  {
   "cell_type": "code",
   "execution_count": 6,
   "metadata": {},
   "outputs": [
    {
     "name": "stdout",
     "output_type": "stream",
     "text": [
      "el número al que estamos accediendo es 1\n",
      "[2]\n",
      "el número al que estamos accediendo es 2\n",
      "[2, 3]\n",
      "el número al que estamos accediendo es 4\n",
      "[2, 3, 5]\n",
      "el número al que estamos accediendo es 8\n",
      "[2, 3, 5, 9]\n",
      "el número al que estamos accediendo es 16\n",
      "[2, 3, 5, 9, 17]\n"
     ]
    }
   ],
   "source": [
    "for numero in lista_numeros:\n",
    "    print(f\"el número al que estamos accediendo es {numero}\")\n",
    "    suma = numero + 1\n",
    "    numeros_sumados.append(suma)\n",
    "    print(numeros_sumados)"
   ]
  },
  {
   "cell_type": "code",
   "execution_count": 7,
   "metadata": {},
   "outputs": [
    {
     "data": {
      "text/plain": [
       "[2, 3, 5, 9, 17]"
      ]
     },
     "execution_count": 7,
     "metadata": {},
     "output_type": "execute_result"
    }
   ],
   "source": [
    "numeros_sumados"
   ]
  },
  {
   "cell_type": "code",
   "execution_count": 8,
   "metadata": {},
   "outputs": [
    {
     "data": {
      "text/plain": [
       "[1, 2, 4, 8, 16]"
      ]
     },
     "execution_count": 8,
     "metadata": {},
     "output_type": "execute_result"
    }
   ],
   "source": [
    "lista_numeros"
   ]
  },
  {
   "cell_type": "code",
   "execution_count": 10,
   "metadata": {},
   "outputs": [],
   "source": [
    "ciudades = [\"Madrid\", \"Leon\", \"Soria\", \"Valencia\", \"Ciudad Real\"]"
   ]
  },
  {
   "cell_type": "code",
   "execution_count": 16,
   "metadata": {},
   "outputs": [],
   "source": [
    "ciudades_mayusculas = []"
   ]
  },
  {
   "cell_type": "code",
   "execution_count": 17,
   "metadata": {},
   "outputs": [
    {
     "name": "stdout",
     "output_type": "stream",
     "text": [
      "Estamos interando por la ciudad Madrid\n",
      "Estamos interando por la ciudad Leon\n",
      "Estamos interando por la ciudad Soria\n",
      "Estamos interando por la ciudad Valencia\n",
      "Estamos interando por la ciudad Ciudad Real\n"
     ]
    }
   ],
   "source": [
    "for ciudad in ciudades:\n",
    "    print(f\"Estamos interando por la ciudad {ciudad}\")\n",
    "    ciudades_mayusculas.append(ciudad.upper())"
   ]
  },
  {
   "cell_type": "code",
   "execution_count": 18,
   "metadata": {},
   "outputs": [
    {
     "data": {
      "text/plain": [
       "['MADRID', 'LEON', 'SORIA', 'VALENCIA', 'CIUDAD REAL']"
      ]
     },
     "execution_count": 18,
     "metadata": {},
     "output_type": "execute_result"
    }
   ],
   "source": [
    "ciudades_mayusculas"
   ]
  },
  {
   "cell_type": "code",
   "execution_count": 19,
   "metadata": {},
   "outputs": [],
   "source": [
    "ciudades_pequeñas = []\n",
    "ciudades_grandes = []"
   ]
  },
  {
   "cell_type": "code",
   "execution_count": 20,
   "metadata": {},
   "outputs": [],
   "source": [
    "for ciud in ciudades:\n",
    "    if len(ciud) < 6:\n",
    "        ciudades_pequeñas.append(ciud)\n",
    "    else:\n",
    "        ciudades_grandes.append(ciud)"
   ]
  },
  {
   "cell_type": "code",
   "execution_count": 22,
   "metadata": {},
   "outputs": [
    {
     "name": "stdout",
     "output_type": "stream",
     "text": [
      "Las ciudades pequeñas son: ['Leon', 'Soria']\n",
      "Las ciudades grandes son ['Madrid', 'Valencia', 'Ciudad Real']\n"
     ]
    }
   ],
   "source": [
    "print(\"Las ciudades pequeñas son:\", ciudades_pequeñas)\n",
    "print(\"Las ciudades grandes son\", ciudades_grandes)"
   ]
  },
  {
   "cell_type": "code",
   "execution_count": 23,
   "metadata": {},
   "outputs": [],
   "source": [
    "lista_compra = {'Brocoli': 2.45, \n",
    "       'Chorizo': 45,\n",
    "       'Zanahoria': 7, \n",
    "       'Arroz': 1.2, \n",
    "       'Pan': 0.95}"
   ]
  },
  {
   "cell_type": "code",
   "execution_count": 24,
   "metadata": {},
   "outputs": [
    {
     "name": "stdout",
     "output_type": "stream",
     "text": [
      "Brocoli\n",
      "Chorizo\n",
      "Zanahoria\n",
      "Arroz\n",
      "Pan\n"
     ]
    }
   ],
   "source": [
    "for i in lista_compra:\n",
    "    print(i)"
   ]
  },
  {
   "cell_type": "code",
   "execution_count": 25,
   "metadata": {},
   "outputs": [
    {
     "data": {
      "text/plain": [
       "dict_values([2.45, 45, 7, 1.2, 0.95])"
      ]
     },
     "execution_count": 25,
     "metadata": {},
     "output_type": "execute_result"
    }
   ],
   "source": [
    "lista_compra.values()"
   ]
  },
  {
   "cell_type": "code",
   "execution_count": 26,
   "metadata": {},
   "outputs": [
    {
     "name": "stdout",
     "output_type": "stream",
     "text": [
      "2.45\n",
      "45\n",
      "7\n",
      "1.2\n",
      "0.95\n"
     ]
    }
   ],
   "source": [
    "for i in lista_compra.values():\n",
    "    print(i)"
   ]
  },
  {
   "cell_type": "code",
   "execution_count": 28,
   "metadata": {},
   "outputs": [
    {
     "data": {
      "text/plain": [
       "dict_items([('Brocoli', 2.45), ('Chorizo', 45), ('Zanahoria', 7), ('Arroz', 1.2), ('Pan', 0.95)])"
      ]
     },
     "execution_count": 28,
     "metadata": {},
     "output_type": "execute_result"
    }
   ],
   "source": [
    "lista_compra.items()"
   ]
  },
  {
   "cell_type": "code",
   "execution_count": 29,
   "metadata": {},
   "outputs": [
    {
     "name": "stdout",
     "output_type": "stream",
     "text": [
      "Brocoli ----> 2.45\n",
      "Chorizo ----> 45\n",
      "Zanahoria ----> 7\n",
      "Arroz ----> 1.2\n",
      "Pan ----> 0.95\n"
     ]
    }
   ],
   "source": [
    "for key, value in lista_compra.items():\n",
    "    print(key, \"---->\", value)"
   ]
  },
  {
   "cell_type": "code",
   "execution_count": 31,
   "metadata": {},
   "outputs": [
    {
     "data": {
      "text/plain": [
       "{'Brocoli': 2.45, 'Chorizo': 45, 'Zanahoria': 7, 'Arroz': 1.2, 'Pan': 0.95}"
      ]
     },
     "execution_count": 31,
     "metadata": {},
     "output_type": "execute_result"
    }
   ],
   "source": [
    "lista_compra"
   ]
  },
  {
   "cell_type": "code",
   "execution_count": 32,
   "metadata": {},
   "outputs": [
    {
     "data": {
      "text/plain": [
       "2.45"
      ]
     },
     "execution_count": 32,
     "metadata": {},
     "output_type": "execute_result"
    }
   ],
   "source": [
    "lista_compra[\"Brocoli\"]"
   ]
  },
  {
   "cell_type": "code",
   "execution_count": 33,
   "metadata": {},
   "outputs": [],
   "source": [
    "dos_euros = []"
   ]
  },
  {
   "cell_type": "code",
   "execution_count": 34,
   "metadata": {},
   "outputs": [],
   "source": [
    "for k, v in lista_compra.items():\n",
    "    if lista_compra[k] < 2:\n",
    "        dos_euros.append(k)"
   ]
  },
  {
   "cell_type": "code",
   "execution_count": 35,
   "metadata": {},
   "outputs": [
    {
     "data": {
      "text/plain": [
       "['Arroz', 'Pan']"
      ]
     },
     "execution_count": 35,
     "metadata": {},
     "output_type": "execute_result"
    }
   ],
   "source": [
    "dos_euros"
   ]
  },
  {
   "cell_type": "markdown",
   "metadata": {},
   "source": [
    "## Ejercicios: for"
   ]
  },
  {
   "cell_type": "code",
   "execution_count": 1,
   "metadata": {},
   "outputs": [],
   "source": [
    "# usando la siguiente lista:\n",
    "temperaturas = [23, 12, 37, 33, 1, 6, 15]"
   ]
  },
  {
   "cell_type": "code",
   "execution_count": 39,
   "metadata": {},
   "outputs": [
    {
     "name": "stdout",
     "output_type": "stream",
     "text": [
      "Lista a = [1, 6]\n",
      "Lista b = [12, 15]\n",
      "Lista c = [23, 37, 33]\n"
     ]
    }
   ],
   "source": [
    "# 1. Cread tres listas nuevas, donde:\n",
    "# A. En la primera tengamos temperaturas entre 0-10\n",
    "# B. En la segunda tengamos temperaturas entre 11-20\n",
    "# C. En la tercera tengamos temperaturas por encima de 20\n",
    "lista_a = []\n",
    "lista_b = []\n",
    "lista_c = []\n",
    "for temp in temperaturas:\n",
    "    if 0 <= temp <= 10:\n",
    "        lista_a.append(temp)\n",
    "    elif 11 <= temp <=20:\n",
    "        lista_b.append(temp)\n",
    "    else:\n",
    "        lista_c.append(temp)\n",
    "print(\"Lista a =\", lista_a)\n",
    "print(\"Lista b =\", lista_b)\n",
    "print(\"Lista c =\", lista_c)"
   ]
  },
  {
   "cell_type": "code",
   "execution_count": 2,
   "metadata": {},
   "outputs": [
    {
     "name": "stdout",
     "output_type": "stream",
     "text": [
      "[73.4, 53.6, 98.6, 91.4, 33.8, 42.8, 59.0]\n"
     ]
    }
   ],
   "source": [
    "# 2. Las temperaturas están en grados centígrados. Convertid las temperaturas a grados Fahrenheit\n",
    " # la relacion de grados celsius y fahrenheit es:\n",
    " # (0 °C × 9 / 5) + 32 = 32 °F\n",
    "\n",
    "temperaturas_fahrenheit = []\n",
    "for i in temperaturas:\n",
    "    temperaturas_fahrenheit.append((i*9/5)+32)\n",
    "print(temperaturas_fahrenheit)"
   ]
  },
  {
   "cell_type": "code",
   "execution_count": 42,
   "metadata": {},
   "outputs": [
    {
     "data": {
      "text/plain": [
       "range(0, 3)"
      ]
     },
     "execution_count": 42,
     "metadata": {},
     "output_type": "execute_result"
    }
   ],
   "source": [
    "range(0,3)"
   ]
  },
  {
   "cell_type": "code",
   "execution_count": 43,
   "metadata": {},
   "outputs": [
    {
     "data": {
      "text/plain": [
       "range(0, 3)"
      ]
     },
     "execution_count": 43,
     "metadata": {},
     "output_type": "execute_result"
    }
   ],
   "source": [
    "range(3)"
   ]
  },
  {
   "cell_type": "code",
   "execution_count": 44,
   "metadata": {},
   "outputs": [
    {
     "data": {
      "text/plain": [
       "range(100, 201)"
      ]
     },
     "execution_count": 44,
     "metadata": {},
     "output_type": "execute_result"
    }
   ],
   "source": [
    "range(100,201)"
   ]
  },
  {
   "cell_type": "code",
   "execution_count": 45,
   "metadata": {},
   "outputs": [
    {
     "name": "stdout",
     "output_type": "stream",
     "text": [
      "0\n",
      "1\n",
      "2\n"
     ]
    }
   ],
   "source": [
    "for x in range(3):\n",
    "    print(x)"
   ]
  },
  {
   "cell_type": "code",
   "execution_count": 46,
   "metadata": {},
   "outputs": [
    {
     "name": "stdout",
     "output_type": "stream",
     "text": [
      "2\n",
      "3\n",
      "4\n",
      "5\n",
      "6\n"
     ]
    }
   ],
   "source": [
    "for x in range(2,7):\n",
    "    print(x)"
   ]
  },
  {
   "cell_type": "code",
   "execution_count": 47,
   "metadata": {},
   "outputs": [
    {
     "name": "stdout",
     "output_type": "stream",
     "text": [
      "0\n",
      "2\n",
      "4\n",
      "6\n",
      "8\n"
     ]
    }
   ],
   "source": [
    "for x in range(0,10,2):\n",
    "    print(x)"
   ]
  },
  {
   "cell_type": "code",
   "execution_count": 48,
   "metadata": {},
   "outputs": [
    {
     "name": "stdout",
     "output_type": "stream",
     "text": [
      "1\n",
      "3\n",
      "5\n",
      "7\n",
      "9\n"
     ]
    }
   ],
   "source": [
    "for x in range(1,11,2):\n",
    "    print(x)"
   ]
  },
  {
   "cell_type": "markdown",
   "metadata": {},
   "source": [
    "## Ejercicios: range"
   ]
  },
  {
   "cell_type": "code",
   "execution_count": 50,
   "metadata": {},
   "outputs": [
    {
     "name": "stdout",
     "output_type": "stream",
     "text": [
      "0\n",
      "1\n",
      "2\n",
      "3\n",
      "4\n",
      "5\n"
     ]
    }
   ],
   "source": [
    "# 3. Con un argumento. Define e imprime un rango de 0 a 6 (excluido)\n",
    "for x in range(6):\n",
    "    print(x)"
   ]
  },
  {
   "cell_type": "code",
   "execution_count": 51,
   "metadata": {},
   "outputs": [
    {
     "name": "stdout",
     "output_type": "stream",
     "text": [
      "3\n",
      "4\n",
      "5\n",
      "6\n"
     ]
    }
   ],
   "source": [
    "# 4. Con dos argumentos. Define e imprime un rango de 3 a 6 ambos incluidos.\n",
    "for x in range(3,7):\n",
    "    print(x)"
   ]
  },
  {
   "cell_type": "code",
   "execution_count": 52,
   "metadata": {},
   "outputs": [
    {
     "name": "stdout",
     "output_type": "stream",
     "text": [
      "6\n",
      "7\n",
      "8\n"
     ]
    }
   ],
   "source": [
    "# 5. Define e imprime un rango de 5 a 9 ambos excluidos.\n",
    "for x in range(6,9):\n",
    "    print(x)"
   ]
  },
  {
   "cell_type": "code",
   "execution_count": 53,
   "metadata": {},
   "outputs": [
    {
     "name": "stdout",
     "output_type": "stream",
     "text": [
      "2\n",
      "3\n",
      "4\n"
     ]
    }
   ],
   "source": [
    "# 6. Define e imprime un rango de 3 números que empiece en 2.\n",
    "for x in range(2,5):\n",
    "    print(x)"
   ]
  },
  {
   "cell_type": "code",
   "execution_count": 54,
   "metadata": {},
   "outputs": [
    {
     "name": "stdout",
     "output_type": "stream",
     "text": [
      "2\n",
      "5\n",
      "8\n",
      "11\n"
     ]
    }
   ],
   "source": [
    "# 7. Con tres argumentos. Define e imprime un rango que empiece en 2, aumentando cada paso por 3, que pare antes de llegar al número 13.\n",
    "for x in range(2,13,3):\n",
    "    print(x)"
   ]
  },
  {
   "cell_type": "code",
   "execution_count": 57,
   "metadata": {},
   "outputs": [
    {
     "name": "stdout",
     "output_type": "stream",
     "text": [
      "1\n",
      "3\n",
      "5\n",
      "7\n",
      "9\n"
     ]
    }
   ],
   "source": [
    "# 8. Define e imprime un rango de impares hasta 10\n",
    "for x in range(1,11,2):\n",
    "    print(x)"
   ]
  },
  {
   "cell_type": "code",
   "execution_count": 60,
   "metadata": {},
   "outputs": [],
   "source": [
    "cuadrado = []\n",
    "\n",
    "for num in range(5000):\n",
    "    cuadrado.append(num**2)"
   ]
  },
  {
   "cell_type": "code",
   "execution_count": 61,
   "metadata": {},
   "outputs": [
    {
     "data": {
      "text/plain": [
       "[0, 1, 4, 9, 16, 25, 36, 49, 64, 81]"
      ]
     },
     "execution_count": 61,
     "metadata": {},
     "output_type": "execute_result"
    }
   ],
   "source": [
    "cuadrado[:10]"
   ]
  },
  {
   "cell_type": "code",
   "execution_count": 62,
   "metadata": {},
   "outputs": [
    {
     "data": {
      "text/plain": [
       "[0, 1, 4, 9, 16, 25, 36, 49, 64, 81]"
      ]
     },
     "execution_count": 62,
     "metadata": {},
     "output_type": "execute_result"
    }
   ],
   "source": [
    "cuadrado2 = [num**2 for num in range(5000)]\n",
    "cuadrado2[:10]"
   ]
  },
  {
   "cell_type": "code",
   "execution_count": 63,
   "metadata": {},
   "outputs": [],
   "source": [
    "palabras = [\"adalab\", \"python\", \"data analysts\", \"sql\", \"programadoras\"]"
   ]
  },
  {
   "cell_type": "code",
   "execution_count": 64,
   "metadata": {},
   "outputs": [],
   "source": [
    "palabras_len = []\n",
    "for palabra in palabras:\n",
    "    palabras_len.append(len(palabra))"
   ]
  },
  {
   "cell_type": "code",
   "execution_count": 65,
   "metadata": {},
   "outputs": [
    {
     "data": {
      "text/plain": [
       "[6, 6, 13, 3, 13]"
      ]
     },
     "execution_count": 65,
     "metadata": {},
     "output_type": "execute_result"
    }
   ],
   "source": [
    "palabras_len"
   ]
  },
  {
   "cell_type": "code",
   "execution_count": 66,
   "metadata": {},
   "outputs": [
    {
     "name": "stdout",
     "output_type": "stream",
     "text": [
      "[6, 6, 13, 3, 13]\n"
     ]
    }
   ],
   "source": [
    "palabras_len2 = [len(pal) for pal in palabras]\n",
    "print(palabras_len2)"
   ]
  },
  {
   "cell_type": "code",
   "execution_count": 67,
   "metadata": {},
   "outputs": [],
   "source": [
    "cuadrados_pares = []\n",
    "for num in range(5000):\n",
    "    if num % 2 == 0:\n",
    "        cuadrados_pares.append(num**2)"
   ]
  },
  {
   "cell_type": "code",
   "execution_count": 68,
   "metadata": {},
   "outputs": [
    {
     "data": {
      "text/plain": [
       "[0, 4, 16, 36, 64, 100, 144, 196, 256, 324]"
      ]
     },
     "execution_count": 68,
     "metadata": {},
     "output_type": "execute_result"
    }
   ],
   "source": [
    "cuadrados_pares[:10]"
   ]
  },
  {
   "cell_type": "code",
   "execution_count": 69,
   "metadata": {},
   "outputs": [
    {
     "data": {
      "text/plain": [
       "[0, 4, 16, 36, 64, 100, 144, 196, 256, 324]"
      ]
     },
     "execution_count": 69,
     "metadata": {},
     "output_type": "execute_result"
    }
   ],
   "source": [
    "cuadrados_pares2 = [num ** 2 for num in range(5000) if num % 2 == 0]\n",
    "cuadrados_pares2[:10]"
   ]
  },
  {
   "cell_type": "code",
   "execution_count": 70,
   "metadata": {},
   "outputs": [
    {
     "data": {
      "text/plain": [
       "['adalab', 'python', 'data analysts', 'sql', 'programadoras']"
      ]
     },
     "execution_count": 70,
     "metadata": {},
     "output_type": "execute_result"
    }
   ],
   "source": [
    "palabras"
   ]
  },
  {
   "cell_type": "code",
   "execution_count": 71,
   "metadata": {},
   "outputs": [],
   "source": [
    "palabras_clas = []\n",
    "\n",
    "for i in palabras:\n",
    "    if len(i) <= 6:\n",
    "        palabras_clas.append(\"palabra corta\")\n",
    "    else:\n",
    "        palabras_clas.append(\"palabra larga\")"
   ]
  },
  {
   "cell_type": "code",
   "execution_count": 72,
   "metadata": {},
   "outputs": [
    {
     "data": {
      "text/plain": [
       "['palabra corta',\n",
       " 'palabra corta',\n",
       " 'palabra larga',\n",
       " 'palabra corta',\n",
       " 'palabra larga']"
      ]
     },
     "execution_count": 72,
     "metadata": {},
     "output_type": "execute_result"
    }
   ],
   "source": [
    "palabras_clas"
   ]
  },
  {
   "cell_type": "code",
   "execution_count": 73,
   "metadata": {},
   "outputs": [
    {
     "data": {
      "text/plain": [
       "['palabra corta',\n",
       " 'palabra corta',\n",
       " 'palabra larga',\n",
       " 'palabra corta',\n",
       " 'palabra larga']"
      ]
     },
     "execution_count": 73,
     "metadata": {},
     "output_type": "execute_result"
    }
   ],
   "source": [
    "palabras_clas2 = [\"palabra corta\" if len(i) <= 6 else \"palabra larga\" for i in palabras]\n",
    "palabras_clas2"
   ]
  },
  {
   "cell_type": "code",
   "execution_count": 74,
   "metadata": {},
   "outputs": [],
   "source": [
    "listas = [[1,2,3], [4,5,6], [7,8,9]]"
   ]
  },
  {
   "cell_type": "code",
   "execution_count": 75,
   "metadata": {},
   "outputs": [
    {
     "name": "stdout",
     "output_type": "stream",
     "text": [
      "[1, 2, 3]\n",
      "1\n",
      "2\n",
      "3\n",
      "[4, 5, 6]\n",
      "4\n",
      "5\n",
      "6\n",
      "[7, 8, 9]\n",
      "7\n",
      "8\n",
      "9\n"
     ]
    }
   ],
   "source": [
    "lista_aplanada = []\n",
    "for sublista in listas:\n",
    "    print(sublista)\n",
    "    for num in sublista:\n",
    "        print(num)\n",
    "        lista_aplanada.append(num)"
   ]
  },
  {
   "cell_type": "code",
   "execution_count": 76,
   "metadata": {},
   "outputs": [
    {
     "data": {
      "text/plain": [
       "[1, 2, 3, 4, 5, 6, 7, 8, 9]"
      ]
     },
     "execution_count": 76,
     "metadata": {},
     "output_type": "execute_result"
    }
   ],
   "source": [
    "lista_aplanada"
   ]
  },
  {
   "cell_type": "code",
   "execution_count": 77,
   "metadata": {},
   "outputs": [
    {
     "data": {
      "text/plain": [
       "[1, 2, 3, 4, 5, 6, 7, 8, 9]"
      ]
     },
     "execution_count": 77,
     "metadata": {},
     "output_type": "execute_result"
    }
   ],
   "source": [
    "lista_aplanada2 = [num for sublista in listas for num in sublista]\n",
    "lista_aplanada2"
   ]
  },
  {
   "cell_type": "markdown",
   "metadata": {},
   "source": [
    "## Ejercicios: list comprehensions"
   ]
  },
  {
   "cell_type": "code",
   "execution_count": 78,
   "metadata": {},
   "outputs": [],
   "source": [
    "# List comprehensions sin filtrar\n",
    "# Dada la siguiente lista de números:\n",
    "lista = [2,45,67,23, 45,66,12,1,34,67,99,98,67,64, 44, 100]"
   ]
  },
  {
   "cell_type": "code",
   "execution_count": 79,
   "metadata": {},
   "outputs": [
    {
     "name": "stdout",
     "output_type": "stream",
     "text": [
      "[4, 2025, 4489, 529, 2025, 4356, 144, 1, 1156, 4489, 9801, 9604, 4489, 4096, 1936, 10000]\n"
     ]
    }
   ],
   "source": [
    "# 10. Cread una lista nueva donde tengamos los números de la lista lista elevados al cuadrado\n",
    "lista_9 = [num ** 2 for num in lista]\n",
    "print(lista_9)"
   ]
  },
  {
   "cell_type": "code",
   "execution_count": 80,
   "metadata": {},
   "outputs": [
    {
     "name": "stdout",
     "output_type": "stream",
     "text": [
      "[0, 1, 1, 1, 1, 0, 0, 1, 0, 1, 1, 0, 1, 0, 0, 0]\n"
     ]
    }
   ],
   "source": [
    "# 11. Cread una lista nueva donde tengamos el resto de la división de cada uno de los números entre 2\n",
    "lista_11 = [num % 2 for num in lista]\n",
    "print(lista_11)"
   ]
  },
  {
   "cell_type": "code",
   "execution_count": 81,
   "metadata": {},
   "outputs": [
    {
     "name": "stdout",
     "output_type": "stream",
     "text": [
      "[2, 66, 12, 34, 98, 64, 44, 100]\n"
     ]
    }
   ],
   "source": [
    "# 12. List comprehensions filtradas. Cread una lista nueva donde tengamos solo los elementos pares de la lista lista\n",
    "lista_12 = [num for num in lista if num % 2 == 0]\n",
    "print(lista_12)"
   ]
  },
  {
   "cell_type": "code",
   "execution_count": 82,
   "metadata": {},
   "outputs": [
    {
     "name": "stdout",
     "output_type": "stream",
     "text": [
      "[2, 45, 23, 45, 12, 1, 34, 44]\n"
     ]
    }
   ],
   "source": [
    "# 13. Cread una lista donde tengamos solo los elementos que sean menores que 50\n",
    "lista_13 = [num for num in lista if num < 50]\n",
    "print(lista_13)"
   ]
  },
  {
   "cell_type": "code",
   "execution_count": 87,
   "metadata": {},
   "outputs": [
    {
     "name": "stdout",
     "output_type": "stream",
     "text": [
      "['par', 'inpar', 'inpar', 'inpar', 'inpar', 'par', 'par', 'inpar', 'par', 'inpar', 'inpar', 'par', 'inpar', 'par', 'par', 'par']\n"
     ]
    }
   ],
   "source": [
    "# 14. Cread una lista donde tengamos los valores par e impar en función de los valores de la lista original\n",
    "lista_14 = [\"par\" if num % 2 == 0 else \"inpar\" for num in lista]\n",
    "print(lista_14)"
   ]
  }
 ],
 "metadata": {
  "kernelspec": {
   "display_name": "Python 3.9.7 ('base')",
   "language": "python",
   "name": "python3"
  },
  "language_info": {
   "codemirror_mode": {
    "name": "ipython",
    "version": 3
   },
   "file_extension": ".py",
   "mimetype": "text/x-python",
   "name": "python",
   "nbconvert_exporter": "python",
   "pygments_lexer": "ipython3",
   "version": "3.9.7"
  },
  "orig_nbformat": 4,
  "vscode": {
   "interpreter": {
    "hash": "f25093244bacc7e62393c275f4a06a2027bcbdb9a67d7fe53680dbd2484adc03"
   }
  }
 },
 "nbformat": 4,
 "nbformat_minor": 2
}
