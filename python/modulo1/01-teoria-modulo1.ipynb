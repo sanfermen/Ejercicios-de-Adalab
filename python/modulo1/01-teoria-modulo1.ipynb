{
 "cells": [
  {
   "cell_type": "code",
   "execution_count": 1,
   "metadata": {},
   "outputs": [
    {
     "data": {
      "text/plain": [
       "3"
      ]
     },
     "execution_count": 1,
     "metadata": {},
     "output_type": "execute_result"
    }
   ],
   "source": [
    "#escribimos el número 3 en la celda\n",
    "3"
   ]
  },
  {
   "cell_type": "code",
   "execution_count": 2,
   "metadata": {},
   "outputs": [
    {
     "ename": "NameError",
     "evalue": "name 'a' is not defined",
     "output_type": "error",
     "traceback": [
      "\u001b[0;31m---------------------------------------------------------------------------\u001b[0m",
      "\u001b[0;31mNameError\u001b[0m                                 Traceback (most recent call last)",
      "\u001b[0;32m/tmp/ipykernel_385/2269748698.py\u001b[0m in \u001b[0;36m<module>\u001b[0;34m\u001b[0m\n\u001b[1;32m      1\u001b[0m \u001b[0;31m# ¿Qué pasaría si ahora en vez de un número escribieramos una letra?\u001b[0m\u001b[0;34m\u001b[0m\u001b[0;34m\u001b[0m\u001b[0m\n\u001b[0;32m----> 2\u001b[0;31m \u001b[0ma\u001b[0m\u001b[0;34m\u001b[0m\u001b[0;34m\u001b[0m\u001b[0m\n\u001b[0m",
      "\u001b[0;31mNameError\u001b[0m: name 'a' is not defined"
     ]
    }
   ],
   "source": [
    "# ¿Qué pasaría si ahora en vez de un número escribieramos una letra?\n",
    "a"
   ]
  },
  {
   "cell_type": "code",
   "execution_count": 3,
   "metadata": {},
   "outputs": [
    {
     "data": {
      "text/plain": [
       "'A'"
      ]
     },
     "execution_count": 3,
     "metadata": {},
     "output_type": "execute_result"
    }
   ],
   "source": [
    "\"A\""
   ]
  },
  {
   "cell_type": "code",
   "execution_count": 4,
   "metadata": {},
   "outputs": [],
   "source": [
    "a = 3"
   ]
  },
  {
   "cell_type": "code",
   "execution_count": 5,
   "metadata": {},
   "outputs": [
    {
     "data": {
      "text/plain": [
       "3"
      ]
     },
     "execution_count": 5,
     "metadata": {},
     "output_type": "execute_result"
    }
   ],
   "source": [
    "a"
   ]
  },
  {
   "cell_type": "code",
   "execution_count": 6,
   "metadata": {},
   "outputs": [],
   "source": [
    "# NOTA: Los decimales en python se indican con \" . \"\n",
    "metros = 1.87"
   ]
  },
  {
   "cell_type": "code",
   "execution_count": 7,
   "metadata": {},
   "outputs": [
    {
     "data": {
      "text/plain": [
       "1.87"
      ]
     },
     "execution_count": 7,
     "metadata": {},
     "output_type": "execute_result"
    }
   ],
   "source": [
    "# veamos que contiene ahora la variables \"metros\"\n",
    "metros"
   ]
  },
  {
   "cell_type": "code",
   "execution_count": 8,
   "metadata": {},
   "outputs": [
    {
     "name": "stdout",
     "output_type": "stream",
     "text": [
      "3\n"
     ]
    }
   ],
   "source": [
    "print(a)"
   ]
  },
  {
   "cell_type": "code",
   "execution_count": 9,
   "metadata": {},
   "outputs": [
    {
     "name": "stdout",
     "output_type": "stream",
     "text": [
      "batata\n"
     ]
    }
   ],
   "source": [
    "# creemos ahora una variable que se llame \"comida\" que almacene el texto \"batata\"\n",
    "comida = 'batata'\n",
    "print(comida)"
   ]
  },
  {
   "cell_type": "code",
   "execution_count": 10,
   "metadata": {},
   "outputs": [
    {
     "name": "stdout",
     "output_type": "stream",
     "text": [
      "3\n",
      "verde\n"
     ]
    },
    {
     "ename": "NameError",
     "evalue": "name 'azul' is not defined",
     "output_type": "error",
     "traceback": [
      "\u001b[0;31m---------------------------------------------------------------------------\u001b[0m",
      "\u001b[0;31mNameError\u001b[0m                                 Traceback (most recent call last)",
      "\u001b[0;32m/tmp/ipykernel_385/1872151779.py\u001b[0m in \u001b[0;36m<module>\u001b[0;34m\u001b[0m\n\u001b[1;32m      8\u001b[0m \u001b[0;34m\u001b[0m\u001b[0m\n\u001b[1;32m      9\u001b[0m \u001b[0;31m# creamos una variable que se llame categoria2 que sea igual a la variable azul\u001b[0m\u001b[0;34m\u001b[0m\u001b[0;34m\u001b[0m\u001b[0m\n\u001b[0;32m---> 10\u001b[0;31m \u001b[0mcategoria2\u001b[0m \u001b[0;34m=\u001b[0m \u001b[0mazul\u001b[0m\u001b[0;34m\u001b[0m\u001b[0;34m\u001b[0m\u001b[0m\n\u001b[0m\u001b[1;32m     11\u001b[0m \u001b[0mprint\u001b[0m\u001b[0;34m(\u001b[0m\u001b[0mcategoria2\u001b[0m\u001b[0;34m)\u001b[0m\u001b[0;34m\u001b[0m\u001b[0;34m\u001b[0m\u001b[0m\n",
      "\u001b[0;31mNameError\u001b[0m: name 'azul' is not defined"
     ]
    }
   ],
   "source": [
    "# creamos una variable numérica que se llame \"cantidad\"\n",
    "cantidad = 3\n",
    "print(cantidad)\n",
    "\n",
    "# creamos una variable de tipo string que se llame \"categoria1\"\n",
    "categoria1 = \"verde\"\n",
    "print(categoria1)\n",
    "\n",
    "# creamos una variable que se llame categoria2 que sea igual a la variable azul\n",
    "categoria2 = azul\n",
    "print(categoria2)"
   ]
  },
  {
   "cell_type": "code",
   "execution_count": 11,
   "metadata": {},
   "outputs": [
    {
     "name": "stdout",
     "output_type": "stream",
     "text": [
      "verde oscuro\n"
     ]
    }
   ],
   "source": [
    "color_detalle = categoria1 + \" \" + \"oscuro\"\n",
    "print(color_detalle)"
   ]
  },
  {
   "cell_type": "code",
   "execution_count": 12,
   "metadata": {},
   "outputs": [
    {
     "name": "stdout",
     "output_type": "stream",
     "text": [
      "verde oscuro\n"
     ]
    }
   ],
   "source": [
    "print(categoria1 + \" oscuro\")"
   ]
  },
  {
   "cell_type": "code",
   "execution_count": 13,
   "metadata": {},
   "outputs": [
    {
     "name": "stdout",
     "output_type": "stream",
     "text": [
      "verde oscuro\n"
     ]
    }
   ],
   "source": [
    "print(categoria1, \"oscuro\")"
   ]
  },
  {
   "cell_type": "markdown",
   "metadata": {},
   "source": [
    "EJEMPLOS"
   ]
  },
  {
   "cell_type": "code",
   "execution_count": 14,
   "metadata": {},
   "outputs": [],
   "source": [
    "# definamos algunas variables con distintos tipos de datos numéricos\n",
    "b1 = 3.0\n",
    "b2 = 5\n",
    "b3 = 5.0\n",
    "b4 = 118"
   ]
  },
  {
   "cell_type": "code",
   "execution_count": 15,
   "metadata": {},
   "outputs": [],
   "source": [
    "# en esta celda introduciremos algunas operaciones básicas de Python\n",
    "\n",
    "c1 = b1 + b2 # \"+\" operador de suma\n",
    "c2 = b1 + b3\n",
    "c3 = b2 + b4\n",
    "c4 = b2 - b4 # \"-\" operador de resta\n",
    "c5 = b4 / b2 # \"/\" operador de división\n",
    "c6 = b4 / b3"
   ]
  },
  {
   "cell_type": "code",
   "execution_count": 16,
   "metadata": {},
   "outputs": [
    {
     "name": "stdout",
     "output_type": "stream",
     "text": [
      "C1 =  3.0  +  5  =  8.0\n",
      "C2 =  3.0  +  5.0  =  8.0\n",
      "C3 =  5  +  118  =  123\n",
      "C4 =  5  -  118  =  -113\n",
      "C5 =  118  /  5  =  23.6\n",
      "C6 =  118  /  5.0  =  23.6\n"
     ]
    }
   ],
   "source": [
    "print('C1 = ', b1, ' + ', b2, ' = ', c1)\n",
    "print('C2 = ', b1, ' + ', b3, ' = ', c2)\n",
    "print('C3 = ', b2, ' + ', b4, ' = ', c3)\n",
    "print('C4 = ', b2, ' - ', b4, ' = ', c4)\n",
    "print('C5 = ', b4, ' / ', b2, ' = ', c5)\n",
    "print('C6 = ', b4, ' / ', b3, ' = ', c6)"
   ]
  },
  {
   "cell_type": "code",
   "execution_count": 17,
   "metadata": {},
   "outputs": [
    {
     "name": "stdout",
     "output_type": "stream",
     "text": [
      "23.6\n",
      "23.6\n",
      "23.6\n",
      "23.6\n",
      "23.6\n"
     ]
    }
   ],
   "source": [
    "C5 = int()\n",
    "print(c5)\n",
    "C5 = float()\n",
    "print(c5)\n",
    "\n",
    "C5 = int(b4 / b2)\n",
    "print(c5)\n",
    "C5 = float(b4 / b2)\n",
    "print(c5)\n",
    "C5 = str(b4 / b2)\n",
    "print(c5)"
   ]
  },
  {
   "cell_type": "code",
   "execution_count": 18,
   "metadata": {},
   "outputs": [
    {
     "name": "stdout",
     "output_type": "stream",
     "text": [
      "<class 'float'>\n",
      "<class 'int'>\n",
      "<class 'str'>\n"
     ]
    }
   ],
   "source": [
    "c5a = float(b4 / b2)\n",
    "c5b = int(b4 / b2)\n",
    "c5c = str(b4 / b2)\n",
    "t = type(c5a)\n",
    "\n",
    "print(t)\n",
    "print(type(c5b))\n",
    "print(type(c5c))"
   ]
  },
  {
   "cell_type": "code",
   "execution_count": 19,
   "metadata": {},
   "outputs": [
    {
     "name": "stdout",
     "output_type": "stream",
     "text": [
      "True\n",
      "True\n",
      "True\n"
     ]
    }
   ],
   "source": [
    "print(isinstance(c5a,float))\n",
    "print(isinstance(c5b,int))\n",
    "print(isinstance(c5c,str))"
   ]
  },
  {
   "cell_type": "code",
   "execution_count": 20,
   "metadata": {},
   "outputs": [
    {
     "ename": "TypeError",
     "evalue": "isinstance() arg 2 must be a type or tuple of types",
     "output_type": "error",
     "traceback": [
      "\u001b[0;31m---------------------------------------------------------------------------\u001b[0m",
      "\u001b[0;31mTypeError\u001b[0m                                 Traceback (most recent call last)",
      "\u001b[0;32m/tmp/ipykernel_385/2209696006.py\u001b[0m in \u001b[0;36m<module>\u001b[0;34m\u001b[0m\n\u001b[1;32m      1\u001b[0m \u001b[0;31m# Probemos a cambiarle el orden a los argumentos que le pasamos\u001b[0m\u001b[0;34m\u001b[0m\u001b[0;34m\u001b[0m\u001b[0m\n\u001b[1;32m      2\u001b[0m \u001b[0;34m\u001b[0m\u001b[0m\n\u001b[0;32m----> 3\u001b[0;31m \u001b[0mprint\u001b[0m\u001b[0;34m(\u001b[0m\u001b[0misinstance\u001b[0m\u001b[0;34m(\u001b[0m\u001b[0mstr\u001b[0m\u001b[0;34m,\u001b[0m\u001b[0mc5c\u001b[0m\u001b[0;34m)\u001b[0m\u001b[0;34m)\u001b[0m\u001b[0;34m\u001b[0m\u001b[0;34m\u001b[0m\u001b[0m\n\u001b[0m",
      "\u001b[0;31mTypeError\u001b[0m: isinstance() arg 2 must be a type or tuple of types"
     ]
    }
   ],
   "source": [
    "# Probemos a cambiarle el orden a los argumentos que le pasamos\n",
    "\n",
    "print(isinstance(str,c5c))"
   ]
  },
  {
   "cell_type": "code",
   "execution_count": null,
   "metadata": {},
   "outputs": [
    {
     "name": "stdout",
     "output_type": "stream",
     "text": [
      "D1 =  True\n",
      "D2 =  False\n",
      "D3 =  123  +  True  =  124\n",
      "D4 =  123  +  False  =  123\n",
      "D5 =  8.0  +  True  =  9.0\n",
      "D6 =  8.0  +  False  =  8.0\n",
      "<class 'bool'>\n",
      "True\n"
     ]
    }
   ],
   "source": [
    "d1 = True\n",
    "d2 = False\n",
    "d3 = c3 + d1\n",
    "d4 = c3 + d2\n",
    "d5 = c2 + d1\n",
    "d6 = c2 + d2\n",
    "\n",
    "print(\"D1 = \", d1)\n",
    "print(\"D2 = \", d2)\n",
    "print(\"D3 = \", c3, \" + \", d1, \" = \", d3)\n",
    "print(\"D4 = \", c3, \" + \", d2, \" = \", d4)\n",
    "print(\"D5 = \", c2, \" + \", d1, \" = \", d5)\n",
    "print(\"D6 = \", c2, \" + \", d2, \" = \", d6)\n",
    "\n",
    "print(type(d1))\n",
    "print(isinstance(d1,bool))"
   ]
  },
  {
   "cell_type": "markdown",
   "metadata": {},
   "source": [
    "OPERACIONES ALGEBRAICAS"
   ]
  },
  {
   "cell_type": "code",
   "execution_count": null,
   "metadata": {},
   "outputs": [],
   "source": [
    "# Definimos tres variables numéricas de tipo int\n",
    "saldo = 235\n",
    "ingreso = 100\n",
    "gasto = 15"
   ]
  },
  {
   "cell_type": "code",
   "execution_count": null,
   "metadata": {},
   "outputs": [
    {
     "name": "stdout",
     "output_type": "stream",
     "text": [
      "Has recibido un ingreso, tu nuevo saldo es 335\n"
     ]
    }
   ],
   "source": [
    "print(\"Has recibido un ingreso, tu nuevo saldo es\", saldo + ingreso)"
   ]
  },
  {
   "cell_type": "code",
   "execution_count": null,
   "metadata": {},
   "outputs": [
    {
     "name": "stdout",
     "output_type": "stream",
     "text": [
      "Has gastado dinero, tu nuevo saldo es 220\n"
     ]
    }
   ],
   "source": [
    "print(\"Has gastado dinero, tu nuevo saldo es\", saldo - gasto)"
   ]
  },
  {
   "cell_type": "code",
   "execution_count": null,
   "metadata": {},
   "outputs": [
    {
     "name": "stdout",
     "output_type": "stream",
     "text": [
      "Has tenido múltiples movidas en tu cuenta, tu saldo actual es 320\n"
     ]
    }
   ],
   "source": [
    "saldo = saldo + ingreso - gasto\n",
    "print(\"Has tenido múltiples movidas en tu cuenta, tu saldo actual es\", saldo)"
   ]
  },
  {
   "cell_type": "code",
   "execution_count": null,
   "metadata": {},
   "outputs": [],
   "source": [
    "# Multiplicación y división\n",
    "unidades_por_pack_de_ahorro = 3\n",
    "pack_vendidos = 5"
   ]
  },
  {
   "cell_type": "code",
   "execution_count": null,
   "metadata": {},
   "outputs": [
    {
     "name": "stdout",
     "output_type": "stream",
     "text": [
      "Has vendido 15 unidades.\n"
     ]
    }
   ],
   "source": [
    "print(\"Has vendido\", unidades_por_pack_de_ahorro*pack_vendidos, \"unidades.\")"
   ]
  },
  {
   "cell_type": "code",
   "execution_count": null,
   "metadata": {},
   "outputs": [
    {
     "name": "stdout",
     "output_type": "stream",
     "text": [
      "Nos queda stock para vender 5.0 packs.\n"
     ]
    }
   ],
   "source": [
    "unidades_en_almacen = 15\n",
    "print(\"Nos queda stock para vender\", unidades_en_almacen/unidades_por_pack_de_ahorro, \"packs.\")"
   ]
  },
  {
   "cell_type": "code",
   "execution_count": null,
   "metadata": {},
   "outputs": [],
   "source": [
    "unidades_por_pack_de_ahorro = 3\n",
    "pack_vendidos = 5\n",
    "unidades_en_almacen = 17"
   ]
  },
  {
   "cell_type": "code",
   "execution_count": null,
   "metadata": {},
   "outputs": [
    {
     "name": "stdout",
     "output_type": "stream",
     "text": [
      "Has vendido 15 unidades.\n"
     ]
    }
   ],
   "source": [
    "print(\"Has vendido\", unidades_por_pack_de_ahorro*pack_vendidos, \"unidades.\")"
   ]
  },
  {
   "cell_type": "code",
   "execution_count": null,
   "metadata": {},
   "outputs": [
    {
     "name": "stdout",
     "output_type": "stream",
     "text": [
      "Nos queda stock para vender 5 packs, y 2 unidades sueltas.\n"
     ]
    }
   ],
   "source": [
    "print(\"Nos queda stock para vender\", unidades_en_almacen//unidades_por_pack_de_ahorro, \"packs, y\", unidades_en_almacen%unidades_por_pack_de_ahorro, \"unidades sueltas.\")"
   ]
  },
  {
   "cell_type": "code",
   "execution_count": null,
   "metadata": {},
   "outputs": [
    {
     "name": "stdout",
     "output_type": "stream",
     "text": [
      "Un paquete cúbido de 20 cm contiene 8.0 litros.\n"
     ]
    }
   ],
   "source": [
    "paquete_cm = 20\n",
    "paquete_litros = (paquete_cm / 10) ** 3\n",
    "print(\"Un paquete cúbido de\", paquete_cm, \"cm contiene\", paquete_litros, \"litros.\")"
   ]
  },
  {
   "cell_type": "code",
   "execution_count": null,
   "metadata": {},
   "outputs": [
    {
     "name": "stdout",
     "output_type": "stream",
     "text": [
      "La raiz de 5 es 2.23606797749979\n"
     ]
    }
   ],
   "source": [
    "variable = 5\n",
    "raiz = variable ** 0.5\n",
    "print(\"La raiz de\", variable, \"es\", raiz)"
   ]
  },
  {
   "cell_type": "code",
   "execution_count": null,
   "metadata": {},
   "outputs": [
    {
     "name": "stdout",
     "output_type": "stream",
     "text": [
      "13.14 €.\n"
     ]
    }
   ],
   "source": [
    "valor_del_stock = 236.45\n",
    "unidades_en_stock = 18\n",
    "precio_minimo_por_unidad = round(valor_del_stock/unidades_en_stock,2)\n",
    "print(precio_minimo_por_unidad, \"€.\")"
   ]
  },
  {
   "cell_type": "code",
   "execution_count": null,
   "metadata": {},
   "outputs": [
    {
     "name": "stdout",
     "output_type": "stream",
     "text": [
      "3 chuches.\n"
     ]
    }
   ],
   "source": [
    "ninos_en_clase = 29\n",
    "chuches_por_bolsa = 75\n",
    "chuches_por_nino = round(chuches_por_bolsa/ninos_en_clase)\n",
    "print(chuches_por_nino, \"chuches.\")"
   ]
  },
  {
   "cell_type": "markdown",
   "metadata": {},
   "source": [
    "OPERACIONES BINARIAS"
   ]
  },
  {
   "cell_type": "code",
   "execution_count": null,
   "metadata": {},
   "outputs": [],
   "source": [
    "cucharas_de_azucar = 5\n",
    "cucharas_en_receta1 = 7\n",
    "cucharas_en_receta2 = 5"
   ]
  },
  {
   "cell_type": "code",
   "execution_count": null,
   "metadata": {},
   "outputs": [
    {
     "name": "stdout",
     "output_type": "stream",
     "text": [
      "False\n"
     ]
    }
   ],
   "source": [
    "# Es el valor de cucharas de azucar = a cucharas en receta1.\n",
    "print(cucharas_de_azucar == cucharas_en_receta1)"
   ]
  },
  {
   "cell_type": "code",
   "execution_count": null,
   "metadata": {},
   "outputs": [
    {
     "name": "stdout",
     "output_type": "stream",
     "text": [
      "True\n"
     ]
    }
   ],
   "source": [
    "# Es el valor de cucharas de azucar = a cucharas en receta2.\n",
    "print(cucharas_de_azucar == cucharas_en_receta2)"
   ]
  },
  {
   "cell_type": "code",
   "execution_count": null,
   "metadata": {},
   "outputs": [
    {
     "name": "stdout",
     "output_type": "stream",
     "text": [
      "False\n"
     ]
    }
   ],
   "source": [
    "# Es el valor de la variable cucharas de azucar La variable cucharas en receta1\n",
    "print(cucharas_de_azucar is cucharas_en_receta1)"
   ]
  },
  {
   "cell_type": "code",
   "execution_count": null,
   "metadata": {},
   "outputs": [
    {
     "name": "stdout",
     "output_type": "stream",
     "text": [
      "True\n"
     ]
    }
   ],
   "source": [
    "# Es el valor de la variable cucharas de azucar La variable cucharas en receta2\n",
    "print(cucharas_de_azucar is cucharas_en_receta2)"
   ]
  },
  {
   "cell_type": "code",
   "execution_count": null,
   "metadata": {},
   "outputs": [],
   "source": [
    "# Comprobamos en caso de que fueran variables de tipo float\n",
    "cucharas_de_azucar = 5.0\n",
    "cucharas_en_receta2 = 5.0"
   ]
  },
  {
   "cell_type": "code",
   "execution_count": null,
   "metadata": {},
   "outputs": [
    {
     "name": "stdout",
     "output_type": "stream",
     "text": [
      "True\n"
     ]
    }
   ],
   "source": [
    "print(cucharas_de_azucar == cucharas_en_receta2)"
   ]
  },
  {
   "cell_type": "code",
   "execution_count": null,
   "metadata": {},
   "outputs": [
    {
     "name": "stdout",
     "output_type": "stream",
     "text": [
      "False\n"
     ]
    }
   ],
   "source": [
    "print(cucharas_de_azucar is cucharas_en_receta2)"
   ]
  },
  {
   "cell_type": "code",
   "execution_count": null,
   "metadata": {},
   "outputs": [],
   "source": [
    "cucharas_en_receta2 = 5.0\n",
    "cucharas_usadas = cucharas_en_receta2"
   ]
  },
  {
   "cell_type": "code",
   "execution_count": null,
   "metadata": {},
   "outputs": [
    {
     "name": "stdout",
     "output_type": "stream",
     "text": [
      "True\n"
     ]
    }
   ],
   "source": [
    "print(cucharas_usadas == cucharas_en_receta2)"
   ]
  },
  {
   "cell_type": "code",
   "execution_count": null,
   "metadata": {},
   "outputs": [
    {
     "name": "stdout",
     "output_type": "stream",
     "text": [
      "True\n"
     ]
    }
   ],
   "source": [
    "print(cucharas_usadas is cucharas_en_receta2)"
   ]
  },
  {
   "cell_type": "code",
   "execution_count": null,
   "metadata": {},
   "outputs": [
    {
     "name": "stdout",
     "output_type": "stream",
     "text": [
      "5.0\n",
      "5.0\n"
     ]
    }
   ],
   "source": [
    "# recordemos que valores tienen las variables cucharas_de_azucar y cucharas_en_receta2\n",
    "print(cucharas_de_azucar)\n",
    "print(cucharas_en_receta2)"
   ]
  },
  {
   "cell_type": "code",
   "execution_count": null,
   "metadata": {},
   "outputs": [],
   "source": [
    "# creemos una variable nueva que se llame cucharas_en_bote\n",
    "cucharas_en_bote = 5"
   ]
  },
  {
   "cell_type": "code",
   "execution_count": null,
   "metadata": {},
   "outputs": [
    {
     "name": "stdout",
     "output_type": "stream",
     "text": [
      "True\n"
     ]
    }
   ],
   "source": [
    "print(cucharas_de_azucar is not cucharas_en_receta2)"
   ]
  },
  {
   "cell_type": "code",
   "execution_count": null,
   "metadata": {},
   "outputs": [
    {
     "name": "stdout",
     "output_type": "stream",
     "text": [
      "False\n"
     ]
    }
   ],
   "source": [
    "print(cucharas_de_azucar != cucharas_en_receta2)"
   ]
  },
  {
   "cell_type": "code",
   "execution_count": null,
   "metadata": {},
   "outputs": [],
   "source": [
    "cucharas_que_quedan = 5\n",
    "cucharas_en_receta = 5"
   ]
  },
  {
   "cell_type": "code",
   "execution_count": null,
   "metadata": {},
   "outputs": [
    {
     "name": "stdout",
     "output_type": "stream",
     "text": [
      "Podemos hacer la receta si \n",
      "False es True\n",
      "False es True\n"
     ]
    }
   ],
   "source": [
    "print(\"Podemos hacer la receta si \")\n",
    "print(cucharas_en_receta < cucharas_que_quedan, \"es True\")\n",
    "print(cucharas_que_quedan > cucharas_en_receta, \"es True\")"
   ]
  },
  {
   "cell_type": "code",
   "execution_count": null,
   "metadata": {},
   "outputs": [
    {
     "name": "stdout",
     "output_type": "stream",
     "text": [
      "Podemos hacer la receta si:\n",
      "True es True\n",
      "True es True\n",
      "Nos sobrará azúcar si:\n",
      "True es True\n",
      "True es True\n"
     ]
    }
   ],
   "source": [
    "cucharas_que_quedan = 7\n",
    "cucharas_en_receta = 5\n",
    "\n",
    "print(\"Podemos hacer la receta si:\")\n",
    "print(cucharas_en_receta <= cucharas_que_quedan, \"es True\")\n",
    "print(cucharas_que_quedan >= cucharas_en_receta, \"es True\")\n",
    "print(\"Nos sobrará azúcar si:\")\n",
    "print(cucharas_en_receta < cucharas_que_quedan, \"es True\")\n",
    "print(cucharas_que_quedan > cucharas_en_receta, \"es True\")"
   ]
  },
  {
   "cell_type": "code",
   "execution_count": null,
   "metadata": {},
   "outputs": [],
   "source": [
    "huevos_que_quedan = 4\n",
    "azucar_que_queda_litros = 250\n",
    "harina_bizcocho_que_queda_gramos = 500\n",
    "harina_trigo_que_queda_gramos = 500\n",
    "impulsor_quimico_que_queda_cucharas = 2"
   ]
  },
  {
   "cell_type": "code",
   "execution_count": null,
   "metadata": {},
   "outputs": [
    {
     "name": "stdout",
     "output_type": "stream",
     "text": [
      "Podemos hacer la receta 1?\n",
      "True\n"
     ]
    }
   ],
   "source": [
    "print(\"Podemos hacer la receta 1?\")\n",
    "print(huevos_que_quedan >= 4\n",
    "    and azucar_que_queda_litros >= 120\n",
    "    and (harina_bizcocho_que_queda_gramos >= 120\n",
    "        or (harina_trigo_que_queda_gramos >= 120\n",
    "            and impulsor_quimico_que_queda_cucharas >= 1.5)))"
   ]
  },
  {
   "cell_type": "code",
   "execution_count": null,
   "metadata": {},
   "outputs": [],
   "source": [
    "huevos_que_quedan = 4\n",
    "azucar_que_queda_litros = 250\n",
    "harina_bizcocho_que_queda_gramos = 100\n",
    "harina_trigo_que_queda_gramos = 500\n",
    "impulsor_quimico_que_queda_cucharas = 2"
   ]
  },
  {
   "cell_type": "code",
   "execution_count": null,
   "metadata": {},
   "outputs": [
    {
     "name": "stdout",
     "output_type": "stream",
     "text": [
      "Podemos hacer la receta 1?\n",
      "True\n"
     ]
    }
   ],
   "source": [
    "print(\"Podemos hacer la receta 1?\")\n",
    "print(huevos_que_quedan >= 4\n",
    "    and azucar_que_queda_litros >= 120\n",
    "    and (harina_bizcocho_que_queda_gramos >= 120\n",
    "        or (harina_trigo_que_queda_gramos >= 120\n",
    "            and impulsor_quimico_que_queda_cucharas >= 1.5)))"
   ]
  },
  {
   "cell_type": "code",
   "execution_count": null,
   "metadata": {},
   "outputs": [],
   "source": [
    "huevos_que_quedan = 4\n",
    "azucar_que_queda_litros = 250\n",
    "harina_bizcocho_que_queda_gramos = 100\n",
    "harina_trigo_que_queda_gramos = 500\n",
    "impulsor_quimico_que_queda_cucharas = 1"
   ]
  },
  {
   "cell_type": "code",
   "execution_count": null,
   "metadata": {},
   "outputs": [
    {
     "name": "stdout",
     "output_type": "stream",
     "text": [
      "Podemos hacer la receta 1?\n",
      "False\n"
     ]
    }
   ],
   "source": [
    "print(\"Podemos hacer la receta 1?\")\n",
    "print(huevos_que_quedan >= 4\n",
    "    and azucar_que_queda_litros >= 120\n",
    "    and (harina_bizcocho_que_queda_gramos >= 120\n",
    "        or (harina_trigo_que_queda_gramos >= 120\n",
    "            and impulsor_quimico_que_queda_cucharas >= 1.5)))"
   ]
  },
  {
   "cell_type": "markdown",
   "metadata": {},
   "source": [
    "METODOS DE LOS STRING Y FUNCIONES"
   ]
  },
  {
   "cell_type": "markdown",
   "metadata": {},
   "source": [
    "INPUT()"
   ]
  },
  {
   "cell_type": "code",
   "execution_count": null,
   "metadata": {},
   "outputs": [],
   "source": [
    "hola = 'Hello'\n",
    "nombre = 'Ada'\n",
    "apellido = 'Lovelace'"
   ]
  },
  {
   "cell_type": "code",
   "execution_count": null,
   "metadata": {},
   "outputs": [
    {
     "name": "stdout",
     "output_type": "stream",
     "text": [
      "Ada Lovelace\n"
     ]
    }
   ],
   "source": [
    "nombre_completo = nombre + ' ' + apellido\n",
    "print(nombre_completo)"
   ]
  },
  {
   "cell_type": "code",
   "execution_count": null,
   "metadata": {},
   "outputs": [
    {
     "name": "stdout",
     "output_type": "stream",
     "text": [
      "Ada Lovelace\n"
     ]
    }
   ],
   "source": [
    "print(nombre, apellido)"
   ]
  },
  {
   "cell_type": "code",
   "execution_count": null,
   "metadata": {},
   "outputs": [
    {
     "name": "stdout",
     "output_type": "stream",
     "text": [
      "Sandra\n"
     ]
    }
   ],
   "source": [
    "nombre = input()\n",
    "print(nombre)"
   ]
  },
  {
   "cell_type": "code",
   "execution_count": null,
   "metadata": {},
   "outputs": [
    {
     "name": "stdout",
     "output_type": "stream",
     "text": [
      "Hello Sandra, ¡bienvenida a este bootcamp!\n"
     ]
    }
   ],
   "source": [
    "bienvenida = hola + ' ' + nombre + ', ¡bienvenida a este bootcamp!'\n",
    "print(bienvenida)"
   ]
  },
  {
   "cell_type": "markdown",
   "metadata": {},
   "source": [
    "UPPER()"
   ]
  },
  {
   "cell_type": "code",
   "execution_count": null,
   "metadata": {},
   "outputs": [
    {
     "name": "stdout",
     "output_type": "stream",
     "text": [
      "HELLO SANDRA, ¡BIENVENIDA A ESTE BOOTCAMP!\n"
     ]
    }
   ],
   "source": [
    "# Convertimos todas las letras a mayúsculas\n",
    "print(bienvenida.upper())"
   ]
  },
  {
   "cell_type": "code",
   "execution_count": null,
   "metadata": {},
   "outputs": [
    {
     "name": "stdout",
     "output_type": "stream",
     "text": [
      "Hello Sandra, ¡bienvenida a este bootcamp!\n"
     ]
    }
   ],
   "source": [
    "print(bienvenida)"
   ]
  },
  {
   "cell_type": "code",
   "execution_count": null,
   "metadata": {},
   "outputs": [
    {
     "name": "stdout",
     "output_type": "stream",
     "text": [
      "HELLO SANDRA, ¡BIENVENIDA A ESTE BOOTCAMP!\n"
     ]
    }
   ],
   "source": [
    "bienvenida_mayus = bienvenida.upper()\n",
    "print(bienvenida_mayus)"
   ]
  },
  {
   "cell_type": "markdown",
   "metadata": {},
   "source": [
    "LOWER()"
   ]
  },
  {
   "cell_type": "code",
   "execution_count": null,
   "metadata": {},
   "outputs": [
    {
     "name": "stdout",
     "output_type": "stream",
     "text": [
      "hello sandra, ¡bienvenida a este bootcamp!\n"
     ]
    }
   ],
   "source": [
    "# Convertimos todas las letras a minúsculas\n",
    "print(bienvenida.lower())"
   ]
  },
  {
   "cell_type": "markdown",
   "metadata": {},
   "source": [
    "CAPITALIZE()"
   ]
  },
  {
   "cell_type": "code",
   "execution_count": null,
   "metadata": {},
   "outputs": [
    {
     "name": "stdout",
     "output_type": "stream",
     "text": [
      "Hello sandra, ¡bienvenida a este bootcamp!\n"
     ]
    }
   ],
   "source": [
    "# Poner la primera letra de la frase en mayúscula\n",
    "print(bienvenida.capitalize())"
   ]
  },
  {
   "cell_type": "markdown",
   "metadata": {},
   "source": [
    "TITLE()"
   ]
  },
  {
   "cell_type": "code",
   "execution_count": null,
   "metadata": {},
   "outputs": [
    {
     "name": "stdout",
     "output_type": "stream",
     "text": [
      "Hello Sandra, ¡Bienvenida A Este Bootcamp!\n"
     ]
    }
   ],
   "source": [
    "# Poner la primera letra de cada palabra en mayúscula\n",
    "print(bienvenida.title())"
   ]
  },
  {
   "cell_type": "markdown",
   "metadata": {},
   "source": [
    "SWAPCASE()"
   ]
  },
  {
   "cell_type": "code",
   "execution_count": null,
   "metadata": {},
   "outputs": [
    {
     "name": "stdout",
     "output_type": "stream",
     "text": [
      "hELLO sANDRA, ¡BIENVENIDA A ESTE BOOTCAMP!\n"
     ]
    }
   ],
   "source": [
    "# Convertir las mayúsculas en minúsculas y las minúsculas en mayúsculas\n",
    "print(bienvenida.swapcase())"
   ]
  },
  {
   "cell_type": "markdown",
   "metadata": {},
   "source": [
    "STRIP()"
   ]
  },
  {
   "cell_type": "code",
   "execution_count": null,
   "metadata": {},
   "outputs": [
    {
     "name": "stdout",
     "output_type": "stream",
     "text": [
      "    Nos alegra que estés aquí\n"
     ]
    }
   ],
   "source": [
    "# Quitar todos los espacios que haya al principio y al final del string\n",
    "bienvenida2 = '    Nos alegra que estés aquí'\n",
    "print(bienvenida2)"
   ]
  },
  {
   "cell_type": "code",
   "execution_count": null,
   "metadata": {},
   "outputs": [
    {
     "name": "stdout",
     "output_type": "stream",
     "text": [
      "Nos alegra que estés aquí\n"
     ]
    }
   ],
   "source": [
    "print(bienvenida2.strip())"
   ]
  },
  {
   "cell_type": "code",
   "execution_count": null,
   "metadata": {},
   "outputs": [
    {
     "data": {
      "text/plain": [
       "'    Nos alegra que estés aquí'"
      ]
     },
     "execution_count": 103,
     "metadata": {},
     "output_type": "execute_result"
    }
   ],
   "source": [
    "bienvenida2"
   ]
  },
  {
   "cell_type": "code",
   "execution_count": null,
   "metadata": {},
   "outputs": [],
   "source": [
    "bienvenida2_strip = bienvenida2.strip()"
   ]
  },
  {
   "cell_type": "code",
   "execution_count": null,
   "metadata": {},
   "outputs": [
    {
     "data": {
      "text/plain": [
       "'Nos alegra que estés aquí'"
      ]
     },
     "execution_count": 105,
     "metadata": {},
     "output_type": "execute_result"
    }
   ],
   "source": [
    "bienvenida2_strip"
   ]
  },
  {
   "cell_type": "markdown",
   "metadata": {},
   "source": [
    "SPLIT()"
   ]
  },
  {
   "cell_type": "code",
   "execution_count": null,
   "metadata": {},
   "outputs": [],
   "source": [
    "# Definimos un nuevo string\n",
    "saludo = \"Buenos días chicas, sigamos aprendiendo métodos de los strings\""
   ]
  },
  {
   "cell_type": "code",
   "execution_count": null,
   "metadata": {},
   "outputs": [
    {
     "data": {
      "text/plain": [
       "['Buenos',\n",
       " 'días',\n",
       " 'chicas,',\n",
       " 'sigamos',\n",
       " 'aprendiendo',\n",
       " 'métodos',\n",
       " 'de',\n",
       " 'los',\n",
       " 'strings']"
      ]
     },
     "execution_count": 107,
     "metadata": {},
     "output_type": "execute_result"
    }
   ],
   "source": [
    "# Si hacemos un split sin especificar separador, veremos que nos devuelve una lista donde separa nuestro string por los espacios\n",
    "saludo_separado = saludo.split()\n",
    "saludo_separado"
   ]
  },
  {
   "cell_type": "code",
   "execution_count": null,
   "metadata": {},
   "outputs": [
    {
     "data": {
      "text/plain": [
       "['Buenos ',\n",
       " 'ías chicas, sigamos apren',\n",
       " 'ien',\n",
       " 'o méto',\n",
       " 'os ',\n",
       " 'e los strings']"
      ]
     },
     "execution_count": 108,
     "metadata": {},
     "output_type": "execute_result"
    }
   ],
   "source": [
    "# También se puede especificar un separador, en este caso, por las \"d\"\n",
    "saludo_separado2 = saludo.split(\"d\")\n",
    "saludo_separado2"
   ]
  },
  {
   "cell_type": "code",
   "execution_count": null,
   "metadata": {},
   "outputs": [],
   "source": [
    "don_quijote = \"\"\"En un lugar de la Mancha, de cuyo nombre no quiero acordarme, no ha mucho tiempo que vivía un hidalgo de los de \n",
    "lanza en astillero, adarga antigua, rocín flaco y galgo corredor. Una olla de algo más vaca que carnero, salpicón las más noches,\n",
    "duelos y quebrantos los sábados, lantejas los viernes, algún palomino de añadidura los domingos, \n",
    "consumían las tres partes de su hacienda.\"\"\""
   ]
  },
  {
   "cell_type": "code",
   "execution_count": null,
   "metadata": {},
   "outputs": [
    {
     "data": {
      "text/plain": [
       "'En un lugar de la Mancha, de cuyo nombre no quiero acordarme, no ha mucho tiempo que vivía un hidalgo de los de \\nlanza en astillero, adarga antigua, rocín flaco y galgo corredor. Una olla de algo más vaca que carnero, salpicón las más noches,\\nduelos y quebrantos los sábados, lantejas los viernes, algún palomino de añadidura los domingos, \\nconsumían las tres partes de su hacienda.'"
      ]
     },
     "execution_count": 110,
     "metadata": {},
     "output_type": "execute_result"
    }
   ],
   "source": [
    "#Cada línea está separada por una \"\\n\", es el símbolo que usará python para indicar el salto de línea\n",
    "don_quijote"
   ]
  },
  {
   "cell_type": "code",
   "execution_count": null,
   "metadata": {},
   "outputs": [
    {
     "data": {
      "text/plain": [
       "['En un lugar de la Mancha, de cuyo nombre no quiero acordarme, no ha mucho tiempo que vivía un hidalgo de los de ',\n",
       " 'lanza en astillero, adarga antigua, rocín flaco y galgo corredor. Una olla de algo más vaca que carnero, salpicón las más noches,',\n",
       " 'duelos y quebrantos los sábados, lantejas los viernes, algún palomino de añadidura los domingos, ',\n",
       " 'consumían las tres partes de su hacienda.']"
      ]
     },
     "execution_count": 111,
     "metadata": {},
     "output_type": "execute_result"
    }
   ],
   "source": [
    "# Separamos los string por esos saltos de línea\n",
    "don_quijote_separado = don_quijote.split(\"\\n\")\n",
    "don_quijote_separado"
   ]
  },
  {
   "cell_type": "markdown",
   "metadata": {},
   "source": [
    "REPLACE()"
   ]
  },
  {
   "cell_type": "code",
   "execution_count": null,
   "metadata": {},
   "outputs": [
    {
     "data": {
      "text/plain": [
       "'Buenos días chicas, sigamos aprendiendo métodos de los strings'"
      ]
     },
     "execution_count": 112,
     "metadata": {},
     "output_type": "execute_result"
    }
   ],
   "source": [
    "# recordemos que era saludo\n",
    "saludo"
   ]
  },
  {
   "cell_type": "code",
   "execution_count": null,
   "metadata": {},
   "outputs": [
    {
     "data": {
      "text/plain": [
       "'Buenos días Adalaber, sigamos aprendiendo métodos de los strings'"
      ]
     },
     "execution_count": 113,
     "metadata": {},
     "output_type": "execute_result"
    }
   ],
   "source": [
    "# reemplzamos la palabra chicas por Adalabers\n",
    "saludo_adalaber = saludo.replace(\"chicas\", \"Adalaber\")\n",
    "saludo_adalaber"
   ]
  },
  {
   "cell_type": "code",
   "execution_count": null,
   "metadata": {},
   "outputs": [
    {
     "data": {
      "text/plain": [
       "'En un lugar de la Mancha, de cuyo nombre no quiero acordarme, no ha mucho tiempo que vivía un hidalgo de los de \\nlanza en astillero, adarga antigua, rocín flaco y galgo corredor. Una olla de algo más vaca que carnero, salpicón las más noches,\\nduelos y quebrantos los sábados, lantejas los viernes, algún palomino de añadidura los domingos, \\nconsumían las tres partes de su hacienda.'"
      ]
     },
     "execution_count": 114,
     "metadata": {},
     "output_type": "execute_result"
    }
   ],
   "source": [
    "# volvamos a ver el don quijote\n",
    "don_quijote"
   ]
  },
  {
   "cell_type": "code",
   "execution_count": null,
   "metadata": {},
   "outputs": [
    {
     "data": {
      "text/plain": [
       "'En un lugar de la Mancha, de cuyo nombre no quiero acordarme, no ha mucho tiempo que vivía un hidalgo de DON QUIJOTE de \\nlanza en astillero, adarga antigua, rocín flaco y galgo corredor. Una olla de algo más vaca que carnero, salpicón las más noches,\\nduelos y quebrantos DON QUIJOTE sábados, lantejas los viernes, algún palomino de añadidura los domingos, \\nconsumían las tres partes de su hacienda.'"
      ]
     },
     "execution_count": 115,
     "metadata": {},
     "output_type": "execute_result"
    }
   ],
   "source": [
    "# reemplazamos los dos primeros \"los\"\n",
    "don_quijote_cambiado = don_quijote.replace(\" los \", \" DON QUIJOTE \", 2)\n",
    "don_quijote_cambiado"
   ]
  },
  {
   "cell_type": "markdown",
   "metadata": {},
   "source": [
    "JOIN()"
   ]
  },
  {
   "cell_type": "code",
   "execution_count": null,
   "metadata": {},
   "outputs": [],
   "source": [
    "# Definimos una lista\n",
    "lista_saludo = [\"Hola\", \"que tal estás\", \"Adalaber\"]"
   ]
  },
  {
   "cell_type": "code",
   "execution_count": null,
   "metadata": {},
   "outputs": [
    {
     "data": {
      "text/plain": [
       "'Hola que tal estás Adalaber'"
      ]
     },
     "execution_count": 117,
     "metadata": {},
     "output_type": "execute_result"
    }
   ],
   "source": [
    "string_saludo1 = \" \".join(lista_saludo)\n",
    "string_saludo1"
   ]
  },
  {
   "cell_type": "code",
   "execution_count": null,
   "metadata": {},
   "outputs": [
    {
     "data": {
      "text/plain": [
       "'Hola_que tal estás_Adalaber'"
      ]
     },
     "execution_count": 118,
     "metadata": {},
     "output_type": "execute_result"
    }
   ],
   "source": [
    "string_saludo2 = \"_\".join(lista_saludo)\n",
    "string_saludo2"
   ]
  },
  {
   "cell_type": "code",
   "execution_count": null,
   "metadata": {},
   "outputs": [
    {
     "data": {
      "text/plain": [
       "'Buenos días chicas, sigamos aprendiendo métodos de los strings'"
      ]
     },
     "execution_count": 119,
     "metadata": {},
     "output_type": "execute_result"
    }
   ],
   "source": [
    "# recordemos saludo\n",
    "saludo"
   ]
  },
  {
   "cell_type": "code",
   "execution_count": null,
   "metadata": {},
   "outputs": [
    {
     "data": {
      "text/plain": [
       "24"
      ]
     },
     "execution_count": 120,
     "metadata": {},
     "output_type": "execute_result"
    }
   ],
   "source": [
    "# buscamos las \"m\" del saludo, empezando por la letra en la posición 10, hasta la letra en la posición 30\n",
    "saludo.find(\"m\", 10, 30)"
   ]
  },
  {
   "cell_type": "code",
   "execution_count": null,
   "metadata": {},
   "outputs": [],
   "source": [
    "# probamos un metodo de string en un integer\n",
    "numero = 5"
   ]
  },
  {
   "cell_type": "code",
   "execution_count": null,
   "metadata": {},
   "outputs": [
    {
     "ename": "AttributeError",
     "evalue": "'int' object has no attribute 'upper'",
     "output_type": "error",
     "traceback": [
      "\u001b[1;31m---------------------------------------------------------------------------\u001b[0m",
      "\u001b[1;31mAttributeError\u001b[0m                            Traceback (most recent call last)",
      "\u001b[1;32mc:\\Users\\sandr\\Desktop\\adalab\\ejercicios-de-adalab\\python\\modulo-1-leccion-01-variables\\variables.ipynb Celda 140\u001b[0m in \u001b[0;36m<cell line: 1>\u001b[1;34m()\u001b[0m\n\u001b[1;32m----> <a href='vscode-notebook-cell:/c%3A/Users/sandr/Desktop/adalab/ejercicios-de-adalab/python/modulo-1-leccion-01-variables/variables.ipynb#Y256sZmlsZQ%3D%3D?line=0'>1</a>\u001b[0m numero\u001b[39m.\u001b[39;49mupper()\n",
      "\u001b[1;31mAttributeError\u001b[0m: 'int' object has no attribute 'upper'"
     ]
    }
   ],
   "source": [
    "numero.upper()"
   ]
  },
  {
   "cell_type": "code",
   "execution_count": null,
   "metadata": {},
   "outputs": [
    {
     "data": {
      "text/plain": [
       "36.5"
      ]
     },
     "execution_count": 123,
     "metadata": {},
     "output_type": "execute_result"
    }
   ],
   "source": [
    "vacas = 5\n",
    "temperatura = 36.5\n",
    "\n",
    "vacas\n",
    "temperatura"
   ]
  },
  {
   "cell_type": "code",
   "execution_count": null,
   "metadata": {},
   "outputs": [],
   "source": [
    "nombre = input(\"Dime tu nombre\").strip()"
   ]
  },
  {
   "cell_type": "markdown",
   "metadata": {},
   "source": [
    "DEFINIR UNA LISTA"
   ]
  },
  {
   "cell_type": "code",
   "execution_count": 21,
   "metadata": {},
   "outputs": [],
   "source": [
    "lista_de_compra = [\"peras\"]\n",
    "notas_biologia_este_año = [7]"
   ]
  },
  {
   "cell_type": "code",
   "execution_count": 22,
   "metadata": {},
   "outputs": [
    {
     "name": "stdout",
     "output_type": "stream",
     "text": [
      "<class 'list'>\n"
     ]
    }
   ],
   "source": [
    "print(type(lista_de_compra))"
   ]
  },
  {
   "cell_type": "code",
   "execution_count": 23,
   "metadata": {},
   "outputs": [
    {
     "data": {
      "text/plain": [
       "True"
      ]
     },
     "execution_count": 23,
     "metadata": {},
     "output_type": "execute_result"
    }
   ],
   "source": [
    "isinstance(notas_biologia_este_año,list)"
   ]
  },
  {
   "cell_type": "code",
   "execution_count": 24,
   "metadata": {},
   "outputs": [
    {
     "name": "stdout",
     "output_type": "stream",
     "text": [
      "[]\n"
     ]
    }
   ],
   "source": [
    "# denifimos una lista vacía\n",
    "notas_biologia_este_año = []\n",
    "\n",
    "# veremos que la lista está vacía\n",
    "print(notas_biologia_este_año)"
   ]
  },
  {
   "cell_type": "code",
   "execution_count": 25,
   "metadata": {},
   "outputs": [],
   "source": [
    "# definimos tres variables con las notas de nuestros exámenes\n",
    "examen_bio_1 = 8\n",
    "examen_bio_2 = 7.5\n",
    "examen_bio_3 = 4"
   ]
  },
  {
   "cell_type": "code",
   "execution_count": 26,
   "metadata": {},
   "outputs": [
    {
     "name": "stdout",
     "output_type": "stream",
     "text": [
      "[8, 7.5, 4]\n"
     ]
    }
   ],
   "source": [
    "# creo la lista de nuevo, pero en este caso le paso valores, en concreto le paso los nombres\n",
    "notas_biologia_este_año = [examen_bio_1, examen_bio_2, examen_bio_3]\n",
    "\n",
    "# con este print podremos ver cual es el contenido de nuestra lista ahora. Veremos que, las valores de la lista son lo que definimos con las variables examen_bio_1, examen_bio_2 y examen_bio_3\n",
    "print(notas_biologia_este_año)"
   ]
  },
  {
   "cell_type": "code",
   "execution_count": 27,
   "metadata": {},
   "outputs": [],
   "source": [
    "# definimos la lista con las notas del año pasado\n",
    "notas_biologia_primer_año = [8.3, 6.7, 9.0, 7.5, 5.8, 6.8, 9.0, 6.8]"
   ]
  },
  {
   "cell_type": "code",
   "execution_count": 28,
   "metadata": {},
   "outputs": [
    {
     "name": "stdout",
     "output_type": "stream",
     "text": [
      "[[8.3, 6.7, 9.0, 7.5, 5.8, 6.8, 9.0, 6.8], [8, 7.5, 4]]\n"
     ]
    }
   ],
   "source": [
    "# al inicio de la leccion comentamos que las listas pueden contener cualquier tipo de dato. En este caso, vamos a crear una lista que contendrá dos listas. La primera con los datos del primer año y la segunda con los datos del segundo año.\n",
    "notas_biologia = [notas_biologia_primer_año, notas_biologia_este_año]\n",
    "\n",
    "# con este print veremos que tenemos una lista grande, con dos listas más pequeñas en su interior. Recordad que las listas vienen definidas por []\n",
    "print(notas_biologia)"
   ]
  },
  {
   "cell_type": "code",
   "execution_count": 29,
   "metadata": {},
   "outputs": [
    {
     "data": {
      "text/plain": [
       "['A', 'D', 'B', 6.0, 7.1, 6.8, 8.2, 6.8]"
      ]
     },
     "execution_count": 29,
     "metadata": {},
     "output_type": "execute_result"
    }
   ],
   "source": [
    "# definimos una nueva lista que va a contener strings y números\n",
    "notas_biologia_segundo_año = ['A', 'D', 'B', 6.0, 7.1, 6.8, 8.2, 6.8]\n",
    "notas_biologia_segundo_año"
   ]
  },
  {
   "cell_type": "code",
   "execution_count": 30,
   "metadata": {},
   "outputs": [
    {
     "data": {
      "text/plain": [
       "[[8.3, 6.7, 9.0, 7.5, 5.8, 6.8, 9.0, 6.8],\n",
       " ['A', 'D', 'B', 6.0, 7.1, 6.8, 8.2, 6.8],\n",
       " [8, 7.5, 4]]"
      ]
     },
     "execution_count": 30,
     "metadata": {},
     "output_type": "execute_result"
    }
   ],
   "source": [
    "# juntamos las tres listas\n",
    "notas_biologia = [notas_biologia_primer_año, notas_biologia_segundo_año, notas_biologia_este_año]\n",
    "\n",
    "#vemos su contenido\n",
    "notas_biologia"
   ]
  },
  {
   "cell_type": "code",
   "execution_count": 31,
   "metadata": {},
   "outputs": [
    {
     "name": "stdout",
     "output_type": "stream",
     "text": [
      "[8.3, 6.7, 9.0, 7.5, 5.8, 6.8, 9.0, 6.8, 'A', 'D', 'B', 6.0, 7.1, 6.8, 8.2, 6.8, 8, 7.5, 4]\n"
     ]
    }
   ],
   "source": [
    "# juntamos las tres listas usando el operador +\n",
    "print(notas_biologia_primer_año + notas_biologia_segundo_año + notas_biologia_este_año)"
   ]
  },
  {
   "cell_type": "code",
   "execution_count": 32,
   "metadata": {},
   "outputs": [
    {
     "data": {
      "text/plain": [
       "['L', 'o', 'v', 'e', 'l', 'a', 'c', 'e']"
      ]
     },
     "execution_count": 32,
     "metadata": {},
     "output_type": "execute_result"
    }
   ],
   "source": [
    "# definimos una variable de tipo string\n",
    "apellido = 'Lovelace'\n",
    "\n",
    "# la convertimos a lista\n",
    "list(apellido)"
   ]
  },
  {
   "cell_type": "code",
   "execution_count": 33,
   "metadata": {},
   "outputs": [
    {
     "data": {
      "text/plain": [
       "'Lovelace'"
      ]
     },
     "execution_count": 33,
     "metadata": {},
     "output_type": "execute_result"
    }
   ],
   "source": [
    "apellido"
   ]
  },
  {
   "cell_type": "code",
   "execution_count": 34,
   "metadata": {},
   "outputs": [],
   "source": [
    "apellido2 = list(apellido)"
   ]
  },
  {
   "cell_type": "code",
   "execution_count": 35,
   "metadata": {},
   "outputs": [
    {
     "data": {
      "text/plain": [
       "['L', 'o', 'v', 'e', 'l', 'a', 'c', 'e']"
      ]
     },
     "execution_count": 35,
     "metadata": {},
     "output_type": "execute_result"
    }
   ],
   "source": [
    "apellido2"
   ]
  },
  {
   "cell_type": "code",
   "execution_count": 36,
   "metadata": {},
   "outputs": [],
   "source": [
    "# definimos la variable numérica\n",
    "numero = 22"
   ]
  },
  {
   "cell_type": "code",
   "execution_count": 37,
   "metadata": {},
   "outputs": [
    {
     "ename": "TypeError",
     "evalue": "'int' object is not iterable",
     "output_type": "error",
     "traceback": [
      "\u001b[0;31m---------------------------------------------------------------------------\u001b[0m",
      "\u001b[0;31mTypeError\u001b[0m                                 Traceback (most recent call last)",
      "\u001b[0;32m/tmp/ipykernel_385/1914473122.py\u001b[0m in \u001b[0;36m<module>\u001b[0;34m\u001b[0m\n\u001b[0;32m----> 1\u001b[0;31m \u001b[0mlist\u001b[0m\u001b[0;34m(\u001b[0m\u001b[0mnumero\u001b[0m\u001b[0;34m)\u001b[0m\u001b[0;34m\u001b[0m\u001b[0;34m\u001b[0m\u001b[0m\n\u001b[0m",
      "\u001b[0;31mTypeError\u001b[0m: 'int' object is not iterable"
     ]
    }
   ],
   "source": [
    "list(numero)"
   ]
  },
  {
   "cell_type": "markdown",
   "metadata": {},
   "source": [
    "PROPIEDADES DE UNA LISTA"
   ]
  },
  {
   "cell_type": "code",
   "execution_count": 38,
   "metadata": {},
   "outputs": [
    {
     "data": {
      "text/plain": [
       "[8.3, 6.7, 9.0, 7.5, 5.8, 6.8, 9.0, 6.8]"
      ]
     },
     "execution_count": 38,
     "metadata": {},
     "output_type": "execute_result"
    }
   ],
   "source": [
    "# recordemos la variable notas_biologia_primer_año\n",
    "notas_biologia_primer_año"
   ]
  },
  {
   "cell_type": "code",
   "execution_count": 39,
   "metadata": {},
   "outputs": [
    {
     "name": "stdout",
     "output_type": "stream",
     "text": [
      "8\n"
     ]
    }
   ],
   "source": [
    "# veamos cuántas notas tenemos en la lista\n",
    "cantidad_de_notas = len(notas_biologia_primer_año)\n",
    "print(cantidad_de_notas)"
   ]
  },
  {
   "cell_type": "code",
   "execution_count": 40,
   "metadata": {},
   "outputs": [
    {
     "name": "stdout",
     "output_type": "stream",
     "text": [
      "Mi nota mínima fue: 5.8\n",
      "Mi nota máxima fue: 9.0\n"
     ]
    }
   ],
   "source": [
    "minima = min(notas_biologia_primer_año)\n",
    "maxima = max(notas_biologia_primer_año)\n",
    "print(\"Mi nota mínima fue:\", minima)\n",
    "print(\"Mi nota máxima fue:\", maxima)"
   ]
  },
  {
   "cell_type": "code",
   "execution_count": 41,
   "metadata": {},
   "outputs": [
    {
     "data": {
      "text/plain": [
       "['A', 'D', 'B', 6.0, 7.1, 6.8, 8.2, 6.8]"
      ]
     },
     "execution_count": 41,
     "metadata": {},
     "output_type": "execute_result"
    }
   ],
   "source": [
    "# recordemos como era la lista notas_biologia_segundo_año\n",
    "notas_biologia_segundo_año"
   ]
  },
  {
   "cell_type": "code",
   "execution_count": 42,
   "metadata": {},
   "outputs": [
    {
     "ename": "TypeError",
     "evalue": "'<' not supported between instances of 'float' and 'str'",
     "output_type": "error",
     "traceback": [
      "\u001b[0;31m---------------------------------------------------------------------------\u001b[0m",
      "\u001b[0;31mTypeError\u001b[0m                                 Traceback (most recent call last)",
      "\u001b[0;32m/tmp/ipykernel_385/2819785731.py\u001b[0m in \u001b[0;36m<module>\u001b[0;34m\u001b[0m\n\u001b[0;32m----> 1\u001b[0;31m \u001b[0mmin\u001b[0m\u001b[0;34m(\u001b[0m\u001b[0mnotas_biologia_segundo_año\u001b[0m\u001b[0;34m)\u001b[0m\u001b[0;34m\u001b[0m\u001b[0;34m\u001b[0m\u001b[0m\n\u001b[0m",
      "\u001b[0;31mTypeError\u001b[0m: '<' not supported between instances of 'float' and 'str'"
     ]
    }
   ],
   "source": [
    "min(notas_biologia_segundo_año)"
   ]
  },
  {
   "cell_type": "code",
   "execution_count": 43,
   "metadata": {},
   "outputs": [],
   "source": [
    "mi_lista = [\"Hola\", \"Adalaber\"]"
   ]
  },
  {
   "cell_type": "code",
   "execution_count": 44,
   "metadata": {},
   "outputs": [
    {
     "data": {
      "text/plain": [
       "'Adalaber'"
      ]
     },
     "execution_count": 44,
     "metadata": {},
     "output_type": "execute_result"
    }
   ],
   "source": [
    "min(mi_lista)"
   ]
  },
  {
   "cell_type": "code",
   "execution_count": 45,
   "metadata": {},
   "outputs": [
    {
     "data": {
      "text/plain": [
       "'Hola'"
      ]
     },
     "execution_count": 45,
     "metadata": {},
     "output_type": "execute_result"
    }
   ],
   "source": [
    "max(mi_lista)"
   ]
  },
  {
   "cell_type": "code",
   "execution_count": 46,
   "metadata": {},
   "outputs": [
    {
     "data": {
      "text/plain": [
       "[8.3, 6.7, 9.0, 7.5, 5.8, 6.8, 9.0, 6.8]"
      ]
     },
     "execution_count": 46,
     "metadata": {},
     "output_type": "execute_result"
    }
   ],
   "source": [
    "# recordemos la lista notas_biologia_primer_año\n",
    "notas_biologia_primer_año"
   ]
  },
  {
   "cell_type": "code",
   "execution_count": 47,
   "metadata": {},
   "outputs": [
    {
     "data": {
      "text/plain": [
       "False"
      ]
     },
     "execution_count": 47,
     "metadata": {},
     "output_type": "execute_result"
    }
   ],
   "source": [
    "# usamos el operador \"in\" para preguntarle a Python si el valor 6.0 está contenido en la lista notas_biologia_primer_año\n",
    "6.0 in notas_biologia_primer_año"
   ]
  },
  {
   "cell_type": "code",
   "execution_count": 48,
   "metadata": {},
   "outputs": [
    {
     "data": {
      "text/plain": [
       "True"
      ]
     },
     "execution_count": 48,
     "metadata": {},
     "output_type": "execute_result"
    }
   ],
   "source": [
    "# usamos el operador \"in\" para preguntarle a Python si la nota 8.3 está contenido en la lista notas_biologia_primer_año\n",
    "8.3 in notas_biologia_primer_año"
   ]
  },
  {
   "cell_type": "code",
   "execution_count": 49,
   "metadata": {},
   "outputs": [
    {
     "data": {
      "text/plain": [
       "[[8.3, 6.7, 9.0, 7.5, 5.8, 6.8, 9.0, 6.8],\n",
       " ['A', 'D', 'B', 6.0, 7.1, 6.8, 8.2, 6.8],\n",
       " [8, 7.5, 4]]"
      ]
     },
     "execution_count": 49,
     "metadata": {},
     "output_type": "execute_result"
    }
   ],
   "source": [
    "# juntamos las tres listas, obteniendo una lista de tres listas\n",
    "notas_biologia = [notas_biologia_primer_año, notas_biologia_segundo_año, notas_biologia_este_año]\n",
    "notas_biologia"
   ]
  },
  {
   "cell_type": "code",
   "execution_count": 50,
   "metadata": {},
   "outputs": [
    {
     "data": {
      "text/plain": [
       "True"
      ]
     },
     "execution_count": 50,
     "metadata": {},
     "output_type": "execute_result"
    }
   ],
   "source": [
    "# está el número 6 en la lista notas_biologia_segundo_año?\n",
    "6 in notas_biologia_segundo_año"
   ]
  },
  {
   "cell_type": "code",
   "execution_count": 51,
   "metadata": {},
   "outputs": [
    {
     "data": {
      "text/plain": [
       "False"
      ]
     },
     "execution_count": 51,
     "metadata": {},
     "output_type": "execute_result"
    }
   ],
   "source": [
    "# esta el numero 6 en la lista de listas?\n",
    "6 in notas_biologia"
   ]
  },
  {
   "cell_type": "code",
   "execution_count": 52,
   "metadata": {},
   "outputs": [
    {
     "data": {
      "text/plain": [
       "True"
      ]
     },
     "execution_count": 52,
     "metadata": {},
     "output_type": "execute_result"
    }
   ],
   "source": [
    "8 not in notas_biologia_primer_año"
   ]
  },
  {
   "cell_type": "code",
   "execution_count": 53,
   "metadata": {},
   "outputs": [
    {
     "data": {
      "text/plain": [
       "False"
      ]
     },
     "execution_count": 53,
     "metadata": {},
     "output_type": "execute_result"
    }
   ],
   "source": [
    "8.3 not in notas_biologia_primer_año"
   ]
  },
  {
   "cell_type": "markdown",
   "metadata": {},
   "source": [
    "METODOS PARA LISTAS"
   ]
  },
  {
   "cell_type": "code",
   "execution_count": 54,
   "metadata": {},
   "outputs": [
    {
     "name": "stdout",
     "output_type": "stream",
     "text": [
      "[8.3, 6.7, 9.0, 7.5, 5.8, 6.8, 9.0, 6.8, 'A', 'D', 'B', 6.0, 7.1, 6.8, 8.2, 6.8, 8, 7.5, 4]\n"
     ]
    }
   ],
   "source": [
    "# definimos la lista de notas\n",
    "notas = notas_biologia_primer_año + notas_biologia_segundo_año + notas_biologia_este_año\n",
    "print(notas)"
   ]
  },
  {
   "cell_type": "markdown",
   "metadata": {},
   "source": [
    "COPY()"
   ]
  },
  {
   "cell_type": "code",
   "execution_count": 55,
   "metadata": {},
   "outputs": [
    {
     "name": "stdout",
     "output_type": "stream",
     "text": [
      "[8.3, 6.7, 9.0, 7.5, 5.8, 6.8, 9.0, 6.8, 'A', 'D', 'B', 6.0, 7.1, 6.8, 8.2, 6.8, 8, 7.5, 4]\n"
     ]
    }
   ],
   "source": [
    "# nos podemos hacer una copia de la lista de notas usando el metodo .copy()\n",
    "bio = notas.copy()\n",
    "print(bio)"
   ]
  },
  {
   "cell_type": "code",
   "execution_count": 56,
   "metadata": {},
   "outputs": [
    {
     "name": "stdout",
     "output_type": "stream",
     "text": [
      "[]\n"
     ]
    }
   ],
   "source": [
    "# podemos vaciar una lista usando el metodo clear()\n",
    "notas.clear()\n",
    "print(notas)"
   ]
  },
  {
   "cell_type": "markdown",
   "metadata": {},
   "source": [
    "COUNT()"
   ]
  },
  {
   "cell_type": "code",
   "execution_count": 57,
   "metadata": {},
   "outputs": [
    {
     "name": "stdout",
     "output_type": "stream",
     "text": [
      "[8.3, 6.7, 9.0, 7.5, 5.8, 6.8, 9.0, 6.8, 'A', 'D', 'B', 6.0, 7.1, 6.8, 8.2, 6.8, 8, 7.5, 4]\n"
     ]
    }
   ],
   "source": [
    "# volvemos a definir la lista de notas\n",
    "notas = notas_biologia_primer_año + notas_biologia_segundo_año + notas_biologia_este_año\n",
    "print(notas)"
   ]
  },
  {
   "cell_type": "code",
   "execution_count": 58,
   "metadata": {},
   "outputs": [
    {
     "name": "stdout",
     "output_type": "stream",
     "text": [
      "4\n"
     ]
    }
   ],
   "source": [
    "# cuantas veces aparece la nota 6.8 en nuestra lista de notas?\n",
    "print(notas.count(6.8))"
   ]
  },
  {
   "cell_type": "markdown",
   "metadata": {},
   "source": [
    "REVERSE()"
   ]
  },
  {
   "cell_type": "code",
   "execution_count": 59,
   "metadata": {},
   "outputs": [
    {
     "data": {
      "text/plain": [
       "[8.3, 6.7, 9.0, 7.5, 5.8, 6.8, 9.0, 6.8]"
      ]
     },
     "execution_count": 59,
     "metadata": {},
     "output_type": "execute_result"
    }
   ],
   "source": [
    "# hagamos una copia de la lista notas_biologia_año\n",
    "biologia = notas_biologia_primer_año.copy()\n",
    "biologia"
   ]
  },
  {
   "cell_type": "code",
   "execution_count": 60,
   "metadata": {},
   "outputs": [],
   "source": [
    "# apliquemos el método reverse, que no nos devolverá nada\n",
    "biologia.reverse()"
   ]
  },
  {
   "cell_type": "code",
   "execution_count": 61,
   "metadata": {},
   "outputs": [
    {
     "data": {
      "text/plain": [
       "[6.8, 9.0, 6.8, 5.8, 7.5, 9.0, 6.7, 8.3]"
      ]
     },
     "execution_count": 61,
     "metadata": {},
     "output_type": "execute_result"
    }
   ],
   "source": [
    "# veamos que tenemos ahora en biología\n",
    "biologia"
   ]
  },
  {
   "cell_type": "markdown",
   "metadata": {},
   "source": [
    "SORT()"
   ]
  },
  {
   "cell_type": "code",
   "execution_count": 62,
   "metadata": {},
   "outputs": [
    {
     "data": {
      "text/plain": [
       "[8.3, 6.7, 9.0, 7.5, 5.8, 6.8, 9.0, 6.8]"
      ]
     },
     "execution_count": 62,
     "metadata": {},
     "output_type": "execute_result"
    }
   ],
   "source": [
    "# recordemos como era notas_biologia_primer_año\n",
    "notas_biologia_primer_año"
   ]
  },
  {
   "cell_type": "code",
   "execution_count": 63,
   "metadata": {},
   "outputs": [
    {
     "data": {
      "text/plain": [
       "[8.3, 6.7, 9.0, 7.5, 5.8, 6.8, 9.0, 6.8]"
      ]
     },
     "execution_count": 63,
     "metadata": {},
     "output_type": "execute_result"
    }
   ],
   "source": [
    "# nos hacemos una copia de la lista anterior usando el metodo copy()\n",
    "ordenada = notas_biologia_primer_año.copy()\n",
    "ordenada"
   ]
  },
  {
   "cell_type": "code",
   "execution_count": 64,
   "metadata": {},
   "outputs": [
    {
     "data": {
      "text/plain": [
       "[5.8, 6.7, 6.8, 6.8, 7.5, 8.3, 9.0, 9.0]"
      ]
     },
     "execution_count": 64,
     "metadata": {},
     "output_type": "execute_result"
    }
   ],
   "source": [
    "ordenada.sort()\n",
    "ordenada"
   ]
  },
  {
   "cell_type": "code",
   "execution_count": 65,
   "metadata": {},
   "outputs": [
    {
     "data": {
      "text/plain": [
       "[8.3, 6.7, 9.0, 7.5, 5.8, 6.8, 9.0, 6.8]"
      ]
     },
     "execution_count": 65,
     "metadata": {},
     "output_type": "execute_result"
    }
   ],
   "source": [
    "# nos hacemos una copia de nuevo de la lista notas_biologia_primer_año\n",
    "ordenada2 = notas_biologia_primer_año.copy()\n",
    "ordenada2"
   ]
  },
  {
   "cell_type": "code",
   "execution_count": 66,
   "metadata": {},
   "outputs": [
    {
     "data": {
      "text/plain": [
       "[9.0, 9.0, 8.3, 7.5, 6.8, 6.8, 6.7, 5.8]"
      ]
     },
     "execution_count": 66,
     "metadata": {},
     "output_type": "execute_result"
    }
   ],
   "source": [
    "ordenada2.sort(reverse=True)\n",
    "ordenada2"
   ]
  }
 ],
 "metadata": {
  "kernelspec": {
   "display_name": "Python 3.9.7 ('base')",
   "language": "python",
   "name": "python3"
  },
  "language_info": {
   "codemirror_mode": {
    "name": "ipython",
    "version": 3
   },
   "file_extension": ".py",
   "mimetype": "text/x-python",
   "name": "python",
   "nbconvert_exporter": "python",
   "pygments_lexer": "ipython3",
   "version": "3.9.7"
  },
  "orig_nbformat": 4,
  "vscode": {
   "interpreter": {
    "hash": "f25093244bacc7e62393c275f4a06a2027bcbdb9a67d7fe53680dbd2484adc03"
   }
  }
 },
 "nbformat": 4,
 "nbformat_minor": 2
}
