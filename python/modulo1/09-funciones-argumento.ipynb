{
 "cells": [
  {
   "cell_type": "markdown",
   "metadata": {},
   "source": [
    "### PARAMETROS POR DEFECTO"
   ]
  },
  {
   "cell_type": "code",
   "execution_count": 1,
   "metadata": {},
   "outputs": [],
   "source": [
    "def buenos_dias (nombre, saludo = \"buenos dias\"):\n",
    "    frase = f\"Hola {nombre} {saludo}\"\n",
    "    return frase"
   ]
  },
  {
   "cell_type": "code",
   "execution_count": 2,
   "metadata": {},
   "outputs": [
    {
     "data": {
      "text/plain": [
       "'Hola Alicia buenos dias'"
      ]
     },
     "execution_count": 2,
     "metadata": {},
     "output_type": "execute_result"
    }
   ],
   "source": [
    "saludo1 = buenos_dias(\"Alicia\")\n",
    "saludo1"
   ]
  },
  {
   "cell_type": "code",
   "execution_count": 3,
   "metadata": {},
   "outputs": [
    {
     "data": {
      "text/plain": [
       "'Hola Maria buenos dias'"
      ]
     },
     "execution_count": 3,
     "metadata": {},
     "output_type": "execute_result"
    }
   ],
   "source": [
    "saludo2 = buenos_dias(\"Maria\")\n",
    "saludo2"
   ]
  },
  {
   "cell_type": "code",
   "execution_count": 4,
   "metadata": {},
   "outputs": [
    {
     "data": {
      "text/plain": [
       "'Hola Lorena hoy me he levantado con sueño'"
      ]
     },
     "execution_count": 4,
     "metadata": {},
     "output_type": "execute_result"
    }
   ],
   "source": [
    "saludo3 = buenos_dias(\"Lorena\",saludo= \"hoy me he levantado con sueño\")\n",
    "saludo3"
   ]
  },
  {
   "cell_type": "code",
   "execution_count": 5,
   "metadata": {},
   "outputs": [],
   "source": [
    "def calculadora(num1,num2,operacion = \"multiplicacion\"):\n",
    "    if operacion == \"multiplicacion\":\n",
    "        return num1 * num2\n",
    "    elif operacion == \"suma\":\n",
    "        return num1 + num2\n",
    "    elif operacion == \"resta\":\n",
    "        return num1 - num2\n",
    "    else:\n",
    "        return num1/num2"
   ]
  },
  {
   "cell_type": "code",
   "execution_count": 6,
   "metadata": {},
   "outputs": [
    {
     "data": {
      "text/plain": [
       "6"
      ]
     },
     "execution_count": 6,
     "metadata": {},
     "output_type": "execute_result"
    }
   ],
   "source": [
    "calculadora(2,3)"
   ]
  },
  {
   "cell_type": "code",
   "execution_count": 7,
   "metadata": {},
   "outputs": [
    {
     "data": {
      "text/plain": [
       "5"
      ]
     },
     "execution_count": 7,
     "metadata": {},
     "output_type": "execute_result"
    }
   ],
   "source": [
    "calculadora(2,3,operacion=\"suma\")"
   ]
  },
  {
   "cell_type": "code",
   "execution_count": 8,
   "metadata": {},
   "outputs": [
    {
     "data": {
      "text/plain": [
       "-1"
      ]
     },
     "execution_count": 8,
     "metadata": {},
     "output_type": "execute_result"
    }
   ],
   "source": [
    "calculadora(2,3, operacion=\"resta\")"
   ]
  },
  {
   "cell_type": "code",
   "execution_count": 9,
   "metadata": {},
   "outputs": [],
   "source": [
    "def lista_compra(alimentos, saludo= \"Buenos días\", despedida= \"Que pases un buen día\"):\n",
    "    print(saludo)\n",
    "    print(f\"Los alimentos que quiere comprar son: {alimentos}\")\n",
    "    print(despedida)"
   ]
  },
  {
   "cell_type": "code",
   "execution_count": 10,
   "metadata": {},
   "outputs": [
    {
     "name": "stdout",
     "output_type": "stream",
     "text": [
      "Buenos días\n",
      "Los alimentos que quiere comprar son: ['puerros', 'arroz', 'chocolate', 'leche']\n",
      "Que pases un buen día\n"
     ]
    }
   ],
   "source": [
    "lista_compra([\"puerros\", \"arroz\", \"chocolate\", \"leche\"])"
   ]
  },
  {
   "cell_type": "markdown",
   "metadata": {},
   "source": [
    "### Ejercicios funciones y argumentos"
   ]
  },
  {
   "cell_type": "markdown",
   "metadata": {},
   "source": [
    "Definir una funcion y llamarla"
   ]
  },
  {
   "cell_type": "code",
   "execution_count": 11,
   "metadata": {},
   "outputs": [],
   "source": [
    "# 1. Haz que la funcion sumar() imprime Vamos a sumar algo usando la funcion print()\n",
    "def sumar():\n",
    "    print(\"Vamos a sumar algo\")"
   ]
  },
  {
   "cell_type": "code",
   "execution_count": 12,
   "metadata": {},
   "outputs": [
    {
     "name": "stdout",
     "output_type": "stream",
     "text": [
      "Vamos a sumar algo\n"
     ]
    }
   ],
   "source": [
    "# 2. Llama la función y comprueba que te imprima la frase\n",
    "sumar()"
   ]
  },
  {
   "cell_type": "markdown",
   "metadata": {},
   "source": [
    "Ampliar una función con argumentos"
   ]
  },
  {
   "cell_type": "code",
   "execution_count": 13,
   "metadata": {},
   "outputs": [],
   "source": [
    "# 3. Añade dos argumentos en la definición de sumar(). Llamalos a y b\n",
    "def sumar(a,b):\n",
    "    print(\"Vamos a sumar algo\")"
   ]
  },
  {
   "cell_type": "code",
   "execution_count": 19,
   "metadata": {},
   "outputs": [],
   "source": [
    "# 4. Después de imprimir la frase, queremos que nuestra función tenga un parámetro por defecto que imprima la frase: \"Sumamos\", a, \"y\", b, \":\"\n",
    "def sumar(a,b,c = \"Sumamos\"):\n",
    "    print(\"Vamos a sumar algo\")\n",
    "    print(f\"{c} {a} y {b}:\")"
   ]
  },
  {
   "cell_type": "code",
   "execution_count": 20,
   "metadata": {},
   "outputs": [
    {
     "name": "stdout",
     "output_type": "stream",
     "text": [
      "Vamos a sumar algo\n",
      "Sumamos 2 y 3:\n"
     ]
    }
   ],
   "source": [
    "sumar(2,3)"
   ]
  },
  {
   "cell_type": "code",
   "execution_count": 21,
   "metadata": {},
   "outputs": [],
   "source": [
    "# 5. Al final imprime a + b\n",
    "def sumar(a,b,c = \"Sumamos\"):\n",
    "    print(\"Vamos a sumar algo\")\n",
    "    print(f\"{c} {a} y {b}:\")\n",
    "    return a + b"
   ]
  },
  {
   "cell_type": "code",
   "execution_count": 22,
   "metadata": {},
   "outputs": [
    {
     "name": "stdout",
     "output_type": "stream",
     "text": [
      "Vamos a sumar algo\n",
      "Sumamos 3 y 5:\n"
     ]
    },
    {
     "data": {
      "text/plain": [
       "8"
      ]
     },
     "execution_count": 22,
     "metadata": {},
     "output_type": "execute_result"
    }
   ],
   "source": [
    "sumar(3,5)"
   ]
  },
  {
   "cell_type": "markdown",
   "metadata": {},
   "source": [
    "## args"
   ]
  },
  {
   "cell_type": "code",
   "execution_count": 23,
   "metadata": {},
   "outputs": [],
   "source": [
    "def media_clase1(alumna1,alumna2,alumna3):\n",
    "    return (alumna1 + alumna2 + alumna3) / 3"
   ]
  },
  {
   "cell_type": "code",
   "execution_count": 24,
   "metadata": {},
   "outputs": [
    {
     "data": {
      "text/plain": [
       "7.0"
      ]
     },
     "execution_count": 24,
     "metadata": {},
     "output_type": "execute_result"
    }
   ],
   "source": [
    "media1 = media_clase1(7,9,5)\n",
    "media1"
   ]
  },
  {
   "cell_type": "code",
   "execution_count": 25,
   "metadata": {},
   "outputs": [],
   "source": [
    "def media_clase2(*args):\n",
    "    return sum(args) / len(args)"
   ]
  },
  {
   "cell_type": "code",
   "execution_count": 26,
   "metadata": {},
   "outputs": [],
   "source": [
    "lista_numeros = [1,2,3,4,5,6,7]"
   ]
  },
  {
   "cell_type": "code",
   "execution_count": 27,
   "metadata": {},
   "outputs": [
    {
     "data": {
      "text/plain": [
       "4.0"
      ]
     },
     "execution_count": 27,
     "metadata": {},
     "output_type": "execute_result"
    }
   ],
   "source": [
    "media2 = media_clase2(*lista_numeros)\n",
    "media2"
   ]
  },
  {
   "cell_type": "code",
   "execution_count": 28,
   "metadata": {},
   "outputs": [],
   "source": [
    "def notas_alumnas(nombre, apellido, *notas, bootcamp = \"Data analytics\"):\n",
    "    print(f\"las notas de {nombre} {apellido}, del bootcamp de {bootcamp} son: {notas}\")\n",
    "    \n",
    "    media = sum(notas) / len(notas)\n",
    "\n",
    "    return media"
   ]
  },
  {
   "cell_type": "code",
   "execution_count": 29,
   "metadata": {},
   "outputs": [],
   "source": [
    "notas_lorena = [7,8,5,10]"
   ]
  },
  {
   "cell_type": "code",
   "execution_count": 30,
   "metadata": {},
   "outputs": [
    {
     "name": "stdout",
     "output_type": "stream",
     "text": [
      "las notas de Lorena López, del bootcamp de Data analytics son: (7, 8, 5, 10)\n"
     ]
    },
    {
     "data": {
      "text/plain": [
       "7.5"
      ]
     },
     "execution_count": 30,
     "metadata": {},
     "output_type": "execute_result"
    }
   ],
   "source": [
    "media_lorena = notas_alumnas(\"Lorena\", \"López\", *notas_lorena)\n",
    "media_lorena"
   ]
  },
  {
   "cell_type": "code",
   "execution_count": 31,
   "metadata": {},
   "outputs": [
    {
     "data": {
      "text/plain": [
       "7.5"
      ]
     },
     "execution_count": 31,
     "metadata": {},
     "output_type": "execute_result"
    }
   ],
   "source": [
    "media_lorena"
   ]
  },
  {
   "cell_type": "markdown",
   "metadata": {},
   "source": [
    "## kwargs"
   ]
  },
  {
   "cell_type": "code",
   "execution_count": 32,
   "metadata": {},
   "outputs": [],
   "source": [
    "alumnas = { \"nombre\":[\"Lorena\", \"Laura\", \"Loreto\"], \n",
    "            \"apellidos\": [\"López\", \"Rodriguez\", \"Luengo\"], \n",
    "            \"notas\": [[7,8,5,10],[8,6,9,10], [6,7,7,10] ]}"
   ]
  },
  {
   "cell_type": "code",
   "execution_count": 33,
   "metadata": {},
   "outputs": [
    {
     "data": {
      "text/plain": [
       "['Lorena', 'Laura', 'Loreto']"
      ]
     },
     "execution_count": 33,
     "metadata": {},
     "output_type": "execute_result"
    }
   ],
   "source": [
    "alumnas[\"nombre\"]"
   ]
  },
  {
   "cell_type": "code",
   "execution_count": 34,
   "metadata": {},
   "outputs": [
    {
     "data": {
      "text/plain": [
       "'Loreto'"
      ]
     },
     "execution_count": 34,
     "metadata": {},
     "output_type": "execute_result"
    }
   ],
   "source": [
    "alumnas[\"nombre\"][2]"
   ]
  },
  {
   "cell_type": "code",
   "execution_count": 39,
   "metadata": {},
   "outputs": [],
   "source": [
    "def notas_alumnas(bootcamp=\"Data Analytics\", **kwargs):\n",
    "    contador = 0\n",
    "    while contador < len(kwargs):\n",
    "        media = sum(kwargs[\"notas\"][contador]) / len(kwargs[\"notas\"][contador])\n",
    "        print(f'las media de las notas de {kwargs[\"nombre\"][contador]} {kwargs[\"apellidos\"][contador]} de {bootcamp} de son: {media}')\n",
    "        contador += 1"
   ]
  },
  {
   "cell_type": "code",
   "execution_count": 40,
   "metadata": {},
   "outputs": [
    {
     "name": "stdout",
     "output_type": "stream",
     "text": [
      "las media de las notas de Lorena López de Data Analytics de son: 7.5\n",
      "las media de las notas de Laura Rodriguez de Data Analytics de son: 8.25\n",
      "las media de las notas de Loreto Luengo de Data Analytics de son: 7.5\n"
     ]
    }
   ],
   "source": [
    "notas_alumnas(**alumnas)"
   ]
  },
  {
   "cell_type": "code",
   "execution_count": 41,
   "metadata": {},
   "outputs": [],
   "source": [
    "diccionario = {'brocoli': 1.50, \n",
    "              'chorizo': 4.5, \n",
    "              'zanahoria': 1.30, \n",
    "              'jamon': 7.90}"
   ]
  },
  {
   "cell_type": "code",
   "execution_count": 42,
   "metadata": {},
   "outputs": [],
   "source": [
    "def precio (**kwargs):\n",
    "    for k,v in kwargs.items():\n",
    "        if \"a\" in k:\n",
    "            print(k,\"---->\",v)"
   ]
  },
  {
   "cell_type": "code",
   "execution_count": 43,
   "metadata": {},
   "outputs": [
    {
     "name": "stdout",
     "output_type": "stream",
     "text": [
      "zanahoria ----> 1.3\n",
      "jamon ----> 7.9\n"
     ]
    }
   ],
   "source": [
    "precio(**diccionario)"
   ]
  },
  {
   "cell_type": "code",
   "execution_count": 49,
   "metadata": {},
   "outputs": [],
   "source": [
    "def comprar_fin_mes (**kwargs):\n",
    "    lista_compra = []\n",
    "    for k,v in kwargs.items():\n",
    "        if v < 3:\n",
    "            lista_compra.append(k)\n",
    "        else:\n",
    "            print(f\"este mes no podremos comprar {k}\")\n",
    "    return lista_compra"
   ]
  },
  {
   "cell_type": "code",
   "execution_count": 50,
   "metadata": {},
   "outputs": [
    {
     "name": "stdout",
     "output_type": "stream",
     "text": [
      "este mes no podremos comprar chorizo\n",
      "este mes no podremos comprar jamon\n"
     ]
    }
   ],
   "source": [
    "que_comprar = comprar_fin_mes(**diccionario)"
   ]
  },
  {
   "cell_type": "code",
   "execution_count": 51,
   "metadata": {},
   "outputs": [
    {
     "data": {
      "text/plain": [
       "['brocoli', 'zanahoria']"
      ]
     },
     "execution_count": 51,
     "metadata": {},
     "output_type": "execute_result"
    }
   ],
   "source": [
    "que_comprar"
   ]
  },
  {
   "cell_type": "markdown",
   "metadata": {},
   "source": [
    "### Juntando args con kwargs"
   ]
  },
  {
   "cell_type": "code",
   "execution_count": 53,
   "metadata": {},
   "outputs": [
    {
     "data": {
      "text/plain": [
       "{'brocoli': 1.5, 'chorizo': 4.5, 'zanahoria': 1.3, 'jamon': 7.9}"
      ]
     },
     "execution_count": 53,
     "metadata": {},
     "output_type": "execute_result"
    }
   ],
   "source": [
    "diccionario"
   ]
  },
  {
   "cell_type": "code",
   "execution_count": 55,
   "metadata": {},
   "outputs": [],
   "source": [
    "cantidad = [2,1,0.5,4]"
   ]
  },
  {
   "cell_type": "code",
   "execution_count": 56,
   "metadata": {},
   "outputs": [],
   "source": [
    "def precio_total(*args, **kwargs):\n",
    "    total = []\n",
    "    count = 0\n",
    "    for k,v in kwargs.items():\n",
    "        print(f\"el precio de {k} es: {kwargs[k]}\")\n",
    "        print(\"cantidad alimento\", args[count])\n",
    "        print(\"-------------------\")\n",
    "        total.append(kwargs[k] * args[count])\n",
    "        count += 1\n",
    "    return sum(total)"
   ]
  },
  {
   "cell_type": "code",
   "execution_count": 57,
   "metadata": {},
   "outputs": [
    {
     "name": "stdout",
     "output_type": "stream",
     "text": [
      "el precio de brocoli es: 1.5\n",
      "cantidad alimento 2\n",
      "-------------------\n",
      "el precio de chorizo es: 4.5\n",
      "cantidad alimento 1\n",
      "-------------------\n",
      "el precio de zanahoria es: 1.3\n",
      "cantidad alimento 0.5\n",
      "-------------------\n",
      "el precio de jamon es: 7.9\n",
      "cantidad alimento 4\n",
      "-------------------\n"
     ]
    }
   ],
   "source": [
    "total_compra = precio_total(*cantidad, **diccionario)"
   ]
  },
  {
   "cell_type": "code",
   "execution_count": 58,
   "metadata": {},
   "outputs": [
    {
     "data": {
      "text/plain": [
       "39.75"
      ]
     },
     "execution_count": 58,
     "metadata": {},
     "output_type": "execute_result"
    }
   ],
   "source": [
    "total_compra"
   ]
  },
  {
   "cell_type": "code",
   "execution_count": 59,
   "metadata": {},
   "outputs": [],
   "source": [
    "def cuenta_atras(inicio):\n",
    "    print(inicio)\n",
    "    siguiente = inicio - 1\n",
    "    if siguiente > 0:\n",
    "        cuenta_atras(siguiente)"
   ]
  },
  {
   "cell_type": "code",
   "execution_count": 60,
   "metadata": {},
   "outputs": [
    {
     "name": "stdout",
     "output_type": "stream",
     "text": [
      "10\n",
      "9\n",
      "8\n",
      "7\n",
      "6\n",
      "5\n",
      "4\n",
      "3\n",
      "2\n",
      "1\n"
     ]
    }
   ],
   "source": [
    "cuenta_atras(10)"
   ]
  },
  {
   "cell_type": "markdown",
   "metadata": {},
   "source": [
    "### Ejercicios argumentos arbitrarios"
   ]
  },
  {
   "cell_type": "markdown",
   "metadata": {},
   "source": [
    "Definir una función con argumentos y llamarla"
   ]
  },
  {
   "cell_type": "code",
   "execution_count": 62,
   "metadata": {},
   "outputs": [],
   "source": [
    "# 7. Define la función listar_caracteres_comun() con los argumentos string1 y string2\n",
    "def listar_caracteres_comun(string1,string2):\n",
    "    return"
   ]
  },
  {
   "cell_type": "code",
   "execution_count": 64,
   "metadata": {},
   "outputs": [],
   "source": [
    "# 8. Llamala con \"Soja\" y \"Ojos\"\n",
    "listar_caracteres_comun(\"Soja\",\"Ojos\")"
   ]
  },
  {
   "cell_type": "code",
   "execution_count": 65,
   "metadata": {},
   "outputs": [],
   "source": [
    "# 9. Dentro de la función definimos una lista vacía, que se llama comun\n",
    "def listar_caracteres_comun(string1,string2):\n",
    "    comun = []\n",
    "    return"
   ]
  },
  {
   "cell_type": "code",
   "execution_count": 66,
   "metadata": {},
   "outputs": [],
   "source": [
    "# 10. Para cada letra en string1, si letra está en string2, queremos usar el método .append() para añadir la letra a la lista comun\n",
    "def listar_caracteres_comun(string1,string2):\n",
    "    comun = []\n",
    "    for letra in string1:\n",
    "        if letra in string2:\n",
    "            comun.append(letra)\n",
    "    return"
   ]
  },
  {
   "cell_type": "code",
   "execution_count": 67,
   "metadata": {},
   "outputs": [],
   "source": [
    "# 11. Después de haber recorrido todas las letras de string1, queremos imprimir la lista comun\n",
    "def listar_caracteres_comun(string1,string2):\n",
    "    comun = []\n",
    "    for letra in string1:\n",
    "        if letra in string2:\n",
    "            comun.append(letra)\n",
    "    return comun"
   ]
  },
  {
   "cell_type": "code",
   "execution_count": 70,
   "metadata": {},
   "outputs": [
    {
     "data": {
      "text/plain": [
       "['o', 'j']"
      ]
     },
     "execution_count": 70,
     "metadata": {},
     "output_type": "execute_result"
    }
   ],
   "source": [
    "# 12. Llama a la funcion ampliada con \"Soja\" y \"Ojos\"\n",
    "listar_caracteres_comun(\"Soja\",\"ojos\")"
   ]
  },
  {
   "cell_type": "code",
   "execution_count": 71,
   "metadata": {},
   "outputs": [],
   "source": [
    "# 13. Que pasa con la S?\n",
    "# es Case sensitive por lo que no lo considera igual a la s minúscula"
   ]
  },
  {
   "cell_type": "markdown",
   "metadata": {},
   "source": [
    "Cambia la función para que acepte argumentos arbitrarios"
   ]
  },
  {
   "cell_type": "code",
   "execution_count": 75,
   "metadata": {},
   "outputs": [],
   "source": [
    "# 14. Cambia los argumentos string1 y string2 por un sólo argumento *input_strings\n",
    "def listar_caracteres_comun(*input_strings):\n",
    "    comun = []\n",
    "    return comun"
   ]
  },
  {
   "cell_type": "code",
   "execution_count": 76,
   "metadata": {},
   "outputs": [],
   "source": [
    "# 15. Para convertir los strings todos en minúsculas lo primero que haremos al entrar en la función es esto.\n",
    "def listar_caracteres_comun(*input_strings):\n",
    "    comun = []\n",
    "    strings = []\n",
    "    for input_string in input_strings:\n",
    "        strings.append(input_string.lower())\n",
    "\n",
    "    return comun"
   ]
  },
  {
   "cell_type": "markdown",
   "metadata": {},
   "source": [
    "16. Ahora iniciamos comun con una lista del primer contenido de strings. Usando el índice para apuntar al primer elemento.\n",
    "17. Para cada string en strings[1:] (¿ese [1:] qué dice?) queremos mirar cada letra en comun. Si letra no está en string, usamos comun.remove(letra). Al final de los tres bucles (for, for, if) queremos imprimir la lista comun. Fíjate bien en la indentación para que se imprime fuera de los bucles.\n",
    "18. Llama a la función con los siguientes strings: 'Soja','Ojos','Justo','Ejes'. Si not te sale lo esperado o te da un error empieza otra vez en el paso 14. y lea bien."
   ]
  },
  {
   "cell_type": "code",
   "execution_count": 93,
   "metadata": {},
   "outputs": [],
   "source": [
    "def listar_caracteres_comun(*input_strings):\n",
    "    # convertimos todos los strings en minúsculas\n",
    "    strings = []\n",
    "    for input_string in input_strings:\n",
    "        strings.append(input_string.lower())\n",
    "    # creamos la lista comun con los caracteres del primer string de la lista\n",
    "    comun = list(strings[0])\n",
    "    # para cada string en strings[1:] (saltándonos la primera posición porque estará en común), queremos mirar cada letra en comun\n",
    "    # si letra (en comun) no está en string, usamos comun.remove(letra)\n",
    "    for string in strings[1:]:\n",
    "        for letra in comun:\n",
    "            if letra not in string:\n",
    "                comun.remove(letra)\n",
    "    return comun\n",
    "\n"
   ]
  },
  {
   "cell_type": "code",
   "execution_count": 94,
   "metadata": {},
   "outputs": [],
   "source": [
    "nombres_buscar = \"Soja\", \"Ojos\", \"Justo\", \"Ejes\""
   ]
  },
  {
   "cell_type": "code",
   "execution_count": 97,
   "metadata": {},
   "outputs": [
    {
     "data": {
      "text/plain": [
       "['s', 'j']"
      ]
     },
     "execution_count": 97,
     "metadata": {},
     "output_type": "execute_result"
    }
   ],
   "source": [
    "listar_caracteres_comun(*nombres_buscar)"
   ]
  }
 ],
 "metadata": {
  "kernelspec": {
   "display_name": "Python 3.9.7 ('base')",
   "language": "python",
   "name": "python3"
  },
  "language_info": {
   "codemirror_mode": {
    "name": "ipython",
    "version": 3
   },
   "file_extension": ".py",
   "mimetype": "text/x-python",
   "name": "python",
   "nbconvert_exporter": "python",
   "pygments_lexer": "ipython3",
   "version": "3.9.7"
  },
  "orig_nbformat": 4,
  "vscode": {
   "interpreter": {
    "hash": "f25093244bacc7e62393c275f4a06a2027bcbdb9a67d7fe53680dbd2484adc03"
   }
  }
 },
 "nbformat": 4,
 "nbformat_minor": 2
}
