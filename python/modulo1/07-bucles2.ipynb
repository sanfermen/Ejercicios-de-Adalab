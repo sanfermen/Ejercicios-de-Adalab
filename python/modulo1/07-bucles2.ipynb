{
 "cells": [
  {
   "cell_type": "code",
   "execution_count": 1,
   "metadata": {},
   "outputs": [],
   "source": [
    "palabras = ['python', 'programacion', 'adalab', 'titanas']"
   ]
  },
  {
   "cell_type": "code",
   "execution_count": 2,
   "metadata": {},
   "outputs": [
    {
     "name": "stdout",
     "output_type": "stream",
     "text": [
      "La palabra programacion contiene la letra a\n",
      "La palabra adalab contiene la letra a\n",
      "La palabra titanas contiene la letra a\n"
     ]
    }
   ],
   "source": [
    "for w in palabras:\n",
    "    if \"a\" in w:\n",
    "        print(f\"La palabra {w} contiene la letra a\")"
   ]
  },
  {
   "cell_type": "code",
   "execution_count": 3,
   "metadata": {},
   "outputs": [
    {
     "name": "stdout",
     "output_type": "stream",
     "text": [
      "La palabra programacion contiene la letra a\n"
     ]
    }
   ],
   "source": [
    "for w in palabras:\n",
    "    if \"a\" in w:\n",
    "        print(f\"La palabra {w} contiene la letra a\")\n",
    "        break"
   ]
  },
  {
   "cell_type": "code",
   "execution_count": 6,
   "metadata": {},
   "outputs": [
    {
     "name": "stdout",
     "output_type": "stream",
     "text": [
      "1\n",
      "2\n",
      "4\n",
      "5\n",
      "6\n"
     ]
    }
   ],
   "source": [
    "i = 0\n",
    "while i < 6:\n",
    "    i += 1\n",
    "    if i == 3:\n",
    "        continue\n",
    "    print(i)"
   ]
  },
  {
   "cell_type": "code",
   "execution_count": 1,
   "metadata": {},
   "outputs": [
    {
     "name": "stdout",
     "output_type": "stream",
     "text": [
      "1\n",
      "2\n",
      "3\n",
      "4\n",
      "5\n",
      "6\n"
     ]
    }
   ],
   "source": [
    "i = 0\n",
    "while i < 6:\n",
    "    i += 1\n",
    "    if i == 3:\n",
    "        pass\n",
    "    print(i)"
   ]
  },
  {
   "cell_type": "code",
   "execution_count": 7,
   "metadata": {},
   "outputs": [],
   "source": [
    "lista_nombres = ['Mario','Alice', 'Bob', 'Jack', 'Mary', 'Manuel', 'Amanda', 'Ignacio', 'Fernando']"
   ]
  },
  {
   "cell_type": "code",
   "execution_count": 8,
   "metadata": {},
   "outputs": [
    {
     "name": "stdout",
     "output_type": "stream",
     "text": [
      "Hola Alice\n",
      "Hola Jack\n",
      "Hola Mary\n",
      "Hola Manuel\n",
      "Hola Amanda\n"
     ]
    }
   ],
   "source": [
    "for nombre in lista_nombres:\n",
    "    if \"o\" in nombre:\n",
    "        pass\n",
    "    else:\n",
    "        print(\"Hola\", nombre)"
   ]
  },
  {
   "cell_type": "code",
   "execution_count": 9,
   "metadata": {},
   "outputs": [
    {
     "name": "stdout",
     "output_type": "stream",
     "text": [
      "La suma del número es 10\n",
      "La suma del número es 11\n",
      "La suma del número es 12\n",
      "La suma del número es 13\n",
      "La suma del número es 14\n",
      "La suma del número es 16\n",
      "La suma del número es 18\n",
      "La suma del número es 19\n"
     ]
    }
   ],
   "source": [
    "for num in range(10):\n",
    "    if num == 5 or num == 7:\n",
    "        pass\n",
    "    else:\n",
    "        num += 10\n",
    "        print(f\"La suma del número es {num}\")"
   ]
  },
  {
   "cell_type": "markdown",
   "metadata": {},
   "source": [
    "## Ejercicios continue, break, pass"
   ]
  },
  {
   "cell_type": "code",
   "execution_count": 13,
   "metadata": {},
   "outputs": [],
   "source": [
    "# 1. Dado el siguiente string:\n",
    "palabra = \"Python\""
   ]
  },
  {
   "cell_type": "code",
   "execution_count": 15,
   "metadata": {},
   "outputs": [
    {
     "name": "stdout",
     "output_type": "stream",
     "text": [
      "y\n",
      "t\n",
      "h\n",
      "o\n",
      "n\n"
     ]
    }
   ],
   "source": [
    "# Cread un código que nos printee todas las letras menos la \"P\" usando la sentencia continue\n",
    "for letra in palabra:\n",
    "    if letra == \"P\":\n",
    "        continue\n",
    "    print(letra)"
   ]
  },
  {
   "cell_type": "code",
   "execution_count": 17,
   "metadata": {},
   "outputs": [
    {
     "name": "stdout",
     "output_type": "stream",
     "text": [
      "H\n",
      "e\n",
      "o\n"
     ]
    }
   ],
   "source": [
    "# 2. De la frase \"Hello\" imprime todas las letras que no sean una \"l\" usando if\n",
    "for letra in \"Hello\":\n",
    "    if letra != \"l\":\n",
    "        print(letra)"
   ]
  },
  {
   "cell_type": "code",
   "execution_count": 20,
   "metadata": {},
   "outputs": [
    {
     "name": "stdout",
     "output_type": "stream",
     "text": [
      "H\n",
      "e\n",
      "o\n"
     ]
    }
   ],
   "source": [
    "# 3. Haz lo mismo que en 2 usando continue\n",
    "for letra in \"Hello\":\n",
    "    if letra == \"l\":\n",
    "        continue\n",
    "    print(letra)"
   ]
  },
  {
   "cell_type": "code",
   "execution_count": 22,
   "metadata": {},
   "outputs": [
    {
     "name": "stdout",
     "output_type": "stream",
     "text": [
      "H\n",
      "e\n",
      "l\n",
      "l\n"
     ]
    }
   ],
   "source": [
    "# 4. De la frase \"Hello\" imprime todas las letras parando el bucle si encuentras una \"o\"\n",
    "for letra in \"Hello\":\n",
    "    if letra == \"o\":\n",
    "        break\n",
    "    print(letra)"
   ]
  },
  {
   "cell_type": "code",
   "execution_count": 23,
   "metadata": {},
   "outputs": [
    {
     "ename": "ZeroDivisionError",
     "evalue": "division by zero",
     "output_type": "error",
     "traceback": [
      "\u001b[0;31m---------------------------------------------------------------------------\u001b[0m",
      "\u001b[0;31mZeroDivisionError\u001b[0m                         Traceback (most recent call last)",
      "\u001b[0;32m/tmp/ipykernel_487/3264457445.py\u001b[0m in \u001b[0;36m<module>\u001b[0;34m\u001b[0m\n\u001b[1;32m      1\u001b[0m \u001b[0mdivisiones2\u001b[0m \u001b[0;34m=\u001b[0m \u001b[0;34m[\u001b[0m\u001b[0;34m]\u001b[0m\u001b[0;34m\u001b[0m\u001b[0;34m\u001b[0m\u001b[0m\n\u001b[1;32m      2\u001b[0m \u001b[0;32mfor\u001b[0m \u001b[0mi\u001b[0m \u001b[0;32min\u001b[0m \u001b[0mrange\u001b[0m\u001b[0;34m(\u001b[0m\u001b[0;34m-\u001b[0m\u001b[0;36m3\u001b[0m\u001b[0;34m,\u001b[0m\u001b[0;36m5\u001b[0m\u001b[0;34m)\u001b[0m\u001b[0;34m:\u001b[0m\u001b[0;34m\u001b[0m\u001b[0;34m\u001b[0m\u001b[0m\n\u001b[0;32m----> 3\u001b[0;31m     \u001b[0mdivisiones2\u001b[0m\u001b[0;34m.\u001b[0m\u001b[0mappend\u001b[0m\u001b[0;34m(\u001b[0m\u001b[0;36m2\u001b[0m \u001b[0;34m/\u001b[0m \u001b[0mi\u001b[0m\u001b[0;34m)\u001b[0m\u001b[0;34m\u001b[0m\u001b[0;34m\u001b[0m\u001b[0m\n\u001b[0m",
      "\u001b[0;31mZeroDivisionError\u001b[0m: division by zero"
     ]
    }
   ],
   "source": [
    "divisiones2 = []\n",
    "for i in range(-3,5):\n",
    "    divisiones2.append(2 / i)"
   ]
  },
  {
   "cell_type": "code",
   "execution_count": 24,
   "metadata": {},
   "outputs": [
    {
     "name": "stdout",
     "output_type": "stream",
     "text": [
      "no se puede dividir entre 0\n"
     ]
    }
   ],
   "source": [
    "divisiones3 = []\n",
    "for i in range(-3,5):\n",
    "    try:\n",
    "        divisiones3.append(2 / i)\n",
    "    except:\n",
    "        print(f\"no se puede dividir entre {i}\")\n",
    "        divisiones3.append(\"no data\")"
   ]
  },
  {
   "cell_type": "code",
   "execution_count": 25,
   "metadata": {},
   "outputs": [
    {
     "data": {
      "text/plain": [
       "[-0.6666666666666666, -1.0, -2.0, 'no data', 2.0, 1.0, 0.6666666666666666, 0.5]"
      ]
     },
     "execution_count": 25,
     "metadata": {},
     "output_type": "execute_result"
    }
   ],
   "source": [
    "divisiones3"
   ]
  },
  {
   "cell_type": "code",
   "execution_count": 26,
   "metadata": {},
   "outputs": [
    {
     "name": "stdout",
     "output_type": "stream",
     "text": [
      "Esta variable no esta definida\n"
     ]
    }
   ],
   "source": [
    "try:\n",
    "    print(dia)\n",
    "except:\n",
    "    print(\"Esta variable no esta definida\")"
   ]
  },
  {
   "cell_type": "code",
   "execution_count": 27,
   "metadata": {},
   "outputs": [],
   "source": [
    "dia = 24"
   ]
  },
  {
   "cell_type": "code",
   "execution_count": 28,
   "metadata": {},
   "outputs": [
    {
     "ename": "TypeError",
     "evalue": "unsupported operand type(s) for +: 'int' and 'str'",
     "output_type": "error",
     "traceback": [
      "\u001b[0;31m---------------------------------------------------------------------------\u001b[0m",
      "\u001b[0;31mTypeError\u001b[0m                                 Traceback (most recent call last)",
      "\u001b[0;32m/tmp/ipykernel_487/757198893.py\u001b[0m in \u001b[0;36m<module>\u001b[0;34m\u001b[0m\n\u001b[0;32m----> 1\u001b[0;31m \u001b[0mdia\u001b[0m \u001b[0;34m+\u001b[0m \u001b[0;34m\"hola\"\u001b[0m\u001b[0;34m\u001b[0m\u001b[0;34m\u001b[0m\u001b[0m\n\u001b[0m",
      "\u001b[0;31mTypeError\u001b[0m: unsupported operand type(s) for +: 'int' and 'str'"
     ]
    }
   ],
   "source": [
    "dia + \"hola\""
   ]
  },
  {
   "cell_type": "code",
   "execution_count": 29,
   "metadata": {},
   "outputs": [
    {
     "name": "stdout",
     "output_type": "stream",
     "text": [
      "la variable día no está definida\n"
     ]
    }
   ],
   "source": [
    "try:\n",
    "    resultado = dia1 + \"hola\"\n",
    "except NameError:\n",
    "    print(\"la variable día no está definida\")\n",
    "except TypeError:\n",
    "    print(\"no puedes sumar string y números\")"
   ]
  },
  {
   "cell_type": "code",
   "execution_count": 30,
   "metadata": {},
   "outputs": [
    {
     "name": "stdout",
     "output_type": "stream",
     "text": [
      "no puedes sumar string y números\n"
     ]
    }
   ],
   "source": [
    "try:\n",
    "    resultado = dia + \"hola\"\n",
    "except NameError:\n",
    "    print(\"la variable día no está definida\")\n",
    "except TypeError:\n",
    "    print(\"no puedes sumar string y números\")"
   ]
  },
  {
   "cell_type": "code",
   "execution_count": 31,
   "metadata": {},
   "outputs": [
    {
     "name": "stdout",
     "output_type": "stream",
     "text": [
      "-0.6666666666666666\n",
      "Yeah! Tu respuesta es -1.3333333333333333\n",
      "-----------------------\n",
      "-1.0\n",
      "Yeah! Tu respuesta es -2.0\n",
      "-----------------------\n",
      "-2.0\n",
      "Yeah! Tu respuesta es -4.0\n",
      "-----------------------\n",
      "no se puede dividir entre 0\n",
      "2.0\n",
      "Yeah! Tu respuesta es 4.0\n",
      "-----------------------\n",
      "1.0\n",
      "Yeah! Tu respuesta es 2.0\n",
      "-----------------------\n",
      "0.6666666666666666\n",
      "Yeah! Tu respuesta es 1.3333333333333333\n",
      "-----------------------\n",
      "0.5\n",
      "Yeah! Tu respuesta es 1.0\n",
      "-----------------------\n"
     ]
    }
   ],
   "source": [
    "for i in range(-3, 5):\n",
    "    try:\n",
    "        result = 2 / i\n",
    "        print(result)\n",
    "    except:\n",
    "        print(\"no se puede dividir entre 0\")\n",
    "    else:\n",
    "        result *= 2\n",
    "        print(f\"Yeah! Tu respuesta es {result}\")\n",
    "        print(\"-----------------------\")"
   ]
  },
  {
   "cell_type": "code",
   "execution_count": 32,
   "metadata": {},
   "outputs": [
    {
     "name": "stdout",
     "output_type": "stream",
     "text": [
      "Yeah! Your answer is: -1.3333333333333333\n",
      "Esto siempre se ejecuta\n",
      "Yeah! Your answer is: -2.0\n",
      "Esto siempre se ejecuta\n",
      "Yeah! Your answer is: -4.0\n",
      "Esto siempre se ejecuta\n",
      "Sorry! Estás intentando dividir entre 0\n",
      "Esto siempre se ejecuta\n",
      "Yeah! Your answer is: 4.0\n",
      "Esto siempre se ejecuta\n",
      "Yeah! Your answer is: 2.0\n",
      "Esto siempre se ejecuta\n",
      "Yeah! Your answer is: 1.3333333333333333\n",
      "Esto siempre se ejecuta\n",
      "Yeah! Your answer is: 1.0\n",
      "Esto siempre se ejecuta\n"
     ]
    }
   ],
   "source": [
    "for i in range(-3, 5):\n",
    "    try:\n",
    "        result = 2 / i\n",
    "    except ZeroDivisionError:\n",
    "        print(\"Sorry! Estás intentando dividir entre 0\")\n",
    "    else:\n",
    "        result *= 2\n",
    "        print(\"Yeah! Your answer is:\", result)\n",
    "    finally:\n",
    "        print(\"Esto siempre se ejecuta\")"
   ]
  },
  {
   "cell_type": "markdown",
   "metadata": {},
   "source": [
    "## Ejercicios try: except: else: finally:"
   ]
  },
  {
   "cell_type": "code",
   "execution_count": 33,
   "metadata": {},
   "outputs": [
    {
     "name": "stdout",
     "output_type": "stream",
     "text": [
      "¡Un error!\n"
     ]
    }
   ],
   "source": [
    "# 5. Define la variable doce = \"12\" y seis = 6. Intenta sumarlos. En el caso de que te salga un error imprime \"Un error!\". Para eso usa un try... except...\n",
    "doce = \"12\"\n",
    "seis = 6\n",
    "\n",
    "try:\n",
    "    doce + seis\n",
    "except:\n",
    "    print(\"¡Un error!\")"
   ]
  },
  {
   "cell_type": "code",
   "execution_count": 35,
   "metadata": {},
   "outputs": [
    {
     "name": "stdout",
     "output_type": "stream",
     "text": [
      "18\n"
     ]
    }
   ],
   "source": [
    "# 6. Basádonos en el ejercicio anterior, sin usar un try... except... cómo podríamos solucionar el problema?\n",
    "print(int(doce) + seis)"
   ]
  },
  {
   "cell_type": "code",
   "execution_count": 38,
   "metadata": {},
   "outputs": [],
   "source": [
    "# 7. En el ejercico 2, usamos un try.. except.. para solucionar el ejercicio. Como lo podríamos hacer con un if?\n"
   ]
  },
  {
   "cell_type": "code",
   "execution_count": 39,
   "metadata": {},
   "outputs": [
    {
     "name": "stdout",
     "output_type": "stream",
     "text": [
      "¡Un error!\n",
      "Todo bien por aquí\n"
     ]
    }
   ],
   "source": [
    "# 8. En el caso de que en el 5 te salga sin errores, querrás imprimir \"Todo bien por aquí\". Cambia la variable 12 para llegar a imprimirlo\n",
    "doce = \"12\"\n",
    "seis = 6\n",
    "\n",
    "try:\n",
    "    doce + seis\n",
    "except:\n",
    "    print(\"¡Un error!\")\n",
    "finally:\n",
    "    doce=int(doce)\n",
    "    print(\"Todo bien por aquí\")"
   ]
  }
 ],
 "metadata": {
  "kernelspec": {
   "display_name": "Python 3.9.7 ('base')",
   "language": "python",
   "name": "python3"
  },
  "language_info": {
   "codemirror_mode": {
    "name": "ipython",
    "version": 3
   },
   "file_extension": ".py",
   "mimetype": "text/x-python",
   "name": "python",
   "nbconvert_exporter": "python",
   "pygments_lexer": "ipython3",
   "version": "3.9.7"
  },
  "orig_nbformat": 4,
  "vscode": {
   "interpreter": {
    "hash": "f25093244bacc7e62393c275f4a06a2027bcbdb9a67d7fe53680dbd2484adc03"
   }
  }
 },
 "nbformat": 4,
 "nbformat_minor": 2
}
