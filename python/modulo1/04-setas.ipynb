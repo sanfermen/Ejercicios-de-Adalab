{
 "cells": [
  {
   "cell_type": "markdown",
   "metadata": {},
   "source": [
    "# Definir sets"
   ]
  },
  {
   "cell_type": "code",
   "execution_count": 1,
   "metadata": {},
   "outputs": [],
   "source": [
    "# Podemos crear un set que venga de una tupla, una estructura de datos que todavía no hemos aprendido, pero que viene definida entre paréntesis\n",
    "tupla = ('Leche','Huevos', 'Cacahuetes','Frutos secos','Pescado','Crustáceos','Soja','Trigo', \"Huevos\")\n",
    "alergenos = set(tupla)"
   ]
  },
  {
   "cell_type": "code",
   "execution_count": 2,
   "metadata": {},
   "outputs": [
    {
     "name": "stdout",
     "output_type": "stream",
     "text": [
      "{'Leche', 'Frutos secos', 'Crustáceos', 'Cacahuetes', 'Trigo', 'Huevos', 'Soja', 'Pescado'}\n"
     ]
    }
   ],
   "source": [
    "print(alergenos)"
   ]
  },
  {
   "cell_type": "code",
   "execution_count": 3,
   "metadata": {},
   "outputs": [],
   "source": [
    "# También podemos crear un set de una lista\n",
    "lista = ['Leche','Huevos', 'Cacahuetes','Frutos secos','Pescado','Crustáceos','Soja','Trigo', \"Huevos\"]\n",
    "alergenos2 = set(lista)"
   ]
  },
  {
   "cell_type": "code",
   "execution_count": 4,
   "metadata": {},
   "outputs": [
    {
     "name": "stdout",
     "output_type": "stream",
     "text": [
      "{'Leche', 'Frutos secos', 'Crustáceos', 'Cacahuetes', 'Trigo', 'Huevos', 'Soja', 'Pescado'}\n"
     ]
    }
   ],
   "source": [
    "print(alergenos2)"
   ]
  },
  {
   "cell_type": "code",
   "execution_count": 5,
   "metadata": {},
   "outputs": [
    {
     "name": "stdout",
     "output_type": "stream",
     "text": [
      "{'Leche', 'Frutos secos', 'Crustáceos', 'Trigo', 'Cacahuetes', 'Huevos', 'Soja', 'Pescado'}\n"
     ]
    }
   ],
   "source": [
    "# o incluso definirlos directamente, usando las llaves:\n",
    "alergenos3 = {'Soja', 'Trigo', 'Cacahuetes', 'Leche', 'Huevos','Frutos secos', 'Pescado', 'Crustáceos', \"Huevos\"}\n",
    "print(alergenos3)"
   ]
  },
  {
   "cell_type": "code",
   "execution_count": 6,
   "metadata": {},
   "outputs": [
    {
     "name": "stdout",
     "output_type": "stream",
     "text": [
      "True\n"
     ]
    }
   ],
   "source": [
    "# está la palabra \"huevos\" dentro de nuestro set?\n",
    "print(\"Huevos\" in alergenos)"
   ]
  },
  {
   "cell_type": "code",
   "execution_count": 7,
   "metadata": {},
   "outputs": [
    {
     "data": {
      "text/plain": [
       "False"
      ]
     },
     "execution_count": 7,
     "metadata": {},
     "output_type": "execute_result"
    }
   ],
   "source": [
    "# está la palabra \"Apio\" en nuestro set?\n",
    "\"Apio\" in alergenos"
   ]
  },
  {
   "cell_type": "code",
   "execution_count": 8,
   "metadata": {},
   "outputs": [
    {
     "name": "stdout",
     "output_type": "stream",
     "text": [
      "{'Leche', 'Apio', 'Frutos secos', 'Crustáceos', 'Cacahuetes', 'Trigo', 'Huevos', 'Soja', 'Pescado'}\n"
     ]
    }
   ],
   "source": [
    "alergenos.add(\"Apio\")\n",
    "print(alergenos)"
   ]
  },
  {
   "cell_type": "code",
   "execution_count": 9,
   "metadata": {},
   "outputs": [
    {
     "ename": "TypeError",
     "evalue": "set.add() takes exactly one argument (2 given)",
     "output_type": "error",
     "traceback": [
      "\u001b[0;31m---------------------------------------------------------------------------\u001b[0m",
      "\u001b[0;31mTypeError\u001b[0m                                 Traceback (most recent call last)",
      "\u001b[0;32m/tmp/ipykernel_699/3565943464.py\u001b[0m in \u001b[0;36m<module>\u001b[0;34m\u001b[0m\n\u001b[1;32m      1\u001b[0m \u001b[0;31m# imaginemos que queremos meter dos elementos nuevos en nuestro set. Con el método add nos daría un error.\u001b[0m\u001b[0;34m\u001b[0m\u001b[0;34m\u001b[0m\u001b[0m\n\u001b[0;32m----> 2\u001b[0;31m \u001b[0malergenos\u001b[0m\u001b[0;34m.\u001b[0m\u001b[0madd\u001b[0m\u001b[0;34m(\u001b[0m\u001b[0;34m\"Apio\"\u001b[0m\u001b[0;34m,\u001b[0m \u001b[0;34m\"Brocoli\"\u001b[0m\u001b[0;34m)\u001b[0m\u001b[0;34m\u001b[0m\u001b[0;34m\u001b[0m\u001b[0m\n\u001b[0m",
      "\u001b[0;31mTypeError\u001b[0m: set.add() takes exactly one argument (2 given)"
     ]
    }
   ],
   "source": [
    "# imaginemos que queremos meter dos elementos nuevos en nuestro set. Con el método add nos daría un error.\n",
    "# alergenos.add(\"Apio\", \"Brocoli\")"
   ]
  },
  {
   "cell_type": "code",
   "execution_count": 10,
   "metadata": {},
   "outputs": [],
   "source": [
    "# nos creamos una lista con los elementos que queremos introducir en nuestro set\n",
    "actualizacion = [\"Mostaza\", \"Sésamo\"]\n",
    "\n",
    "# le pasamos la lista creada al método update\n",
    "alergenos.update(actualizacion)"
   ]
  },
  {
   "cell_type": "code",
   "execution_count": 11,
   "metadata": {},
   "outputs": [
    {
     "name": "stdout",
     "output_type": "stream",
     "text": [
      "{'Leche', 'Sésamo', 'Apio', 'Frutos secos', 'Crustáceos', 'Cacahuetes', 'Trigo', 'Huevos', 'Soja', 'Mostaza', 'Pescado'}\n"
     ]
    }
   ],
   "source": [
    "# podemos ver como se han añadido nuestros dos nuevos elementos\n",
    "print(alergenos)"
   ]
  },
  {
   "cell_type": "code",
   "execution_count": 12,
   "metadata": {},
   "outputs": [],
   "source": [
    "# también el podemos pasar un set a este método\n",
    "\n",
    "# definimos un set con los nuevos elementos que queremos incluir\n",
    "actualizacion2 = {'Altramuces'}\n",
    "\n",
    "# usamos el método update\n",
    "alergenos.update(actualizacion2)"
   ]
  },
  {
   "cell_type": "code",
   "execution_count": 13,
   "metadata": {},
   "outputs": [
    {
     "name": "stdout",
     "output_type": "stream",
     "text": [
      "{'Leche', 'Sésamo', 'Apio', 'Frutos secos', 'Crustáceos', 'Cacahuetes', 'Trigo', 'Altramuces', 'Huevos', 'Soja', 'Mostaza', 'Pescado'}\n"
     ]
    }
   ],
   "source": [
    "print(alergenos)"
   ]
  },
  {
   "cell_type": "markdown",
   "metadata": {},
   "source": [
    "## Ejercicios: definir sets"
   ]
  },
  {
   "cell_type": "code",
   "execution_count": 14,
   "metadata": {},
   "outputs": [],
   "source": [
    "# 1. Vuelve a definir la lista\n",
    "temperaturas_diciembre = [10, 10, 13, 14, 12, 15,\n",
    "                          12, 11, 13, 17, 18, 15,\n",
    "                          15, 17, 17, 13, 13, 11,\n",
    "                          12, 10, 12, 14, 12, 12,\n",
    "                          11, 12, 16, 16, 14, 17, 18]"
   ]
  },
  {
   "cell_type": "code",
   "execution_count": 15,
   "metadata": {},
   "outputs": [
    {
     "name": "stdout",
     "output_type": "stream",
     "text": [
      "{10, 11, 12, 13, 14, 15, 16, 17, 18}\n"
     ]
    }
   ],
   "source": [
    "# 2. Conviértela en un set diciembre.\n",
    "diciembre = set(temperaturas_diciembre)\n",
    "print(diciembre)"
   ]
  },
  {
   "cell_type": "code",
   "execution_count": 16,
   "metadata": {},
   "outputs": [
    {
     "name": "stdout",
     "output_type": "stream",
     "text": [
      "{'verde', 'azul', 'negro', 'rojo', 'morado', 'amarillo'}\n"
     ]
    }
   ],
   "source": [
    "# 3. Piensa en 6 colores y define el set colores para guardarlos.\n",
    "colores = {\"azul\", \"rojo\", \"negro\", \"amarillo\", \"verde\", \"morado\"}\n",
    "print(colores)"
   ]
  },
  {
   "cell_type": "code",
   "execution_count": 17,
   "metadata": {},
   "outputs": [
    {
     "name": "stdout",
     "output_type": "stream",
     "text": [
      "{'verde', 'azul', 'negro', 'rojo', 'morado', 'lila', 'amarillo'}\n"
     ]
    }
   ],
   "source": [
    "# 4. Añade \"lila\" a colores usando .add()\n",
    "colores.add(\"lila\")\n",
    "print(colores)"
   ]
  },
  {
   "cell_type": "code",
   "execution_count": 18,
   "metadata": {},
   "outputs": [
    {
     "name": "stdout",
     "output_type": "stream",
     "text": [
      "{'verde', 'azul', 'granate', 'negro', 'rojo', 'morado', 'lila', 'amarillo'}\n"
     ]
    }
   ],
   "source": [
    "# 5. Añade \"azul\", \"rojo\" y \"granate\" a colores usando .update()\n",
    "colores_nuevos = [\"azul\", \"rojo\", \"granate\"]\n",
    "colores.update(colores_nuevos)\n",
    "print(colores)"
   ]
  },
  {
   "cell_type": "code",
   "execution_count": 19,
   "metadata": {},
   "outputs": [
    {
     "data": {
      "text/plain": [
       "True"
      ]
     },
     "execution_count": 19,
     "metadata": {},
     "output_type": "execute_result"
    }
   ],
   "source": [
    "# 6. TU lista de colores tiene verde?\n",
    "\"verde\" in colores"
   ]
  },
  {
   "cell_type": "code",
   "execution_count": 20,
   "metadata": {},
   "outputs": [
    {
     "data": {
      "text/plain": [
       "True"
      ]
     },
     "execution_count": 20,
     "metadata": {},
     "output_type": "execute_result"
    }
   ],
   "source": [
    "# 7. Tiene rojo?\n",
    "\"rojo\" in colores"
   ]
  },
  {
   "cell_type": "code",
   "execution_count": 21,
   "metadata": {},
   "outputs": [
    {
     "data": {
      "text/plain": [
       "{'Altramuces',\n",
       " 'Apio',\n",
       " 'Cacahuetes',\n",
       " 'Crustáceos',\n",
       " 'Frutos secos',\n",
       " 'Huevos',\n",
       " 'Leche',\n",
       " 'Mostaza',\n",
       " 'Pescado',\n",
       " 'Soja',\n",
       " 'Sésamo',\n",
       " 'Trigo'}"
      ]
     },
     "execution_count": 21,
     "metadata": {},
     "output_type": "execute_result"
    }
   ],
   "source": [
    "# hacemos una copia del set alergenos\n",
    "alergenos2 = alergenos.copy()\n",
    "alergenos2"
   ]
  },
  {
   "cell_type": "code",
   "execution_count": 22,
   "metadata": {},
   "outputs": [
    {
     "name": "stdout",
     "output_type": "stream",
     "text": [
      "Cuantos elementos: 12\n"
     ]
    }
   ],
   "source": [
    "# número de elementos que tenemos en un set\n",
    "print(\"Cuantos elementos:\", len(alergenos2))"
   ]
  },
  {
   "cell_type": "code",
   "execution_count": 23,
   "metadata": {},
   "outputs": [
    {
     "data": {
      "text/plain": [
       "'Leche'"
      ]
     },
     "execution_count": 23,
     "metadata": {},
     "output_type": "execute_result"
    }
   ],
   "source": [
    "# eliminamos un elemento de set. Como no tiene orden, lo eliminará de forma aleatoria\n",
    "elemento = alergenos2.pop()\n",
    "elemento"
   ]
  },
  {
   "cell_type": "code",
   "execution_count": 24,
   "metadata": {},
   "outputs": [
    {
     "name": "stdout",
     "output_type": "stream",
     "text": [
      "{'Sésamo', 'Apio', 'Frutos secos', 'Crustáceos', 'Cacahuetes', 'Trigo', 'Altramuces', 'Huevos', 'Soja', 'Mostaza', 'Pescado'}\n"
     ]
    }
   ],
   "source": [
    "# veamos que elementos tenemos ahora en alergenos2\n",
    "print(alergenos2)"
   ]
  },
  {
   "cell_type": "code",
   "execution_count": 25,
   "metadata": {},
   "outputs": [
    {
     "name": "stdout",
     "output_type": "stream",
     "text": [
      "Cuantos elementos: 11\n"
     ]
    }
   ],
   "source": [
    "print(\"Cuantos elementos:\", len(alergenos2))"
   ]
  },
  {
   "cell_type": "code",
   "execution_count": 26,
   "metadata": {},
   "outputs": [
    {
     "name": "stdout",
     "output_type": "stream",
     "text": [
      "set()\n"
     ]
    }
   ],
   "source": [
    "# También podemos usar el método clear, que vacia el contenido del set\n",
    "alergenos2.clear()\n",
    "print(alergenos2)"
   ]
  },
  {
   "cell_type": "code",
   "execution_count": 27,
   "metadata": {},
   "outputs": [
    {
     "name": "stdout",
     "output_type": "stream",
     "text": [
      "{'Leche', 'Sésamo', 'Apio', 'Frutos secos', 'Crustáceos', 'Cacahuetes', 'Trigo', 'Altramuces', 'Huevos', 'Soja', 'Mostaza', 'Pescado'}\n"
     ]
    }
   ],
   "source": [
    "# hacemos otra copia del set alergenos\n",
    "alergenos3 = alergenos.copy()\n",
    "print(alergenos3)"
   ]
  },
  {
   "cell_type": "code",
   "execution_count": 28,
   "metadata": {},
   "outputs": [
    {
     "name": "stdout",
     "output_type": "stream",
     "text": [
      "{'Leche', 'Sésamo', 'Apio', 'Frutos secos', 'Crustáceos', 'Cacahuetes', 'Trigo', 'Altramuces', 'Soja', 'Mostaza', 'Pescado'}\n"
     ]
    }
   ],
   "source": [
    "# imaginemos que queremos eliminar el elemento \"huevos\" de nuestro set\n",
    "alergenos3.remove(\"Huevos\")\n",
    "print(alergenos3)"
   ]
  },
  {
   "cell_type": "code",
   "execution_count": 29,
   "metadata": {},
   "outputs": [
    {
     "name": "stdout",
     "output_type": "stream",
     "text": [
      "{'Leche', 'Sésamo', 'Apio', 'Frutos secos', 'Crustáceos', 'Cacahuetes', 'Trigo', 'Altramuces', 'Mostaza', 'Pescado'}\n"
     ]
    }
   ],
   "source": [
    "# usando discard\n",
    "alergenos3.discard(\"Soja\")\n",
    "print(alergenos3)"
   ]
  },
  {
   "cell_type": "markdown",
   "metadata": {},
   "source": [
    "## Ejercicios : propiedades y métodos de un set"
   ]
  },
  {
   "cell_type": "code",
   "execution_count": 34,
   "metadata": {},
   "outputs": [
    {
     "name": "stdout",
     "output_type": "stream",
     "text": [
      "{10, 11, 12, 13, 14, 15, 16, 17, 18}\n"
     ]
    }
   ],
   "source": [
    "# 8. Define el set enero para que sea igual a diciembre\n",
    "enero = diciembre.copy()\n",
    "print(enero)"
   ]
  },
  {
   "cell_type": "code",
   "execution_count": 35,
   "metadata": {},
   "outputs": [
    {
     "name": "stdout",
     "output_type": "stream",
     "text": [
      "{10, 11, 12, 13, 14, 15, 16}\n"
     ]
    }
   ],
   "source": [
    "# 9. Quita las temperaturas 17 y 18 de enero\n",
    "enero.remove(17)\n",
    "enero.remove(18)\n",
    "print(enero)"
   ]
  },
  {
   "cell_type": "code",
   "execution_count": 36,
   "metadata": {},
   "outputs": [
    {
     "data": {
      "text/plain": [
       "9"
      ]
     },
     "execution_count": 36,
     "metadata": {},
     "output_type": "execute_result"
    }
   ],
   "source": [
    "# 10. Cuantas temperaturas distintas había en diciembre?\n",
    "len(diciembre)"
   ]
  },
  {
   "cell_type": "code",
   "execution_count": 37,
   "metadata": {},
   "outputs": [
    {
     "data": {
      "text/plain": [
       "7"
      ]
     },
     "execution_count": 37,
     "metadata": {},
     "output_type": "execute_result"
    }
   ],
   "source": [
    "# 11. Y cuantas en enero?\n",
    "len(enero)"
   ]
  },
  {
   "cell_type": "markdown",
   "metadata": {},
   "source": [
    "# Operaciones con sets"
   ]
  },
  {
   "cell_type": "code",
   "execution_count": 38,
   "metadata": {},
   "outputs": [],
   "source": [
    "# definimos los dos set nuevos\n",
    "\n",
    "set1 = {'a','b','c'}\n",
    "set2 = {'b','c','d'}"
   ]
  },
  {
   "cell_type": "code",
   "execution_count": 39,
   "metadata": {},
   "outputs": [
    {
     "data": {
      "text/plain": [
       "{'a', 'b', 'c', 'd'}"
      ]
     },
     "execution_count": 39,
     "metadata": {},
     "output_type": "execute_result"
    }
   ],
   "source": [
    "set3 = set1.union(set2)\n",
    "set3"
   ]
  },
  {
   "cell_type": "code",
   "execution_count": 40,
   "metadata": {},
   "outputs": [
    {
     "name": "stdout",
     "output_type": "stream",
     "text": [
      "{'b', 'd', 'c', 'a'}\n"
     ]
    }
   ],
   "source": [
    "# también se puede hacer usando el separador |\n",
    "set33 = set1 | set2\n",
    "print(set33)"
   ]
  },
  {
   "cell_type": "code",
   "execution_count": 41,
   "metadata": {},
   "outputs": [
    {
     "name": "stdout",
     "output_type": "stream",
     "text": [
      "{'c', 'b', 'a'}\n",
      "{'c', 'd', 'b'}\n"
     ]
    }
   ],
   "source": [
    "#recordemos set1 y set2\n",
    "print(set1)\n",
    "print(set2)"
   ]
  },
  {
   "cell_type": "code",
   "execution_count": 42,
   "metadata": {},
   "outputs": [
    {
     "data": {
      "text/plain": [
       "{'b', 'c'}"
      ]
     },
     "execution_count": 42,
     "metadata": {},
     "output_type": "execute_result"
    }
   ],
   "source": [
    "# los elementos comunes a los dos sets son\n",
    "set4 = set1.intersection(set2)\n",
    "set4"
   ]
  },
  {
   "cell_type": "code",
   "execution_count": 43,
   "metadata": {},
   "outputs": [
    {
     "data": {
      "text/plain": [
       "{'b', 'c'}"
      ]
     },
     "execution_count": 43,
     "metadata": {},
     "output_type": "execute_result"
    }
   ],
   "source": [
    "#otra opción para hacerlo\n",
    "set44 = set1 & set2\n",
    "set44"
   ]
  },
  {
   "cell_type": "code",
   "execution_count": 44,
   "metadata": {},
   "outputs": [
    {
     "name": "stdout",
     "output_type": "stream",
     "text": [
      "{'c', 'b', 'a'}\n",
      "{'c', 'd', 'b'}\n"
     ]
    }
   ],
   "source": [
    "#recordemos set1 y set2\n",
    "print(set1)\n",
    "print(set2)"
   ]
  },
  {
   "cell_type": "code",
   "execution_count": 45,
   "metadata": {},
   "outputs": [
    {
     "name": "stdout",
     "output_type": "stream",
     "text": [
      "{'a'}\n"
     ]
    }
   ],
   "source": [
    "# que elementos están en set1 pero no en set2\n",
    "set5 = set1.difference(set2)\n",
    "print(set5)"
   ]
  },
  {
   "cell_type": "code",
   "execution_count": 46,
   "metadata": {},
   "outputs": [
    {
     "name": "stdout",
     "output_type": "stream",
     "text": [
      "{'d'}\n"
     ]
    }
   ],
   "source": [
    "# que elementos están en set2 pero no en set1\n",
    "set55 = set2.difference(set1)\n",
    "print(set55)"
   ]
  },
  {
   "cell_type": "code",
   "execution_count": 47,
   "metadata": {},
   "outputs": [
    {
     "name": "stdout",
     "output_type": "stream",
     "text": [
      "{'a'}\n"
     ]
    }
   ],
   "source": [
    "set555 = set1 - set2\n",
    "print(set555)"
   ]
  },
  {
   "cell_type": "code",
   "execution_count": 48,
   "metadata": {},
   "outputs": [
    {
     "name": "stdout",
     "output_type": "stream",
     "text": [
      "{'c', 'b', 'a'}\n",
      "{'c', 'd', 'b'}\n"
     ]
    }
   ],
   "source": [
    "#recordemos set1 y set2\n",
    "print(set1)\n",
    "print(set2)"
   ]
  },
  {
   "cell_type": "code",
   "execution_count": 49,
   "metadata": {},
   "outputs": [
    {
     "name": "stdout",
     "output_type": "stream",
     "text": [
      "{'d', 'a'}\n"
     ]
    }
   ],
   "source": [
    "# que elementos son unicos del set1 y set2\n",
    "set7= set1.symmetric_difference(set2)\n",
    "print(set7)"
   ]
  },
  {
   "cell_type": "code",
   "execution_count": 50,
   "metadata": {},
   "outputs": [
    {
     "name": "stdout",
     "output_type": "stream",
     "text": [
      "{'d', 'a'}\n"
     ]
    }
   ],
   "source": [
    "set77 = set2.symmetric_difference(set1)\n",
    "print(set77)"
   ]
  },
  {
   "cell_type": "code",
   "execution_count": 51,
   "metadata": {},
   "outputs": [
    {
     "name": "stdout",
     "output_type": "stream",
     "text": [
      "{'c', 'b'}\n",
      "{'d', 'a'}\n"
     ]
    }
   ],
   "source": [
    "# recordemos\n",
    "print(set4)\n",
    "print(set7)"
   ]
  },
  {
   "cell_type": "code",
   "execution_count": 52,
   "metadata": {},
   "outputs": [
    {
     "data": {
      "text/plain": [
       "True"
      ]
     },
     "execution_count": 52,
     "metadata": {},
     "output_type": "execute_result"
    }
   ],
   "source": [
    "# isdisjoint para comprobar si tienen elementos en común o no\n",
    "set4.isdisjoint(set7)"
   ]
  },
  {
   "cell_type": "code",
   "execution_count": 53,
   "metadata": {},
   "outputs": [
    {
     "name": "stdout",
     "output_type": "stream",
     "text": [
      "{'c', 'b', 'a'}\n",
      "{'c', 'd', 'b'}\n"
     ]
    }
   ],
   "source": [
    "print(set1)\n",
    "print(set2)"
   ]
  },
  {
   "cell_type": "code",
   "execution_count": 54,
   "metadata": {},
   "outputs": [
    {
     "data": {
      "text/plain": [
       "False"
      ]
     },
     "execution_count": 54,
     "metadata": {},
     "output_type": "execute_result"
    }
   ],
   "source": [
    "set1.isdisjoint(set2)"
   ]
  },
  {
   "cell_type": "code",
   "execution_count": 55,
   "metadata": {},
   "outputs": [],
   "source": [
    "# recordemos de nuevo los sets con los que estamos trabajando\n",
    "set8 = {\"a\", \"b\", \"d\"}\n",
    "set9 = {\"a\", \"d\"}"
   ]
  },
  {
   "cell_type": "code",
   "execution_count": 56,
   "metadata": {},
   "outputs": [
    {
     "name": "stdout",
     "output_type": "stream",
     "text": [
      "False\n"
     ]
    }
   ],
   "source": [
    "# comprobemos si el set 8 es un subset de set9. Lo que estamos evaluando si todos los elementos de set8 están en el set9\n",
    "print(set8.issubset(set9))"
   ]
  },
  {
   "cell_type": "code",
   "execution_count": 57,
   "metadata": {},
   "outputs": [
    {
     "data": {
      "text/plain": [
       "False"
      ]
     },
     "execution_count": 57,
     "metadata": {},
     "output_type": "execute_result"
    }
   ],
   "source": [
    "# también se puede hacer como\n",
    "set8 < set9"
   ]
  },
  {
   "cell_type": "code",
   "execution_count": 58,
   "metadata": {},
   "outputs": [
    {
     "data": {
      "text/plain": [
       "True"
      ]
     },
     "execution_count": 58,
     "metadata": {},
     "output_type": "execute_result"
    }
   ],
   "source": [
    "# están todos los elementos del set9 en el set8?\n",
    "set9.issubset(set8)"
   ]
  },
  {
   "cell_type": "code",
   "execution_count": 59,
   "metadata": {},
   "outputs": [
    {
     "data": {
      "text/plain": [
       "True"
      ]
     },
     "execution_count": 59,
     "metadata": {},
     "output_type": "execute_result"
    }
   ],
   "source": [
    "set8 > set9"
   ]
  },
  {
   "cell_type": "code",
   "execution_count": 60,
   "metadata": {},
   "outputs": [
    {
     "name": "stdout",
     "output_type": "stream",
     "text": [
      "{'d', 'b', 'a'}\n",
      "{'d', 'a'}\n"
     ]
    }
   ],
   "source": [
    "print(set8)\n",
    "print(set9)"
   ]
  },
  {
   "cell_type": "code",
   "execution_count": 61,
   "metadata": {},
   "outputs": [
    {
     "data": {
      "text/plain": [
       "True"
      ]
     },
     "execution_count": 61,
     "metadata": {},
     "output_type": "execute_result"
    }
   ],
   "source": [
    "set8.issuperset(set9)"
   ]
  },
  {
   "cell_type": "code",
   "execution_count": 62,
   "metadata": {},
   "outputs": [
    {
     "data": {
      "text/plain": [
       "False"
      ]
     },
     "execution_count": 62,
     "metadata": {},
     "output_type": "execute_result"
    }
   ],
   "source": [
    "set9.issuperset(set8)"
   ]
  },
  {
   "cell_type": "markdown",
   "metadata": {},
   "source": [
    "## Ejercicios: set operaciones"
   ]
  },
  {
   "cell_type": "code",
   "execution_count": 63,
   "metadata": {},
   "outputs": [
    {
     "name": "stdout",
     "output_type": "stream",
     "text": [
      "{10, 11, 12, 13, 14, 15, 16, 17, 18}\n",
      "{10, 11, 12, 13, 14, 15, 16}\n"
     ]
    }
   ],
   "source": [
    "print(diciembre)\n",
    "print(enero)"
   ]
  },
  {
   "cell_type": "code",
   "execution_count": 64,
   "metadata": {},
   "outputs": [
    {
     "name": "stdout",
     "output_type": "stream",
     "text": [
      "{17, 18}\n"
     ]
    }
   ],
   "source": [
    "# 12. Identifica los elementos que haya en diciembre que no haya en enero\n",
    "dic_si = diciembre.difference(enero)\n",
    "print(dic_si)"
   ]
  },
  {
   "cell_type": "code",
   "execution_count": 65,
   "metadata": {},
   "outputs": [
    {
     "name": "stdout",
     "output_type": "stream",
     "text": [
      "set()\n"
     ]
    }
   ],
   "source": [
    "# 13. Identifica los elementos que haya en enero pero no en diciembre\n",
    "ene_si = enero.difference(diciembre)\n",
    "print(ene_si)"
   ]
  },
  {
   "cell_type": "code",
   "execution_count": 66,
   "metadata": {},
   "outputs": [
    {
     "data": {
      "text/plain": [
       "{10, 11, 12, 13, 14, 15, 16}"
      ]
     },
     "execution_count": 66,
     "metadata": {},
     "output_type": "execute_result"
    }
   ],
   "source": [
    "# 14. Identifica los elementos que tienen en común diciembre y enero\n",
    "diciembre.intersection(enero)"
   ]
  },
  {
   "cell_type": "code",
   "execution_count": 67,
   "metadata": {},
   "outputs": [
    {
     "name": "stdout",
     "output_type": "stream",
     "text": [
      "{'verde', 'azul', 'granate', 'negro', 'rojo', 'morado', 'lila', 'amarillo'}\n"
     ]
    }
   ],
   "source": [
    "# 15. Identifica la diferencia simétrica de colores y {marrón, amarillo, cian} \n",
    "print(colores)"
   ]
  },
  {
   "cell_type": "code",
   "execution_count": 68,
   "metadata": {},
   "outputs": [
    {
     "name": "stdout",
     "output_type": "stream",
     "text": [
      "{'cian', 'marrón', 'amarillo'}\n"
     ]
    }
   ],
   "source": [
    "colores2 = {\"marrón\", \"amarillo\", \"cian\"}\n",
    "print(colores2)"
   ]
  },
  {
   "cell_type": "code",
   "execution_count": 69,
   "metadata": {},
   "outputs": [
    {
     "data": {
      "text/plain": [
       "{'azul',\n",
       " 'cian',\n",
       " 'granate',\n",
       " 'lila',\n",
       " 'marrón',\n",
       " 'morado',\n",
       " 'negro',\n",
       " 'rojo',\n",
       " 'verde'}"
      ]
     },
     "execution_count": 69,
     "metadata": {},
     "output_type": "execute_result"
    }
   ],
   "source": [
    "colores.symmetric_difference(colores2)"
   ]
  },
  {
   "cell_type": "code",
   "execution_count": 70,
   "metadata": {},
   "outputs": [
    {
     "data": {
      "text/plain": [
       "False"
      ]
     },
     "execution_count": 70,
     "metadata": {},
     "output_type": "execute_result"
    }
   ],
   "source": [
    "# 16. son disjoint diciembre y enero? Porqué(no)?\n",
    "diciembre.isdisjoint(enero)"
   ]
  },
  {
   "cell_type": "code",
   "execution_count": 71,
   "metadata": {},
   "outputs": [],
   "source": [
    "# porque coinciden algunos elementos"
   ]
  },
  {
   "cell_type": "code",
   "execution_count": 72,
   "metadata": {},
   "outputs": [],
   "source": [
    "# 17. Es {\"rojo\", \"azul\"} un superset de colores?\n",
    "colores3 = {\"rojo\", \"azul\"}"
   ]
  },
  {
   "cell_type": "code",
   "execution_count": 73,
   "metadata": {},
   "outputs": [
    {
     "data": {
      "text/plain": [
       "False"
      ]
     },
     "execution_count": 73,
     "metadata": {},
     "output_type": "execute_result"
    }
   ],
   "source": [
    "colores3.issuperset(colores)"
   ]
  },
  {
   "cell_type": "code",
   "execution_count": 74,
   "metadata": {},
   "outputs": [
    {
     "data": {
      "text/plain": [
       "True"
      ]
     },
     "execution_count": 74,
     "metadata": {},
     "output_type": "execute_result"
    }
   ],
   "source": [
    "colores3.issubset(colores)"
   ]
  }
 ],
 "metadata": {
  "kernelspec": {
   "display_name": "Python 3.9.7 ('base')",
   "language": "python",
   "name": "python3"
  },
  "language_info": {
   "codemirror_mode": {
    "name": "ipython",
    "version": 3
   },
   "file_extension": ".py",
   "mimetype": "text/x-python",
   "name": "python",
   "nbconvert_exporter": "python",
   "pygments_lexer": "ipython3",
   "version": "3.9.7"
  },
  "orig_nbformat": 4,
  "vscode": {
   "interpreter": {
    "hash": "f25093244bacc7e62393c275f4a06a2027bcbdb9a67d7fe53680dbd2484adc03"
   }
  }
 },
 "nbformat": 4,
 "nbformat_minor": 2
}
