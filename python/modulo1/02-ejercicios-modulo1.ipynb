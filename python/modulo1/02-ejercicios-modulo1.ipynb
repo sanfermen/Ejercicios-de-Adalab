{
 "cells": [
  {
   "cell_type": "markdown",
   "metadata": {},
   "source": [
    "EJERCICIOS: NUMEROS, TEXTOS Y PRINT()"
   ]
  },
  {
   "cell_type": "code",
   "execution_count": 1,
   "metadata": {},
   "outputs": [
    {
     "name": "stdout",
     "output_type": "stream",
     "text": [
      "8\n",
      "cuatro\n"
     ]
    }
   ],
   "source": [
    "# Que 'gatos' sea un número con el valor 8\n",
    "gatos = 8\n",
    "# Que 'perros' sea un texto de seis caracteres: la palabra \"cuatro\"\n",
    "perros = \"cuatro\"\n",
    "print(gatos)\n",
    "print(perros)"
   ]
  },
  {
   "cell_type": "code",
   "execution_count": 2,
   "metadata": {},
   "outputs": [
    {
     "name": "stdout",
     "output_type": "stream",
     "text": [
      "cuatro más cuatro\n"
     ]
    }
   ],
   "source": [
    "print(perros + \" más \" + perros)"
   ]
  },
  {
   "cell_type": "code",
   "execution_count": 3,
   "metadata": {},
   "outputs": [
    {
     "name": "stdout",
     "output_type": "stream",
     "text": [
      "cuatro más cuatro es igual a 8\n"
     ]
    }
   ],
   "source": [
    "print(perros + \" más \" + perros + \" es igual a \" + str(gatos))"
   ]
  },
  {
   "cell_type": "code",
   "execution_count": 4,
   "metadata": {},
   "outputs": [
    {
     "name": "stdout",
     "output_type": "stream",
     "text": [
      "cuatro + cuatro = 8\n"
     ]
    }
   ],
   "source": [
    "print(perros + \" + \" + perros + \" = \" + str(gatos))"
   ]
  },
  {
   "cell_type": "markdown",
   "metadata": {},
   "source": [
    "EJERCICIOS: TIPOS DE DATOS"
   ]
  },
  {
   "cell_type": "code",
   "execution_count": 5,
   "metadata": {},
   "outputs": [],
   "source": [
    "# Define una variable 'pizzas' con valor \"2\" que sea del tipo float\n",
    "pizzas = float(2)"
   ]
  },
  {
   "cell_type": "code",
   "execution_count": 6,
   "metadata": {},
   "outputs": [],
   "source": [
    "# Define una variable 'magdalenas' con un valor \"2\" que sea del tipo string\n",
    "magdalenas = str(2)"
   ]
  },
  {
   "cell_type": "code",
   "execution_count": 7,
   "metadata": {},
   "outputs": [],
   "source": [
    "# Define 'postres' con un valor \"0\" que sea del tipo int\n",
    "postres = int(0)"
   ]
  },
  {
   "cell_type": "code",
   "execution_count": 8,
   "metadata": {},
   "outputs": [
    {
     "name": "stdout",
     "output_type": "stream",
     "text": [
      "<class 'float'>\n",
      "<class 'str'>\n",
      "<class 'int'>\n"
     ]
    }
   ],
   "source": [
    "# Comprobar tipos usando type()\n",
    "print(type(pizzas))\n",
    "print(type(magdalenas))\n",
    "print(type(postres))"
   ]
  },
  {
   "cell_type": "code",
   "execution_count": 9,
   "metadata": {},
   "outputs": [
    {
     "name": "stdout",
     "output_type": "stream",
     "text": [
      "True\n"
     ]
    }
   ],
   "source": [
    "# Usar isinstance para ver si 'magdalenas' es un string o no\n",
    "print(isinstance(magdalenas,str))"
   ]
  },
  {
   "cell_type": "code",
   "execution_count": 10,
   "metadata": {},
   "outputs": [
    {
     "name": "stdout",
     "output_type": "stream",
     "text": [
      "<class 'bool'>\n"
     ]
    }
   ],
   "source": [
    "# Define \"postres\" con un valor 0 que sea del tipo bool\n",
    "postres = False\n",
    "print(type(postres))"
   ]
  },
  {
   "cell_type": "markdown",
   "metadata": {},
   "source": [
    "EJERCICIOS: OPERACIONES ALGEBRAICAS"
   ]
  },
  {
   "cell_type": "code",
   "execution_count": 11,
   "metadata": {},
   "outputs": [
    {
     "data": {
      "text/plain": [
       "10.0"
      ]
     },
     "execution_count": 11,
     "metadata": {},
     "output_type": "execute_result"
    }
   ],
   "source": [
    "# Calcula la suma de 'gatos' y 'pizzas'\n",
    "gatos+pizzas"
   ]
  },
  {
   "cell_type": "code",
   "execution_count": 12,
   "metadata": {},
   "outputs": [
    {
     "data": {
      "text/plain": [
       "6.0"
      ]
     },
     "execution_count": 12,
     "metadata": {},
     "output_type": "execute_result"
    }
   ],
   "source": [
    "# Calcula la diferencia entre gatos y pizzas\n",
    "gatos-pizzas"
   ]
  },
  {
   "cell_type": "code",
   "execution_count": 13,
   "metadata": {},
   "outputs": [
    {
     "data": {
      "text/plain": [
       "16"
      ]
     },
     "execution_count": 13,
     "metadata": {},
     "output_type": "execute_result"
    }
   ],
   "source": [
    "# Multiplica la catidad de gatos por 2\n",
    "gatos*2"
   ]
  },
  {
   "cell_type": "code",
   "execution_count": 14,
   "metadata": {},
   "outputs": [
    {
     "name": "stdout",
     "output_type": "stream",
     "text": [
      "16.0\n"
     ]
    }
   ],
   "source": [
    "# Haz que la cantidad de \"piezas\" sea 8 veces la cantidad de pizzas\n",
    "piezas = 8*pizzas\n",
    "print(piezas)"
   ]
  },
  {
   "cell_type": "code",
   "execution_count": 15,
   "metadata": {},
   "outputs": [
    {
     "data": {
      "text/plain": [
       "19.0"
      ]
     },
     "execution_count": 15,
     "metadata": {},
     "output_type": "execute_result"
    }
   ],
   "source": [
    "# Haz que la cantidad de \"piezas\" se aumente con 3\n",
    "piezas+3"
   ]
  },
  {
   "cell_type": "code",
   "execution_count": 16,
   "metadata": {},
   "outputs": [
    {
     "name": "stdout",
     "output_type": "stream",
     "text": [
      "81\n"
     ]
    }
   ],
   "source": [
    "# Calcula el cuadrado de 9 y guárdalo en \"superficie\"\n",
    "superficie = 9**2\n",
    "print(superficie)"
   ]
  },
  {
   "cell_type": "code",
   "execution_count": 17,
   "metadata": {},
   "outputs": [
    {
     "name": "stdout",
     "output_type": "stream",
     "text": [
      "Hay 10.125 metros de superficie por gato\n"
     ]
    }
   ],
   "source": [
    "# ¿Cuánta superficie hay por gato?\n",
    "print(\"Hay\", superficie/gatos, \"metros de superficie por gato\")"
   ]
  },
  {
   "cell_type": "code",
   "execution_count": 18,
   "metadata": {},
   "outputs": [
    {
     "name": "stdout",
     "output_type": "stream",
     "text": [
      "Hay 2.0 piezas enteras por gato\n"
     ]
    }
   ],
   "source": [
    "# ¿Cuántas piezas enteras hay por gato?\n",
    "print(\"Hay\", piezas//gatos, \"piezas enteras por gato\")"
   ]
  },
  {
   "cell_type": "code",
   "execution_count": 19,
   "metadata": {},
   "outputs": [
    {
     "name": "stdout",
     "output_type": "stream",
     "text": [
      "Te quedan 0.0 piezas\n"
     ]
    }
   ],
   "source": [
    "# ¿Cuántas piezas te quedan si cada gato se come 21 piezas?\n",
    "print(\"Te quedan\", piezas%gatos, \"piezas\")"
   ]
  },
  {
   "cell_type": "code",
   "execution_count": 20,
   "metadata": {},
   "outputs": [
    {
     "name": "stdout",
     "output_type": "stream",
     "text": [
      "Hay 10.1 metros de superficie por gato\n"
     ]
    }
   ],
   "source": [
    "# ¿Cuánta superficie hay por gato en metros cuadrados? Redondea a un sólo decimal.\n",
    "print(\"Hay\", round(superficie/gatos,1), \"metros de superficie por gato\")"
   ]
  },
  {
   "cell_type": "markdown",
   "metadata": {},
   "source": [
    "EJERCICIOS: OPERACIONES BINARIAS"
   ]
  },
  {
   "cell_type": "code",
   "execution_count": 21,
   "metadata": {},
   "outputs": [
    {
     "name": "stdout",
     "output_type": "stream",
     "text": [
      "Es verdad que hay más gatos que pizzas?\n",
      "True\n"
     ]
    }
   ],
   "source": [
    "# ¿Es verdad que hay más gatos que pizzas?\n",
    "print(\"Es verdad que hay más gatos que pizzas?\")\n",
    "print(gatos>pizzas)"
   ]
  },
  {
   "cell_type": "code",
   "execution_count": 22,
   "metadata": {},
   "outputs": [
    {
     "name": "stdout",
     "output_type": "stream",
     "text": [
      "¿Es verdad que hay menos gatos que superficie\n",
      "True\n"
     ]
    }
   ],
   "source": [
    "print(\"¿Es verdad que hay menos gatos que superficie\")\n",
    "print(gatos<superficie)"
   ]
  },
  {
   "cell_type": "code",
   "execution_count": 23,
   "metadata": {},
   "outputs": [
    {
     "name": "stdout",
     "output_type": "stream",
     "text": [
      "¿Es verdad que 2 veces la cantidad de pizzas en desigual a la cantidad de gatos?\n",
      "True\n"
     ]
    }
   ],
   "source": [
    "print(\"¿Es verdad que 2 veces la cantidad de pizzas en desigual a la cantidad de gatos?\")\n",
    "print(2*pizzas != gatos)"
   ]
  },
  {
   "cell_type": "code",
   "execution_count": 24,
   "metadata": {},
   "outputs": [
    {
     "name": "stdout",
     "output_type": "stream",
     "text": [
      "¿Es falso que 2 veces la cantidad de pizzas es igual a la cantidad de gatos?\n",
      "False\n"
     ]
    }
   ],
   "source": [
    "print(\"¿Es falso que 2 veces la cantidad de pizzas es igual a la cantidad de gatos?\")\n",
    "print(2*pizzas == gatos)"
   ]
  },
  {
   "cell_type": "code",
   "execution_count": 25,
   "metadata": {},
   "outputs": [
    {
     "name": "stdout",
     "output_type": "stream",
     "text": [
      "La variable piezas, es mayor o igual y pizzas y superficie es distinto de cero\n",
      "True\n"
     ]
    }
   ],
   "source": [
    "print(\"La variable piezas, es mayor o igual y pizzas y superficie es distinto de cero\")\n",
    "print(piezas >= pizzas\n",
    "    and superficie != 0)"
   ]
  },
  {
   "cell_type": "code",
   "execution_count": 26,
   "metadata": {},
   "outputs": [
    {
     "name": "stdout",
     "output_type": "stream",
     "text": [
      "La variable piezas, es mayor o igual a pizzas y menor que superficie?\n",
      "True\n"
     ]
    }
   ],
   "source": [
    "print(\"La variable piezas, es mayor o igual a pizzas y menor que superficie?\")\n",
    "print(piezas >= pizzas\n",
    "    and piezas < superficie)"
   ]
  },
  {
   "cell_type": "code",
   "execution_count": 27,
   "metadata": {},
   "outputs": [
    {
     "name": "stdout",
     "output_type": "stream",
     "text": [
      "¿Hay más pizzas que gatos, o si el residuo de piezas por gato es 0?\n",
      "True\n"
     ]
    }
   ],
   "source": [
    "print(\"¿Hay más pizzas que gatos, o si el residuo de piezas por gato es 0?\")\n",
    "print(pizzas>gatos\n",
    "    or piezas%gatos == 0)"
   ]
  },
  {
   "cell_type": "code",
   "execution_count": 28,
   "metadata": {},
   "outputs": [
    {
     "name": "stdout",
     "output_type": "stream",
     "text": [
      "La variable piezas, es mayor o igual a pizzas y menor que superficie?\n",
      "True\n"
     ]
    }
   ],
   "source": [
    "print(\"La variable piezas, es mayor o igual a pizzas y menor que superficie?\")\n",
    "print(pizzas <= piezas < superficie)"
   ]
  },
  {
   "cell_type": "code",
   "execution_count": 29,
   "metadata": {},
   "outputs": [
    {
     "name": "stdout",
     "output_type": "stream",
     "text": [
      "Superficie es desigual a 0\n",
      "False\n"
     ]
    }
   ],
   "source": [
    "print(\"Superficie es desigual a 0\")\n",
    "print(superficie == 0)"
   ]
  },
  {
   "cell_type": "markdown",
   "metadata": {},
   "source": [
    "EJERCICIOS: OPERACIONES CON TEXTO Y FUNCIONES"
   ]
  },
  {
   "cell_type": "code",
   "execution_count": 30,
   "metadata": {},
   "outputs": [
    {
     "name": "stdout",
     "output_type": "stream",
     "text": [
      "6\n"
     ]
    }
   ],
   "source": [
    "# Usa input() y guarda la respuesta en la variable dia_cumple\n",
    "dia_cumple = input()\n",
    "print(dia_cumple)"
   ]
  },
  {
   "cell_type": "code",
   "execution_count": 31,
   "metadata": {},
   "outputs": [
    {
     "name": "stdout",
     "output_type": "stream",
     "text": [
      "diciembre\n"
     ]
    }
   ],
   "source": [
    "# Usa input() y guarda la respuesta en la variable mes_cumple\n",
    "mes_cumple = input()\n",
    "print(mes_cumple)"
   ]
  },
  {
   "cell_type": "code",
   "execution_count": 32,
   "metadata": {},
   "outputs": [
    {
     "name": "stdout",
     "output_type": "stream",
     "text": [
      "6\n",
      "diciembre\n"
     ]
    }
   ],
   "source": [
    "print(dia_cumple.strip())\n",
    "print(mes_cumple.strip())"
   ]
  },
  {
   "cell_type": "code",
   "execution_count": 33,
   "metadata": {},
   "outputs": [
    {
     "name": "stdout",
     "output_type": "stream",
     "text": [
      "6 de diciembre\n"
     ]
    }
   ],
   "source": [
    "# Haz que fecha_cumple sea un string compuesto por el día y el mes\n",
    "fecha_cumple = dia_cumple + \" de \" + mes_cumple\n",
    "print(fecha_cumple)"
   ]
  },
  {
   "cell_type": "code",
   "execution_count": 34,
   "metadata": {},
   "outputs": [
    {
     "name": "stdout",
     "output_type": "stream",
     "text": [
      "Fecha de cumpleaños es 6 de diciembre\n"
     ]
    }
   ],
   "source": [
    "# Imprime Fecha de cumpleaños es más el día y el mes\n",
    "print(\"Fecha de cumpleaños es \" + dia_cumple + \" de \" + mes_cumple)"
   ]
  },
  {
   "cell_type": "code",
   "execution_count": 35,
   "metadata": {},
   "outputs": [
    {
     "name": "stdout",
     "output_type": "stream",
     "text": [
      "CUATRO\n"
     ]
    }
   ],
   "source": [
    "# Imprime la variable perros en todas mayúsculas\n",
    "print(perros.upper())"
   ]
  },
  {
   "cell_type": "markdown",
   "metadata": {},
   "source": [
    "EJERCICIOS: DEFINIR LISTAS"
   ]
  },
  {
   "cell_type": "code",
   "execution_count": 17,
   "metadata": {},
   "outputs": [],
   "source": [
    "# haz una lista \"colores\" de los primeros 6 colores que te vengan a la mente\n",
    "colores = [\"azul\", \"blanco\", \"rojo\", \"negro\", \"amarillo\", \"verde\"]"
   ]
  },
  {
   "cell_type": "code",
   "execution_count": 18,
   "metadata": {},
   "outputs": [],
   "source": [
    "# haz una lista \"buses\" de las líneas de autobuses que pasan por tu casa\n",
    "buses = [\"A2166\", \"A3411\", \"A3414\"]"
   ]
  },
  {
   "cell_type": "code",
   "execution_count": 19,
   "metadata": {},
   "outputs": [],
   "source": [
    "# apunta la previsión de temperaturas máximas para todos los días de esta semana en \"temperaturas\"\n",
    "temperaturas = [20, 22, 19, 17, 22, 19, 21]"
   ]
  },
  {
   "cell_type": "code",
   "execution_count": 20,
   "metadata": {},
   "outputs": [],
   "source": [
    "nombre = \"Sandra\""
   ]
  },
  {
   "cell_type": "code",
   "execution_count": 21,
   "metadata": {},
   "outputs": [
    {
     "name": "stdout",
     "output_type": "stream",
     "text": [
      "['S', 'a', 'n', 'd', 'r', 'a']\n"
     ]
    }
   ],
   "source": [
    "lista_nombre = list(nombre)\n",
    "print(lista_nombre)"
   ]
  },
  {
   "cell_type": "code",
   "execution_count": 22,
   "metadata": {},
   "outputs": [
    {
     "name": "stdout",
     "output_type": "stream",
     "text": [
      "['F', 'e', 'r', 'n', 'a', 'n', 'd', 'e', 'z', ' ', 'M', 'e', 'n', 'e', 'n', 'd', 'e', 'z']\n"
     ]
    }
   ],
   "source": [
    "apellidos = \"Fernandez Menendez\"\n",
    "lista_apellidos = list(apellidos)\n",
    "print(lista_apellidos)"
   ]
  },
  {
   "cell_type": "markdown",
   "metadata": {},
   "source": [
    "EJERCICIOS: PROPIEDADES DE LISTAS"
   ]
  },
  {
   "cell_type": "code",
   "execution_count": 23,
   "metadata": {},
   "outputs": [
    {
     "data": {
      "text/plain": [
       "3"
      ]
     },
     "execution_count": 23,
     "metadata": {},
     "output_type": "execute_result"
    }
   ],
   "source": [
    "# Cuantos buses pasan por casa?\n",
    "len(buses)"
   ]
  },
  {
   "cell_type": "code",
   "execution_count": 24,
   "metadata": {},
   "outputs": [
    {
     "data": {
      "text/plain": [
       "18"
      ]
     },
     "execution_count": 24,
     "metadata": {},
     "output_type": "execute_result"
    }
   ],
   "source": [
    "# Cuantos caracteres hay en tus apellidos?\n",
    "len(lista_apellidos)"
   ]
  },
  {
   "cell_type": "code",
   "execution_count": 25,
   "metadata": {},
   "outputs": [
    {
     "data": {
      "text/plain": [
       "22"
      ]
     },
     "execution_count": 25,
     "metadata": {},
     "output_type": "execute_result"
    }
   ],
   "source": [
    "t_max = max(temperaturas)\n",
    "t_max"
   ]
  },
  {
   "cell_type": "code",
   "execution_count": 26,
   "metadata": {},
   "outputs": [
    {
     "data": {
      "text/plain": [
       "17"
      ]
     },
     "execution_count": 26,
     "metadata": {},
     "output_type": "execute_result"
    }
   ],
   "source": [
    "t_min = min(temperaturas)\n",
    "t_min"
   ]
  },
  {
   "cell_type": "code",
   "execution_count": 27,
   "metadata": {},
   "outputs": [
    {
     "data": {
      "text/plain": [
       "False"
      ]
     },
     "execution_count": 27,
     "metadata": {},
     "output_type": "execute_result"
    }
   ],
   "source": [
    "\"e\" in nombre"
   ]
  },
  {
   "cell_type": "code",
   "execution_count": 28,
   "metadata": {},
   "outputs": [
    {
     "data": {
      "text/plain": [
       "False"
      ]
     },
     "execution_count": 28,
     "metadata": {},
     "output_type": "execute_result"
    }
   ],
   "source": [
    "\"rosa\" in colores"
   ]
  },
  {
   "cell_type": "code",
   "execution_count": 29,
   "metadata": {},
   "outputs": [
    {
     "data": {
      "text/plain": [
       "True"
      ]
     },
     "execution_count": 29,
     "metadata": {},
     "output_type": "execute_result"
    }
   ],
   "source": [
    "\"x\" not in nombre"
   ]
  },
  {
   "cell_type": "markdown",
   "metadata": {},
   "source": [
    "EJERCICIOS: METODOS PARA LISTAS"
   ]
  },
  {
   "cell_type": "code",
   "execution_count": 30,
   "metadata": {},
   "outputs": [],
   "source": [
    "# copia el contenido de temperaturas a temperaturas2 y temperaturas3\n",
    "temperaturas2 = temperaturas.copy()\n",
    "temperaturas3 = temperaturas.copy()"
   ]
  },
  {
   "cell_type": "code",
   "execution_count": 31,
   "metadata": {},
   "outputs": [],
   "source": [
    "# vacia el contenido de temperaturas2\n",
    "temperaturas2.clear()"
   ]
  },
  {
   "cell_type": "code",
   "execution_count": 32,
   "metadata": {},
   "outputs": [
    {
     "name": "stdout",
     "output_type": "stream",
     "text": [
      "[20, 22, 19, 17, 22, 19, 21]\n",
      "[]\n"
     ]
    }
   ],
   "source": [
    "# imprime el contenido de temperaturas y temperaturas2\n",
    "print(temperaturas)\n",
    "print(temperaturas2)"
   ]
  },
  {
   "cell_type": "code",
   "execution_count": 34,
   "metadata": {},
   "outputs": [
    {
     "name": "stdout",
     "output_type": "stream",
     "text": [
      "['S', 'a', 'n', 'd', 'r', 'a']\n"
     ]
    }
   ],
   "source": [
    "# copia el contenido de nombre a nombre2\n",
    "nombre2 = lista_nombre.copy()\n",
    "print(nombre2)"
   ]
  },
  {
   "cell_type": "code",
   "execution_count": 35,
   "metadata": {},
   "outputs": [
    {
     "name": "stdout",
     "output_type": "stream",
     "text": [
      "['F', 'e', 'r', 'n', 'a', 'n', 'd', 'e', 'z', ' ', 'M', 'e', 'n', 'e', 'n', 'd', 'e', 'z']\n"
     ]
    }
   ],
   "source": [
    "# copia el contenido de apellidos a apellidos2\n",
    "apellidos2 = lista_apellidos.copy()\n",
    "print(apellidos2)"
   ]
  },
  {
   "cell_type": "code",
   "execution_count": 37,
   "metadata": {},
   "outputs": [
    {
     "data": {
      "text/plain": [
       "[21, 19, 22, 17, 19, 22, 20]"
      ]
     },
     "execution_count": 37,
     "metadata": {},
     "output_type": "execute_result"
    }
   ],
   "source": [
    "# haz que temperatura3 ordene las temperaturas de esta semana en orden antriconologico\n",
    "temperaturas3.reverse()\n",
    "temperaturas3"
   ]
  },
  {
   "cell_type": "code",
   "execution_count": 38,
   "metadata": {},
   "outputs": [
    {
     "name": "stdout",
     "output_type": "stream",
     "text": [
      "['S', 'a', 'a', 'd', 'n', 'r']\n",
      "[' ', 'F', 'M', 'a', 'd', 'd', 'e', 'e', 'e', 'e', 'e', 'n', 'n', 'n', 'n', 'r', 'z', 'z']\n"
     ]
    }
   ],
   "source": [
    "# ordena los caracteres de tus nombres y tus apellidos en las listas nombre2 y apellidos2. Imprime el resultado y investiga. Que orden ha cogido? Como trata las mayusculas?\n",
    "nombre2.sort()\n",
    "print(nombre2)\n",
    "\n",
    "apellidos2.sort()\n",
    "print(apellidos2)"
   ]
  },
  {
   "cell_type": "code",
   "execution_count": 49,
   "metadata": {},
   "outputs": [
    {
     "data": {
      "text/plain": [
       "0"
      ]
     },
     "execution_count": 49,
     "metadata": {},
     "output_type": "execute_result"
    }
   ],
   "source": [
    "nombre2.count(\"a\")"
   ]
  },
  {
   "cell_type": "code",
   "execution_count": 50,
   "metadata": {},
   "outputs": [
    {
     "data": {
      "text/plain": [
       "0"
      ]
     },
     "execution_count": 50,
     "metadata": {},
     "output_type": "execute_result"
    }
   ],
   "source": [
    "apellidos2.count(\"o\")"
   ]
  },
  {
   "cell_type": "code",
   "execution_count": 41,
   "metadata": {},
   "outputs": [
    {
     "name": "stdout",
     "output_type": "stream",
     "text": [
      "2\n",
      "1\n"
     ]
    }
   ],
   "source": [
    "# cuantas veces esta semana llega la termperatura a t_max? Y cuantas a t_min?\n",
    "print(temperaturas.count(t_max))\n",
    "print(temperaturas.count(t_min))"
   ]
  },
  {
   "cell_type": "code",
   "execution_count": 44,
   "metadata": {},
   "outputs": [
    {
     "name": "stdout",
     "output_type": "stream",
     "text": [
      "La temperatura máxima esta semana será 22 ºC, que ocurrirá en 2 día(s). El día más friolero tendrá una temperatura mínima de 17 ºC, que ocurrirá en 4 día(s)\n"
     ]
    }
   ],
   "source": [
    "# Imprime esta frase pero con tus datos metidos como variables en los cuatro sitios en los que ves un número:\n",
    "print(\"La temperatura máxima esta semana será\", t_max, \"ºC, que ocurrirá en\", temperaturas.index(t_max) + 1, \"día(s). El día más friolero tendrá una temperatura mínima de\", t_min, \"ºC, que ocurrirá en\", temperaturas.index(t_min) + 1, \"día(s)\" )"
   ]
  }
 ],
 "metadata": {
  "kernelspec": {
   "display_name": "Python 3.9.7 ('base')",
   "language": "python",
   "name": "python3"
  },
  "language_info": {
   "codemirror_mode": {
    "name": "ipython",
    "version": 3
   },
   "file_extension": ".py",
   "mimetype": "text/x-python",
   "name": "python",
   "nbconvert_exporter": "python",
   "pygments_lexer": "ipython3",
   "version": "3.9.7"
  },
  "orig_nbformat": 4,
  "vscode": {
   "interpreter": {
    "hash": "f25093244bacc7e62393c275f4a06a2027bcbdb9a67d7fe53680dbd2484adc03"
   }
  }
 },
 "nbformat": 4,
 "nbformat_minor": 2
}
