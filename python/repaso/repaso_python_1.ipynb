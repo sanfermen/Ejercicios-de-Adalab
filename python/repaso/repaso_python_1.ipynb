{
 "cells": [
  {
   "cell_type": "markdown",
   "metadata": {},
   "source": [
    "# Métodos de *strings* "
   ]
  },
  {
   "cell_type": "markdown",
   "metadata": {},
   "source": [
    "Dado el siguiente *string* \n",
    "\n",
    "```python\n",
    "\n",
    "string = \"\"\"Hoy estamos en una clase de repaso,\n",
    "el objetivo es intentar solucionar todas vuestras dudas, \n",
    "preguntad todo lo que queráis! \n",
    "\"\"\"\n",
    "```\n",
    "\n",
    "\n",
    "Contesta a las siguientes preguntas: "
   ]
  },
  {
   "cell_type": "markdown",
   "metadata": {},
   "source": [
    "1️⃣ Crea dos variables nuevas: \n",
    "    - Una con el *string* en mayúsculas\n",
    "    - Otra con las letras en minúsculas\n",
    "\n",
    "2️⃣ Pon todas las primeras letras del *string* en mayúscula\n",
    "\n",
    "3️⃣ Separa el *string*  por los espacios y almacena el resultado en una lista llamanda `texto_lista`\n",
    "\n",
    "4️⃣ De la lista obtenida en el ejercicio anterior, selecciona solo los 5 primero elementos y almacena los resultados en una variable que se llame `texto_lista_corta` \n",
    "\n",
    "5️⃣ De la lista obtenida en el ejercicio 5. Vuelve a convertirlo en *string* \n",
    "\n",
    "6️⃣ Con el *string* obtenido en el paso anterior: \n",
    "\n",
    "    - Esta la palabra \"el\" en el *string* \n",
    "\n",
    "    - Reemplaza \"Hoy\" por nada\n",
    "\n",
    "    - El ejercicio anterior nos ha dejado espacios al inicio del string, eliminalos\n",
    "\n"
   ]
  },
  {
   "cell_type": "code",
   "execution_count": 2,
   "metadata": {},
   "outputs": [],
   "source": [
    "string = \"\"\"Hoy estamos en una clase de repaso,\n",
    "el objetivo es intentar solucionar todas vuestras dudas, \n",
    "preguntad todo lo que queráis! \n",
    "\"\"\""
   ]
  },
  {
   "cell_type": "code",
   "execution_count": 3,
   "metadata": {},
   "outputs": [
    {
     "name": "stdout",
     "output_type": "stream",
     "text": [
      "HOY ESTAMOS EN UNA CLASE DE REPASO,\n",
      "EL OBJETIVO ES INTENTAR SOLUCIONAR TODAS VUESTRAS DUDAS, \n",
      "PREGUNTAD TODO LO QUE QUERÁIS! \n",
      "\n"
     ]
    }
   ],
   "source": [
    "# Crear una variable nueva con el string en mayúsculas\n",
    "string_mayusculas = string.upper()\n",
    "print(string_mayusculas)"
   ]
  },
  {
   "cell_type": "code",
   "execution_count": 4,
   "metadata": {},
   "outputs": [
    {
     "name": "stdout",
     "output_type": "stream",
     "text": [
      "hoy estamos en una clase de repaso,\n",
      "el objetivo es intentar solucionar todas vuestras dudas, \n",
      "preguntad todo lo que queráis! \n",
      "\n"
     ]
    }
   ],
   "source": [
    "# Creación de una nueva variable con el string en minúsculas\n",
    "string_minusculas = string.lower()\n",
    "print(string_minusculas)"
   ]
  },
  {
   "cell_type": "code",
   "execution_count": 5,
   "metadata": {},
   "outputs": [
    {
     "data": {
      "text/plain": [
       "'Hoy Estamos En Una Clase De Repaso,\\nEl Objetivo Es Intentar Solucionar Todas Vuestras Dudas, \\nPreguntad Todo Lo Que Queráis! \\n'"
      ]
     },
     "execution_count": 5,
     "metadata": {},
     "output_type": "execute_result"
    }
   ],
   "source": [
    "# Poner todas las primeras letras del string en mayúsculas\n",
    "string.title()"
   ]
  },
  {
   "cell_type": "code",
   "execution_count": 6,
   "metadata": {},
   "outputs": [
    {
     "name": "stdout",
     "output_type": "stream",
     "text": [
      "['Hoy', 'estamos', 'en', 'una', 'clase', 'de', 'repaso,', 'el', 'objetivo', 'es', 'intentar', 'solucionar', 'todas', 'vuestras', 'dudas,', 'preguntad', 'todo', 'lo', 'que', 'queráis!']\n"
     ]
    }
   ],
   "source": [
    "# Separa el string por los espacios y guardarlo en texto_lista\n",
    "texto_lista = string.split()\n",
    "print(texto_lista)"
   ]
  },
  {
   "cell_type": "code",
   "execution_count": 7,
   "metadata": {},
   "outputs": [
    {
     "data": {
      "text/plain": [
       "['Hoy', 'estamos', 'en', 'una', 'clase']"
      ]
     },
     "execution_count": 7,
     "metadata": {},
     "output_type": "execute_result"
    }
   ],
   "source": [
    "# De la lista obtenida en el ejercicio anterior, selecciona solo los 5 primero elementos y almacena los resultados en una variable que se llame `texto_lista_corta` \n",
    "texto_lista_corta = texto_lista[:5]\n",
    "texto_lista_corta"
   ]
  },
  {
   "cell_type": "code",
   "execution_count": null,
   "metadata": {},
   "outputs": [],
   "source": [
    "#texto_lista_corta = texto_lista.split(\"\",5)[:5]"
   ]
  },
  {
   "cell_type": "code",
   "execution_count": 8,
   "metadata": {},
   "outputs": [
    {
     "data": {
      "text/plain": [
       "'Hoy estamos en una clase'"
      ]
     },
     "execution_count": 8,
     "metadata": {},
     "output_type": "execute_result"
    }
   ],
   "source": [
    "# De la lista obtenida en el ejercicio 5. Vuelve a convertirlo en *string* \n",
    "texto_corto = \" \".join(texto_lista_corta)\n",
    "texto_corto"
   ]
  },
  {
   "cell_type": "code",
   "execution_count": 9,
   "metadata": {},
   "outputs": [
    {
     "data": {
      "text/plain": [
       "False"
      ]
     },
     "execution_count": 9,
     "metadata": {},
     "output_type": "execute_result"
    }
   ],
   "source": [
    "# Esta la palabra \"el\" en el *string* \n",
    "\"el\" in texto_corto"
   ]
  },
  {
   "cell_type": "code",
   "execution_count": 10,
   "metadata": {},
   "outputs": [
    {
     "data": {
      "text/plain": [
       "-1"
      ]
     },
     "execution_count": 10,
     "metadata": {},
     "output_type": "execute_result"
    }
   ],
   "source": [
    "# Si no está el metodo find() devuelve -1\n",
    "texto_corto.find(\"el\")"
   ]
  },
  {
   "cell_type": "code",
   "execution_count": 11,
   "metadata": {},
   "outputs": [
    {
     "data": {
      "text/plain": [
       "0"
      ]
     },
     "execution_count": 11,
     "metadata": {},
     "output_type": "execute_result"
    }
   ],
   "source": [
    "# Si está, .find() devuelve el índice\n",
    "texto_corto.find(\"Hoy\")"
   ]
  },
  {
   "cell_type": "code",
   "execution_count": 13,
   "metadata": {},
   "outputs": [
    {
     "name": "stdout",
     "output_type": "stream",
     "text": [
      " estamos en una clase\n"
     ]
    }
   ],
   "source": [
    "# Reemplaza \"Hoy\" por nada\n",
    "texto_corto = texto_corto.replace(\"Hoy\",\"\")\n",
    "print(texto_corto)"
   ]
  },
  {
   "cell_type": "code",
   "execution_count": 14,
   "metadata": {},
   "outputs": [
    {
     "name": "stdout",
     "output_type": "stream",
     "text": [
      "estamos en una clase\n"
     ]
    }
   ],
   "source": [
    "# El ejercicio anterior nos ha dejado espacios al inicio del string, eliminalos\n",
    "texto_corto = texto_corto.strip()\n",
    "print(texto_corto)"
   ]
  },
  {
   "cell_type": "markdown",
   "metadata": {},
   "source": [
    "# Listas"
   ]
  },
  {
   "cell_type": "markdown",
   "metadata": {},
   "source": [
    "1️⃣ Definid dos listas de 8 elementos con números aleatorios del 1-20 que se llamen `lista1` y `lista2` \n",
    "\n",
    "2️⃣ Ordena la lista1 de menor a mayor, sobreescribiendo la lista\n",
    "\n",
    "3️⃣ Ordena la lista2 de mayor a menor, sobreescribiendo la lista\n",
    "\n",
    "4️⃣ Elimina el último elemento de la lista1\n",
    "\n",
    "5️⃣ Elimina el tercer elemento de la lista2\n",
    "\n",
    "6️⃣ Une las dos listas anteriores, obteniendo una lista de listas (llamadla lista_completa1). Sin sobreescibir ninguna de las listas\n",
    "\n",
    "7️⃣ Une las dos listas anteriores, obteniendo una lista de números (llamadla lista_completa2). Sin sobreescibir ninguna de las listas\n",
    "\n",
    "\n",
    "8️⃣ Cread dos listas nuevas con los números que queráis. Une las dos listas anteriores, obteniendo una lista de listas. EL resultado debe ser una lista de listas\n",
    "\n",
    "9️⃣ Cread dos listas nuevas con los números que queráis. Une las dos listas anteriores, obteniendo una lista con numeros.\n",
    "\n",
    "1️⃣0️⃣ Dada la siguiente lista: \n",
    "\n",
    "```python\n",
    "\n",
    "informacion = [\"Adalab\", [3,4,5,89,12,55,67,19] , \"comida\", {\"saludo\": \"buenos dias\", \"dias\": 4, \"gente\": [\"Laura\", \"Lorena\"]}, 345, [\"Almudena\", \"Lorena\", \"Maria\", \"Monica\", \"Sonia\"]]\n",
    "```\n",
    "\n",
    "\n",
    "- Accede al saludo del diccionario\n",
    "\n",
    "- Accede a todos los elementos que no sean diccionarios o listas\n",
    "\n",
    "- Accede a todos los elementos que  sean diccionarios o listas\n",
    "\n",
    "- Basándose en el resultado del ejercicio anterior, extrae el valor de \"Maria\"\n",
    "\n",
    "- Cual es el índice de \"Laura\" dentro del diccionario\n",
    "\n",
    "\n",
    "1️⃣1️⃣ Usando la lista anterior, añade el siguiente diccionario en primera posición. \n",
    "\n",
    "```python\n",
    "nuevo_diccionario = {\"comida\": [\"brocoli\", \"chorizo\"], \"precios\" :[1.35, 23]}\n",
    "```\n",
    "\n",
    "\n",
    "1️⃣2️⃣ Ordena la siguiente lista sin sobreescribirla\n",
    "\n",
    "```python\n",
    "lista_numeros = [3,6,23,9,2,77,14]\n",
    "```"
   ]
  },
  {
   "cell_type": "code",
   "execution_count": 16,
   "metadata": {},
   "outputs": [],
   "source": [
    "import random"
   ]
  },
  {
   "cell_type": "code",
   "execution_count": 17,
   "metadata": {},
   "outputs": [
    {
     "data": {
      "text/plain": [
       "[6, 5, 4, 12, 7, 15, 11, 16]"
      ]
     },
     "execution_count": 17,
     "metadata": {},
     "output_type": "execute_result"
    }
   ],
   "source": [
    "# Definid dos listas de 8 elementos con números aleatorios del 1-20 que se llamen `lista1` y `lista2` \n",
    "lista1 = random.sample(range(1,21),8)\n",
    "lista1"
   ]
  },
  {
   "cell_type": "code",
   "execution_count": 18,
   "metadata": {},
   "outputs": [
    {
     "data": {
      "text/plain": [
       "[7, 8, 19, 18, 17, 1, 10, 16]"
      ]
     },
     "execution_count": 18,
     "metadata": {},
     "output_type": "execute_result"
    }
   ],
   "source": [
    "lista2 = random.sample(range(1,21),8)\n",
    "lista2"
   ]
  },
  {
   "cell_type": "code",
   "execution_count": 19,
   "metadata": {},
   "outputs": [
    {
     "data": {
      "text/plain": [
       "[4, 5, 6, 7, 11, 12, 15, 16]"
      ]
     },
     "execution_count": 19,
     "metadata": {},
     "output_type": "execute_result"
    }
   ],
   "source": [
    "# Ordena la lista1 de menor a mayor, sobreescribiendo la lista\n",
    "lista1.sort()\n",
    "lista1"
   ]
  },
  {
   "cell_type": "code",
   "execution_count": 30,
   "metadata": {},
   "outputs": [
    {
     "data": {
      "text/plain": [
       "[20, 17, 15, 14, 12, 9, 5, 1]"
      ]
     },
     "execution_count": 30,
     "metadata": {},
     "output_type": "execute_result"
    }
   ],
   "source": [
    "# Ordena la lista2 de mayor a menor, sobreescribiendo la lista\n",
    "lista2.sort(reverse=True)\n",
    "lista2"
   ]
  },
  {
   "cell_type": "code",
   "execution_count": 20,
   "metadata": {},
   "outputs": [
    {
     "data": {
      "text/plain": [
       "[4, 5, 6, 7, 11, 12, 15]"
      ]
     },
     "execution_count": 20,
     "metadata": {},
     "output_type": "execute_result"
    }
   ],
   "source": [
    "# Elimina el último elemento de la lista1\n",
    "lista1.pop(len(lista1)-1)\n",
    "lista1"
   ]
  },
  {
   "cell_type": "code",
   "execution_count": 21,
   "metadata": {},
   "outputs": [
    {
     "data": {
      "text/plain": [
       "[7, 8, 18, 17, 1, 10, 16]"
      ]
     },
     "execution_count": 21,
     "metadata": {},
     "output_type": "execute_result"
    }
   ],
   "source": [
    "# Elimina el tercer elemento de la lista2\n",
    "lista2.pop(2)\n",
    "lista2"
   ]
  },
  {
   "cell_type": "code",
   "execution_count": null,
   "metadata": {},
   "outputs": [],
   "source": []
  },
  {
   "cell_type": "code",
   "execution_count": 31,
   "metadata": {},
   "outputs": [],
   "source": [
    "informacion = [\"Adalab\", [3,4,5,89,12,55,67,19] , \"comida\", {\"saludo\": \"buenos dias\", \"dias\": 4, \"gente\": [\"Laura\", \"Lorena\"]}, 345, [\"Almudena\", \"Lorena\", \"Maria\", \"Monica\", \"Sonia\"]]"
   ]
  },
  {
   "cell_type": "code",
   "execution_count": 34,
   "metadata": {},
   "outputs": [
    {
     "data": {
      "text/plain": [
       "'buenos dias'"
      ]
     },
     "execution_count": 34,
     "metadata": {},
     "output_type": "execute_result"
    }
   ],
   "source": [
    "informacion[3][\"saludo\"]"
   ]
  },
  {
   "cell_type": "code",
   "execution_count": 35,
   "metadata": {},
   "outputs": [
    {
     "data": {
      "text/plain": [
       "['Adalab', 'comida', 345]"
      ]
     },
     "execution_count": 35,
     "metadata": {},
     "output_type": "execute_result"
    }
   ],
   "source": [
    "informacion[::2]"
   ]
  },
  {
   "cell_type": "code",
   "execution_count": 36,
   "metadata": {},
   "outputs": [
    {
     "data": {
      "text/plain": [
       "[[3, 4, 5, 89, 12, 55, 67, 19],\n",
       " {'saludo': 'buenos dias', 'dias': 4, 'gente': ['Laura', 'Lorena']},\n",
       " ['Almudena', 'Lorena', 'Maria', 'Monica', 'Sonia']]"
      ]
     },
     "execution_count": 36,
     "metadata": {},
     "output_type": "execute_result"
    }
   ],
   "source": [
    "informacion[1::2]"
   ]
  },
  {
   "cell_type": "code",
   "execution_count": 39,
   "metadata": {},
   "outputs": [
    {
     "data": {
      "text/plain": [
       "0"
      ]
     },
     "execution_count": 39,
     "metadata": {},
     "output_type": "execute_result"
    }
   ],
   "source": [
    "informacion[3][\"gente\"].index(\"Laura\")"
   ]
  },
  {
   "cell_type": "code",
   "execution_count": 40,
   "metadata": {},
   "outputs": [],
   "source": [
    "nuevo_diccionario = {\"comida\": [\"brocoli\", \"chorizo\"], \"precios\" :[1.35, 23]}"
   ]
  },
  {
   "cell_type": "code",
   "execution_count": 41,
   "metadata": {},
   "outputs": [],
   "source": [
    "informacion.insert(0,nuevo_diccionario)"
   ]
  },
  {
   "cell_type": "code",
   "execution_count": 42,
   "metadata": {},
   "outputs": [
    {
     "data": {
      "text/plain": [
       "[{'comida': ['brocoli', 'chorizo'], 'precios': [1.35, 23]},\n",
       " 'Adalab',\n",
       " [3, 4, 5, 89, 12, 55, 67, 19],\n",
       " 'comida',\n",
       " {'saludo': 'buenos dias', 'dias': 4, 'gente': ['Laura', 'Lorena']},\n",
       " 345,\n",
       " ['Almudena', 'Lorena', 'Maria', 'Monica', 'Sonia']]"
      ]
     },
     "execution_count": 42,
     "metadata": {},
     "output_type": "execute_result"
    }
   ],
   "source": [
    "informacion"
   ]
  },
  {
   "cell_type": "markdown",
   "metadata": {},
   "source": [
    "# Diccionarios\n",
    "\n",
    "Dado el siguiente diccionario: \n",
    "\n",
    "```python\n",
    "diccionario = {'nombre' : 'Laura', \n",
    "                'edad' : 22, \n",
    "                'cursos': ['Python','Django','JavaScript'] }\n",
    "\n",
    "```\n",
    "\n",
    "Contestad a las siguientes preguntas: \n",
    "\n",
    "1️⃣ ¿Cuáles son las *keys* del diccionario?\n",
    "\n",
    "2️⃣ ¿Cuáles son los *values* del diccionario?\n",
    "\n",
    "3️⃣ ¿Cuáles son los tipos de los datos de los *values*?\n",
    "\n",
    "4️⃣ Actualiza el *value* de la *key* nombre por \"Amanda\"\n",
    "\n",
    "5️⃣ Añadid una *key* nueva al diccionario que se llame \"experiencia\" cuyo value sea 2\n",
    "\n",
    "6️⃣ Cambia los values de todas las keys para añadir a la siguiente persona\n",
    "\n",
    "```python\n",
    "nombre: \"Aroa\"\n",
    "edad : 33\n",
    "cursos: [\"Python\", \"SQL\", \"C++\"]\n",
    "```\n",
    "7️⃣ Buscad la *key* \"estudios\". En caso de que no este, creadla con el valor [\"Bachillerato\", \"Universitario\"]\n",
    "\n",
    "\n",
    "8️⃣ Eliminad la *key* cursos del diccionario\n",
    "\n",
    "9️⃣ Eliminad la última *key*  del diccionario\n"
   ]
  },
  {
   "cell_type": "code",
   "execution_count": 43,
   "metadata": {},
   "outputs": [],
   "source": [
    "diccionario = {'nombre' : 'Laura', \n",
    "                'edad' : 22, \n",
    "                'cursos': ['Python','Django','JavaScript'] }"
   ]
  },
  {
   "cell_type": "code",
   "execution_count": 44,
   "metadata": {},
   "outputs": [
    {
     "data": {
      "text/plain": [
       "dict_keys(['nombre', 'edad', 'cursos'])"
      ]
     },
     "execution_count": 44,
     "metadata": {},
     "output_type": "execute_result"
    }
   ],
   "source": [
    "diccionario.keys()"
   ]
  },
  {
   "cell_type": "code",
   "execution_count": 45,
   "metadata": {},
   "outputs": [
    {
     "data": {
      "text/plain": [
       "dict_values(['Laura', 22, ['Python', 'Django', 'JavaScript']])"
      ]
     },
     "execution_count": 45,
     "metadata": {},
     "output_type": "execute_result"
    }
   ],
   "source": [
    "diccionario.values()"
   ]
  },
  {
   "cell_type": "code",
   "execution_count": 46,
   "metadata": {},
   "outputs": [
    {
     "data": {
      "text/plain": [
       "str"
      ]
     },
     "execution_count": 46,
     "metadata": {},
     "output_type": "execute_result"
    }
   ],
   "source": [
    "type(diccionario[\"nombre\"])"
   ]
  },
  {
   "cell_type": "code",
   "execution_count": 47,
   "metadata": {},
   "outputs": [
    {
     "data": {
      "text/plain": [
       "int"
      ]
     },
     "execution_count": 47,
     "metadata": {},
     "output_type": "execute_result"
    }
   ],
   "source": [
    "type(diccionario[\"edad\"])"
   ]
  },
  {
   "cell_type": "code",
   "execution_count": 48,
   "metadata": {},
   "outputs": [
    {
     "data": {
      "text/plain": [
       "list"
      ]
     },
     "execution_count": 48,
     "metadata": {},
     "output_type": "execute_result"
    }
   ],
   "source": [
    "type(diccionario[\"cursos\"])"
   ]
  },
  {
   "cell_type": "code",
   "execution_count": 51,
   "metadata": {},
   "outputs": [
    {
     "name": "stdout",
     "output_type": "stream",
     "text": [
      "El tipo de la key nombres es: <class 'str'> \n",
      "el tipo de la key edad es: <class 'int'> \n",
      "el tipo de la key cursos es: <class 'list'>\n"
     ]
    }
   ],
   "source": [
    "print(\"El tipo de la key nombres es:\", type(diccionario[\"nombre\"]), \"\\nel tipo de la key edad es:\", type(diccionario[\"edad\"]), \"\\nel tipo de la key cursos es:\", type(diccionario[\"cursos\"]))"
   ]
  },
  {
   "cell_type": "code",
   "execution_count": 54,
   "metadata": {},
   "outputs": [],
   "source": [
    "diccionario[\"nombre\"] = \"Amanda\""
   ]
  },
  {
   "cell_type": "code",
   "execution_count": 57,
   "metadata": {},
   "outputs": [
    {
     "data": {
      "text/plain": [
       "{'nombre': 'Amanda', 'edad': 22, 'cursos': ['Python', 'Django', 'JavaScript']}"
      ]
     },
     "execution_count": 57,
     "metadata": {},
     "output_type": "execute_result"
    }
   ],
   "source": [
    "diccionario"
   ]
  },
  {
   "cell_type": "code",
   "execution_count": 58,
   "metadata": {},
   "outputs": [],
   "source": [
    "diccionario2 = {'nombre': ['Amanda', \"Laura\"], 'edad': 22, 'cursos': ['Python', 'Django', 'JavaScript']}"
   ]
  },
  {
   "cell_type": "code",
   "execution_count": 59,
   "metadata": {},
   "outputs": [],
   "source": [
    "diccionario2[\"nombre\"][0] = \"Pepa\""
   ]
  },
  {
   "cell_type": "code",
   "execution_count": 60,
   "metadata": {},
   "outputs": [
    {
     "data": {
      "text/plain": [
       "{'nombre': ['Pepa', 'Laura'],\n",
       " 'edad': 22,\n",
       " 'cursos': ['Python', 'Django', 'JavaScript']}"
      ]
     },
     "execution_count": 60,
     "metadata": {},
     "output_type": "execute_result"
    }
   ],
   "source": [
    "diccionario2"
   ]
  },
  {
   "cell_type": "code",
   "execution_count": 61,
   "metadata": {},
   "outputs": [],
   "source": [
    "diccionario[\"experiencia\"] = 2"
   ]
  },
  {
   "cell_type": "code",
   "execution_count": 62,
   "metadata": {},
   "outputs": [
    {
     "data": {
      "text/plain": [
       "{'nombre': 'Amanda',\n",
       " 'edad': 22,\n",
       " 'cursos': ['Python', 'Django', 'JavaScript'],\n",
       " 'experiencia': 2}"
      ]
     },
     "execution_count": 62,
     "metadata": {},
     "output_type": "execute_result"
    }
   ],
   "source": [
    "diccionario"
   ]
  }
 ],
 "metadata": {
  "kernelspec": {
   "display_name": "Python 3.9.7 ('base')",
   "language": "python",
   "name": "python3"
  },
  "language_info": {
   "codemirror_mode": {
    "name": "ipython",
    "version": 3
   },
   "file_extension": ".py",
   "mimetype": "text/x-python",
   "name": "python",
   "nbconvert_exporter": "python",
   "pygments_lexer": "ipython3",
   "version": "3.9.7"
  },
  "orig_nbformat": 4,
  "vscode": {
   "interpreter": {
    "hash": "f25093244bacc7e62393c275f4a06a2027bcbdb9a67d7fe53680dbd2484adc03"
   }
  }
 },
 "nbformat": 4,
 "nbformat_minor": 2
}
