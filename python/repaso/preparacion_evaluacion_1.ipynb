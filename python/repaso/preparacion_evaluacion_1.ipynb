{
 "cells": [
  {
   "cell_type": "markdown",
   "metadata": {},
   "source": [
    "## TUPLAS"
   ]
  },
  {
   "cell_type": "code",
   "execution_count": 1,
   "metadata": {},
   "outputs": [
    {
     "data": {
      "text/plain": [
       "(61, 1.54, 'marrón')"
      ]
     },
     "execution_count": 1,
     "metadata": {},
     "output_type": "execute_result"
    }
   ],
   "source": [
    "persona1 =  61, 1.54, \"marrón\"\n",
    "persona1"
   ]
  },
  {
   "cell_type": "code",
   "execution_count": 2,
   "metadata": {},
   "outputs": [
    {
     "data": {
      "text/plain": [
       "(68, 1.65, 'rubio')"
      ]
     },
     "execution_count": 2,
     "metadata": {},
     "output_type": "execute_result"
    }
   ],
   "source": [
    "persona2 = (68, 1.65, \"rubio\")\n",
    "persona2"
   ]
  },
  {
   "cell_type": "code",
   "execution_count": 4,
   "metadata": {},
   "outputs": [
    {
     "data": {
      "text/plain": [
       "['M', 42, 39]"
      ]
     },
     "execution_count": 4,
     "metadata": {},
     "output_type": "execute_result"
    }
   ],
   "source": [
    "talla = [\"M\", 42, 39]\n",
    "talla"
   ]
  },
  {
   "cell_type": "code",
   "execution_count": 5,
   "metadata": {},
   "outputs": [
    {
     "data": {
      "text/plain": [
       "('M', 42, 39)"
      ]
     },
     "execution_count": 5,
     "metadata": {},
     "output_type": "execute_result"
    }
   ],
   "source": [
    "talla = tuple(talla)\n",
    "talla"
   ]
  },
  {
   "cell_type": "code",
   "execution_count": 6,
   "metadata": {},
   "outputs": [
    {
     "data": {
      "text/plain": [
       "(61, 1.54, 'marrón', 'M', 42, 39)"
      ]
     },
     "execution_count": 6,
     "metadata": {},
     "output_type": "execute_result"
    }
   ],
   "source": [
    "persona1 = persona1 + talla\n",
    "persona1"
   ]
  },
  {
   "cell_type": "code",
   "execution_count": 7,
   "metadata": {},
   "outputs": [
    {
     "data": {
      "text/plain": [
       "'rubio'"
      ]
     },
     "execution_count": 7,
     "metadata": {},
     "output_type": "execute_result"
    }
   ],
   "source": [
    "color = persona2[2]\n",
    "color"
   ]
  },
  {
   "cell_type": "code",
   "execution_count": 8,
   "metadata": {},
   "outputs": [
    {
     "data": {
      "text/plain": [
       "6"
      ]
     },
     "execution_count": 8,
     "metadata": {},
     "output_type": "execute_result"
    }
   ],
   "source": [
    "len(persona1)"
   ]
  },
  {
   "cell_type": "code",
   "execution_count": 9,
   "metadata": {},
   "outputs": [
    {
     "data": {
      "text/plain": [
       "39"
      ]
     },
     "execution_count": 9,
     "metadata": {},
     "output_type": "execute_result"
    }
   ],
   "source": [
    "zapatos = persona1[5]\n",
    "zapatos"
   ]
  },
  {
   "cell_type": "code",
   "execution_count": 10,
   "metadata": {},
   "outputs": [],
   "source": [
    "peso, altura, color, camiseta, pantalon, zapatos = persona1"
   ]
  },
  {
   "cell_type": "code",
   "execution_count": 11,
   "metadata": {},
   "outputs": [
    {
     "name": "stdout",
     "output_type": "stream",
     "text": [
      "61\n",
      "1.54\n",
      "marrón\n",
      "M\n",
      "42\n",
      "39\n"
     ]
    }
   ],
   "source": [
    "print(peso)\n",
    "print(altura)\n",
    "print(color)\n",
    "print(camiseta)\n",
    "print(pantalon)\n",
    "print(zapatos)"
   ]
  },
  {
   "cell_type": "code",
   "execution_count": 12,
   "metadata": {},
   "outputs": [
    {
     "data": {
      "text/plain": [
       "(68, 1.65, 'rubio')"
      ]
     },
     "execution_count": 12,
     "metadata": {},
     "output_type": "execute_result"
    }
   ],
   "source": [
    "persona2"
   ]
  },
  {
   "cell_type": "code",
   "execution_count": 13,
   "metadata": {},
   "outputs": [
    {
     "ename": "ValueError",
     "evalue": "not enough values to unpack (expected 5, got 3)",
     "output_type": "error",
     "traceback": [
      "\u001b[0;31m---------------------------------------------------------------------------\u001b[0m",
      "\u001b[0;31mValueError\u001b[0m                                Traceback (most recent call last)",
      "\u001b[0;32m/tmp/ipykernel_331/2955438498.py\u001b[0m in \u001b[0;36m<module>\u001b[0;34m\u001b[0m\n\u001b[0;32m----> 1\u001b[0;31m \u001b[0mpeso\u001b[0m\u001b[0;34m,\u001b[0m \u001b[0maltura\u001b[0m\u001b[0;34m,\u001b[0m \u001b[0mcolor\u001b[0m\u001b[0;34m,\u001b[0m \u001b[0mropa\u001b[0m\u001b[0;34m,\u001b[0m \u001b[0mzapatos\u001b[0m \u001b[0;34m=\u001b[0m \u001b[0mpersona2\u001b[0m\u001b[0;34m\u001b[0m\u001b[0;34m\u001b[0m\u001b[0m\n\u001b[0m",
      "\u001b[0;31mValueError\u001b[0m: not enough values to unpack (expected 5, got 3)"
     ]
    }
   ],
   "source": [
    "peso, altura, color, ropa, zapatos = persona2"
   ]
  },
  {
   "cell_type": "markdown",
   "metadata": {},
   "source": [
    "Combinar dos listas en tuplas"
   ]
  },
  {
   "cell_type": "code",
   "execution_count": 14,
   "metadata": {},
   "outputs": [],
   "source": [
    "personas = zip(persona1, persona2)\n",
    "list_personas = list(personas)\n"
   ]
  },
  {
   "cell_type": "code",
   "execution_count": 15,
   "metadata": {},
   "outputs": [
    {
     "data": {
      "text/plain": [
       "[(61, 68), (1.54, 1.65), ('marrón', 'rubio')]"
      ]
     },
     "execution_count": 15,
     "metadata": {},
     "output_type": "execute_result"
    }
   ],
   "source": [
    "list_personas"
   ]
  },
  {
   "cell_type": "code",
   "execution_count": 18,
   "metadata": {},
   "outputs": [
    {
     "data": {
      "text/plain": [
       "((61, 68), (1.54, 1.65), ('marrón', 'rubio'))"
      ]
     },
     "execution_count": 18,
     "metadata": {},
     "output_type": "execute_result"
    }
   ],
   "source": [
    "personas_prueba = tuple(list_personas)\n",
    "personas_prueba"
   ]
  },
  {
   "cell_type": "code",
   "execution_count": 20,
   "metadata": {},
   "outputs": [
    {
     "data": {
      "text/plain": [
       "3"
      ]
     },
     "execution_count": 20,
     "metadata": {},
     "output_type": "execute_result"
    }
   ],
   "source": [
    "len(list_personas)"
   ]
  },
  {
   "cell_type": "code",
   "execution_count": 21,
   "metadata": {},
   "outputs": [],
   "source": [
    "etiquetas = \"peso\", \"altura\", \"color\""
   ]
  },
  {
   "cell_type": "code",
   "execution_count": 23,
   "metadata": {},
   "outputs": [
    {
     "data": {
      "text/plain": [
       "[('peso', 61, 68), ('altura', 1.54, 1.65), ('color', 'marrón', 'rubio')]"
      ]
     },
     "execution_count": 23,
     "metadata": {},
     "output_type": "execute_result"
    }
   ],
   "source": [
    "list_zip = list(zip(etiquetas, persona1, persona2))\n",
    "list_zip"
   ]
  },
  {
   "cell_type": "code",
   "execution_count": 24,
   "metadata": {},
   "outputs": [
    {
     "name": "stdout",
     "output_type": "stream",
     "text": [
      "[('altura', 1.54, 1.65), ('color', 'marrón', 'rubio'), ('peso', 61, 68)]\n"
     ]
    }
   ],
   "source": [
    "list_zip.sort()\n",
    "print(list_zip)"
   ]
  },
  {
   "cell_type": "markdown",
   "metadata": {},
   "source": [
    "### PAIR PROGRAMMING TUPLAS"
   ]
  },
  {
   "cell_type": "code",
   "execution_count": 25,
   "metadata": {},
   "outputs": [],
   "source": [
    "tupla_a = \"A\","
   ]
  },
  {
   "cell_type": "code",
   "execution_count": 26,
   "metadata": {},
   "outputs": [],
   "source": [
    "tupla_b = \"d\", \"a\", \"l\", \"a\", \"b\""
   ]
  },
  {
   "cell_type": "code",
   "execution_count": 27,
   "metadata": {},
   "outputs": [
    {
     "name": "stdout",
     "output_type": "stream",
     "text": [
      "('A', 'd', 'a', 'l', 'a', 'b')\n"
     ]
    }
   ],
   "source": [
    "tupla_a = tupla_a + tupla_b\n",
    "print(tupla_a)"
   ]
  },
  {
   "cell_type": "code",
   "execution_count": 30,
   "metadata": {},
   "outputs": [],
   "source": [
    "tupla_b = \"A\","
   ]
  },
  {
   "cell_type": "code",
   "execution_count": 33,
   "metadata": {},
   "outputs": [
    {
     "name": "stdout",
     "output_type": "stream",
     "text": [
      "['A']\n",
      "-------\n",
      "['A', 'd', 'a', 'l', 'a', 'b']\n"
     ]
    }
   ],
   "source": [
    "list_tupla_b = list(tupla_b)\n",
    "print(list_tupla_b)\n",
    "list_tupla_c = [\"d\", \"a\", \"l\", \"a\", \"b\"]\n",
    "print(\"-------\")\n",
    "list_tupla_b.extend(list_tupla_c)\n",
    "print(list_tupla_b)"
   ]
  },
  {
   "cell_type": "code",
   "execution_count": 34,
   "metadata": {},
   "outputs": [
    {
     "data": {
      "text/plain": [
       "3"
      ]
     },
     "execution_count": 34,
     "metadata": {},
     "output_type": "execute_result"
    }
   ],
   "source": [
    "tupla_a.index(\"l\")"
   ]
  },
  {
   "cell_type": "code",
   "execution_count": 35,
   "metadata": {},
   "outputs": [
    {
     "data": {
      "text/plain": [
       "2"
      ]
     },
     "execution_count": 35,
     "metadata": {},
     "output_type": "execute_result"
    }
   ],
   "source": [
    "tupla_a.count(\"a\")"
   ]
  },
  {
   "cell_type": "code",
   "execution_count": 37,
   "metadata": {},
   "outputs": [],
   "source": [
    "set1 = {1,3,6,2,8,9}\n",
    "set2 = {2,1,9,3,10,18}"
   ]
  },
  {
   "cell_type": "code",
   "execution_count": 3,
   "metadata": {},
   "outputs": [
    {
     "name": "stdout",
     "output_type": "stream",
     "text": [
      "108.24\n"
     ]
    }
   ],
   "source": [
    "capital = int(input(\"Dinero a invertir\"))\n",
    "interes = int(input(\"Tipo de interés\"))\n",
    "tiempo = int(input(\"Años dura la inversión\"))\n",
    "for i in range(tiempo):\n",
    "    capital += (capital*interes/100)\n",
    "print(round(capital,2))"
   ]
  },
  {
   "cell_type": "code",
   "execution_count": 6,
   "metadata": {},
   "outputs": [
    {
     "name": "stdout",
     "output_type": "stream",
     "text": [
      "108.24\n"
     ]
    }
   ],
   "source": [
    "capital = int(input(\"Dinero a invertir\"))\n",
    "interes = int(input(\"Tipo de interés\"))\n",
    "tiempo = int(input(\"Años dura la inversión\"))\n",
    "while tiempo > 0:\n",
    "    capital += (capital*interes/100)\n",
    "    tiempo -= 1\n",
    "print(round(capital,2))"
   ]
  },
  {
   "cell_type": "code",
   "execution_count": 11,
   "metadata": {},
   "outputs": [
    {
     "name": "stdout",
     "output_type": "stream",
     "text": [
      "2\n"
     ]
    }
   ],
   "source": [
    "frase = input(\"Escribid una frase\")\n",
    "letra = input(\"Escribid una letra\")\n",
    "print(frase.count(letra))"
   ]
  },
  {
   "cell_type": "code",
   "execution_count": 12,
   "metadata": {},
   "outputs": [
    {
     "name": "stdout",
     "output_type": "stream",
     "text": [
      "2\n"
     ]
    }
   ],
   "source": [
    "frase = input(\"Escribid una frase\")\n",
    "letra = input(\"Escribid una letra\")\n",
    "numero_letra= 0\n",
    "for i in frase:\n",
    "    if i == letra:\n",
    "        numero_letra += 1\n",
    "print(numero_letra)"
   ]
  },
  {
   "cell_type": "code",
   "execution_count": 14,
   "metadata": {},
   "outputs": [
    {
     "name": "stdout",
     "output_type": "stream",
     "text": [
      "Tabla de multiplicar del 5\n",
      "5 x 1 = 5\n",
      "5 x 2 = 10\n",
      "5 x 3 = 15\n",
      "5 x 4 = 20\n",
      "5 x 5 = 25\n",
      "5 x 6 = 30\n",
      "5 x 7 = 35\n",
      "5 x 8 = 40\n",
      "5 x 9 = 45\n",
      "5 x 10 = 50\n"
     ]
    }
   ],
   "source": [
    "numero_mult = int(input(\"numero\"))\n",
    "print(f\"Tabla de multiplicar del {numero_mult}\")\n",
    "for i in range(1,11):\n",
    "    print(numero_mult,\"x\",i,\"=\",i*numero_mult)"
   ]
  },
  {
   "cell_type": "code",
   "execution_count": 15,
   "metadata": {},
   "outputs": [
    {
     "name": "stdout",
     "output_type": "stream",
     "text": [
      "[75, 150, 145]\n"
     ]
    }
   ],
   "source": [
    "numbers = [12, 75, 150, 145, 525, 50]\n",
    "numbers_list = []\n",
    "for i in numbers:\n",
    "    if i % 5 == 0:\n",
    "        if i > 500:\n",
    "            break\n",
    "        if i > 150:\n",
    "            pass\n",
    "        else:\n",
    "            numbers_list.append(i)\n",
    "print(numbers_list)"
   ]
  },
  {
   "cell_type": "code",
   "execution_count": 16,
   "metadata": {},
   "outputs": [
    {
     "name": "stdout",
     "output_type": "stream",
     "text": [
      "[50, 40, 30, 20, 10]\n"
     ]
    }
   ],
   "source": [
    "list1 = [10, 20, 30, 40, 50]\n",
    "print(sorted(list1, reverse=True))"
   ]
  },
  {
   "cell_type": "code",
   "execution_count": 18,
   "metadata": {},
   "outputs": [
    {
     "name": "stdout",
     "output_type": "stream",
     "text": [
      "[50, 10, 20, 30, 40]\n"
     ]
    }
   ],
   "source": [
    "list1 = [10,20,30,40,50]\n",
    "list2 = []\n",
    "index = -1\n",
    "for i in list1:\n",
    "    list2.append(list1[index])\n",
    "    index -= -1\n",
    "print(list2)"
   ]
  },
  {
   "cell_type": "code",
   "execution_count": 21,
   "metadata": {},
   "outputs": [
    {
     "name": "stdout",
     "output_type": "stream",
     "text": [
      "1\n",
      "4\n",
      "9\n"
     ]
    }
   ],
   "source": [
    "for i in ['1', '2', '3']:\n",
    "    try:\n",
    "        print(i**2)\n",
    "    except TypeError:\n",
    "        print(int(i)**2)"
   ]
  },
  {
   "cell_type": "code",
   "execution_count": 22,
   "metadata": {},
   "outputs": [
    {
     "name": "stdout",
     "output_type": "stream",
     "text": [
      "alocarac aloh\n"
     ]
    }
   ],
   "source": [
    "frase_reves = \"hola caracola\"\n",
    "print(frase_reves[::-1])"
   ]
  },
  {
   "cell_type": "code",
   "execution_count": 25,
   "metadata": {},
   "outputs": [
    {
     "name": "stdout",
     "output_type": "stream",
     "text": [
      "38\n"
     ]
    }
   ],
   "source": [
    "lista5 = [38, 25, 78, 69, 5, 20, 53, 41, 36, 17]\n",
    "numero = int(input(\"Elige un número de la lista\"))\n",
    "\n",
    "if numero not in lista5:\n",
    "    print(\"escoge otro número\")\n",
    "else:\n",
    "    print(numero)"
   ]
  },
  {
   "cell_type": "code",
   "execution_count": 26,
   "metadata": {},
   "outputs": [],
   "source": [
    "nombres = [\"Laura\", \"Lorena\", \"Lupe\", \"Loreto\", \"Lucia\"]\n",
    "notas = [9, 8.5, 9.8, 8.9, 9.2]"
   ]
  },
  {
   "cell_type": "code",
   "execution_count": 27,
   "metadata": {},
   "outputs": [
    {
     "data": {
      "text/plain": [
       "'Lorena'"
      ]
     },
     "execution_count": 27,
     "metadata": {},
     "output_type": "execute_result"
    }
   ],
   "source": [
    "notas_min = nombres[notas.index(min(notas))]\n",
    "notas_min"
   ]
  },
  {
   "cell_type": "code",
   "execution_count": 28,
   "metadata": {},
   "outputs": [
    {
     "data": {
      "text/plain": [
       "True"
      ]
     },
     "execution_count": 28,
     "metadata": {},
     "output_type": "execute_result"
    }
   ],
   "source": [
    "notas[nombres.index(notas_min)]>5"
   ]
  },
  {
   "cell_type": "code",
   "execution_count": 29,
   "metadata": {},
   "outputs": [],
   "source": [
    "miercoles = [12, 59, 71]"
   ]
  },
  {
   "cell_type": "code",
   "execution_count": 30,
   "metadata": {},
   "outputs": [
    {
     "name": "stdout",
     "output_type": "stream",
     "text": [
      "[12, 59, 71, 100]\n"
     ]
    }
   ],
   "source": [
    "miercoles.insert(len(miercoles),100)\n",
    "print(miercoles)"
   ]
  }
 ],
 "metadata": {
  "kernelspec": {
   "display_name": "Python 3.9.7 ('base')",
   "language": "python",
   "name": "python3"
  },
  "language_info": {
   "codemirror_mode": {
    "name": "ipython",
    "version": 3
   },
   "file_extension": ".py",
   "mimetype": "text/x-python",
   "name": "python",
   "nbconvert_exporter": "python",
   "pygments_lexer": "ipython3",
   "version": "3.9.7"
  },
  "orig_nbformat": 4,
  "vscode": {
   "interpreter": {
    "hash": "f25093244bacc7e62393c275f4a06a2027bcbdb9a67d7fe53680dbd2484adc03"
   }
  }
 },
 "nbformat": 4,
 "nbformat_minor": 2
}
