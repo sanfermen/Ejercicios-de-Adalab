{
 "cells": [
  {
   "cell_type": "code",
   "execution_count": 7,
   "metadata": {},
   "outputs": [],
   "source": [
    "def saludo(hoy,saludo= \"Nos vemos el proximo año\"):\n",
    "    if hoy > 0:\n",
    "        list_fecha = set([i for i in str(hoy)])\n",
    "        while len(list_fecha) < 4:\n",
    "            hoy += 1\n",
    "            list_fecha = set([i for i in str(hoy)])\n",
    "        return hoy"
   ]
  },
  {
   "cell_type": "code",
   "execution_count": 2,
   "metadata": {},
   "outputs": [
    {
     "name": "stdout",
     "output_type": "stream",
     "text": [
      "{'3', '5', '4'}\n"
     ]
    }
   ],
   "source": [
    "hoy = 3345\n",
    "list_fecha = set([i for i in str(hoy)])\n",
    "print(list_fecha)"
   ]
  },
  {
   "cell_type": "code",
   "execution_count": 9,
   "metadata": {},
   "outputs": [
    {
     "data": {
      "text/plain": [
       "7801"
      ]
     },
     "execution_count": 9,
     "metadata": {},
     "output_type": "execute_result"
    }
   ],
   "source": [
    "saludo(7712)"
   ]
  },
  {
   "cell_type": "code",
   "execution_count": 14,
   "metadata": {},
   "outputs": [],
   "source": [
    "def calculadora():\n",
    "    ecuacion = input(\"Escribe una serie de puntos, un operador *,+,- o // y otra serie de numeros, separados por espacios\").split(\" \")\n",
    "    punto = \".\"\n",
    "    if ecuacion[1] == \"*\":\n",
    "        resultado = ecuacion[0].count(\".\") * ecuacion[2].count(\".\")\n",
    "    elif ecuacion[1] == \"+\":\n",
    "        resultado = ecuacion[0].count(\".\") * ecuacion[2].count(\".\")\n",
    "    elif ecuacion[1] == \"-\":\n",
    "        resultado = ecuacion[0].count(\".\") * ecuacion[2].count(\".\")\n",
    "    else:   \n",
    "        resultado =ecuacion[0].count(\".\") *ecuacion[2].count(\".\")\n",
    "    solucion = resultado * punto\n",
    "    return f\"{ecuacion[0]} {ecuacion[1]} {ecuacion[2]} = {solucion}\""
   ]
  },
  {
   "cell_type": "code",
   "execution_count": 15,
   "metadata": {},
   "outputs": [
    {
     "data": {
      "text/plain": [
       "'... * .... = ............'"
      ]
     },
     "execution_count": 15,
     "metadata": {},
     "output_type": "execute_result"
    }
   ],
   "source": [
    "calculadora()"
   ]
  },
  {
   "cell_type": "code",
   "execution_count": 18,
   "metadata": {},
   "outputs": [],
   "source": [
    "def vaporizador(inicio, perdida, umbral):\n",
    "    contador = 0\n",
    "    contenido = inicio\n",
    "    while (inicio*umbral/100) < contenido:\n",
    "        contenido = contenido - (contenido*perdida/100)\n",
    "        contador += 1\n",
    "    return f\"Quedan {contador} días\""
   ]
  },
  {
   "cell_type": "code",
   "execution_count": 19,
   "metadata": {},
   "outputs": [
    {
     "data": {
      "text/plain": [
       "'Quedan 29 días'"
      ]
     },
     "execution_count": 19,
     "metadata": {},
     "output_type": "execute_result"
    }
   ],
   "source": [
    "vaporizador(10,10,5)"
   ]
  },
  {
   "cell_type": "code",
   "execution_count": 20,
   "metadata": {},
   "outputs": [
    {
     "data": {
      "text/plain": [
       "'Quedan 22 días'"
      ]
     },
     "execution_count": 20,
     "metadata": {},
     "output_type": "execute_result"
    }
   ],
   "source": [
    "vaporizador(10,10,10)"
   ]
  }
 ],
 "metadata": {
  "kernelspec": {
   "display_name": "Python 3.9.7 ('base')",
   "language": "python",
   "name": "python3"
  },
  "language_info": {
   "codemirror_mode": {
    "name": "ipython",
    "version": 3
   },
   "file_extension": ".py",
   "mimetype": "text/x-python",
   "name": "python",
   "nbconvert_exporter": "python",
   "pygments_lexer": "ipython3",
   "version": "3.9.7"
  },
  "orig_nbformat": 4,
  "vscode": {
   "interpreter": {
    "hash": "f25093244bacc7e62393c275f4a06a2027bcbdb9a67d7fe53680dbd2484adc03"
   }
  }
 },
 "nbformat": 4,
 "nbformat_minor": 2
}
