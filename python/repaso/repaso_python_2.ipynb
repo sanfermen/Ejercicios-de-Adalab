{
 "cells": [
  {
   "cell_type": "markdown",
   "metadata": {},
   "source": [
    "### Haremos un programa que: \n",
    "\n",
    "- Reciba una lista\n",
    "\n",
    "- Nos printee la lista ordenada\n",
    "\n",
    "- Y nos devuelva la suma de todos los elementos de la lista. \n"
   ]
  },
  {
   "cell_type": "code",
   "execution_count": 1,
   "metadata": {},
   "outputs": [],
   "source": [
    "import random"
   ]
  },
  {
   "cell_type": "code",
   "execution_count": 5,
   "metadata": {},
   "outputs": [
    {
     "name": "stdout",
     "output_type": "stream",
     "text": [
      "[44, 37, 12, 87, 30, 52, 80, 7, 84, 3, 4, 95, 69, 64, 48, 35, 20, 31, 43, 77]\n"
     ]
    }
   ],
   "source": [
    "numeros_aleatorios = random.sample(range(2,100),20)\n",
    "print(numeros_aleatorios)"
   ]
  },
  {
   "cell_type": "code",
   "execution_count": 6,
   "metadata": {},
   "outputs": [
    {
     "data": {
      "text/plain": [
       "[3, 4, 7, 12, 20, 30, 31, 35, 37, 43, 44, 48, 52, 64, 69, 77, 80, 84, 87, 95]"
      ]
     },
     "execution_count": 6,
     "metadata": {},
     "output_type": "execute_result"
    }
   ],
   "source": [
    "numeros_aleatorios.sort()\n",
    "numeros_aleatorios"
   ]
  },
  {
   "cell_type": "code",
   "execution_count": 7,
   "metadata": {},
   "outputs": [
    {
     "data": {
      "text/plain": [
       "922"
      ]
     },
     "execution_count": 7,
     "metadata": {},
     "output_type": "execute_result"
    }
   ],
   "source": [
    "sum(numeros_aleatorios)"
   ]
  },
  {
   "cell_type": "code",
   "execution_count": 8,
   "metadata": {},
   "outputs": [
    {
     "name": "stdout",
     "output_type": "stream",
     "text": [
      "922\n"
     ]
    }
   ],
   "source": [
    "resultado = 0\n",
    "for i in numeros_aleatorios:\n",
    "    resultado += i\n",
    "print(resultado)"
   ]
  },
  {
   "cell_type": "markdown",
   "metadata": {},
   "source": [
    "###  ¿Es un DNI valido?\n",
    "\n",
    "Los DNI españoles pueden ser:\n",
    "\n",
    "- NIF (Numero de Identificación Fiscal) - 8 numeros y una letra, o\n",
    "- NIE (Numero de Identificación de Extranjeros) - 1 letra, 7 numeros y 1 letra."
   ]
  },
  {
   "cell_type": "code",
   "execution_count": 9,
   "metadata": {},
   "outputs": [],
   "source": [
    "lista_dni = [\"X-1234567-Z\", \"X-1234567\", \"12345678-M\", \"1234567-T\", \"12345677\"]"
   ]
  },
  {
   "cell_type": "code",
   "execution_count": 13,
   "metadata": {},
   "outputs": [],
   "source": [
    "import string"
   ]
  },
  {
   "cell_type": "code",
   "execution_count": 16,
   "metadata": {},
   "outputs": [
    {
     "name": "stdout",
     "output_type": "stream",
     "text": [
      "['X', '1234567', 'Z']\n",
      "------\n",
      "El X-1234567-Z es un dni válido\n",
      "['X', '1234567']\n",
      "------\n",
      "El X-1234567 no es un dni válido\n",
      "['12345678', 'M']\n",
      "------\n",
      "El 12345678-M es un dni válido\n",
      "['1234567', 'T']\n",
      "------\n",
      "El 1234567-T no es un dni válido\n",
      "['12345677']\n",
      "------\n",
      "12345677 no es un dni válido\n"
     ]
    }
   ],
   "source": [
    "for dni in lista_dni:\n",
    "    print(dni.split(\"-\"))\n",
    "    print(\"------\")\n",
    "    letras = string.ascii_lowercase\n",
    "    dni_lista = dni.split(\"-\")\n",
    "\n",
    "    if len(dni_lista) == 1:\n",
    "        print(f\"{dni} no es un dni válido\")\n",
    "\n",
    "    elif len(dni_lista) == 3:\n",
    "        if dni_lista[0] in letras.upper() and len(dni_lista[1]) == 7 and dni_lista[2] in letras.upper():\n",
    "            print(f\"El {dni} es un dni válido\")\n",
    "        else:\n",
    "            print(f\"El {dni} no es un dni válido\")\n",
    "    elif len(dni_lista) == 2:\n",
    "        if len(dni_lista[0]) == 8 and dni_lista[1] in letras.upper():\n",
    "            print(f\"El {dni} es un dni válido\")\n",
    "        else:\n",
    "            print(f\"El {dni} no es un dni válido\")"
   ]
  },
  {
   "cell_type": "markdown",
   "metadata": {},
   "source": [
    "## Amazon coding questions"
   ]
  },
  {
   "cell_type": "markdown",
   "metadata": {},
   "source": [
    "**Encuentra el número que no está en la lista**\n",
    "\n",
    "Tenemos una lista desordenada con números positivos de 1 a n. Siempre faltará un sólo número de esta lista aleatoria, ¿cómo identifico cuál falta? Cread un programa para que este código devuelva los resultados deseados:\n",
    "\n",
    "```python\n",
    "lista1 = [3,7,1,2,8,4,5] # nos tiene que devolver 6\n",
    "lista2 = [4,6,1,3,5] #  nos tiene que devolver 2\n",
    "lista3 = [34,35,36,38,39,40] # nos tiene que devolver 37\n",
    "```"
   ]
  },
  {
   "cell_type": "code",
   "execution_count": 22,
   "metadata": {},
   "outputs": [],
   "source": [
    "lista1 = [3,7,1,2,8,4,5]\n",
    "lista2 = [4,6,1,3,5] \n",
    "lista3 = [34,35,36,38,39,40]\n"
   ]
  },
  {
   "cell_type": "code",
   "execution_count": 30,
   "metadata": {},
   "outputs": [],
   "source": [
    "listas = [lista1, lista2, lista3]"
   ]
  },
  {
   "cell_type": "code",
   "execution_count": 32,
   "metadata": {},
   "outputs": [
    {
     "name": "stdout",
     "output_type": "stream",
     "text": [
      "El número que falta en [3, 7, 1, 2, 8, 4, 5] es 6\n",
      "El número que falta en [4, 6, 1, 3, 5] es 2\n",
      "El número que falta en [34, 35, 36, 38, 39, 40] es 37\n"
     ]
    }
   ],
   "source": [
    "for lista in listas:\n",
    "    for i in range(min(lista),max(lista)+1):\n",
    "        if i not in lista:\n",
    "            print(f\"El número que falta en {lista} es {i}\")"
   ]
  },
  {
   "cell_type": "markdown",
   "metadata": {},
   "source": [
    "## Facebook coding questions"
   ]
  },
  {
   "cell_type": "markdown",
   "metadata": {},
   "source": [
    "**Mover los ceros a la izquierda**\n",
    "\n",
    "Nos dan un *string* con números aleatorios. Algunos de ellos son 0. Encuentra todos los ceros y ponlos al principio de la lista, manteniendo el orden de los demás números.\n",
    "\n",
    "Ejemplo:\n",
    "\n",
    "```python\n",
    "A = [1,10,88,0,59,63,0,20,0]\n",
    "\n",
    "# tiene que devolver\n",
    "[0, 0, 0, 1, 10, 88, 59, 63, 20]\n",
    "```"
   ]
  },
  {
   "cell_type": "code",
   "execution_count": 46,
   "metadata": {},
   "outputs": [],
   "source": [
    "A = [1,10,88,0,59,63,0,20,0]"
   ]
  },
  {
   "cell_type": "code",
   "execution_count": 47,
   "metadata": {},
   "outputs": [
    {
     "name": "stdout",
     "output_type": "stream",
     "text": [
      "[0, 0, 0, 1, 10, 88, 59, 63, 20]\n"
     ]
    }
   ],
   "source": [
    "lista_ceros = []\n",
    "lista_no_ceros = []\n",
    "\n",
    "for num in A:\n",
    "    if num == 0:\n",
    "        lista_ceros.append(num)\n",
    "    else:\n",
    "        lista_no_ceros.append(num)\n",
    "\n",
    "B = lista_ceros + lista_no_ceros\n",
    "print(B)"
   ]
  },
  {
   "cell_type": "code",
   "execution_count": 48,
   "metadata": {},
   "outputs": [
    {
     "name": "stdout",
     "output_type": "stream",
     "text": [
      "[0, 0, 0, 1, 10, 88, 59, 63, 20]\n"
     ]
    }
   ],
   "source": [
    "cero_count = 0\n",
    "while 0 in A:\n",
    "    A.pop(A.index(0))\n",
    "    cero_count = cero_count + 1\n",
    "A = cero_count * [0] + A\n",
    "print(A)"
   ]
  },
  {
   "cell_type": "markdown",
   "metadata": {},
   "source": [
    "**Invertir palabras de una frase**\n",
    "\n",
    "Nos dan una frase en que quieren que las letras de cada palabra acaben teniendo el orden invertido, manteniendo el orden de las palabras.\n",
    "\n",
    "```python\n",
    "frase = 'Hola Ada'\n",
    "print(frase) # nos daría 'aloH adA'\n",
    "```"
   ]
  },
  {
   "cell_type": "code",
   "execution_count": 22,
   "metadata": {},
   "outputs": [],
   "source": [
    "frase = 'Hola Ada'"
   ]
  },
  {
   "cell_type": "code",
   "execution_count": 23,
   "metadata": {},
   "outputs": [
    {
     "data": {
      "text/plain": [
       "['Hola', 'Ada']"
      ]
     },
     "execution_count": 23,
     "metadata": {},
     "output_type": "execute_result"
    }
   ],
   "source": [
    "frase_reves = frase.split(\" \")\n",
    "frase_reves"
   ]
  },
  {
   "cell_type": "code",
   "execution_count": 24,
   "metadata": {},
   "outputs": [
    {
     "name": "stdout",
     "output_type": "stream",
     "text": [
      "aloH adA\n"
     ]
    }
   ],
   "source": [
    "for i in frase_reves:\n",
    "    reves = i[::-1]\n",
    "    frase_reves[frase_reves.index(i)] = reves\n",
    "frase_reves = \" \".join(frase_reves)\n",
    "print(frase_reves)"
   ]
  },
  {
   "cell_type": "code",
   "execution_count": 25,
   "metadata": {},
   "outputs": [
    {
     "name": "stdout",
     "output_type": "stream",
     "text": [
      "adA aloH\n"
     ]
    }
   ],
   "source": [
    "frase2 = frase[::-1]\n",
    "print(frase2)"
   ]
  },
  {
   "cell_type": "markdown",
   "metadata": {},
   "source": [
    "**Encontrar primer y último índice de un contenido**\n",
    "\n",
    "Nos darán una lista aleatoria con duplicados. Escribe un programa con que sacar el primer y último índice de un elemento dado, o -1 si no existe en la lista.\n"
   ]
  },
  {
   "cell_type": "code",
   "execution_count": null,
   "metadata": {},
   "outputs": [],
   "source": []
  },
  {
   "cell_type": "markdown",
   "metadata": {},
   "source": [
    "## Google coding questions"
   ]
  },
  {
   "cell_type": "markdown",
   "metadata": {},
   "source": [
    "**Encuentra los k números más cerca a X**\n",
    "\n",
    "\n",
    "Haz una programa que compare los contenidos de una lista a un número dado X. Queremos que nos devuelva los k números que son más parecidos al número dado.\n",
    "\n",
    "Ejemplo:\n",
    "```python\n",
    "L = [4, 19, -5, 100, 53, 43, 74, -83, 13.5, 26]\n",
    "# Dados los siguientes valores 30, 3, L\n",
    "# El output debería ser igual a [26, 19, 43]\n",
    "```"
   ]
  },
  {
   "cell_type": "code",
   "execution_count": null,
   "metadata": {},
   "outputs": [],
   "source": []
  },
  {
   "cell_type": "markdown",
   "metadata": {},
   "source": [
    "**Pagar con cupones**\n",
    "\n",
    "Tengo unos cuantos cupones de varios valores, por ejemplo por haber devuelto cosas. ¿Puedo comprarme algo nuevo de cierto valor usando sólo los cupones, sin demorra? Recuerda que un cupón sólo se puede gastar una vez (es decir, sin duplicados).\n",
    "\n"
   ]
  },
  {
   "cell_type": "code",
   "execution_count": null,
   "metadata": {},
   "outputs": [],
   "source": []
  },
  {
   "cell_type": "markdown",
   "metadata": {},
   "source": [
    "**Convertir string a número**\n",
    "\n",
    "\n",
    "Vamos a leer un *string* de izquierda hacia la derecha, interpretando los caracteres para decidir si el *string* contiene un número o no, y si es así si el número es entero o no. Sigue para cada carácter el autómata finito que ves en la imagen de abajo."
   ]
  },
  {
   "cell_type": "code",
   "execution_count": null,
   "metadata": {},
   "outputs": [],
   "source": []
  }
 ],
 "metadata": {
  "kernelspec": {
   "display_name": "Python 3.9.7 ('base')",
   "language": "python",
   "name": "python3"
  },
  "language_info": {
   "codemirror_mode": {
    "name": "ipython",
    "version": 3
   },
   "file_extension": ".py",
   "mimetype": "text/x-python",
   "name": "python",
   "nbconvert_exporter": "python",
   "pygments_lexer": "ipython3",
   "version": "3.9.7"
  },
  "orig_nbformat": 4,
  "vscode": {
   "interpreter": {
    "hash": "f25093244bacc7e62393c275f4a06a2027bcbdb9a67d7fe53680dbd2484adc03"
   }
  }
 },
 "nbformat": 4,
 "nbformat_minor": 2
}
